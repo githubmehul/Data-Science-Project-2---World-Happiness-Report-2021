{
 "cells": [
  {
   "cell_type": "markdown",
   "metadata": {},
   "source": [
    "<h2>World Happiness Report 2021</h2>\n",
    "<h5>Using the Kaggle Dataset</h5>"
   ]
  },
  {
   "cell_type": "code",
   "execution_count": 21,
   "metadata": {},
   "outputs": [],
   "source": [
    "#Import Necessary Libraries\n",
    "import numpy as np\n",
    "import pandas as pd\n",
    "import matplotlib.pyplot as plt\n",
    "import seaborn as sns\n",
    "import plotly.express as px"
   ]
  },
  {
   "cell_type": "code",
   "execution_count": 4,
   "metadata": {},
   "outputs": [
    {
     "data": {
      "text/html": [
       "<div>\n",
       "<style scoped>\n",
       "    .dataframe tbody tr th:only-of-type {\n",
       "        vertical-align: middle;\n",
       "    }\n",
       "\n",
       "    .dataframe tbody tr th {\n",
       "        vertical-align: top;\n",
       "    }\n",
       "\n",
       "    .dataframe thead th {\n",
       "        text-align: right;\n",
       "    }\n",
       "</style>\n",
       "<table border=\"1\" class=\"dataframe\">\n",
       "  <thead>\n",
       "    <tr style=\"text-align: right;\">\n",
       "      <th></th>\n",
       "      <th>Country name</th>\n",
       "      <th>Regional indicator</th>\n",
       "      <th>Ladder score</th>\n",
       "      <th>Standard error of ladder score</th>\n",
       "      <th>upperwhisker</th>\n",
       "      <th>lowerwhisker</th>\n",
       "      <th>Logged GDP per capita</th>\n",
       "      <th>Social support</th>\n",
       "      <th>Healthy life expectancy</th>\n",
       "      <th>Freedom to make life choices</th>\n",
       "      <th>Generosity</th>\n",
       "      <th>Perceptions of corruption</th>\n",
       "      <th>Ladder score in Dystopia</th>\n",
       "      <th>Explained by: Log GDP per capita</th>\n",
       "      <th>Explained by: Social support</th>\n",
       "      <th>Explained by: Healthy life expectancy</th>\n",
       "      <th>Explained by: Freedom to make life choices</th>\n",
       "      <th>Explained by: Generosity</th>\n",
       "      <th>Explained by: Perceptions of corruption</th>\n",
       "      <th>Dystopia + residual</th>\n",
       "    </tr>\n",
       "  </thead>\n",
       "  <tbody>\n",
       "    <tr>\n",
       "      <th>0</th>\n",
       "      <td>Finland</td>\n",
       "      <td>Western Europe</td>\n",
       "      <td>7.842</td>\n",
       "      <td>0.032</td>\n",
       "      <td>7.904</td>\n",
       "      <td>7.780</td>\n",
       "      <td>10.775</td>\n",
       "      <td>0.954</td>\n",
       "      <td>72.0</td>\n",
       "      <td>0.949</td>\n",
       "      <td>-0.098</td>\n",
       "      <td>0.186</td>\n",
       "      <td>2.43</td>\n",
       "      <td>1.446</td>\n",
       "      <td>1.106</td>\n",
       "      <td>0.741</td>\n",
       "      <td>0.691</td>\n",
       "      <td>0.124</td>\n",
       "      <td>0.481</td>\n",
       "      <td>3.253</td>\n",
       "    </tr>\n",
       "    <tr>\n",
       "      <th>1</th>\n",
       "      <td>Denmark</td>\n",
       "      <td>Western Europe</td>\n",
       "      <td>7.620</td>\n",
       "      <td>0.035</td>\n",
       "      <td>7.687</td>\n",
       "      <td>7.552</td>\n",
       "      <td>10.933</td>\n",
       "      <td>0.954</td>\n",
       "      <td>72.7</td>\n",
       "      <td>0.946</td>\n",
       "      <td>0.030</td>\n",
       "      <td>0.179</td>\n",
       "      <td>2.43</td>\n",
       "      <td>1.502</td>\n",
       "      <td>1.108</td>\n",
       "      <td>0.763</td>\n",
       "      <td>0.686</td>\n",
       "      <td>0.208</td>\n",
       "      <td>0.485</td>\n",
       "      <td>2.868</td>\n",
       "    </tr>\n",
       "    <tr>\n",
       "      <th>2</th>\n",
       "      <td>Switzerland</td>\n",
       "      <td>Western Europe</td>\n",
       "      <td>7.571</td>\n",
       "      <td>0.036</td>\n",
       "      <td>7.643</td>\n",
       "      <td>7.500</td>\n",
       "      <td>11.117</td>\n",
       "      <td>0.942</td>\n",
       "      <td>74.4</td>\n",
       "      <td>0.919</td>\n",
       "      <td>0.025</td>\n",
       "      <td>0.292</td>\n",
       "      <td>2.43</td>\n",
       "      <td>1.566</td>\n",
       "      <td>1.079</td>\n",
       "      <td>0.816</td>\n",
       "      <td>0.653</td>\n",
       "      <td>0.204</td>\n",
       "      <td>0.413</td>\n",
       "      <td>2.839</td>\n",
       "    </tr>\n",
       "    <tr>\n",
       "      <th>3</th>\n",
       "      <td>Iceland</td>\n",
       "      <td>Western Europe</td>\n",
       "      <td>7.554</td>\n",
       "      <td>0.059</td>\n",
       "      <td>7.670</td>\n",
       "      <td>7.438</td>\n",
       "      <td>10.878</td>\n",
       "      <td>0.983</td>\n",
       "      <td>73.0</td>\n",
       "      <td>0.955</td>\n",
       "      <td>0.160</td>\n",
       "      <td>0.673</td>\n",
       "      <td>2.43</td>\n",
       "      <td>1.482</td>\n",
       "      <td>1.172</td>\n",
       "      <td>0.772</td>\n",
       "      <td>0.698</td>\n",
       "      <td>0.293</td>\n",
       "      <td>0.170</td>\n",
       "      <td>2.967</td>\n",
       "    </tr>\n",
       "    <tr>\n",
       "      <th>4</th>\n",
       "      <td>Netherlands</td>\n",
       "      <td>Western Europe</td>\n",
       "      <td>7.464</td>\n",
       "      <td>0.027</td>\n",
       "      <td>7.518</td>\n",
       "      <td>7.410</td>\n",
       "      <td>10.932</td>\n",
       "      <td>0.942</td>\n",
       "      <td>72.4</td>\n",
       "      <td>0.913</td>\n",
       "      <td>0.175</td>\n",
       "      <td>0.338</td>\n",
       "      <td>2.43</td>\n",
       "      <td>1.501</td>\n",
       "      <td>1.079</td>\n",
       "      <td>0.753</td>\n",
       "      <td>0.647</td>\n",
       "      <td>0.302</td>\n",
       "      <td>0.384</td>\n",
       "      <td>2.798</td>\n",
       "    </tr>\n",
       "  </tbody>\n",
       "</table>\n",
       "</div>"
      ],
      "text/plain": [
       "  Country name Regional indicator  Ladder score  \\\n",
       "0      Finland     Western Europe         7.842   \n",
       "1      Denmark     Western Europe         7.620   \n",
       "2  Switzerland     Western Europe         7.571   \n",
       "3      Iceland     Western Europe         7.554   \n",
       "4  Netherlands     Western Europe         7.464   \n",
       "\n",
       "   Standard error of ladder score  upperwhisker  lowerwhisker  \\\n",
       "0                           0.032         7.904         7.780   \n",
       "1                           0.035         7.687         7.552   \n",
       "2                           0.036         7.643         7.500   \n",
       "3                           0.059         7.670         7.438   \n",
       "4                           0.027         7.518         7.410   \n",
       "\n",
       "   Logged GDP per capita  Social support  Healthy life expectancy  \\\n",
       "0                 10.775           0.954                     72.0   \n",
       "1                 10.933           0.954                     72.7   \n",
       "2                 11.117           0.942                     74.4   \n",
       "3                 10.878           0.983                     73.0   \n",
       "4                 10.932           0.942                     72.4   \n",
       "\n",
       "   Freedom to make life choices  Generosity  Perceptions of corruption  \\\n",
       "0                         0.949      -0.098                      0.186   \n",
       "1                         0.946       0.030                      0.179   \n",
       "2                         0.919       0.025                      0.292   \n",
       "3                         0.955       0.160                      0.673   \n",
       "4                         0.913       0.175                      0.338   \n",
       "\n",
       "   Ladder score in Dystopia  Explained by: Log GDP per capita  \\\n",
       "0                      2.43                             1.446   \n",
       "1                      2.43                             1.502   \n",
       "2                      2.43                             1.566   \n",
       "3                      2.43                             1.482   \n",
       "4                      2.43                             1.501   \n",
       "\n",
       "   Explained by: Social support  Explained by: Healthy life expectancy  \\\n",
       "0                         1.106                                  0.741   \n",
       "1                         1.108                                  0.763   \n",
       "2                         1.079                                  0.816   \n",
       "3                         1.172                                  0.772   \n",
       "4                         1.079                                  0.753   \n",
       "\n",
       "   Explained by: Freedom to make life choices  Explained by: Generosity  \\\n",
       "0                                       0.691                     0.124   \n",
       "1                                       0.686                     0.208   \n",
       "2                                       0.653                     0.204   \n",
       "3                                       0.698                     0.293   \n",
       "4                                       0.647                     0.302   \n",
       "\n",
       "   Explained by: Perceptions of corruption  Dystopia + residual  \n",
       "0                                    0.481                3.253  \n",
       "1                                    0.485                2.868  \n",
       "2                                    0.413                2.839  \n",
       "3                                    0.170                2.967  \n",
       "4                                    0.384                2.798  "
      ]
     },
     "execution_count": 4,
     "metadata": {},
     "output_type": "execute_result"
    }
   ],
   "source": [
    "world_data = pd.read_csv(\"world-happiness-report-2021.csv\")\n",
    "world_data.head()"
   ]
  },
  {
   "cell_type": "code",
   "execution_count": 7,
   "metadata": {},
   "outputs": [
    {
     "name": "stdout",
     "output_type": "stream",
     "text": [
      "Country name                                  0\n",
      "Regional indicator                            0\n",
      "Ladder score                                  0\n",
      "Standard error of ladder score                0\n",
      "upperwhisker                                  0\n",
      "lowerwhisker                                  0\n",
      "Logged GDP per capita                         0\n",
      "Social support                                0\n",
      "Healthy life expectancy                       0\n",
      "Freedom to make life choices                  0\n",
      "Generosity                                    0\n",
      "Perceptions of corruption                     0\n",
      "Ladder score in Dystopia                      0\n",
      "Explained by: Log GDP per capita              0\n",
      "Explained by: Social support                  0\n",
      "Explained by: Healthy life expectancy         0\n",
      "Explained by: Freedom to make life choices    0\n",
      "Explained by: Generosity                      0\n",
      "Explained by: Perceptions of corruption       0\n",
      "Dystopia + residual                           0\n",
      "dtype: int64\n"
     ]
    }
   ],
   "source": [
    "#Check If There are Missing Values in the data (There is no missing data)\n",
    "print(world_data.isnull().sum())"
   ]
  },
  {
   "cell_type": "code",
   "execution_count": 10,
   "metadata": {},
   "outputs": [
    {
     "name": "stdout",
     "output_type": "stream",
     "text": [
      "<class 'pandas.core.frame.DataFrame'>\n",
      "RangeIndex: 149 entries, 0 to 148\n",
      "Data columns (total 20 columns):\n",
      " #   Column                                      Non-Null Count  Dtype  \n",
      "---  ------                                      --------------  -----  \n",
      " 0   Country name                                149 non-null    object \n",
      " 1   Regional indicator                          149 non-null    object \n",
      " 2   Ladder score                                149 non-null    float64\n",
      " 3   Standard error of ladder score              149 non-null    float64\n",
      " 4   upperwhisker                                149 non-null    float64\n",
      " 5   lowerwhisker                                149 non-null    float64\n",
      " 6   Logged GDP per capita                       149 non-null    float64\n",
      " 7   Social support                              149 non-null    float64\n",
      " 8   Healthy life expectancy                     149 non-null    float64\n",
      " 9   Freedom to make life choices                149 non-null    float64\n",
      " 10  Generosity                                  149 non-null    float64\n",
      " 11  Perceptions of corruption                   149 non-null    float64\n",
      " 12  Ladder score in Dystopia                    149 non-null    float64\n",
      " 13  Explained by: Log GDP per capita            149 non-null    float64\n",
      " 14  Explained by: Social support                149 non-null    float64\n",
      " 15  Explained by: Healthy life expectancy       149 non-null    float64\n",
      " 16  Explained by: Freedom to make life choices  149 non-null    float64\n",
      " 17  Explained by: Generosity                    149 non-null    float64\n",
      " 18  Explained by: Perceptions of corruption     149 non-null    float64\n",
      " 19  Dystopia + residual                         149 non-null    float64\n",
      "dtypes: float64(18), object(2)\n",
      "memory usage: 23.4+ KB\n"
     ]
    }
   ],
   "source": [
    "world_data.info()"
   ]
  },
  {
   "cell_type": "code",
   "execution_count": 13,
   "metadata": {},
   "outputs": [
    {
     "data": {
      "text/html": [
       "<div>\n",
       "<style scoped>\n",
       "    .dataframe tbody tr th:only-of-type {\n",
       "        vertical-align: middle;\n",
       "    }\n",
       "\n",
       "    .dataframe tbody tr th {\n",
       "        vertical-align: top;\n",
       "    }\n",
       "\n",
       "    .dataframe thead th {\n",
       "        text-align: right;\n",
       "    }\n",
       "</style>\n",
       "<table border=\"1\" class=\"dataframe\">\n",
       "  <thead>\n",
       "    <tr style=\"text-align: right;\">\n",
       "      <th></th>\n",
       "      <th>Ladder score</th>\n",
       "      <th>Standard error of ladder score</th>\n",
       "      <th>upperwhisker</th>\n",
       "      <th>lowerwhisker</th>\n",
       "      <th>Logged GDP per capita</th>\n",
       "      <th>Social support</th>\n",
       "      <th>Healthy life expectancy</th>\n",
       "      <th>Freedom to make life choices</th>\n",
       "      <th>Generosity</th>\n",
       "      <th>Perceptions of corruption</th>\n",
       "      <th>Ladder score in Dystopia</th>\n",
       "      <th>Explained by: Log GDP per capita</th>\n",
       "      <th>Explained by: Social support</th>\n",
       "      <th>Explained by: Healthy life expectancy</th>\n",
       "      <th>Explained by: Freedom to make life choices</th>\n",
       "      <th>Explained by: Generosity</th>\n",
       "      <th>Explained by: Perceptions of corruption</th>\n",
       "      <th>Dystopia + residual</th>\n",
       "    </tr>\n",
       "  </thead>\n",
       "  <tbody>\n",
       "    <tr>\n",
       "      <th>count</th>\n",
       "      <td>149.000000</td>\n",
       "      <td>149.000000</td>\n",
       "      <td>149.000000</td>\n",
       "      <td>149.000000</td>\n",
       "      <td>149.000000</td>\n",
       "      <td>149.000000</td>\n",
       "      <td>149.000000</td>\n",
       "      <td>149.000000</td>\n",
       "      <td>149.000000</td>\n",
       "      <td>149.000000</td>\n",
       "      <td>1.490000e+02</td>\n",
       "      <td>149.000000</td>\n",
       "      <td>149.000000</td>\n",
       "      <td>149.000000</td>\n",
       "      <td>149.000000</td>\n",
       "      <td>149.000000</td>\n",
       "      <td>149.000000</td>\n",
       "      <td>149.000000</td>\n",
       "    </tr>\n",
       "    <tr>\n",
       "      <th>mean</th>\n",
       "      <td>5.532839</td>\n",
       "      <td>0.058752</td>\n",
       "      <td>5.648007</td>\n",
       "      <td>5.417631</td>\n",
       "      <td>9.432208</td>\n",
       "      <td>0.814745</td>\n",
       "      <td>64.992799</td>\n",
       "      <td>0.791597</td>\n",
       "      <td>-0.015134</td>\n",
       "      <td>0.727450</td>\n",
       "      <td>2.430000e+00</td>\n",
       "      <td>0.977161</td>\n",
       "      <td>0.793315</td>\n",
       "      <td>0.520161</td>\n",
       "      <td>0.498711</td>\n",
       "      <td>0.178047</td>\n",
       "      <td>0.135141</td>\n",
       "      <td>2.430329</td>\n",
       "    </tr>\n",
       "    <tr>\n",
       "      <th>std</th>\n",
       "      <td>1.073924</td>\n",
       "      <td>0.022001</td>\n",
       "      <td>1.054330</td>\n",
       "      <td>1.094879</td>\n",
       "      <td>1.158601</td>\n",
       "      <td>0.114889</td>\n",
       "      <td>6.762043</td>\n",
       "      <td>0.113332</td>\n",
       "      <td>0.150657</td>\n",
       "      <td>0.179226</td>\n",
       "      <td>5.347044e-15</td>\n",
       "      <td>0.404740</td>\n",
       "      <td>0.258871</td>\n",
       "      <td>0.213019</td>\n",
       "      <td>0.137888</td>\n",
       "      <td>0.098270</td>\n",
       "      <td>0.114361</td>\n",
       "      <td>0.537645</td>\n",
       "    </tr>\n",
       "    <tr>\n",
       "      <th>min</th>\n",
       "      <td>2.523000</td>\n",
       "      <td>0.026000</td>\n",
       "      <td>2.596000</td>\n",
       "      <td>2.449000</td>\n",
       "      <td>6.635000</td>\n",
       "      <td>0.463000</td>\n",
       "      <td>48.478000</td>\n",
       "      <td>0.382000</td>\n",
       "      <td>-0.288000</td>\n",
       "      <td>0.082000</td>\n",
       "      <td>2.430000e+00</td>\n",
       "      <td>0.000000</td>\n",
       "      <td>0.000000</td>\n",
       "      <td>0.000000</td>\n",
       "      <td>0.000000</td>\n",
       "      <td>0.000000</td>\n",
       "      <td>0.000000</td>\n",
       "      <td>0.648000</td>\n",
       "    </tr>\n",
       "    <tr>\n",
       "      <th>25%</th>\n",
       "      <td>4.852000</td>\n",
       "      <td>0.043000</td>\n",
       "      <td>4.991000</td>\n",
       "      <td>4.706000</td>\n",
       "      <td>8.541000</td>\n",
       "      <td>0.750000</td>\n",
       "      <td>59.802000</td>\n",
       "      <td>0.718000</td>\n",
       "      <td>-0.126000</td>\n",
       "      <td>0.667000</td>\n",
       "      <td>2.430000e+00</td>\n",
       "      <td>0.666000</td>\n",
       "      <td>0.647000</td>\n",
       "      <td>0.357000</td>\n",
       "      <td>0.409000</td>\n",
       "      <td>0.105000</td>\n",
       "      <td>0.060000</td>\n",
       "      <td>2.138000</td>\n",
       "    </tr>\n",
       "    <tr>\n",
       "      <th>50%</th>\n",
       "      <td>5.534000</td>\n",
       "      <td>0.054000</td>\n",
       "      <td>5.625000</td>\n",
       "      <td>5.413000</td>\n",
       "      <td>9.569000</td>\n",
       "      <td>0.832000</td>\n",
       "      <td>66.603000</td>\n",
       "      <td>0.804000</td>\n",
       "      <td>-0.036000</td>\n",
       "      <td>0.781000</td>\n",
       "      <td>2.430000e+00</td>\n",
       "      <td>1.025000</td>\n",
       "      <td>0.832000</td>\n",
       "      <td>0.571000</td>\n",
       "      <td>0.514000</td>\n",
       "      <td>0.164000</td>\n",
       "      <td>0.101000</td>\n",
       "      <td>2.509000</td>\n",
       "    </tr>\n",
       "    <tr>\n",
       "      <th>75%</th>\n",
       "      <td>6.255000</td>\n",
       "      <td>0.070000</td>\n",
       "      <td>6.344000</td>\n",
       "      <td>6.128000</td>\n",
       "      <td>10.421000</td>\n",
       "      <td>0.905000</td>\n",
       "      <td>69.600000</td>\n",
       "      <td>0.877000</td>\n",
       "      <td>0.079000</td>\n",
       "      <td>0.845000</td>\n",
       "      <td>2.430000e+00</td>\n",
       "      <td>1.323000</td>\n",
       "      <td>0.996000</td>\n",
       "      <td>0.665000</td>\n",
       "      <td>0.603000</td>\n",
       "      <td>0.239000</td>\n",
       "      <td>0.174000</td>\n",
       "      <td>2.794000</td>\n",
       "    </tr>\n",
       "    <tr>\n",
       "      <th>max</th>\n",
       "      <td>7.842000</td>\n",
       "      <td>0.173000</td>\n",
       "      <td>7.904000</td>\n",
       "      <td>7.780000</td>\n",
       "      <td>11.647000</td>\n",
       "      <td>0.983000</td>\n",
       "      <td>76.953000</td>\n",
       "      <td>0.970000</td>\n",
       "      <td>0.542000</td>\n",
       "      <td>0.939000</td>\n",
       "      <td>2.430000e+00</td>\n",
       "      <td>1.751000</td>\n",
       "      <td>1.172000</td>\n",
       "      <td>0.897000</td>\n",
       "      <td>0.716000</td>\n",
       "      <td>0.541000</td>\n",
       "      <td>0.547000</td>\n",
       "      <td>3.482000</td>\n",
       "    </tr>\n",
       "  </tbody>\n",
       "</table>\n",
       "</div>"
      ],
      "text/plain": [
       "       Ladder score  Standard error of ladder score  upperwhisker  \\\n",
       "count    149.000000                      149.000000    149.000000   \n",
       "mean       5.532839                        0.058752      5.648007   \n",
       "std        1.073924                        0.022001      1.054330   \n",
       "min        2.523000                        0.026000      2.596000   \n",
       "25%        4.852000                        0.043000      4.991000   \n",
       "50%        5.534000                        0.054000      5.625000   \n",
       "75%        6.255000                        0.070000      6.344000   \n",
       "max        7.842000                        0.173000      7.904000   \n",
       "\n",
       "       lowerwhisker  Logged GDP per capita  Social support  \\\n",
       "count    149.000000             149.000000      149.000000   \n",
       "mean       5.417631               9.432208        0.814745   \n",
       "std        1.094879               1.158601        0.114889   \n",
       "min        2.449000               6.635000        0.463000   \n",
       "25%        4.706000               8.541000        0.750000   \n",
       "50%        5.413000               9.569000        0.832000   \n",
       "75%        6.128000              10.421000        0.905000   \n",
       "max        7.780000              11.647000        0.983000   \n",
       "\n",
       "       Healthy life expectancy  Freedom to make life choices  Generosity  \\\n",
       "count               149.000000                    149.000000  149.000000   \n",
       "mean                 64.992799                      0.791597   -0.015134   \n",
       "std                   6.762043                      0.113332    0.150657   \n",
       "min                  48.478000                      0.382000   -0.288000   \n",
       "25%                  59.802000                      0.718000   -0.126000   \n",
       "50%                  66.603000                      0.804000   -0.036000   \n",
       "75%                  69.600000                      0.877000    0.079000   \n",
       "max                  76.953000                      0.970000    0.542000   \n",
       "\n",
       "       Perceptions of corruption  Ladder score in Dystopia  \\\n",
       "count                 149.000000              1.490000e+02   \n",
       "mean                    0.727450              2.430000e+00   \n",
       "std                     0.179226              5.347044e-15   \n",
       "min                     0.082000              2.430000e+00   \n",
       "25%                     0.667000              2.430000e+00   \n",
       "50%                     0.781000              2.430000e+00   \n",
       "75%                     0.845000              2.430000e+00   \n",
       "max                     0.939000              2.430000e+00   \n",
       "\n",
       "       Explained by: Log GDP per capita  Explained by: Social support  \\\n",
       "count                        149.000000                    149.000000   \n",
       "mean                           0.977161                      0.793315   \n",
       "std                            0.404740                      0.258871   \n",
       "min                            0.000000                      0.000000   \n",
       "25%                            0.666000                      0.647000   \n",
       "50%                            1.025000                      0.832000   \n",
       "75%                            1.323000                      0.996000   \n",
       "max                            1.751000                      1.172000   \n",
       "\n",
       "       Explained by: Healthy life expectancy  \\\n",
       "count                             149.000000   \n",
       "mean                                0.520161   \n",
       "std                                 0.213019   \n",
       "min                                 0.000000   \n",
       "25%                                 0.357000   \n",
       "50%                                 0.571000   \n",
       "75%                                 0.665000   \n",
       "max                                 0.897000   \n",
       "\n",
       "       Explained by: Freedom to make life choices  Explained by: Generosity  \\\n",
       "count                                  149.000000                149.000000   \n",
       "mean                                     0.498711                  0.178047   \n",
       "std                                      0.137888                  0.098270   \n",
       "min                                      0.000000                  0.000000   \n",
       "25%                                      0.409000                  0.105000   \n",
       "50%                                      0.514000                  0.164000   \n",
       "75%                                      0.603000                  0.239000   \n",
       "max                                      0.716000                  0.541000   \n",
       "\n",
       "       Explained by: Perceptions of corruption  Dystopia + residual  \n",
       "count                               149.000000           149.000000  \n",
       "mean                                  0.135141             2.430329  \n",
       "std                                   0.114361             0.537645  \n",
       "min                                   0.000000             0.648000  \n",
       "25%                                   0.060000             2.138000  \n",
       "50%                                   0.101000             2.509000  \n",
       "75%                                   0.174000             2.794000  \n",
       "max                                   0.547000             3.482000  "
      ]
     },
     "execution_count": 13,
     "metadata": {},
     "output_type": "execute_result"
    }
   ],
   "source": [
    "world_data.describe()"
   ]
  },
  {
   "cell_type": "markdown",
   "metadata": {},
   "source": [
    "<h5>Top 20 Countries with Happiness Rank</h5>"
   ]
  },
  {
   "cell_type": "code",
   "execution_count": 35,
   "metadata": {},
   "outputs": [
    {
     "data": {
      "application/vnd.plotly.v1+json": {
       "config": {
        "plotlyServerURL": "https://plot.ly"
       },
       "data": [
        {
         "alignmentgroup": "True",
         "hovertemplate": "variable=Ladder score<br>Country name=%{x}<br>value=%{y}<extra></extra>",
         "legendgroup": "Ladder score",
         "marker": {
          "color": "#636efa"
         },
         "name": "Ladder score",
         "offsetgroup": "Ladder score",
         "orientation": "v",
         "showlegend": true,
         "textposition": "auto",
         "type": "bar",
         "x": [
          "Finland",
          "Denmark",
          "Switzerland",
          "Iceland",
          "Netherlands",
          "Norway",
          "Sweden",
          "Luxembourg",
          "New Zealand",
          "Austria",
          "Australia",
          "Israel",
          "Germany",
          "Canada",
          "Ireland",
          "Costa Rica",
          "United Kingdom",
          "Czech Republic",
          "United States",
          "Belgium"
         ],
         "xaxis": "x",
         "y": [
          7.8420000000000005,
          7.62,
          7.571000000000001,
          7.553999999999999,
          7.4639999999999995,
          7.392,
          7.3629999999999995,
          7.324,
          7.277,
          7.268,
          7.183,
          7.157,
          7.155,
          7.103,
          7.085,
          7.069,
          7.064,
          6.965,
          6.9510000000000005,
          6.834
         ],
         "yaxis": "y"
        }
       ],
       "layout": {
        "barmode": "relative",
        "legend": {
         "title": {
          "text": "variable"
         },
         "tracegroupgap": 0
        },
        "template": {
         "data": {
          "bar": [
           {
            "error_x": {
             "color": "#2a3f5f"
            },
            "error_y": {
             "color": "#2a3f5f"
            },
            "marker": {
             "line": {
              "color": "#E5ECF6",
              "width": 0.5
             }
            },
            "type": "bar"
           }
          ],
          "barpolar": [
           {
            "marker": {
             "line": {
              "color": "#E5ECF6",
              "width": 0.5
             }
            },
            "type": "barpolar"
           }
          ],
          "carpet": [
           {
            "aaxis": {
             "endlinecolor": "#2a3f5f",
             "gridcolor": "white",
             "linecolor": "white",
             "minorgridcolor": "white",
             "startlinecolor": "#2a3f5f"
            },
            "baxis": {
             "endlinecolor": "#2a3f5f",
             "gridcolor": "white",
             "linecolor": "white",
             "minorgridcolor": "white",
             "startlinecolor": "#2a3f5f"
            },
            "type": "carpet"
           }
          ],
          "choropleth": [
           {
            "colorbar": {
             "outlinewidth": 0,
             "ticks": ""
            },
            "type": "choropleth"
           }
          ],
          "contour": [
           {
            "colorbar": {
             "outlinewidth": 0,
             "ticks": ""
            },
            "colorscale": [
             [
              0,
              "#0d0887"
             ],
             [
              0.1111111111111111,
              "#46039f"
             ],
             [
              0.2222222222222222,
              "#7201a8"
             ],
             [
              0.3333333333333333,
              "#9c179e"
             ],
             [
              0.4444444444444444,
              "#bd3786"
             ],
             [
              0.5555555555555556,
              "#d8576b"
             ],
             [
              0.6666666666666666,
              "#ed7953"
             ],
             [
              0.7777777777777778,
              "#fb9f3a"
             ],
             [
              0.8888888888888888,
              "#fdca26"
             ],
             [
              1,
              "#f0f921"
             ]
            ],
            "type": "contour"
           }
          ],
          "contourcarpet": [
           {
            "colorbar": {
             "outlinewidth": 0,
             "ticks": ""
            },
            "type": "contourcarpet"
           }
          ],
          "heatmap": [
           {
            "colorbar": {
             "outlinewidth": 0,
             "ticks": ""
            },
            "colorscale": [
             [
              0,
              "#0d0887"
             ],
             [
              0.1111111111111111,
              "#46039f"
             ],
             [
              0.2222222222222222,
              "#7201a8"
             ],
             [
              0.3333333333333333,
              "#9c179e"
             ],
             [
              0.4444444444444444,
              "#bd3786"
             ],
             [
              0.5555555555555556,
              "#d8576b"
             ],
             [
              0.6666666666666666,
              "#ed7953"
             ],
             [
              0.7777777777777778,
              "#fb9f3a"
             ],
             [
              0.8888888888888888,
              "#fdca26"
             ],
             [
              1,
              "#f0f921"
             ]
            ],
            "type": "heatmap"
           }
          ],
          "heatmapgl": [
           {
            "colorbar": {
             "outlinewidth": 0,
             "ticks": ""
            },
            "colorscale": [
             [
              0,
              "#0d0887"
             ],
             [
              0.1111111111111111,
              "#46039f"
             ],
             [
              0.2222222222222222,
              "#7201a8"
             ],
             [
              0.3333333333333333,
              "#9c179e"
             ],
             [
              0.4444444444444444,
              "#bd3786"
             ],
             [
              0.5555555555555556,
              "#d8576b"
             ],
             [
              0.6666666666666666,
              "#ed7953"
             ],
             [
              0.7777777777777778,
              "#fb9f3a"
             ],
             [
              0.8888888888888888,
              "#fdca26"
             ],
             [
              1,
              "#f0f921"
             ]
            ],
            "type": "heatmapgl"
           }
          ],
          "histogram": [
           {
            "marker": {
             "colorbar": {
              "outlinewidth": 0,
              "ticks": ""
             }
            },
            "type": "histogram"
           }
          ],
          "histogram2d": [
           {
            "colorbar": {
             "outlinewidth": 0,
             "ticks": ""
            },
            "colorscale": [
             [
              0,
              "#0d0887"
             ],
             [
              0.1111111111111111,
              "#46039f"
             ],
             [
              0.2222222222222222,
              "#7201a8"
             ],
             [
              0.3333333333333333,
              "#9c179e"
             ],
             [
              0.4444444444444444,
              "#bd3786"
             ],
             [
              0.5555555555555556,
              "#d8576b"
             ],
             [
              0.6666666666666666,
              "#ed7953"
             ],
             [
              0.7777777777777778,
              "#fb9f3a"
             ],
             [
              0.8888888888888888,
              "#fdca26"
             ],
             [
              1,
              "#f0f921"
             ]
            ],
            "type": "histogram2d"
           }
          ],
          "histogram2dcontour": [
           {
            "colorbar": {
             "outlinewidth": 0,
             "ticks": ""
            },
            "colorscale": [
             [
              0,
              "#0d0887"
             ],
             [
              0.1111111111111111,
              "#46039f"
             ],
             [
              0.2222222222222222,
              "#7201a8"
             ],
             [
              0.3333333333333333,
              "#9c179e"
             ],
             [
              0.4444444444444444,
              "#bd3786"
             ],
             [
              0.5555555555555556,
              "#d8576b"
             ],
             [
              0.6666666666666666,
              "#ed7953"
             ],
             [
              0.7777777777777778,
              "#fb9f3a"
             ],
             [
              0.8888888888888888,
              "#fdca26"
             ],
             [
              1,
              "#f0f921"
             ]
            ],
            "type": "histogram2dcontour"
           }
          ],
          "mesh3d": [
           {
            "colorbar": {
             "outlinewidth": 0,
             "ticks": ""
            },
            "type": "mesh3d"
           }
          ],
          "parcoords": [
           {
            "line": {
             "colorbar": {
              "outlinewidth": 0,
              "ticks": ""
             }
            },
            "type": "parcoords"
           }
          ],
          "pie": [
           {
            "automargin": true,
            "type": "pie"
           }
          ],
          "scatter": [
           {
            "marker": {
             "colorbar": {
              "outlinewidth": 0,
              "ticks": ""
             }
            },
            "type": "scatter"
           }
          ],
          "scatter3d": [
           {
            "line": {
             "colorbar": {
              "outlinewidth": 0,
              "ticks": ""
             }
            },
            "marker": {
             "colorbar": {
              "outlinewidth": 0,
              "ticks": ""
             }
            },
            "type": "scatter3d"
           }
          ],
          "scattercarpet": [
           {
            "marker": {
             "colorbar": {
              "outlinewidth": 0,
              "ticks": ""
             }
            },
            "type": "scattercarpet"
           }
          ],
          "scattergeo": [
           {
            "marker": {
             "colorbar": {
              "outlinewidth": 0,
              "ticks": ""
             }
            },
            "type": "scattergeo"
           }
          ],
          "scattergl": [
           {
            "marker": {
             "colorbar": {
              "outlinewidth": 0,
              "ticks": ""
             }
            },
            "type": "scattergl"
           }
          ],
          "scattermapbox": [
           {
            "marker": {
             "colorbar": {
              "outlinewidth": 0,
              "ticks": ""
             }
            },
            "type": "scattermapbox"
           }
          ],
          "scatterpolar": [
           {
            "marker": {
             "colorbar": {
              "outlinewidth": 0,
              "ticks": ""
             }
            },
            "type": "scatterpolar"
           }
          ],
          "scatterpolargl": [
           {
            "marker": {
             "colorbar": {
              "outlinewidth": 0,
              "ticks": ""
             }
            },
            "type": "scatterpolargl"
           }
          ],
          "scatterternary": [
           {
            "marker": {
             "colorbar": {
              "outlinewidth": 0,
              "ticks": ""
             }
            },
            "type": "scatterternary"
           }
          ],
          "surface": [
           {
            "colorbar": {
             "outlinewidth": 0,
             "ticks": ""
            },
            "colorscale": [
             [
              0,
              "#0d0887"
             ],
             [
              0.1111111111111111,
              "#46039f"
             ],
             [
              0.2222222222222222,
              "#7201a8"
             ],
             [
              0.3333333333333333,
              "#9c179e"
             ],
             [
              0.4444444444444444,
              "#bd3786"
             ],
             [
              0.5555555555555556,
              "#d8576b"
             ],
             [
              0.6666666666666666,
              "#ed7953"
             ],
             [
              0.7777777777777778,
              "#fb9f3a"
             ],
             [
              0.8888888888888888,
              "#fdca26"
             ],
             [
              1,
              "#f0f921"
             ]
            ],
            "type": "surface"
           }
          ],
          "table": [
           {
            "cells": {
             "fill": {
              "color": "#EBF0F8"
             },
             "line": {
              "color": "white"
             }
            },
            "header": {
             "fill": {
              "color": "#C8D4E3"
             },
             "line": {
              "color": "white"
             }
            },
            "type": "table"
           }
          ]
         },
         "layout": {
          "annotationdefaults": {
           "arrowcolor": "#2a3f5f",
           "arrowhead": 0,
           "arrowwidth": 1
          },
          "autotypenumbers": "strict",
          "coloraxis": {
           "colorbar": {
            "outlinewidth": 0,
            "ticks": ""
           }
          },
          "colorscale": {
           "diverging": [
            [
             0,
             "#8e0152"
            ],
            [
             0.1,
             "#c51b7d"
            ],
            [
             0.2,
             "#de77ae"
            ],
            [
             0.3,
             "#f1b6da"
            ],
            [
             0.4,
             "#fde0ef"
            ],
            [
             0.5,
             "#f7f7f7"
            ],
            [
             0.6,
             "#e6f5d0"
            ],
            [
             0.7,
             "#b8e186"
            ],
            [
             0.8,
             "#7fbc41"
            ],
            [
             0.9,
             "#4d9221"
            ],
            [
             1,
             "#276419"
            ]
           ],
           "sequential": [
            [
             0,
             "#0d0887"
            ],
            [
             0.1111111111111111,
             "#46039f"
            ],
            [
             0.2222222222222222,
             "#7201a8"
            ],
            [
             0.3333333333333333,
             "#9c179e"
            ],
            [
             0.4444444444444444,
             "#bd3786"
            ],
            [
             0.5555555555555556,
             "#d8576b"
            ],
            [
             0.6666666666666666,
             "#ed7953"
            ],
            [
             0.7777777777777778,
             "#fb9f3a"
            ],
            [
             0.8888888888888888,
             "#fdca26"
            ],
            [
             1,
             "#f0f921"
            ]
           ],
           "sequentialminus": [
            [
             0,
             "#0d0887"
            ],
            [
             0.1111111111111111,
             "#46039f"
            ],
            [
             0.2222222222222222,
             "#7201a8"
            ],
            [
             0.3333333333333333,
             "#9c179e"
            ],
            [
             0.4444444444444444,
             "#bd3786"
            ],
            [
             0.5555555555555556,
             "#d8576b"
            ],
            [
             0.6666666666666666,
             "#ed7953"
            ],
            [
             0.7777777777777778,
             "#fb9f3a"
            ],
            [
             0.8888888888888888,
             "#fdca26"
            ],
            [
             1,
             "#f0f921"
            ]
           ]
          },
          "colorway": [
           "#636efa",
           "#EF553B",
           "#00cc96",
           "#ab63fa",
           "#FFA15A",
           "#19d3f3",
           "#FF6692",
           "#B6E880",
           "#FF97FF",
           "#FECB52"
          ],
          "font": {
           "color": "#2a3f5f"
          },
          "geo": {
           "bgcolor": "white",
           "lakecolor": "white",
           "landcolor": "#E5ECF6",
           "showlakes": true,
           "showland": true,
           "subunitcolor": "white"
          },
          "hoverlabel": {
           "align": "left"
          },
          "hovermode": "closest",
          "mapbox": {
           "style": "light"
          },
          "paper_bgcolor": "white",
          "plot_bgcolor": "#E5ECF6",
          "polar": {
           "angularaxis": {
            "gridcolor": "white",
            "linecolor": "white",
            "ticks": ""
           },
           "bgcolor": "#E5ECF6",
           "radialaxis": {
            "gridcolor": "white",
            "linecolor": "white",
            "ticks": ""
           }
          },
          "scene": {
           "xaxis": {
            "backgroundcolor": "#E5ECF6",
            "gridcolor": "white",
            "gridwidth": 2,
            "linecolor": "white",
            "showbackground": true,
            "ticks": "",
            "zerolinecolor": "white"
           },
           "yaxis": {
            "backgroundcolor": "#E5ECF6",
            "gridcolor": "white",
            "gridwidth": 2,
            "linecolor": "white",
            "showbackground": true,
            "ticks": "",
            "zerolinecolor": "white"
           },
           "zaxis": {
            "backgroundcolor": "#E5ECF6",
            "gridcolor": "white",
            "gridwidth": 2,
            "linecolor": "white",
            "showbackground": true,
            "ticks": "",
            "zerolinecolor": "white"
           }
          },
          "shapedefaults": {
           "line": {
            "color": "#2a3f5f"
           }
          },
          "ternary": {
           "aaxis": {
            "gridcolor": "white",
            "linecolor": "white",
            "ticks": ""
           },
           "baxis": {
            "gridcolor": "white",
            "linecolor": "white",
            "ticks": ""
           },
           "bgcolor": "#E5ECF6",
           "caxis": {
            "gridcolor": "white",
            "linecolor": "white",
            "ticks": ""
           }
          },
          "title": {
           "x": 0.05
          },
          "xaxis": {
           "automargin": true,
           "gridcolor": "white",
           "linecolor": "white",
           "ticks": "",
           "title": {
            "standoff": 15
           },
           "zerolinecolor": "white",
           "zerolinewidth": 2
          },
          "yaxis": {
           "automargin": true,
           "gridcolor": "white",
           "linecolor": "white",
           "ticks": "",
           "title": {
            "standoff": 15
           },
           "zerolinecolor": "white",
           "zerolinewidth": 2
          }
         }
        },
        "title": {
         "text": "Top 20 Countries With Happiness Rank"
        },
        "xaxis": {
         "anchor": "y",
         "domain": [
          0,
          1
         ],
         "title": {
          "text": "Country name"
         }
        },
        "yaxis": {
         "anchor": "x",
         "domain": [
          0,
          1
         ],
         "title": {
          "text": "value"
         }
        }
       }
      },
      "text/html": [
       "<div>                            <div id=\"cf8e13d1-d82c-442a-8407-06fe55776ad0\" class=\"plotly-graph-div\" style=\"height:525px; width:100%;\"></div>            <script type=\"text/javascript\">                require([\"plotly\"], function(Plotly) {                    window.PLOTLYENV=window.PLOTLYENV || {};                                    if (document.getElementById(\"cf8e13d1-d82c-442a-8407-06fe55776ad0\")) {                    Plotly.newPlot(                        \"cf8e13d1-d82c-442a-8407-06fe55776ad0\",                        [{\"alignmentgroup\": \"True\", \"hovertemplate\": \"variable=Ladder score<br>Country name=%{x}<br>value=%{y}<extra></extra>\", \"legendgroup\": \"Ladder score\", \"marker\": {\"color\": \"#636efa\"}, \"name\": \"Ladder score\", \"offsetgroup\": \"Ladder score\", \"orientation\": \"v\", \"showlegend\": true, \"textposition\": \"auto\", \"type\": \"bar\", \"x\": [\"Finland\", \"Denmark\", \"Switzerland\", \"Iceland\", \"Netherlands\", \"Norway\", \"Sweden\", \"Luxembourg\", \"New Zealand\", \"Austria\", \"Australia\", \"Israel\", \"Germany\", \"Canada\", \"Ireland\", \"Costa Rica\", \"United Kingdom\", \"Czech Republic\", \"United States\", \"Belgium\"], \"xaxis\": \"x\", \"y\": [7.8420000000000005, 7.62, 7.571000000000001, 7.553999999999999, 7.4639999999999995, 7.392, 7.3629999999999995, 7.324, 7.277, 7.268, 7.183, 7.157, 7.155, 7.103, 7.085, 7.069, 7.064, 6.965, 6.9510000000000005, 6.834], \"yaxis\": \"y\"}],                        {\"barmode\": \"relative\", \"legend\": {\"title\": {\"text\": \"variable\"}, \"tracegroupgap\": 0}, \"template\": {\"data\": {\"bar\": [{\"error_x\": {\"color\": \"#2a3f5f\"}, \"error_y\": {\"color\": \"#2a3f5f\"}, \"marker\": {\"line\": {\"color\": \"#E5ECF6\", \"width\": 0.5}}, \"type\": \"bar\"}], \"barpolar\": [{\"marker\": {\"line\": {\"color\": \"#E5ECF6\", \"width\": 0.5}}, \"type\": \"barpolar\"}], \"carpet\": [{\"aaxis\": {\"endlinecolor\": \"#2a3f5f\", \"gridcolor\": \"white\", \"linecolor\": \"white\", \"minorgridcolor\": \"white\", \"startlinecolor\": \"#2a3f5f\"}, \"baxis\": {\"endlinecolor\": \"#2a3f5f\", \"gridcolor\": \"white\", \"linecolor\": \"white\", \"minorgridcolor\": \"white\", \"startlinecolor\": \"#2a3f5f\"}, \"type\": \"carpet\"}], \"choropleth\": [{\"colorbar\": {\"outlinewidth\": 0, \"ticks\": \"\"}, \"type\": \"choropleth\"}], \"contour\": [{\"colorbar\": {\"outlinewidth\": 0, \"ticks\": \"\"}, \"colorscale\": [[0.0, \"#0d0887\"], [0.1111111111111111, \"#46039f\"], [0.2222222222222222, \"#7201a8\"], [0.3333333333333333, \"#9c179e\"], [0.4444444444444444, \"#bd3786\"], [0.5555555555555556, \"#d8576b\"], [0.6666666666666666, \"#ed7953\"], [0.7777777777777778, \"#fb9f3a\"], [0.8888888888888888, \"#fdca26\"], [1.0, \"#f0f921\"]], \"type\": \"contour\"}], \"contourcarpet\": [{\"colorbar\": {\"outlinewidth\": 0, \"ticks\": \"\"}, \"type\": \"contourcarpet\"}], \"heatmap\": [{\"colorbar\": {\"outlinewidth\": 0, \"ticks\": \"\"}, \"colorscale\": [[0.0, \"#0d0887\"], [0.1111111111111111, \"#46039f\"], [0.2222222222222222, \"#7201a8\"], [0.3333333333333333, \"#9c179e\"], [0.4444444444444444, \"#bd3786\"], [0.5555555555555556, \"#d8576b\"], [0.6666666666666666, \"#ed7953\"], [0.7777777777777778, \"#fb9f3a\"], [0.8888888888888888, \"#fdca26\"], [1.0, \"#f0f921\"]], \"type\": \"heatmap\"}], \"heatmapgl\": [{\"colorbar\": {\"outlinewidth\": 0, \"ticks\": \"\"}, \"colorscale\": [[0.0, \"#0d0887\"], [0.1111111111111111, \"#46039f\"], [0.2222222222222222, \"#7201a8\"], [0.3333333333333333, \"#9c179e\"], [0.4444444444444444, \"#bd3786\"], [0.5555555555555556, \"#d8576b\"], [0.6666666666666666, \"#ed7953\"], [0.7777777777777778, \"#fb9f3a\"], [0.8888888888888888, \"#fdca26\"], [1.0, \"#f0f921\"]], \"type\": \"heatmapgl\"}], \"histogram\": [{\"marker\": {\"colorbar\": {\"outlinewidth\": 0, \"ticks\": \"\"}}, \"type\": \"histogram\"}], \"histogram2d\": [{\"colorbar\": {\"outlinewidth\": 0, \"ticks\": \"\"}, \"colorscale\": [[0.0, \"#0d0887\"], [0.1111111111111111, \"#46039f\"], [0.2222222222222222, \"#7201a8\"], [0.3333333333333333, \"#9c179e\"], [0.4444444444444444, \"#bd3786\"], [0.5555555555555556, \"#d8576b\"], [0.6666666666666666, \"#ed7953\"], [0.7777777777777778, \"#fb9f3a\"], [0.8888888888888888, \"#fdca26\"], [1.0, \"#f0f921\"]], \"type\": \"histogram2d\"}], \"histogram2dcontour\": [{\"colorbar\": {\"outlinewidth\": 0, \"ticks\": \"\"}, \"colorscale\": [[0.0, \"#0d0887\"], [0.1111111111111111, \"#46039f\"], [0.2222222222222222, \"#7201a8\"], [0.3333333333333333, \"#9c179e\"], [0.4444444444444444, \"#bd3786\"], [0.5555555555555556, \"#d8576b\"], [0.6666666666666666, \"#ed7953\"], [0.7777777777777778, \"#fb9f3a\"], [0.8888888888888888, \"#fdca26\"], [1.0, \"#f0f921\"]], \"type\": \"histogram2dcontour\"}], \"mesh3d\": [{\"colorbar\": {\"outlinewidth\": 0, \"ticks\": \"\"}, \"type\": \"mesh3d\"}], \"parcoords\": [{\"line\": {\"colorbar\": {\"outlinewidth\": 0, \"ticks\": \"\"}}, \"type\": \"parcoords\"}], \"pie\": [{\"automargin\": true, \"type\": \"pie\"}], \"scatter\": [{\"marker\": {\"colorbar\": {\"outlinewidth\": 0, \"ticks\": \"\"}}, \"type\": \"scatter\"}], \"scatter3d\": [{\"line\": {\"colorbar\": {\"outlinewidth\": 0, \"ticks\": \"\"}}, \"marker\": {\"colorbar\": {\"outlinewidth\": 0, \"ticks\": \"\"}}, \"type\": \"scatter3d\"}], \"scattercarpet\": [{\"marker\": {\"colorbar\": {\"outlinewidth\": 0, \"ticks\": \"\"}}, \"type\": \"scattercarpet\"}], \"scattergeo\": [{\"marker\": {\"colorbar\": {\"outlinewidth\": 0, \"ticks\": \"\"}}, \"type\": \"scattergeo\"}], \"scattergl\": [{\"marker\": {\"colorbar\": {\"outlinewidth\": 0, \"ticks\": \"\"}}, \"type\": \"scattergl\"}], \"scattermapbox\": [{\"marker\": {\"colorbar\": {\"outlinewidth\": 0, \"ticks\": \"\"}}, \"type\": \"scattermapbox\"}], \"scatterpolar\": [{\"marker\": {\"colorbar\": {\"outlinewidth\": 0, \"ticks\": \"\"}}, \"type\": \"scatterpolar\"}], \"scatterpolargl\": [{\"marker\": {\"colorbar\": {\"outlinewidth\": 0, \"ticks\": \"\"}}, \"type\": \"scatterpolargl\"}], \"scatterternary\": [{\"marker\": {\"colorbar\": {\"outlinewidth\": 0, \"ticks\": \"\"}}, \"type\": \"scatterternary\"}], \"surface\": [{\"colorbar\": {\"outlinewidth\": 0, \"ticks\": \"\"}, \"colorscale\": [[0.0, \"#0d0887\"], [0.1111111111111111, \"#46039f\"], [0.2222222222222222, \"#7201a8\"], [0.3333333333333333, \"#9c179e\"], [0.4444444444444444, \"#bd3786\"], [0.5555555555555556, \"#d8576b\"], [0.6666666666666666, \"#ed7953\"], [0.7777777777777778, \"#fb9f3a\"], [0.8888888888888888, \"#fdca26\"], [1.0, \"#f0f921\"]], \"type\": \"surface\"}], \"table\": [{\"cells\": {\"fill\": {\"color\": \"#EBF0F8\"}, \"line\": {\"color\": \"white\"}}, \"header\": {\"fill\": {\"color\": \"#C8D4E3\"}, \"line\": {\"color\": \"white\"}}, \"type\": \"table\"}]}, \"layout\": {\"annotationdefaults\": {\"arrowcolor\": \"#2a3f5f\", \"arrowhead\": 0, \"arrowwidth\": 1}, \"autotypenumbers\": \"strict\", \"coloraxis\": {\"colorbar\": {\"outlinewidth\": 0, \"ticks\": \"\"}}, \"colorscale\": {\"diverging\": [[0, \"#8e0152\"], [0.1, \"#c51b7d\"], [0.2, \"#de77ae\"], [0.3, \"#f1b6da\"], [0.4, \"#fde0ef\"], [0.5, \"#f7f7f7\"], [0.6, \"#e6f5d0\"], [0.7, \"#b8e186\"], [0.8, \"#7fbc41\"], [0.9, \"#4d9221\"], [1, \"#276419\"]], \"sequential\": [[0.0, \"#0d0887\"], [0.1111111111111111, \"#46039f\"], [0.2222222222222222, \"#7201a8\"], [0.3333333333333333, \"#9c179e\"], [0.4444444444444444, \"#bd3786\"], [0.5555555555555556, \"#d8576b\"], [0.6666666666666666, \"#ed7953\"], [0.7777777777777778, \"#fb9f3a\"], [0.8888888888888888, \"#fdca26\"], [1.0, \"#f0f921\"]], \"sequentialminus\": [[0.0, \"#0d0887\"], [0.1111111111111111, \"#46039f\"], [0.2222222222222222, \"#7201a8\"], [0.3333333333333333, \"#9c179e\"], [0.4444444444444444, \"#bd3786\"], [0.5555555555555556, \"#d8576b\"], [0.6666666666666666, \"#ed7953\"], [0.7777777777777778, \"#fb9f3a\"], [0.8888888888888888, \"#fdca26\"], [1.0, \"#f0f921\"]]}, \"colorway\": [\"#636efa\", \"#EF553B\", \"#00cc96\", \"#ab63fa\", \"#FFA15A\", \"#19d3f3\", \"#FF6692\", \"#B6E880\", \"#FF97FF\", \"#FECB52\"], \"font\": {\"color\": \"#2a3f5f\"}, \"geo\": {\"bgcolor\": \"white\", \"lakecolor\": \"white\", \"landcolor\": \"#E5ECF6\", \"showlakes\": true, \"showland\": true, \"subunitcolor\": \"white\"}, \"hoverlabel\": {\"align\": \"left\"}, \"hovermode\": \"closest\", \"mapbox\": {\"style\": \"light\"}, \"paper_bgcolor\": \"white\", \"plot_bgcolor\": \"#E5ECF6\", \"polar\": {\"angularaxis\": {\"gridcolor\": \"white\", \"linecolor\": \"white\", \"ticks\": \"\"}, \"bgcolor\": \"#E5ECF6\", \"radialaxis\": {\"gridcolor\": \"white\", \"linecolor\": \"white\", \"ticks\": \"\"}}, \"scene\": {\"xaxis\": {\"backgroundcolor\": \"#E5ECF6\", \"gridcolor\": \"white\", \"gridwidth\": 2, \"linecolor\": \"white\", \"showbackground\": true, \"ticks\": \"\", \"zerolinecolor\": \"white\"}, \"yaxis\": {\"backgroundcolor\": \"#E5ECF6\", \"gridcolor\": \"white\", \"gridwidth\": 2, \"linecolor\": \"white\", \"showbackground\": true, \"ticks\": \"\", \"zerolinecolor\": \"white\"}, \"zaxis\": {\"backgroundcolor\": \"#E5ECF6\", \"gridcolor\": \"white\", \"gridwidth\": 2, \"linecolor\": \"white\", \"showbackground\": true, \"ticks\": \"\", \"zerolinecolor\": \"white\"}}, \"shapedefaults\": {\"line\": {\"color\": \"#2a3f5f\"}}, \"ternary\": {\"aaxis\": {\"gridcolor\": \"white\", \"linecolor\": \"white\", \"ticks\": \"\"}, \"baxis\": {\"gridcolor\": \"white\", \"linecolor\": \"white\", \"ticks\": \"\"}, \"bgcolor\": \"#E5ECF6\", \"caxis\": {\"gridcolor\": \"white\", \"linecolor\": \"white\", \"ticks\": \"\"}}, \"title\": {\"x\": 0.05}, \"xaxis\": {\"automargin\": true, \"gridcolor\": \"white\", \"linecolor\": \"white\", \"ticks\": \"\", \"title\": {\"standoff\": 15}, \"zerolinecolor\": \"white\", \"zerolinewidth\": 2}, \"yaxis\": {\"automargin\": true, \"gridcolor\": \"white\", \"linecolor\": \"white\", \"ticks\": \"\", \"title\": {\"standoff\": 15}, \"zerolinecolor\": \"white\", \"zerolinewidth\": 2}}}, \"title\": {\"text\": \"Top 20 Countries With Happiness Rank\"}, \"xaxis\": {\"anchor\": \"y\", \"domain\": [0.0, 1.0], \"title\": {\"text\": \"Country name\"}}, \"yaxis\": {\"anchor\": \"x\", \"domain\": [0.0, 1.0], \"title\": {\"text\": \"value\"}}},                        {\"responsive\": true}                    ).then(function(){\n",
       "                            \n",
       "var gd = document.getElementById('cf8e13d1-d82c-442a-8407-06fe55776ad0');\n",
       "var x = new MutationObserver(function (mutations, observer) {{\n",
       "        var display = window.getComputedStyle(gd).display;\n",
       "        if (!display || display === 'none') {{\n",
       "            console.log([gd, 'removed!']);\n",
       "            Plotly.purge(gd);\n",
       "            observer.disconnect();\n",
       "        }}\n",
       "}});\n",
       "\n",
       "// Listen for the removal of the full notebook cells\n",
       "var notebookContainer = gd.closest('#notebook-container');\n",
       "if (notebookContainer) {{\n",
       "    x.observe(notebookContainer, {childList: true});\n",
       "}}\n",
       "\n",
       "// Listen for the clearing of the current output cell\n",
       "var outputEl = gd.closest('.output');\n",
       "if (outputEl) {{\n",
       "    x.observe(outputEl, {childList: true});\n",
       "}}\n",
       "\n",
       "                        })                };                });            </script>        </div>"
      ]
     },
     "metadata": {},
     "output_type": "display_data"
    }
   ],
   "source": [
    "Top20_HapinessLevel = world_data.groupby('Country name')['Ladder score'].sum().sort_values(ascending = False)[0:20]\n",
    "Top20_HapinessLevel\n",
    "fig = px.bar(Top20_HapinessLevel , title=\"Top 20 Countries With Happiness Rank\")\n",
    "fig"
   ]
  },
  {
   "cell_type": "markdown",
   "metadata": {},
   "source": [
    "<b>Finland</b>tops the ranking with the highest score followed by <b>Denmark and Switzerland in silver and bronze</b>. In fact the <b>5 culturally Scandinavian countries</b> are in the <b>top 7</b>.<br>\n",
    "As for the <b>Regional Indicator</b> , majority are from <b>Western Europe.</b>"
   ]
  },
  {
   "cell_type": "code",
   "execution_count": 80,
   "metadata": {},
   "outputs": [
    {
     "data": {
      "text/plain": [
       "Country name    Regional indicator          \n",
       "Finland         Western Europe                  7.842\n",
       "Denmark         Western Europe                  7.620\n",
       "Switzerland     Western Europe                  7.571\n",
       "Iceland         Western Europe                  7.554\n",
       "Netherlands     Western Europe                  7.464\n",
       "Norway          Western Europe                  7.392\n",
       "Sweden          Western Europe                  7.363\n",
       "Luxembourg      Western Europe                  7.324\n",
       "New Zealand     North America and ANZ           7.277\n",
       "Austria         Western Europe                  7.268\n",
       "Australia       North America and ANZ           7.183\n",
       "Israel          Middle East and North Africa    7.157\n",
       "Germany         Western Europe                  7.155\n",
       "Canada          North America and ANZ           7.103\n",
       "Ireland         Western Europe                  7.085\n",
       "Costa Rica      Latin America and Caribbean     7.069\n",
       "United Kingdom  Western Europe                  7.064\n",
       "Czech Republic  Central and Eastern Europe      6.965\n",
       "United States   North America and ANZ           6.951\n",
       "Belgium         Western Europe                  6.834\n",
       "Name: Ladder score, dtype: float64"
      ]
     },
     "execution_count": 80,
     "metadata": {},
     "output_type": "execute_result"
    }
   ],
   "source": [
    "Regional_top20 = world_data.groupby(['Country name' , 'Regional indicator'])['Ladder score'].sum().sort_values(ascending = False)[0:20]\n",
    "Regional_top20"
   ]
  },
  {
   "cell_type": "markdown",
   "metadata": {},
   "source": [
    "<h5>Effect of GDP On Happiness Level</h5>"
   ]
  },
  {
   "cell_type": "code",
   "execution_count": 90,
   "metadata": {},
   "outputs": [
    {
     "data": {
      "application/vnd.plotly.v1+json": {
       "config": {
        "plotlyServerURL": "https://plot.ly"
       },
       "data": [
        {
         "customdata": [
          [
           "Finland"
          ]
         ],
         "hovertemplate": "Country name=%{customdata[0]}<br>Logged GDP per capita=%{x}<br>Ladder score=%{y}<extra></extra>",
         "legendgroup": "Finland",
         "marker": {
          "color": "#636efa",
          "symbol": "circle"
         },
         "mode": "markers",
         "name": "Finland",
         "orientation": "v",
         "showlegend": true,
         "type": "scatter",
         "x": [
          10.775
         ],
         "xaxis": "x",
         "y": [
          7.8420000000000005
         ],
         "yaxis": "y"
        },
        {
         "customdata": [
          [
           "Denmark"
          ]
         ],
         "hovertemplate": "Country name=%{customdata[0]}<br>Logged GDP per capita=%{x}<br>Ladder score=%{y}<extra></extra>",
         "legendgroup": "Denmark",
         "marker": {
          "color": "#EF553B",
          "symbol": "circle"
         },
         "mode": "markers",
         "name": "Denmark",
         "orientation": "v",
         "showlegend": true,
         "type": "scatter",
         "x": [
          10.933
         ],
         "xaxis": "x",
         "y": [
          7.62
         ],
         "yaxis": "y"
        },
        {
         "customdata": [
          [
           "Switzerland"
          ]
         ],
         "hovertemplate": "Country name=%{customdata[0]}<br>Logged GDP per capita=%{x}<br>Ladder score=%{y}<extra></extra>",
         "legendgroup": "Switzerland",
         "marker": {
          "color": "#00cc96",
          "symbol": "circle"
         },
         "mode": "markers",
         "name": "Switzerland",
         "orientation": "v",
         "showlegend": true,
         "type": "scatter",
         "x": [
          11.117
         ],
         "xaxis": "x",
         "y": [
          7.571000000000001
         ],
         "yaxis": "y"
        },
        {
         "customdata": [
          [
           "Iceland"
          ]
         ],
         "hovertemplate": "Country name=%{customdata[0]}<br>Logged GDP per capita=%{x}<br>Ladder score=%{y}<extra></extra>",
         "legendgroup": "Iceland",
         "marker": {
          "color": "#ab63fa",
          "symbol": "circle"
         },
         "mode": "markers",
         "name": "Iceland",
         "orientation": "v",
         "showlegend": true,
         "type": "scatter",
         "x": [
          10.878
         ],
         "xaxis": "x",
         "y": [
          7.553999999999999
         ],
         "yaxis": "y"
        },
        {
         "customdata": [
          [
           "Netherlands"
          ]
         ],
         "hovertemplate": "Country name=%{customdata[0]}<br>Logged GDP per capita=%{x}<br>Ladder score=%{y}<extra></extra>",
         "legendgroup": "Netherlands",
         "marker": {
          "color": "#FFA15A",
          "symbol": "circle"
         },
         "mode": "markers",
         "name": "Netherlands",
         "orientation": "v",
         "showlegend": true,
         "type": "scatter",
         "x": [
          10.932
         ],
         "xaxis": "x",
         "y": [
          7.4639999999999995
         ],
         "yaxis": "y"
        },
        {
         "customdata": [
          [
           "Norway"
          ]
         ],
         "hovertemplate": "Country name=%{customdata[0]}<br>Logged GDP per capita=%{x}<br>Ladder score=%{y}<extra></extra>",
         "legendgroup": "Norway",
         "marker": {
          "color": "#19d3f3",
          "symbol": "circle"
         },
         "mode": "markers",
         "name": "Norway",
         "orientation": "v",
         "showlegend": true,
         "type": "scatter",
         "x": [
          11.052999999999999
         ],
         "xaxis": "x",
         "y": [
          7.392
         ],
         "yaxis": "y"
        },
        {
         "customdata": [
          [
           "Sweden"
          ]
         ],
         "hovertemplate": "Country name=%{customdata[0]}<br>Logged GDP per capita=%{x}<br>Ladder score=%{y}<extra></extra>",
         "legendgroup": "Sweden",
         "marker": {
          "color": "#FF6692",
          "symbol": "circle"
         },
         "mode": "markers",
         "name": "Sweden",
         "orientation": "v",
         "showlegend": true,
         "type": "scatter",
         "x": [
          10.867
         ],
         "xaxis": "x",
         "y": [
          7.3629999999999995
         ],
         "yaxis": "y"
        },
        {
         "customdata": [
          [
           "Luxembourg"
          ]
         ],
         "hovertemplate": "Country name=%{customdata[0]}<br>Logged GDP per capita=%{x}<br>Ladder score=%{y}<extra></extra>",
         "legendgroup": "Luxembourg",
         "marker": {
          "color": "#B6E880",
          "symbol": "circle"
         },
         "mode": "markers",
         "name": "Luxembourg",
         "orientation": "v",
         "showlegend": true,
         "type": "scatter",
         "x": [
          11.647
         ],
         "xaxis": "x",
         "y": [
          7.324
         ],
         "yaxis": "y"
        },
        {
         "customdata": [
          [
           "New Zealand"
          ]
         ],
         "hovertemplate": "Country name=%{customdata[0]}<br>Logged GDP per capita=%{x}<br>Ladder score=%{y}<extra></extra>",
         "legendgroup": "New Zealand",
         "marker": {
          "color": "#FF97FF",
          "symbol": "circle"
         },
         "mode": "markers",
         "name": "New Zealand",
         "orientation": "v",
         "showlegend": true,
         "type": "scatter",
         "x": [
          10.642999999999999
         ],
         "xaxis": "x",
         "y": [
          7.277
         ],
         "yaxis": "y"
        },
        {
         "customdata": [
          [
           "Austria"
          ]
         ],
         "hovertemplate": "Country name=%{customdata[0]}<br>Logged GDP per capita=%{x}<br>Ladder score=%{y}<extra></extra>",
         "legendgroup": "Austria",
         "marker": {
          "color": "#FECB52",
          "symbol": "circle"
         },
         "mode": "markers",
         "name": "Austria",
         "orientation": "v",
         "showlegend": true,
         "type": "scatter",
         "x": [
          10.905999999999999
         ],
         "xaxis": "x",
         "y": [
          7.268
         ],
         "yaxis": "y"
        },
        {
         "customdata": [
          [
           "Australia"
          ]
         ],
         "hovertemplate": "Country name=%{customdata[0]}<br>Logged GDP per capita=%{x}<br>Ladder score=%{y}<extra></extra>",
         "legendgroup": "Australia",
         "marker": {
          "color": "#636efa",
          "symbol": "circle"
         },
         "mode": "markers",
         "name": "Australia",
         "orientation": "v",
         "showlegend": true,
         "type": "scatter",
         "x": [
          10.796
         ],
         "xaxis": "x",
         "y": [
          7.183
         ],
         "yaxis": "y"
        },
        {
         "customdata": [
          [
           "Israel"
          ]
         ],
         "hovertemplate": "Country name=%{customdata[0]}<br>Logged GDP per capita=%{x}<br>Ladder score=%{y}<extra></extra>",
         "legendgroup": "Israel",
         "marker": {
          "color": "#EF553B",
          "symbol": "circle"
         },
         "mode": "markers",
         "name": "Israel",
         "orientation": "v",
         "showlegend": true,
         "type": "scatter",
         "x": [
          10.575
         ],
         "xaxis": "x",
         "y": [
          7.157
         ],
         "yaxis": "y"
        },
        {
         "customdata": [
          [
           "Germany"
          ]
         ],
         "hovertemplate": "Country name=%{customdata[0]}<br>Logged GDP per capita=%{x}<br>Ladder score=%{y}<extra></extra>",
         "legendgroup": "Germany",
         "marker": {
          "color": "#00cc96",
          "symbol": "circle"
         },
         "mode": "markers",
         "name": "Germany",
         "orientation": "v",
         "showlegend": true,
         "type": "scatter",
         "x": [
          10.873
         ],
         "xaxis": "x",
         "y": [
          7.155
         ],
         "yaxis": "y"
        },
        {
         "customdata": [
          [
           "Canada"
          ]
         ],
         "hovertemplate": "Country name=%{customdata[0]}<br>Logged GDP per capita=%{x}<br>Ladder score=%{y}<extra></extra>",
         "legendgroup": "Canada",
         "marker": {
          "color": "#ab63fa",
          "symbol": "circle"
         },
         "mode": "markers",
         "name": "Canada",
         "orientation": "v",
         "showlegend": true,
         "type": "scatter",
         "x": [
          10.776
         ],
         "xaxis": "x",
         "y": [
          7.103
         ],
         "yaxis": "y"
        },
        {
         "customdata": [
          [
           "Ireland"
          ]
         ],
         "hovertemplate": "Country name=%{customdata[0]}<br>Logged GDP per capita=%{x}<br>Ladder score=%{y}<extra></extra>",
         "legendgroup": "Ireland",
         "marker": {
          "color": "#FFA15A",
          "symbol": "circle"
         },
         "mode": "markers",
         "name": "Ireland",
         "orientation": "v",
         "showlegend": true,
         "type": "scatter",
         "x": [
          11.342
         ],
         "xaxis": "x",
         "y": [
          7.085
         ],
         "yaxis": "y"
        },
        {
         "customdata": [
          [
           "Costa Rica"
          ]
         ],
         "hovertemplate": "Country name=%{customdata[0]}<br>Logged GDP per capita=%{x}<br>Ladder score=%{y}<extra></extra>",
         "legendgroup": "Costa Rica",
         "marker": {
          "color": "#19d3f3",
          "symbol": "circle"
         },
         "mode": "markers",
         "name": "Costa Rica",
         "orientation": "v",
         "showlegend": true,
         "type": "scatter",
         "x": [
          9.88
         ],
         "xaxis": "x",
         "y": [
          7.069
         ],
         "yaxis": "y"
        },
        {
         "customdata": [
          [
           "United Kingdom"
          ]
         ],
         "hovertemplate": "Country name=%{customdata[0]}<br>Logged GDP per capita=%{x}<br>Ladder score=%{y}<extra></extra>",
         "legendgroup": "United Kingdom",
         "marker": {
          "color": "#FF6692",
          "symbol": "circle"
         },
         "mode": "markers",
         "name": "United Kingdom",
         "orientation": "v",
         "showlegend": true,
         "type": "scatter",
         "x": [
          10.707
         ],
         "xaxis": "x",
         "y": [
          7.064
         ],
         "yaxis": "y"
        },
        {
         "customdata": [
          [
           "Czech Republic"
          ]
         ],
         "hovertemplate": "Country name=%{customdata[0]}<br>Logged GDP per capita=%{x}<br>Ladder score=%{y}<extra></extra>",
         "legendgroup": "Czech Republic",
         "marker": {
          "color": "#B6E880",
          "symbol": "circle"
         },
         "mode": "markers",
         "name": "Czech Republic",
         "orientation": "v",
         "showlegend": true,
         "type": "scatter",
         "x": [
          10.556
         ],
         "xaxis": "x",
         "y": [
          6.965
         ],
         "yaxis": "y"
        },
        {
         "customdata": [
          [
           "United States"
          ]
         ],
         "hovertemplate": "Country name=%{customdata[0]}<br>Logged GDP per capita=%{x}<br>Ladder score=%{y}<extra></extra>",
         "legendgroup": "United States",
         "marker": {
          "color": "#FF97FF",
          "symbol": "circle"
         },
         "mode": "markers",
         "name": "United States",
         "orientation": "v",
         "showlegend": true,
         "type": "scatter",
         "x": [
          11.023
         ],
         "xaxis": "x",
         "y": [
          6.9510000000000005
         ],
         "yaxis": "y"
        },
        {
         "customdata": [
          [
           "Belgium"
          ]
         ],
         "hovertemplate": "Country name=%{customdata[0]}<br>Logged GDP per capita=%{x}<br>Ladder score=%{y}<extra></extra>",
         "legendgroup": "Belgium",
         "marker": {
          "color": "#FECB52",
          "symbol": "circle"
         },
         "mode": "markers",
         "name": "Belgium",
         "orientation": "v",
         "showlegend": true,
         "type": "scatter",
         "x": [
          10.823
         ],
         "xaxis": "x",
         "y": [
          6.834
         ],
         "yaxis": "y"
        },
        {
         "customdata": [
          [
           "France"
          ]
         ],
         "hovertemplate": "Country name=%{customdata[0]}<br>Logged GDP per capita=%{x}<br>Ladder score=%{y}<extra></extra>",
         "legendgroup": "France",
         "marker": {
          "color": "#636efa",
          "symbol": "circle"
         },
         "mode": "markers",
         "name": "France",
         "orientation": "v",
         "showlegend": true,
         "type": "scatter",
         "x": [
          10.704
         ],
         "xaxis": "x",
         "y": [
          6.69
         ],
         "yaxis": "y"
        },
        {
         "customdata": [
          [
           "Bahrain"
          ]
         ],
         "hovertemplate": "Country name=%{customdata[0]}<br>Logged GDP per capita=%{x}<br>Ladder score=%{y}<extra></extra>",
         "legendgroup": "Bahrain",
         "marker": {
          "color": "#EF553B",
          "symbol": "circle"
         },
         "mode": "markers",
         "name": "Bahrain",
         "orientation": "v",
         "showlegend": true,
         "type": "scatter",
         "x": [
          10.669
         ],
         "xaxis": "x",
         "y": [
          6.647
         ],
         "yaxis": "y"
        },
        {
         "customdata": [
          [
           "Malta"
          ]
         ],
         "hovertemplate": "Country name=%{customdata[0]}<br>Logged GDP per capita=%{x}<br>Ladder score=%{y}<extra></extra>",
         "legendgroup": "Malta",
         "marker": {
          "color": "#00cc96",
          "symbol": "circle"
         },
         "mode": "markers",
         "name": "Malta",
         "orientation": "v",
         "showlegend": true,
         "type": "scatter",
         "x": [
          10.674000000000001
         ],
         "xaxis": "x",
         "y": [
          6.602
         ],
         "yaxis": "y"
        },
        {
         "customdata": [
          [
           "Taiwan Province of China"
          ]
         ],
         "hovertemplate": "Country name=%{customdata[0]}<br>Logged GDP per capita=%{x}<br>Ladder score=%{y}<extra></extra>",
         "legendgroup": "Taiwan Province of China",
         "marker": {
          "color": "#ab63fa",
          "symbol": "circle"
         },
         "mode": "markers",
         "name": "Taiwan Province of China",
         "orientation": "v",
         "showlegend": true,
         "type": "scatter",
         "x": [
          10.870999999999999
         ],
         "xaxis": "x",
         "y": [
          6.584
         ],
         "yaxis": "y"
        },
        {
         "customdata": [
          [
           "United Arab Emirates"
          ]
         ],
         "hovertemplate": "Country name=%{customdata[0]}<br>Logged GDP per capita=%{x}<br>Ladder score=%{y}<extra></extra>",
         "legendgroup": "United Arab Emirates",
         "marker": {
          "color": "#FFA15A",
          "symbol": "circle"
         },
         "mode": "markers",
         "name": "United Arab Emirates",
         "orientation": "v",
         "showlegend": true,
         "type": "scatter",
         "x": [
          11.085
         ],
         "xaxis": "x",
         "y": [
          6.561
         ],
         "yaxis": "y"
        },
        {
         "customdata": [
          [
           "Saudi Arabia"
          ]
         ],
         "hovertemplate": "Country name=%{customdata[0]}<br>Logged GDP per capita=%{x}<br>Ladder score=%{y}<extra></extra>",
         "legendgroup": "Saudi Arabia",
         "marker": {
          "color": "#19d3f3",
          "symbol": "circle"
         },
         "mode": "markers",
         "name": "Saudi Arabia",
         "orientation": "v",
         "showlegend": true,
         "type": "scatter",
         "x": [
          10.743
         ],
         "xaxis": "x",
         "y": [
          6.494
         ],
         "yaxis": "y"
        },
        {
         "customdata": [
          [
           "Spain"
          ]
         ],
         "hovertemplate": "Country name=%{customdata[0]}<br>Logged GDP per capita=%{x}<br>Ladder score=%{y}<extra></extra>",
         "legendgroup": "Spain",
         "marker": {
          "color": "#FF6692",
          "symbol": "circle"
         },
         "mode": "markers",
         "name": "Spain",
         "orientation": "v",
         "showlegend": true,
         "type": "scatter",
         "x": [
          10.571
         ],
         "xaxis": "x",
         "y": [
          6.4910000000000005
         ],
         "yaxis": "y"
        },
        {
         "customdata": [
          [
           "Italy"
          ]
         ],
         "hovertemplate": "Country name=%{customdata[0]}<br>Logged GDP per capita=%{x}<br>Ladder score=%{y}<extra></extra>",
         "legendgroup": "Italy",
         "marker": {
          "color": "#B6E880",
          "symbol": "circle"
         },
         "mode": "markers",
         "name": "Italy",
         "orientation": "v",
         "showlegend": true,
         "type": "scatter",
         "x": [
          10.623
         ],
         "xaxis": "x",
         "y": [
          6.483
         ],
         "yaxis": "y"
        },
        {
         "customdata": [
          [
           "Slovenia"
          ]
         ],
         "hovertemplate": "Country name=%{customdata[0]}<br>Logged GDP per capita=%{x}<br>Ladder score=%{y}<extra></extra>",
         "legendgroup": "Slovenia",
         "marker": {
          "color": "#FF97FF",
          "symbol": "circle"
         },
         "mode": "markers",
         "name": "Slovenia",
         "orientation": "v",
         "showlegend": true,
         "type": "scatter",
         "x": [
          10.529000000000002
         ],
         "xaxis": "x",
         "y": [
          6.461
         ],
         "yaxis": "y"
        },
        {
         "customdata": [
          [
           "Guatemala"
          ]
         ],
         "hovertemplate": "Country name=%{customdata[0]}<br>Logged GDP per capita=%{x}<br>Ladder score=%{y}<extra></extra>",
         "legendgroup": "Guatemala",
         "marker": {
          "color": "#FECB52",
          "symbol": "circle"
         },
         "mode": "markers",
         "name": "Guatemala",
         "orientation": "v",
         "showlegend": true,
         "type": "scatter",
         "x": [
          9.052999999999999
         ],
         "xaxis": "x",
         "y": [
          6.435
         ],
         "yaxis": "y"
        },
        {
         "customdata": [
          [
           "Uruguay"
          ]
         ],
         "hovertemplate": "Country name=%{customdata[0]}<br>Logged GDP per capita=%{x}<br>Ladder score=%{y}<extra></extra>",
         "legendgroup": "Uruguay",
         "marker": {
          "color": "#636efa",
          "symbol": "circle"
         },
         "mode": "markers",
         "name": "Uruguay",
         "orientation": "v",
         "showlegend": true,
         "type": "scatter",
         "x": [
          9.966000000000001
         ],
         "xaxis": "x",
         "y": [
          6.431
         ],
         "yaxis": "y"
        },
        {
         "customdata": [
          [
           "Singapore"
          ]
         ],
         "hovertemplate": "Country name=%{customdata[0]}<br>Logged GDP per capita=%{x}<br>Ladder score=%{y}<extra></extra>",
         "legendgroup": "Singapore",
         "marker": {
          "color": "#EF553B",
          "symbol": "circle"
         },
         "mode": "markers",
         "name": "Singapore",
         "orientation": "v",
         "showlegend": true,
         "type": "scatter",
         "x": [
          11.488
         ],
         "xaxis": "x",
         "y": [
          6.377000000000001
         ],
         "yaxis": "y"
        },
        {
         "customdata": [
          [
           "Kosovo"
          ]
         ],
         "hovertemplate": "Country name=%{customdata[0]}<br>Logged GDP per capita=%{x}<br>Ladder score=%{y}<extra></extra>",
         "legendgroup": "Kosovo",
         "marker": {
          "color": "#00cc96",
          "symbol": "circle"
         },
         "mode": "markers",
         "name": "Kosovo",
         "orientation": "v",
         "showlegend": true,
         "type": "scatter",
         "x": [
          9.318
         ],
         "xaxis": "x",
         "y": [
          6.372000000000001
         ],
         "yaxis": "y"
        },
        {
         "customdata": [
          [
           "Slovakia"
          ]
         ],
         "hovertemplate": "Country name=%{customdata[0]}<br>Logged GDP per capita=%{x}<br>Ladder score=%{y}<extra></extra>",
         "legendgroup": "Slovakia",
         "marker": {
          "color": "#ab63fa",
          "symbol": "circle"
         },
         "mode": "markers",
         "name": "Slovakia",
         "orientation": "v",
         "showlegend": true,
         "type": "scatter",
         "x": [
          10.369000000000002
         ],
         "xaxis": "x",
         "y": [
          6.331
         ],
         "yaxis": "y"
        },
        {
         "customdata": [
          [
           "Brazil"
          ]
         ],
         "hovertemplate": "Country name=%{customdata[0]}<br>Logged GDP per capita=%{x}<br>Ladder score=%{y}<extra></extra>",
         "legendgroup": "Brazil",
         "marker": {
          "color": "#FFA15A",
          "symbol": "circle"
         },
         "mode": "markers",
         "name": "Brazil",
         "orientation": "v",
         "showlegend": true,
         "type": "scatter",
         "x": [
          9.577
         ],
         "xaxis": "x",
         "y": [
          6.33
         ],
         "yaxis": "y"
        },
        {
         "customdata": [
          [
           "Mexico"
          ]
         ],
         "hovertemplate": "Country name=%{customdata[0]}<br>Logged GDP per capita=%{x}<br>Ladder score=%{y}<extra></extra>",
         "legendgroup": "Mexico",
         "marker": {
          "color": "#19d3f3",
          "symbol": "circle"
         },
         "mode": "markers",
         "name": "Mexico",
         "orientation": "v",
         "showlegend": true,
         "type": "scatter",
         "x": [
          9.859
         ],
         "xaxis": "x",
         "y": [
          6.317
         ],
         "yaxis": "y"
        },
        {
         "customdata": [
          [
           "Jamaica"
          ]
         ],
         "hovertemplate": "Country name=%{customdata[0]}<br>Logged GDP per capita=%{x}<br>Ladder score=%{y}<extra></extra>",
         "legendgroup": "Jamaica",
         "marker": {
          "color": "#FF6692",
          "symbol": "circle"
         },
         "mode": "markers",
         "name": "Jamaica",
         "orientation": "v",
         "showlegend": true,
         "type": "scatter",
         "x": [
          9.186
         ],
         "xaxis": "x",
         "y": [
          6.309
         ],
         "yaxis": "y"
        },
        {
         "customdata": [
          [
           "Lithuania"
          ]
         ],
         "hovertemplate": "Country name=%{customdata[0]}<br>Logged GDP per capita=%{x}<br>Ladder score=%{y}<extra></extra>",
         "legendgroup": "Lithuania",
         "marker": {
          "color": "#B6E880",
          "symbol": "circle"
         },
         "mode": "markers",
         "name": "Lithuania",
         "orientation": "v",
         "showlegend": true,
         "type": "scatter",
         "x": [
          10.499
         ],
         "xaxis": "x",
         "y": [
          6.255
         ],
         "yaxis": "y"
        },
        {
         "customdata": [
          [
           "Cyprus"
          ]
         ],
         "hovertemplate": "Country name=%{customdata[0]}<br>Logged GDP per capita=%{x}<br>Ladder score=%{y}<extra></extra>",
         "legendgroup": "Cyprus",
         "marker": {
          "color": "#FF97FF",
          "symbol": "circle"
         },
         "mode": "markers",
         "name": "Cyprus",
         "orientation": "v",
         "showlegend": true,
         "type": "scatter",
         "x": [
          10.575999999999999
         ],
         "xaxis": "x",
         "y": [
          6.223
         ],
         "yaxis": "y"
        },
        {
         "customdata": [
          [
           "Estonia"
          ]
         ],
         "hovertemplate": "Country name=%{customdata[0]}<br>Logged GDP per capita=%{x}<br>Ladder score=%{y}<extra></extra>",
         "legendgroup": "Estonia",
         "marker": {
          "color": "#FECB52",
          "symbol": "circle"
         },
         "mode": "markers",
         "name": "Estonia",
         "orientation": "v",
         "showlegend": true,
         "type": "scatter",
         "x": [
          10.481
         ],
         "xaxis": "x",
         "y": [
          6.189
         ],
         "yaxis": "y"
        },
        {
         "customdata": [
          [
           "Panama"
          ]
         ],
         "hovertemplate": "Country name=%{customdata[0]}<br>Logged GDP per capita=%{x}<br>Ladder score=%{y}<extra></extra>",
         "legendgroup": "Panama",
         "marker": {
          "color": "#636efa",
          "symbol": "circle"
         },
         "mode": "markers",
         "name": "Panama",
         "orientation": "v",
         "showlegend": true,
         "type": "scatter",
         "x": [
          10.35
         ],
         "xaxis": "x",
         "y": [
          6.18
         ],
         "yaxis": "y"
        },
        {
         "customdata": [
          [
           "Uzbekistan"
          ]
         ],
         "hovertemplate": "Country name=%{customdata[0]}<br>Logged GDP per capita=%{x}<br>Ladder score=%{y}<extra></extra>",
         "legendgroup": "Uzbekistan",
         "marker": {
          "color": "#EF553B",
          "symbol": "circle"
         },
         "mode": "markers",
         "name": "Uzbekistan",
         "orientation": "v",
         "showlegend": true,
         "type": "scatter",
         "x": [
          8.836
         ],
         "xaxis": "x",
         "y": [
          6.178999999999999
         ],
         "yaxis": "y"
        },
        {
         "customdata": [
          [
           "Chile"
          ]
         ],
         "hovertemplate": "Country name=%{customdata[0]}<br>Logged GDP per capita=%{x}<br>Ladder score=%{y}<extra></extra>",
         "legendgroup": "Chile",
         "marker": {
          "color": "#00cc96",
          "symbol": "circle"
         },
         "mode": "markers",
         "name": "Chile",
         "orientation": "v",
         "showlegend": true,
         "type": "scatter",
         "x": [
          10.071
         ],
         "xaxis": "x",
         "y": [
          6.172000000000001
         ],
         "yaxis": "y"
        },
        {
         "customdata": [
          [
           "Poland"
          ]
         ],
         "hovertemplate": "Country name=%{customdata[0]}<br>Logged GDP per capita=%{x}<br>Ladder score=%{y}<extra></extra>",
         "legendgroup": "Poland",
         "marker": {
          "color": "#ab63fa",
          "symbol": "circle"
         },
         "mode": "markers",
         "name": "Poland",
         "orientation": "v",
         "showlegend": true,
         "type": "scatter",
         "x": [
          10.382
         ],
         "xaxis": "x",
         "y": [
          6.166
         ],
         "yaxis": "y"
        },
        {
         "customdata": [
          [
           "Kazakhstan"
          ]
         ],
         "hovertemplate": "Country name=%{customdata[0]}<br>Logged GDP per capita=%{x}<br>Ladder score=%{y}<extra></extra>",
         "legendgroup": "Kazakhstan",
         "marker": {
          "color": "#FFA15A",
          "symbol": "circle"
         },
         "mode": "markers",
         "name": "Kazakhstan",
         "orientation": "v",
         "showlegend": true,
         "type": "scatter",
         "x": [
          10.155
         ],
         "xaxis": "x",
         "y": [
          6.152
         ],
         "yaxis": "y"
        },
        {
         "customdata": [
          [
           "Romania"
          ]
         ],
         "hovertemplate": "Country name=%{customdata[0]}<br>Logged GDP per capita=%{x}<br>Ladder score=%{y}<extra></extra>",
         "legendgroup": "Romania",
         "marker": {
          "color": "#19d3f3",
          "symbol": "circle"
         },
         "mode": "markers",
         "name": "Romania",
         "orientation": "v",
         "showlegend": true,
         "type": "scatter",
         "x": [
          10.284
         ],
         "xaxis": "x",
         "y": [
          6.14
         ],
         "yaxis": "y"
        },
        {
         "customdata": [
          [
           "Kuwait"
          ]
         ],
         "hovertemplate": "Country name=%{customdata[0]}<br>Logged GDP per capita=%{x}<br>Ladder score=%{y}<extra></extra>",
         "legendgroup": "Kuwait",
         "marker": {
          "color": "#FF6692",
          "symbol": "circle"
         },
         "mode": "markers",
         "name": "Kuwait",
         "orientation": "v",
         "showlegend": true,
         "type": "scatter",
         "x": [
          10.817
         ],
         "xaxis": "x",
         "y": [
          6.106
         ],
         "yaxis": "y"
        },
        {
         "customdata": [
          [
           "Serbia"
          ]
         ],
         "hovertemplate": "Country name=%{customdata[0]}<br>Logged GDP per capita=%{x}<br>Ladder score=%{y}<extra></extra>",
         "legendgroup": "Serbia",
         "marker": {
          "color": "#B6E880",
          "symbol": "circle"
         },
         "mode": "markers",
         "name": "Serbia",
         "orientation": "v",
         "showlegend": true,
         "type": "scatter",
         "x": [
          9.787
         ],
         "xaxis": "x",
         "y": [
          6.077999999999999
         ],
         "yaxis": "y"
        },
        {
         "customdata": [
          [
           "El Salvador"
          ]
         ],
         "hovertemplate": "Country name=%{customdata[0]}<br>Logged GDP per capita=%{x}<br>Ladder score=%{y}<extra></extra>",
         "legendgroup": "El Salvador",
         "marker": {
          "color": "#FF97FF",
          "symbol": "circle"
         },
         "mode": "markers",
         "name": "El Salvador",
         "orientation": "v",
         "showlegend": true,
         "type": "scatter",
         "x": [
          9.054
         ],
         "xaxis": "x",
         "y": [
          6.061
         ],
         "yaxis": "y"
        },
        {
         "customdata": [
          [
           "Mauritius"
          ]
         ],
         "hovertemplate": "Country name=%{customdata[0]}<br>Logged GDP per capita=%{x}<br>Ladder score=%{y}<extra></extra>",
         "legendgroup": "Mauritius",
         "marker": {
          "color": "#FECB52",
          "symbol": "circle"
         },
         "mode": "markers",
         "name": "Mauritius",
         "orientation": "v",
         "showlegend": true,
         "type": "scatter",
         "x": [
          10.008
         ],
         "xaxis": "x",
         "y": [
          6.0489999999999995
         ],
         "yaxis": "y"
        },
        {
         "customdata": [
          [
           "Latvia"
          ]
         ],
         "hovertemplate": "Country name=%{customdata[0]}<br>Logged GDP per capita=%{x}<br>Ladder score=%{y}<extra></extra>",
         "legendgroup": "Latvia",
         "marker": {
          "color": "#636efa",
          "symbol": "circle"
         },
         "mode": "markers",
         "name": "Latvia",
         "orientation": "v",
         "showlegend": true,
         "type": "scatter",
         "x": [
          10.315
         ],
         "xaxis": "x",
         "y": [
          6.032
         ],
         "yaxis": "y"
        },
        {
         "customdata": [
          [
           "Colombia"
          ]
         ],
         "hovertemplate": "Country name=%{customdata[0]}<br>Logged GDP per capita=%{x}<br>Ladder score=%{y}<extra></extra>",
         "legendgroup": "Colombia",
         "marker": {
          "color": "#EF553B",
          "symbol": "circle"
         },
         "mode": "markers",
         "name": "Colombia",
         "orientation": "v",
         "showlegend": true,
         "type": "scatter",
         "x": [
          9.557
         ],
         "xaxis": "x",
         "y": [
          6.0120000000000005
         ],
         "yaxis": "y"
        },
        {
         "customdata": [
          [
           "Hungary"
          ]
         ],
         "hovertemplate": "Country name=%{customdata[0]}<br>Logged GDP per capita=%{x}<br>Ladder score=%{y}<extra></extra>",
         "legendgroup": "Hungary",
         "marker": {
          "color": "#00cc96",
          "symbol": "circle"
         },
         "mode": "markers",
         "name": "Hungary",
         "orientation": "v",
         "showlegend": true,
         "type": "scatter",
         "x": [
          10.357999999999999
         ],
         "xaxis": "x",
         "y": [
          5.992000000000001
         ],
         "yaxis": "y"
        },
        {
         "customdata": [
          [
           "Thailand"
          ]
         ],
         "hovertemplate": "Country name=%{customdata[0]}<br>Logged GDP per capita=%{x}<br>Ladder score=%{y}<extra></extra>",
         "legendgroup": "Thailand",
         "marker": {
          "color": "#ab63fa",
          "symbol": "circle"
         },
         "mode": "markers",
         "name": "Thailand",
         "orientation": "v",
         "showlegend": true,
         "type": "scatter",
         "x": [
          9.805
         ],
         "xaxis": "x",
         "y": [
          5.985
         ],
         "yaxis": "y"
        },
        {
         "customdata": [
          [
           "Nicaragua"
          ]
         ],
         "hovertemplate": "Country name=%{customdata[0]}<br>Logged GDP per capita=%{x}<br>Ladder score=%{y}<extra></extra>",
         "legendgroup": "Nicaragua",
         "marker": {
          "color": "#FFA15A",
          "symbol": "circle"
         },
         "mode": "markers",
         "name": "Nicaragua",
         "orientation": "v",
         "showlegend": true,
         "type": "scatter",
         "x": [
          8.62
         ],
         "xaxis": "x",
         "y": [
          5.972
         ],
         "yaxis": "y"
        },
        {
         "customdata": [
          [
           "Japan"
          ]
         ],
         "hovertemplate": "Country name=%{customdata[0]}<br>Logged GDP per capita=%{x}<br>Ladder score=%{y}<extra></extra>",
         "legendgroup": "Japan",
         "marker": {
          "color": "#19d3f3",
          "symbol": "circle"
         },
         "mode": "markers",
         "name": "Japan",
         "orientation": "v",
         "showlegend": true,
         "type": "scatter",
         "x": [
          10.610999999999999
         ],
         "xaxis": "x",
         "y": [
          5.94
         ],
         "yaxis": "y"
        },
        {
         "customdata": [
          [
           "Argentina"
          ]
         ],
         "hovertemplate": "Country name=%{customdata[0]}<br>Logged GDP per capita=%{x}<br>Ladder score=%{y}<extra></extra>",
         "legendgroup": "Argentina",
         "marker": {
          "color": "#FF6692",
          "symbol": "circle"
         },
         "mode": "markers",
         "name": "Argentina",
         "orientation": "v",
         "showlegend": true,
         "type": "scatter",
         "x": [
          9.962
         ],
         "xaxis": "x",
         "y": [
          5.928999999999999
         ],
         "yaxis": "y"
        },
        {
         "customdata": [
          [
           "Portugal"
          ]
         ],
         "hovertemplate": "Country name=%{customdata[0]}<br>Logged GDP per capita=%{x}<br>Ladder score=%{y}<extra></extra>",
         "legendgroup": "Portugal",
         "marker": {
          "color": "#B6E880",
          "symbol": "circle"
         },
         "mode": "markers",
         "name": "Portugal",
         "orientation": "v",
         "showlegend": true,
         "type": "scatter",
         "x": [
          10.421
         ],
         "xaxis": "x",
         "y": [
          5.928999999999999
         ],
         "yaxis": "y"
        },
        {
         "customdata": [
          [
           "Honduras"
          ]
         ],
         "hovertemplate": "Country name=%{customdata[0]}<br>Logged GDP per capita=%{x}<br>Ladder score=%{y}<extra></extra>",
         "legendgroup": "Honduras",
         "marker": {
          "color": "#FF97FF",
          "symbol": "circle"
         },
         "mode": "markers",
         "name": "Honduras",
         "orientation": "v",
         "showlegend": true,
         "type": "scatter",
         "x": [
          8.648
         ],
         "xaxis": "x",
         "y": [
          5.919
         ],
         "yaxis": "y"
        },
        {
         "customdata": [
          [
           "Croatia"
          ]
         ],
         "hovertemplate": "Country name=%{customdata[0]}<br>Logged GDP per capita=%{x}<br>Ladder score=%{y}<extra></extra>",
         "legendgroup": "Croatia",
         "marker": {
          "color": "#FECB52",
          "symbol": "circle"
         },
         "mode": "markers",
         "name": "Croatia",
         "orientation": "v",
         "showlegend": true,
         "type": "scatter",
         "x": [
          10.217
         ],
         "xaxis": "x",
         "y": [
          5.882000000000001
         ],
         "yaxis": "y"
        },
        {
         "customdata": [
          [
           "Philippines"
          ]
         ],
         "hovertemplate": "Country name=%{customdata[0]}<br>Logged GDP per capita=%{x}<br>Ladder score=%{y}<extra></extra>",
         "legendgroup": "Philippines",
         "marker": {
          "color": "#636efa",
          "symbol": "circle"
         },
         "mode": "markers",
         "name": "Philippines",
         "orientation": "v",
         "showlegend": true,
         "type": "scatter",
         "x": [
          9.076
         ],
         "xaxis": "x",
         "y": [
          5.88
         ],
         "yaxis": "y"
        },
        {
         "customdata": [
          [
           "South Korea"
          ]
         ],
         "hovertemplate": "Country name=%{customdata[0]}<br>Logged GDP per capita=%{x}<br>Ladder score=%{y}<extra></extra>",
         "legendgroup": "South Korea",
         "marker": {
          "color": "#EF553B",
          "symbol": "circle"
         },
         "mode": "markers",
         "name": "South Korea",
         "orientation": "v",
         "showlegend": true,
         "type": "scatter",
         "x": [
          10.651
         ],
         "xaxis": "x",
         "y": [
          5.845
         ],
         "yaxis": "y"
        },
        {
         "customdata": [
          [
           "Peru"
          ]
         ],
         "hovertemplate": "Country name=%{customdata[0]}<br>Logged GDP per capita=%{x}<br>Ladder score=%{y}<extra></extra>",
         "legendgroup": "Peru",
         "marker": {
          "color": "#00cc96",
          "symbol": "circle"
         },
         "mode": "markers",
         "name": "Peru",
         "orientation": "v",
         "showlegend": true,
         "type": "scatter",
         "x": [
          9.458
         ],
         "xaxis": "x",
         "y": [
          5.84
         ],
         "yaxis": "y"
        },
        {
         "customdata": [
          [
           "Bosnia and Herzegovina"
          ]
         ],
         "hovertemplate": "Country name=%{customdata[0]}<br>Logged GDP per capita=%{x}<br>Ladder score=%{y}<extra></extra>",
         "legendgroup": "Bosnia and Herzegovina",
         "marker": {
          "color": "#ab63fa",
          "symbol": "circle"
         },
         "mode": "markers",
         "name": "Bosnia and Herzegovina",
         "orientation": "v",
         "showlegend": true,
         "type": "scatter",
         "x": [
          9.59
         ],
         "xaxis": "x",
         "y": [
          5.813
         ],
         "yaxis": "y"
        },
        {
         "customdata": [
          [
           "Moldova"
          ]
         ],
         "hovertemplate": "Country name=%{customdata[0]}<br>Logged GDP per capita=%{x}<br>Ladder score=%{y}<extra></extra>",
         "legendgroup": "Moldova",
         "marker": {
          "color": "#FFA15A",
          "symbol": "circle"
         },
         "mode": "markers",
         "name": "Moldova",
         "orientation": "v",
         "showlegend": true,
         "type": "scatter",
         "x": [
          9.454
         ],
         "xaxis": "x",
         "y": [
          5.766
         ],
         "yaxis": "y"
        },
        {
         "customdata": [
          [
           "Ecuador"
          ]
         ],
         "hovertemplate": "Country name=%{customdata[0]}<br>Logged GDP per capita=%{x}<br>Ladder score=%{y}<extra></extra>",
         "legendgroup": "Ecuador",
         "marker": {
          "color": "#19d3f3",
          "symbol": "circle"
         },
         "mode": "markers",
         "name": "Ecuador",
         "orientation": "v",
         "showlegend": true,
         "type": "scatter",
         "x": [
          9.312999999999999
         ],
         "xaxis": "x",
         "y": [
          5.763999999999999
         ],
         "yaxis": "y"
        },
        {
         "customdata": [
          [
           "Kyrgyzstan"
          ]
         ],
         "hovertemplate": "Country name=%{customdata[0]}<br>Logged GDP per capita=%{x}<br>Ladder score=%{y}<extra></extra>",
         "legendgroup": "Kyrgyzstan",
         "marker": {
          "color": "#FF6692",
          "symbol": "circle"
         },
         "mode": "markers",
         "name": "Kyrgyzstan",
         "orientation": "v",
         "showlegend": true,
         "type": "scatter",
         "x": [
          8.538
         ],
         "xaxis": "x",
         "y": [
          5.744
         ],
         "yaxis": "y"
        },
        {
         "customdata": [
          [
           "Greece"
          ]
         ],
         "hovertemplate": "Country name=%{customdata[0]}<br>Logged GDP per capita=%{x}<br>Ladder score=%{y}<extra></extra>",
         "legendgroup": "Greece",
         "marker": {
          "color": "#B6E880",
          "symbol": "circle"
         },
         "mode": "markers",
         "name": "Greece",
         "orientation": "v",
         "showlegend": true,
         "type": "scatter",
         "x": [
          10.279000000000002
         ],
         "xaxis": "x",
         "y": [
          5.723
         ],
         "yaxis": "y"
        },
        {
         "customdata": [
          [
           "Bolivia"
          ]
         ],
         "hovertemplate": "Country name=%{customdata[0]}<br>Logged GDP per capita=%{x}<br>Ladder score=%{y}<extra></extra>",
         "legendgroup": "Bolivia",
         "marker": {
          "color": "#FF97FF",
          "symbol": "circle"
         },
         "mode": "markers",
         "name": "Bolivia",
         "orientation": "v",
         "showlegend": true,
         "type": "scatter",
         "x": [
          9.046
         ],
         "xaxis": "x",
         "y": [
          5.716
         ],
         "yaxis": "y"
        },
        {
         "customdata": [
          [
           "Mongolia"
          ]
         ],
         "hovertemplate": "Country name=%{customdata[0]}<br>Logged GDP per capita=%{x}<br>Ladder score=%{y}<extra></extra>",
         "legendgroup": "Mongolia",
         "marker": {
          "color": "#FECB52",
          "symbol": "circle"
         },
         "mode": "markers",
         "name": "Mongolia",
         "orientation": "v",
         "showlegend": true,
         "type": "scatter",
         "x": [
          9.4
         ],
         "xaxis": "x",
         "y": [
          5.6770000000000005
         ],
         "yaxis": "y"
        },
        {
         "customdata": [
          [
           "Paraguay"
          ]
         ],
         "hovertemplate": "Country name=%{customdata[0]}<br>Logged GDP per capita=%{x}<br>Ladder score=%{y}<extra></extra>",
         "legendgroup": "Paraguay",
         "marker": {
          "color": "#636efa",
          "symbol": "circle"
         },
         "mode": "markers",
         "name": "Paraguay",
         "orientation": "v",
         "showlegend": true,
         "type": "scatter",
         "x": [
          9.448
         ],
         "xaxis": "x",
         "y": [
          5.653
         ],
         "yaxis": "y"
        },
        {
         "customdata": [
          [
           "Montenegro"
          ]
         ],
         "hovertemplate": "Country name=%{customdata[0]}<br>Logged GDP per capita=%{x}<br>Ladder score=%{y}<extra></extra>",
         "legendgroup": "Montenegro",
         "marker": {
          "color": "#EF553B",
          "symbol": "circle"
         },
         "mode": "markers",
         "name": "Montenegro",
         "orientation": "v",
         "showlegend": true,
         "type": "scatter",
         "x": [
          9.94
         ],
         "xaxis": "x",
         "y": [
          5.581
         ],
         "yaxis": "y"
        },
        {
         "customdata": [
          [
           "Dominican Republic"
          ]
         ],
         "hovertemplate": "Country name=%{customdata[0]}<br>Logged GDP per capita=%{x}<br>Ladder score=%{y}<extra></extra>",
         "legendgroup": "Dominican Republic",
         "marker": {
          "color": "#00cc96",
          "symbol": "circle"
         },
         "mode": "markers",
         "name": "Dominican Republic",
         "orientation": "v",
         "showlegend": true,
         "type": "scatter",
         "x": [
          9.802
         ],
         "xaxis": "x",
         "y": [
          5.545
         ],
         "yaxis": "y"
        },
        {
         "customdata": [
          [
           "North Cyprus"
          ]
         ],
         "hovertemplate": "Country name=%{customdata[0]}<br>Logged GDP per capita=%{x}<br>Ladder score=%{y}<extra></extra>",
         "legendgroup": "North Cyprus",
         "marker": {
          "color": "#ab63fa",
          "symbol": "circle"
         },
         "mode": "markers",
         "name": "North Cyprus",
         "orientation": "v",
         "showlegend": true,
         "type": "scatter",
         "x": [
          10.575999999999999
         ],
         "xaxis": "x",
         "y": [
          5.5360000000000005
         ],
         "yaxis": "y"
        },
        {
         "customdata": [
          [
           "Belarus"
          ]
         ],
         "hovertemplate": "Country name=%{customdata[0]}<br>Logged GDP per capita=%{x}<br>Ladder score=%{y}<extra></extra>",
         "legendgroup": "Belarus",
         "marker": {
          "color": "#FFA15A",
          "symbol": "circle"
         },
         "mode": "markers",
         "name": "Belarus",
         "orientation": "v",
         "showlegend": true,
         "type": "scatter",
         "x": [
          9.853
         ],
         "xaxis": "x",
         "y": [
          5.534
         ],
         "yaxis": "y"
        },
        {
         "customdata": [
          [
           "Russia"
          ]
         ],
         "hovertemplate": "Country name=%{customdata[0]}<br>Logged GDP per capita=%{x}<br>Ladder score=%{y}<extra></extra>",
         "legendgroup": "Russia",
         "marker": {
          "color": "#19d3f3",
          "symbol": "circle"
         },
         "mode": "markers",
         "name": "Russia",
         "orientation": "v",
         "showlegend": true,
         "type": "scatter",
         "x": [
          10.189
         ],
         "xaxis": "x",
         "y": [
          5.477
         ],
         "yaxis": "y"
        },
        {
         "customdata": [
          [
           "Hong Kong S.A.R. of China"
          ]
         ],
         "hovertemplate": "Country name=%{customdata[0]}<br>Logged GDP per capita=%{x}<br>Ladder score=%{y}<extra></extra>",
         "legendgroup": "Hong Kong S.A.R. of China",
         "marker": {
          "color": "#FF6692",
          "symbol": "circle"
         },
         "mode": "markers",
         "name": "Hong Kong S.A.R. of China",
         "orientation": "v",
         "showlegend": true,
         "type": "scatter",
         "x": [
          11
         ],
         "xaxis": "x",
         "y": [
          5.477
         ],
         "yaxis": "y"
        },
        {
         "customdata": [
          [
           "Tajikistan"
          ]
         ],
         "hovertemplate": "Country name=%{customdata[0]}<br>Logged GDP per capita=%{x}<br>Ladder score=%{y}<extra></extra>",
         "legendgroup": "Tajikistan",
         "marker": {
          "color": "#B6E880",
          "symbol": "circle"
         },
         "mode": "markers",
         "name": "Tajikistan",
         "orientation": "v",
         "showlegend": true,
         "type": "scatter",
         "x": [
          8.091000000000001
         ],
         "xaxis": "x",
         "y": [
          5.466
         ],
         "yaxis": "y"
        },
        {
         "customdata": [
          [
           "Vietnam"
          ]
         ],
         "hovertemplate": "Country name=%{customdata[0]}<br>Logged GDP per capita=%{x}<br>Ladder score=%{y}<extra></extra>",
         "legendgroup": "Vietnam",
         "marker": {
          "color": "#FF97FF",
          "symbol": "circle"
         },
         "mode": "markers",
         "name": "Vietnam",
         "orientation": "v",
         "showlegend": true,
         "type": "scatter",
         "x": [
          8.972999999999999
         ],
         "xaxis": "x",
         "y": [
          5.4110000000000005
         ],
         "yaxis": "y"
        },
        {
         "customdata": [
          [
           "Libya"
          ]
         ],
         "hovertemplate": "Country name=%{customdata[0]}<br>Logged GDP per capita=%{x}<br>Ladder score=%{y}<extra></extra>",
         "legendgroup": "Libya",
         "marker": {
          "color": "#FECB52",
          "symbol": "circle"
         },
         "mode": "markers",
         "name": "Libya",
         "orientation": "v",
         "showlegend": true,
         "type": "scatter",
         "x": [
          9.622
         ],
         "xaxis": "x",
         "y": [
          5.41
         ],
         "yaxis": "y"
        },
        {
         "customdata": [
          [
           "Malaysia"
          ]
         ],
         "hovertemplate": "Country name=%{customdata[0]}<br>Logged GDP per capita=%{x}<br>Ladder score=%{y}<extra></extra>",
         "legendgroup": "Malaysia",
         "marker": {
          "color": "#636efa",
          "symbol": "circle"
         },
         "mode": "markers",
         "name": "Malaysia",
         "orientation": "v",
         "showlegend": true,
         "type": "scatter",
         "x": [
          10.238
         ],
         "xaxis": "x",
         "y": [
          5.3839999999999995
         ],
         "yaxis": "y"
        },
        {
         "customdata": [
          [
           "Indonesia"
          ]
         ],
         "hovertemplate": "Country name=%{customdata[0]}<br>Logged GDP per capita=%{x}<br>Ladder score=%{y}<extra></extra>",
         "legendgroup": "Indonesia",
         "marker": {
          "color": "#EF553B",
          "symbol": "circle"
         },
         "mode": "markers",
         "name": "Indonesia",
         "orientation": "v",
         "showlegend": true,
         "type": "scatter",
         "x": [
          9.365
         ],
         "xaxis": "x",
         "y": [
          5.345
         ],
         "yaxis": "y"
        },
        {
         "customdata": [
          [
           "Congo (Brazzaville)"
          ]
         ],
         "hovertemplate": "Country name=%{customdata[0]}<br>Logged GDP per capita=%{x}<br>Ladder score=%{y}<extra></extra>",
         "legendgroup": "Congo (Brazzaville)",
         "marker": {
          "color": "#00cc96",
          "symbol": "circle"
         },
         "mode": "markers",
         "name": "Congo (Brazzaville)",
         "orientation": "v",
         "showlegend": true,
         "type": "scatter",
         "x": [
          8.117
         ],
         "xaxis": "x",
         "y": [
          5.3420000000000005
         ],
         "yaxis": "y"
        },
        {
         "customdata": [
          [
           "China"
          ]
         ],
         "hovertemplate": "Country name=%{customdata[0]}<br>Logged GDP per capita=%{x}<br>Ladder score=%{y}<extra></extra>",
         "legendgroup": "China",
         "marker": {
          "color": "#ab63fa",
          "symbol": "circle"
         },
         "mode": "markers",
         "name": "China",
         "orientation": "v",
         "showlegend": true,
         "type": "scatter",
         "x": [
          9.673
         ],
         "xaxis": "x",
         "y": [
          5.3389999999999995
         ],
         "yaxis": "y"
        },
        {
         "customdata": [
          [
           "Ivory Coast"
          ]
         ],
         "hovertemplate": "Country name=%{customdata[0]}<br>Logged GDP per capita=%{x}<br>Ladder score=%{y}<extra></extra>",
         "legendgroup": "Ivory Coast",
         "marker": {
          "color": "#FFA15A",
          "symbol": "circle"
         },
         "mode": "markers",
         "name": "Ivory Coast",
         "orientation": "v",
         "showlegend": true,
         "type": "scatter",
         "x": [
          8.551
         ],
         "xaxis": "x",
         "y": [
          5.306
         ],
         "yaxis": "y"
        },
        {
         "customdata": [
          [
           "Armenia"
          ]
         ],
         "hovertemplate": "Country name=%{customdata[0]}<br>Logged GDP per capita=%{x}<br>Ladder score=%{y}<extra></extra>",
         "legendgroup": "Armenia",
         "marker": {
          "color": "#19d3f3",
          "symbol": "circle"
         },
         "mode": "markers",
         "name": "Armenia",
         "orientation": "v",
         "showlegend": true,
         "type": "scatter",
         "x": [
          9.487
         ],
         "xaxis": "x",
         "y": [
          5.2829999999999995
         ],
         "yaxis": "y"
        },
        {
         "customdata": [
          [
           "Nepal"
          ]
         ],
         "hovertemplate": "Country name=%{customdata[0]}<br>Logged GDP per capita=%{x}<br>Ladder score=%{y}<extra></extra>",
         "legendgroup": "Nepal",
         "marker": {
          "color": "#FF6692",
          "symbol": "circle"
         },
         "mode": "markers",
         "name": "Nepal",
         "orientation": "v",
         "showlegend": true,
         "type": "scatter",
         "x": [
          8.12
         ],
         "xaxis": "x",
         "y": [
          5.269
         ],
         "yaxis": "y"
        },
        {
         "customdata": [
          [
           "Bulgaria"
          ]
         ],
         "hovertemplate": "Country name=%{customdata[0]}<br>Logged GDP per capita=%{x}<br>Ladder score=%{y}<extra></extra>",
         "legendgroup": "Bulgaria",
         "marker": {
          "color": "#B6E880",
          "symbol": "circle"
         },
         "mode": "markers",
         "name": "Bulgaria",
         "orientation": "v",
         "showlegend": true,
         "type": "scatter",
         "x": [
          10.016
         ],
         "xaxis": "x",
         "y": [
          5.266
         ],
         "yaxis": "y"
        },
        {
         "customdata": [
          [
           "Maldives"
          ]
         ],
         "hovertemplate": "Country name=%{customdata[0]}<br>Logged GDP per capita=%{x}<br>Ladder score=%{y}<extra></extra>",
         "legendgroup": "Maldives",
         "marker": {
          "color": "#FF97FF",
          "symbol": "circle"
         },
         "mode": "markers",
         "name": "Maldives",
         "orientation": "v",
         "showlegend": true,
         "type": "scatter",
         "x": [
          9.826
         ],
         "xaxis": "x",
         "y": [
          5.1979999999999995
         ],
         "yaxis": "y"
        },
        {
         "customdata": [
          [
           "Azerbaijan"
          ]
         ],
         "hovertemplate": "Country name=%{customdata[0]}<br>Logged GDP per capita=%{x}<br>Ladder score=%{y}<extra></extra>",
         "legendgroup": "Azerbaijan",
         "marker": {
          "color": "#FECB52",
          "symbol": "circle"
         },
         "mode": "markers",
         "name": "Azerbaijan",
         "orientation": "v",
         "showlegend": true,
         "type": "scatter",
         "x": [
          9.568999999999999
         ],
         "xaxis": "x",
         "y": [
          5.171
         ],
         "yaxis": "y"
        },
        {
         "customdata": [
          [
           "Cameroon"
          ]
         ],
         "hovertemplate": "Country name=%{customdata[0]}<br>Logged GDP per capita=%{x}<br>Ladder score=%{y}<extra></extra>",
         "legendgroup": "Cameroon",
         "marker": {
          "color": "#636efa",
          "symbol": "circle"
         },
         "mode": "markers",
         "name": "Cameroon",
         "orientation": "v",
         "showlegend": true,
         "type": "scatter",
         "x": [
          8.189
         ],
         "xaxis": "x",
         "y": [
          5.142
         ],
         "yaxis": "y"
        },
        {
         "customdata": [
          [
           "Senegal"
          ]
         ],
         "hovertemplate": "Country name=%{customdata[0]}<br>Logged GDP per capita=%{x}<br>Ladder score=%{y}<extra></extra>",
         "legendgroup": "Senegal",
         "marker": {
          "color": "#EF553B",
          "symbol": "circle"
         },
         "mode": "markers",
         "name": "Senegal",
         "orientation": "v",
         "showlegend": true,
         "type": "scatter",
         "x": [
          8.118
         ],
         "xaxis": "x",
         "y": [
          5.132000000000001
         ],
         "yaxis": "y"
        },
        {
         "customdata": [
          [
           "Albania"
          ]
         ],
         "hovertemplate": "Country name=%{customdata[0]}<br>Logged GDP per capita=%{x}<br>Ladder score=%{y}<extra></extra>",
         "legendgroup": "Albania",
         "marker": {
          "color": "#00cc96",
          "symbol": "circle"
         },
         "mode": "markers",
         "name": "Albania",
         "orientation": "v",
         "showlegend": true,
         "type": "scatter",
         "x": [
          9.52
         ],
         "xaxis": "x",
         "y": [
          5.117
         ],
         "yaxis": "y"
        },
        {
         "customdata": [
          [
           "North Macedonia"
          ]
         ],
         "hovertemplate": "Country name=%{customdata[0]}<br>Logged GDP per capita=%{x}<br>Ladder score=%{y}<extra></extra>",
         "legendgroup": "North Macedonia",
         "marker": {
          "color": "#ab63fa",
          "symbol": "circle"
         },
         "mode": "markers",
         "name": "North Macedonia",
         "orientation": "v",
         "showlegend": true,
         "type": "scatter",
         "x": [
          9.693
         ],
         "xaxis": "x",
         "y": [
          5.101
         ],
         "yaxis": "y"
        },
        {
         "customdata": [
          [
           "Ghana"
          ]
         ],
         "hovertemplate": "Country name=%{customdata[0]}<br>Logged GDP per capita=%{x}<br>Ladder score=%{y}<extra></extra>",
         "legendgroup": "Ghana",
         "marker": {
          "color": "#FFA15A",
          "symbol": "circle"
         },
         "mode": "markers",
         "name": "Ghana",
         "orientation": "v",
         "showlegend": true,
         "type": "scatter",
         "x": [
          8.58
         ],
         "xaxis": "x",
         "y": [
          5.088
         ],
         "yaxis": "y"
        },
        {
         "customdata": [
          [
           "Niger"
          ]
         ],
         "hovertemplate": "Country name=%{customdata[0]}<br>Logged GDP per capita=%{x}<br>Ladder score=%{y}<extra></extra>",
         "legendgroup": "Niger",
         "marker": {
          "color": "#19d3f3",
          "symbol": "circle"
         },
         "mode": "markers",
         "name": "Niger",
         "orientation": "v",
         "showlegend": true,
         "type": "scatter",
         "x": [
          7.098
         ],
         "xaxis": "x",
         "y": [
          5.074
         ],
         "yaxis": "y"
        },
        {
         "customdata": [
          [
           "Turkmenistan"
          ]
         ],
         "hovertemplate": "Country name=%{customdata[0]}<br>Logged GDP per capita=%{x}<br>Ladder score=%{y}<extra></extra>",
         "legendgroup": "Turkmenistan",
         "marker": {
          "color": "#FF6692",
          "symbol": "circle"
         },
         "mode": "markers",
         "name": "Turkmenistan",
         "orientation": "v",
         "showlegend": true,
         "type": "scatter",
         "x": [
          9.629
         ],
         "xaxis": "x",
         "y": [
          5.066
         ],
         "yaxis": "y"
        },
        {
         "customdata": [
          [
           "Gambia"
          ]
         ],
         "hovertemplate": "Country name=%{customdata[0]}<br>Logged GDP per capita=%{x}<br>Ladder score=%{y}<extra></extra>",
         "legendgroup": "Gambia",
         "marker": {
          "color": "#B6E880",
          "symbol": "circle"
         },
         "mode": "markers",
         "name": "Gambia",
         "orientation": "v",
         "showlegend": true,
         "type": "scatter",
         "x": [
          7.686
         ],
         "xaxis": "x",
         "y": [
          5.051
         ],
         "yaxis": "y"
        },
        {
         "customdata": [
          [
           "Benin"
          ]
         ],
         "hovertemplate": "Country name=%{customdata[0]}<br>Logged GDP per capita=%{x}<br>Ladder score=%{y}<extra></extra>",
         "legendgroup": "Benin",
         "marker": {
          "color": "#FF97FF",
          "symbol": "circle"
         },
         "mode": "markers",
         "name": "Benin",
         "orientation": "v",
         "showlegend": true,
         "type": "scatter",
         "x": [
          8.087
         ],
         "xaxis": "x",
         "y": [
          5.045
         ],
         "yaxis": "y"
        },
        {
         "customdata": [
          [
           "Laos"
          ]
         ],
         "hovertemplate": "Country name=%{customdata[0]}<br>Logged GDP per capita=%{x}<br>Ladder score=%{y}<extra></extra>",
         "legendgroup": "Laos",
         "marker": {
          "color": "#FECB52",
          "symbol": "circle"
         },
         "mode": "markers",
         "name": "Laos",
         "orientation": "v",
         "showlegend": true,
         "type": "scatter",
         "x": [
          8.947000000000001
         ],
         "xaxis": "x",
         "y": [
          5.03
         ],
         "yaxis": "y"
        },
        {
         "customdata": [
          [
           "Bangladesh"
          ]
         ],
         "hovertemplate": "Country name=%{customdata[0]}<br>Logged GDP per capita=%{x}<br>Ladder score=%{y}<extra></extra>",
         "legendgroup": "Bangladesh",
         "marker": {
          "color": "#636efa",
          "symbol": "circle"
         },
         "mode": "markers",
         "name": "Bangladesh",
         "orientation": "v",
         "showlegend": true,
         "type": "scatter",
         "x": [
          8.454
         ],
         "xaxis": "x",
         "y": [
          5.025
         ],
         "yaxis": "y"
        },
        {
         "customdata": [
          [
           "Guinea"
          ]
         ],
         "hovertemplate": "Country name=%{customdata[0]}<br>Logged GDP per capita=%{x}<br>Ladder score=%{y}<extra></extra>",
         "legendgroup": "Guinea",
         "marker": {
          "color": "#EF553B",
          "symbol": "circle"
         },
         "mode": "markers",
         "name": "Guinea",
         "orientation": "v",
         "showlegend": true,
         "type": "scatter",
         "x": [
          7.837999999999999
         ],
         "xaxis": "x",
         "y": [
          4.984
         ],
         "yaxis": "y"
        },
        {
         "customdata": [
          [
           "South Africa"
          ]
         ],
         "hovertemplate": "Country name=%{customdata[0]}<br>Logged GDP per capita=%{x}<br>Ladder score=%{y}<extra></extra>",
         "legendgroup": "South Africa",
         "marker": {
          "color": "#00cc96",
          "symbol": "circle"
         },
         "mode": "markers",
         "name": "South Africa",
         "orientation": "v",
         "showlegend": true,
         "type": "scatter",
         "x": [
          9.402999999999999
         ],
         "xaxis": "x",
         "y": [
          4.956
         ],
         "yaxis": "y"
        },
        {
         "customdata": [
          [
           "Turkey"
          ]
         ],
         "hovertemplate": "Country name=%{customdata[0]}<br>Logged GDP per capita=%{x}<br>Ladder score=%{y}<extra></extra>",
         "legendgroup": "Turkey",
         "marker": {
          "color": "#ab63fa",
          "symbol": "circle"
         },
         "mode": "markers",
         "name": "Turkey",
         "orientation": "v",
         "showlegend": true,
         "type": "scatter",
         "x": [
          10.24
         ],
         "xaxis": "x",
         "y": [
          4.948
         ],
         "yaxis": "y"
        },
        {
         "customdata": [
          [
           "Pakistan"
          ]
         ],
         "hovertemplate": "Country name=%{customdata[0]}<br>Logged GDP per capita=%{x}<br>Ladder score=%{y}<extra></extra>",
         "legendgroup": "Pakistan",
         "marker": {
          "color": "#FFA15A",
          "symbol": "circle"
         },
         "mode": "markers",
         "name": "Pakistan",
         "orientation": "v",
         "showlegend": true,
         "type": "scatter",
         "x": [
          8.458
         ],
         "xaxis": "x",
         "y": [
          4.934
         ],
         "yaxis": "y"
        },
        {
         "customdata": [
          [
           "Morocco"
          ]
         ],
         "hovertemplate": "Country name=%{customdata[0]}<br>Logged GDP per capita=%{x}<br>Ladder score=%{y}<extra></extra>",
         "legendgroup": "Morocco",
         "marker": {
          "color": "#19d3f3",
          "symbol": "circle"
         },
         "mode": "markers",
         "name": "Morocco",
         "orientation": "v",
         "showlegend": true,
         "type": "scatter",
         "x": [
          8.902999999999999
         ],
         "xaxis": "x",
         "y": [
          4.918
         ],
         "yaxis": "y"
        },
        {
         "customdata": [
          [
           "Venezuela"
          ]
         ],
         "hovertemplate": "Country name=%{customdata[0]}<br>Logged GDP per capita=%{x}<br>Ladder score=%{y}<extra></extra>",
         "legendgroup": "Venezuela",
         "marker": {
          "color": "#FF6692",
          "symbol": "circle"
         },
         "mode": "markers",
         "name": "Venezuela",
         "orientation": "v",
         "showlegend": true,
         "type": "scatter",
         "x": [
          9.073
         ],
         "xaxis": "x",
         "y": [
          4.8919999999999995
         ],
         "yaxis": "y"
        },
        {
         "customdata": [
          [
           "Georgia"
          ]
         ],
         "hovertemplate": "Country name=%{customdata[0]}<br>Logged GDP per capita=%{x}<br>Ladder score=%{y}<extra></extra>",
         "legendgroup": "Georgia",
         "marker": {
          "color": "#B6E880",
          "symbol": "circle"
         },
         "mode": "markers",
         "name": "Georgia",
         "orientation": "v",
         "showlegend": true,
         "type": "scatter",
         "x": [
          9.585
         ],
         "xaxis": "x",
         "y": [
          4.891
         ],
         "yaxis": "y"
        },
        {
         "customdata": [
          [
           "Algeria"
          ]
         ],
         "hovertemplate": "Country name=%{customdata[0]}<br>Logged GDP per capita=%{x}<br>Ladder score=%{y}<extra></extra>",
         "legendgroup": "Algeria",
         "marker": {
          "color": "#FF97FF",
          "symbol": "circle"
         },
         "mode": "markers",
         "name": "Algeria",
         "orientation": "v",
         "showlegend": true,
         "type": "scatter",
         "x": [
          9.342
         ],
         "xaxis": "x",
         "y": [
          4.887
         ],
         "yaxis": "y"
        },
        {
         "customdata": [
          [
           "Ukraine"
          ]
         ],
         "hovertemplate": "Country name=%{customdata[0]}<br>Logged GDP per capita=%{x}<br>Ladder score=%{y}<extra></extra>",
         "legendgroup": "Ukraine",
         "marker": {
          "color": "#FECB52",
          "symbol": "circle"
         },
         "mode": "markers",
         "name": "Ukraine",
         "orientation": "v",
         "showlegend": true,
         "type": "scatter",
         "x": [
          9.436
         ],
         "xaxis": "x",
         "y": [
          4.875
         ],
         "yaxis": "y"
        },
        {
         "customdata": [
          [
           "Iraq"
          ]
         ],
         "hovertemplate": "Country name=%{customdata[0]}<br>Logged GDP per capita=%{x}<br>Ladder score=%{y}<extra></extra>",
         "legendgroup": "Iraq",
         "marker": {
          "color": "#636efa",
          "symbol": "circle"
         },
         "mode": "markers",
         "name": "Iraq",
         "orientation": "v",
         "showlegend": true,
         "type": "scatter",
         "x": [
          9.24
         ],
         "xaxis": "x",
         "y": [
          4.854
         ],
         "yaxis": "y"
        },
        {
         "customdata": [
          [
           "Gabon"
          ]
         ],
         "hovertemplate": "Country name=%{customdata[0]}<br>Logged GDP per capita=%{x}<br>Ladder score=%{y}<extra></extra>",
         "legendgroup": "Gabon",
         "marker": {
          "color": "#EF553B",
          "symbol": "circle"
         },
         "mode": "markers",
         "name": "Gabon",
         "orientation": "v",
         "showlegend": true,
         "type": "scatter",
         "x": [
          9.603
         ],
         "xaxis": "x",
         "y": [
          4.852
         ],
         "yaxis": "y"
        },
        {
         "customdata": [
          [
           "Burkina Faso"
          ]
         ],
         "hovertemplate": "Country name=%{customdata[0]}<br>Logged GDP per capita=%{x}<br>Ladder score=%{y}<extra></extra>",
         "legendgroup": "Burkina Faso",
         "marker": {
          "color": "#00cc96",
          "symbol": "circle"
         },
         "mode": "markers",
         "name": "Burkina Faso",
         "orientation": "v",
         "showlegend": true,
         "type": "scatter",
         "x": [
          7.678
         ],
         "xaxis": "x",
         "y": [
          4.834
         ],
         "yaxis": "y"
        },
        {
         "customdata": [
          [
           "Cambodia"
          ]
         ],
         "hovertemplate": "Country name=%{customdata[0]}<br>Logged GDP per capita=%{x}<br>Ladder score=%{y}<extra></extra>",
         "legendgroup": "Cambodia",
         "marker": {
          "color": "#ab63fa",
          "symbol": "circle"
         },
         "mode": "markers",
         "name": "Cambodia",
         "orientation": "v",
         "showlegend": true,
         "type": "scatter",
         "x": [
          8.36
         ],
         "xaxis": "x",
         "y": [
          4.83
         ],
         "yaxis": "y"
        },
        {
         "customdata": [
          [
           "Mozambique"
          ]
         ],
         "hovertemplate": "Country name=%{customdata[0]}<br>Logged GDP per capita=%{x}<br>Ladder score=%{y}<extra></extra>",
         "legendgroup": "Mozambique",
         "marker": {
          "color": "#FFA15A",
          "symbol": "circle"
         },
         "mode": "markers",
         "name": "Mozambique",
         "orientation": "v",
         "showlegend": true,
         "type": "scatter",
         "x": [
          7.1579999999999995
         ],
         "xaxis": "x",
         "y": [
          4.794
         ],
         "yaxis": "y"
        },
        {
         "customdata": [
          [
           "Nigeria"
          ]
         ],
         "hovertemplate": "Country name=%{customdata[0]}<br>Logged GDP per capita=%{x}<br>Ladder score=%{y}<extra></extra>",
         "legendgroup": "Nigeria",
         "marker": {
          "color": "#19d3f3",
          "symbol": "circle"
         },
         "mode": "markers",
         "name": "Nigeria",
         "orientation": "v",
         "showlegend": true,
         "type": "scatter",
         "x": [
          8.533
         ],
         "xaxis": "x",
         "y": [
          4.7589999999999995
         ],
         "yaxis": "y"
        },
        {
         "customdata": [
          [
           "Mali"
          ]
         ],
         "hovertemplate": "Country name=%{customdata[0]}<br>Logged GDP per capita=%{x}<br>Ladder score=%{y}<extra></extra>",
         "legendgroup": "Mali",
         "marker": {
          "color": "#FF6692",
          "symbol": "circle"
         },
         "mode": "markers",
         "name": "Mali",
         "orientation": "v",
         "showlegend": true,
         "type": "scatter",
         "x": [
          7.744
         ],
         "xaxis": "x",
         "y": [
          4.723
         ],
         "yaxis": "y"
        },
        {
         "customdata": [
          [
           "Iran"
          ]
         ],
         "hovertemplate": "Country name=%{customdata[0]}<br>Logged GDP per capita=%{x}<br>Ladder score=%{y}<extra></extra>",
         "legendgroup": "Iran",
         "marker": {
          "color": "#B6E880",
          "symbol": "circle"
         },
         "mode": "markers",
         "name": "Iran",
         "orientation": "v",
         "showlegend": true,
         "type": "scatter",
         "x": [
          9.584
         ],
         "xaxis": "x",
         "y": [
          4.721
         ],
         "yaxis": "y"
        },
        {
         "customdata": [
          [
           "Uganda"
          ]
         ],
         "hovertemplate": "Country name=%{customdata[0]}<br>Logged GDP per capita=%{x}<br>Ladder score=%{y}<extra></extra>",
         "legendgroup": "Uganda",
         "marker": {
          "color": "#FF97FF",
          "symbol": "circle"
         },
         "mode": "markers",
         "name": "Uganda",
         "orientation": "v",
         "showlegend": true,
         "type": "scatter",
         "x": [
          7.6770000000000005
         ],
         "xaxis": "x",
         "y": [
          4.636
         ],
         "yaxis": "y"
        },
        {
         "customdata": [
          [
           "Liberia"
          ]
         ],
         "hovertemplate": "Country name=%{customdata[0]}<br>Logged GDP per capita=%{x}<br>Ladder score=%{y}<extra></extra>",
         "legendgroup": "Liberia",
         "marker": {
          "color": "#FECB52",
          "symbol": "circle"
         },
         "mode": "markers",
         "name": "Liberia",
         "orientation": "v",
         "showlegend": true,
         "type": "scatter",
         "x": [
          7.287999999999999
         ],
         "xaxis": "x",
         "y": [
          4.625
         ],
         "yaxis": "y"
        },
        {
         "customdata": [
          [
           "Kenya"
          ]
         ],
         "hovertemplate": "Country name=%{customdata[0]}<br>Logged GDP per capita=%{x}<br>Ladder score=%{y}<extra></extra>",
         "legendgroup": "Kenya",
         "marker": {
          "color": "#636efa",
          "symbol": "circle"
         },
         "mode": "markers",
         "name": "Kenya",
         "orientation": "v",
         "showlegend": true,
         "type": "scatter",
         "x": [
          8.361
         ],
         "xaxis": "x",
         "y": [
          4.607
         ],
         "yaxis": "y"
        },
        {
         "customdata": [
          [
           "Tunisia"
          ]
         ],
         "hovertemplate": "Country name=%{customdata[0]}<br>Logged GDP per capita=%{x}<br>Ladder score=%{y}<extra></extra>",
         "legendgroup": "Tunisia",
         "marker": {
          "color": "#EF553B",
          "symbol": "circle"
         },
         "mode": "markers",
         "name": "Tunisia",
         "orientation": "v",
         "showlegend": true,
         "type": "scatter",
         "x": [
          9.266
         ],
         "xaxis": "x",
         "y": [
          4.596
         ],
         "yaxis": "y"
        },
        {
         "customdata": [
          [
           "Lebanon"
          ]
         ],
         "hovertemplate": "Country name=%{customdata[0]}<br>Logged GDP per capita=%{x}<br>Ladder score=%{y}<extra></extra>",
         "legendgroup": "Lebanon",
         "marker": {
          "color": "#00cc96",
          "symbol": "circle"
         },
         "mode": "markers",
         "name": "Lebanon",
         "orientation": "v",
         "showlegend": true,
         "type": "scatter",
         "x": [
          9.626
         ],
         "xaxis": "x",
         "y": [
          4.584
         ],
         "yaxis": "y"
        },
        {
         "customdata": [
          [
           "Namibia"
          ]
         ],
         "hovertemplate": "Country name=%{customdata[0]}<br>Logged GDP per capita=%{x}<br>Ladder score=%{y}<extra></extra>",
         "legendgroup": "Namibia",
         "marker": {
          "color": "#ab63fa",
          "symbol": "circle"
         },
         "mode": "markers",
         "name": "Namibia",
         "orientation": "v",
         "showlegend": true,
         "type": "scatter",
         "x": [
          9.161
         ],
         "xaxis": "x",
         "y": [
          4.574
         ],
         "yaxis": "y"
        },
        {
         "customdata": [
          [
           "Palestinian Territories"
          ]
         ],
         "hovertemplate": "Country name=%{customdata[0]}<br>Logged GDP per capita=%{x}<br>Ladder score=%{y}<extra></extra>",
         "legendgroup": "Palestinian Territories",
         "marker": {
          "color": "#FFA15A",
          "symbol": "circle"
         },
         "mode": "markers",
         "name": "Palestinian Territories",
         "orientation": "v",
         "showlegend": true,
         "type": "scatter",
         "x": [
          8.485
         ],
         "xaxis": "x",
         "y": [
          4.5169999999999995
         ],
         "yaxis": "y"
        },
        {
         "customdata": [
          [
           "Myanmar"
          ]
         ],
         "hovertemplate": "Country name=%{customdata[0]}<br>Logged GDP per capita=%{x}<br>Ladder score=%{y}<extra></extra>",
         "legendgroup": "Myanmar",
         "marker": {
          "color": "#19d3f3",
          "symbol": "circle"
         },
         "mode": "markers",
         "name": "Myanmar",
         "orientation": "v",
         "showlegend": true,
         "type": "scatter",
         "x": [
          8.541
         ],
         "xaxis": "x",
         "y": [
          4.426
         ],
         "yaxis": "y"
        },
        {
         "customdata": [
          [
           "Jordan"
          ]
         ],
         "hovertemplate": "Country name=%{customdata[0]}<br>Logged GDP per capita=%{x}<br>Ladder score=%{y}<extra></extra>",
         "legendgroup": "Jordan",
         "marker": {
          "color": "#FF6692",
          "symbol": "circle"
         },
         "mode": "markers",
         "name": "Jordan",
         "orientation": "v",
         "showlegend": true,
         "type": "scatter",
         "x": [
          9.182
         ],
         "xaxis": "x",
         "y": [
          4.395
         ],
         "yaxis": "y"
        },
        {
         "customdata": [
          [
           "Chad"
          ]
         ],
         "hovertemplate": "Country name=%{customdata[0]}<br>Logged GDP per capita=%{x}<br>Ladder score=%{y}<extra></extra>",
         "legendgroup": "Chad",
         "marker": {
          "color": "#B6E880",
          "symbol": "circle"
         },
         "mode": "markers",
         "name": "Chad",
         "orientation": "v",
         "showlegend": true,
         "type": "scatter",
         "x": [
          7.364
         ],
         "xaxis": "x",
         "y": [
          4.355
         ],
         "yaxis": "y"
        },
        {
         "customdata": [
          [
           "Sri Lanka"
          ]
         ],
         "hovertemplate": "Country name=%{customdata[0]}<br>Logged GDP per capita=%{x}<br>Ladder score=%{y}<extra></extra>",
         "legendgroup": "Sri Lanka",
         "marker": {
          "color": "#FF97FF",
          "symbol": "circle"
         },
         "mode": "markers",
         "name": "Sri Lanka",
         "orientation": "v",
         "showlegend": true,
         "type": "scatter",
         "x": [
          9.47
         ],
         "xaxis": "x",
         "y": [
          4.325
         ],
         "yaxis": "y"
        },
        {
         "customdata": [
          [
           "Swaziland"
          ]
         ],
         "hovertemplate": "Country name=%{customdata[0]}<br>Logged GDP per capita=%{x}<br>Ladder score=%{y}<extra></extra>",
         "legendgroup": "Swaziland",
         "marker": {
          "color": "#FECB52",
          "symbol": "circle"
         },
         "mode": "markers",
         "name": "Swaziland",
         "orientation": "v",
         "showlegend": true,
         "type": "scatter",
         "x": [
          9.065
         ],
         "xaxis": "x",
         "y": [
          4.308
         ],
         "yaxis": "y"
        },
        {
         "customdata": [
          [
           "Comoros"
          ]
         ],
         "hovertemplate": "Country name=%{customdata[0]}<br>Logged GDP per capita=%{x}<br>Ladder score=%{y}<extra></extra>",
         "legendgroup": "Comoros",
         "marker": {
          "color": "#636efa",
          "symbol": "circle"
         },
         "mode": "markers",
         "name": "Comoros",
         "orientation": "v",
         "showlegend": true,
         "type": "scatter",
         "x": [
          8.031
         ],
         "xaxis": "x",
         "y": [
          4.289
         ],
         "yaxis": "y"
        },
        {
         "customdata": [
          [
           "Egypt"
          ]
         ],
         "hovertemplate": "Country name=%{customdata[0]}<br>Logged GDP per capita=%{x}<br>Ladder score=%{y}<extra></extra>",
         "legendgroup": "Egypt",
         "marker": {
          "color": "#EF553B",
          "symbol": "circle"
         },
         "mode": "markers",
         "name": "Egypt",
         "orientation": "v",
         "showlegend": true,
         "type": "scatter",
         "x": [
          9.367
         ],
         "xaxis": "x",
         "y": [
          4.283
         ],
         "yaxis": "y"
        },
        {
         "customdata": [
          [
           "Ethiopia"
          ]
         ],
         "hovertemplate": "Country name=%{customdata[0]}<br>Logged GDP per capita=%{x}<br>Ladder score=%{y}<extra></extra>",
         "legendgroup": "Ethiopia",
         "marker": {
          "color": "#00cc96",
          "symbol": "circle"
         },
         "mode": "markers",
         "name": "Ethiopia",
         "orientation": "v",
         "showlegend": true,
         "type": "scatter",
         "x": [
          7.694
         ],
         "xaxis": "x",
         "y": [
          4.275
         ],
         "yaxis": "y"
        },
        {
         "customdata": [
          [
           "Mauritania"
          ]
         ],
         "hovertemplate": "Country name=%{customdata[0]}<br>Logged GDP per capita=%{x}<br>Ladder score=%{y}<extra></extra>",
         "legendgroup": "Mauritania",
         "marker": {
          "color": "#ab63fa",
          "symbol": "circle"
         },
         "mode": "markers",
         "name": "Mauritania",
         "orientation": "v",
         "showlegend": true,
         "type": "scatter",
         "x": [
          8.542
         ],
         "xaxis": "x",
         "y": [
          4.227
         ],
         "yaxis": "y"
        },
        {
         "customdata": [
          [
           "Madagascar"
          ]
         ],
         "hovertemplate": "Country name=%{customdata[0]}<br>Logged GDP per capita=%{x}<br>Ladder score=%{y}<extra></extra>",
         "legendgroup": "Madagascar",
         "marker": {
          "color": "#FFA15A",
          "symbol": "circle"
         },
         "mode": "markers",
         "name": "Madagascar",
         "orientation": "v",
         "showlegend": true,
         "type": "scatter",
         "x": [
          7.396
         ],
         "xaxis": "x",
         "y": [
          4.208
         ],
         "yaxis": "y"
        },
        {
         "customdata": [
          [
           "Togo"
          ]
         ],
         "hovertemplate": "Country name=%{customdata[0]}<br>Logged GDP per capita=%{x}<br>Ladder score=%{y}<extra></extra>",
         "legendgroup": "Togo",
         "marker": {
          "color": "#19d3f3",
          "symbol": "circle"
         },
         "mode": "markers",
         "name": "Togo",
         "orientation": "v",
         "showlegend": true,
         "type": "scatter",
         "x": [
          7.362
         ],
         "xaxis": "x",
         "y": [
          4.107
         ],
         "yaxis": "y"
        },
        {
         "customdata": [
          [
           "Zambia"
          ]
         ],
         "hovertemplate": "Country name=%{customdata[0]}<br>Logged GDP per capita=%{x}<br>Ladder score=%{y}<extra></extra>",
         "legendgroup": "Zambia",
         "marker": {
          "color": "#FF6692",
          "symbol": "circle"
         },
         "mode": "markers",
         "name": "Zambia",
         "orientation": "v",
         "showlegend": true,
         "type": "scatter",
         "x": [
          8.145
         ],
         "xaxis": "x",
         "y": [
          4.073
         ],
         "yaxis": "y"
        },
        {
         "customdata": [
          [
           "Sierra Leone"
          ]
         ],
         "hovertemplate": "Country name=%{customdata[0]}<br>Logged GDP per capita=%{x}<br>Ladder score=%{y}<extra></extra>",
         "legendgroup": "Sierra Leone",
         "marker": {
          "color": "#B6E880",
          "symbol": "circle"
         },
         "mode": "markers",
         "name": "Sierra Leone",
         "orientation": "v",
         "showlegend": true,
         "type": "scatter",
         "x": [
          7.434
         ],
         "xaxis": "x",
         "y": [
          3.8489999999999998
         ],
         "yaxis": "y"
        },
        {
         "customdata": [
          [
           "India"
          ]
         ],
         "hovertemplate": "Country name=%{customdata[0]}<br>Logged GDP per capita=%{x}<br>Ladder score=%{y}<extra></extra>",
         "legendgroup": "India",
         "marker": {
          "color": "#FF97FF",
          "symbol": "circle"
         },
         "mode": "markers",
         "name": "India",
         "orientation": "v",
         "showlegend": true,
         "type": "scatter",
         "x": [
          8.755
         ],
         "xaxis": "x",
         "y": [
          3.819
         ],
         "yaxis": "y"
        },
        {
         "customdata": [
          [
           "Burundi"
          ]
         ],
         "hovertemplate": "Country name=%{customdata[0]}<br>Logged GDP per capita=%{x}<br>Ladder score=%{y}<extra></extra>",
         "legendgroup": "Burundi",
         "marker": {
          "color": "#FECB52",
          "symbol": "circle"
         },
         "mode": "markers",
         "name": "Burundi",
         "orientation": "v",
         "showlegend": true,
         "type": "scatter",
         "x": [
          6.635
         ],
         "xaxis": "x",
         "y": [
          3.775
         ],
         "yaxis": "y"
        },
        {
         "customdata": [
          [
           "Yemen"
          ]
         ],
         "hovertemplate": "Country name=%{customdata[0]}<br>Logged GDP per capita=%{x}<br>Ladder score=%{y}<extra></extra>",
         "legendgroup": "Yemen",
         "marker": {
          "color": "#636efa",
          "symbol": "circle"
         },
         "mode": "markers",
         "name": "Yemen",
         "orientation": "v",
         "showlegend": true,
         "type": "scatter",
         "x": [
          7.577999999999999
         ],
         "xaxis": "x",
         "y": [
          3.658
         ],
         "yaxis": "y"
        },
        {
         "customdata": [
          [
           "Tanzania"
          ]
         ],
         "hovertemplate": "Country name=%{customdata[0]}<br>Logged GDP per capita=%{x}<br>Ladder score=%{y}<extra></extra>",
         "legendgroup": "Tanzania",
         "marker": {
          "color": "#EF553B",
          "symbol": "circle"
         },
         "mode": "markers",
         "name": "Tanzania",
         "orientation": "v",
         "showlegend": true,
         "type": "scatter",
         "x": [
          7.876
         ],
         "xaxis": "x",
         "y": [
          3.623
         ],
         "yaxis": "y"
        },
        {
         "customdata": [
          [
           "Haiti"
          ]
         ],
         "hovertemplate": "Country name=%{customdata[0]}<br>Logged GDP per capita=%{x}<br>Ladder score=%{y}<extra></extra>",
         "legendgroup": "Haiti",
         "marker": {
          "color": "#00cc96",
          "symbol": "circle"
         },
         "mode": "markers",
         "name": "Haiti",
         "orientation": "v",
         "showlegend": true,
         "type": "scatter",
         "x": [
          7.477
         ],
         "xaxis": "x",
         "y": [
          3.615
         ],
         "yaxis": "y"
        },
        {
         "customdata": [
          [
           "Malawi"
          ]
         ],
         "hovertemplate": "Country name=%{customdata[0]}<br>Logged GDP per capita=%{x}<br>Ladder score=%{y}<extra></extra>",
         "legendgroup": "Malawi",
         "marker": {
          "color": "#ab63fa",
          "symbol": "circle"
         },
         "mode": "markers",
         "name": "Malawi",
         "orientation": "v",
         "showlegend": true,
         "type": "scatter",
         "x": [
          6.957999999999999
         ],
         "xaxis": "x",
         "y": [
          3.6
         ],
         "yaxis": "y"
        },
        {
         "customdata": [
          [
           "Lesotho"
          ]
         ],
         "hovertemplate": "Country name=%{customdata[0]}<br>Logged GDP per capita=%{x}<br>Ladder score=%{y}<extra></extra>",
         "legendgroup": "Lesotho",
         "marker": {
          "color": "#FFA15A",
          "symbol": "circle"
         },
         "mode": "markers",
         "name": "Lesotho",
         "orientation": "v",
         "showlegend": true,
         "type": "scatter",
         "x": [
          7.926
         ],
         "xaxis": "x",
         "y": [
          3.512
         ],
         "yaxis": "y"
        },
        {
         "customdata": [
          [
           "Botswana"
          ]
         ],
         "hovertemplate": "Country name=%{customdata[0]}<br>Logged GDP per capita=%{x}<br>Ladder score=%{y}<extra></extra>",
         "legendgroup": "Botswana",
         "marker": {
          "color": "#19d3f3",
          "symbol": "circle"
         },
         "mode": "markers",
         "name": "Botswana",
         "orientation": "v",
         "showlegend": true,
         "type": "scatter",
         "x": [
          9.782
         ],
         "xaxis": "x",
         "y": [
          3.467
         ],
         "yaxis": "y"
        },
        {
         "customdata": [
          [
           "Rwanda"
          ]
         ],
         "hovertemplate": "Country name=%{customdata[0]}<br>Logged GDP per capita=%{x}<br>Ladder score=%{y}<extra></extra>",
         "legendgroup": "Rwanda",
         "marker": {
          "color": "#FF6692",
          "symbol": "circle"
         },
         "mode": "markers",
         "name": "Rwanda",
         "orientation": "v",
         "showlegend": true,
         "type": "scatter",
         "x": [
          7.676
         ],
         "xaxis": "x",
         "y": [
          3.415
         ],
         "yaxis": "y"
        },
        {
         "customdata": [
          [
           "Zimbabwe"
          ]
         ],
         "hovertemplate": "Country name=%{customdata[0]}<br>Logged GDP per capita=%{x}<br>Ladder score=%{y}<extra></extra>",
         "legendgroup": "Zimbabwe",
         "marker": {
          "color": "#B6E880",
          "symbol": "circle"
         },
         "mode": "markers",
         "name": "Zimbabwe",
         "orientation": "v",
         "showlegend": true,
         "type": "scatter",
         "x": [
          7.943
         ],
         "xaxis": "x",
         "y": [
          3.145
         ],
         "yaxis": "y"
        },
        {
         "customdata": [
          [
           "Afghanistan"
          ]
         ],
         "hovertemplate": "Country name=%{customdata[0]}<br>Logged GDP per capita=%{x}<br>Ladder score=%{y}<extra></extra>",
         "legendgroup": "Afghanistan",
         "marker": {
          "color": "#FF97FF",
          "symbol": "circle"
         },
         "mode": "markers",
         "name": "Afghanistan",
         "orientation": "v",
         "showlegend": true,
         "type": "scatter",
         "x": [
          7.695
         ],
         "xaxis": "x",
         "y": [
          2.523
         ],
         "yaxis": "y"
        }
       ],
       "layout": {
        "legend": {
         "title": {
          "text": "Country name"
         },
         "tracegroupgap": 0
        },
        "margin": {
         "t": 60
        },
        "template": {
         "data": {
          "bar": [
           {
            "error_x": {
             "color": "#2a3f5f"
            },
            "error_y": {
             "color": "#2a3f5f"
            },
            "marker": {
             "line": {
              "color": "#E5ECF6",
              "width": 0.5
             }
            },
            "type": "bar"
           }
          ],
          "barpolar": [
           {
            "marker": {
             "line": {
              "color": "#E5ECF6",
              "width": 0.5
             }
            },
            "type": "barpolar"
           }
          ],
          "carpet": [
           {
            "aaxis": {
             "endlinecolor": "#2a3f5f",
             "gridcolor": "white",
             "linecolor": "white",
             "minorgridcolor": "white",
             "startlinecolor": "#2a3f5f"
            },
            "baxis": {
             "endlinecolor": "#2a3f5f",
             "gridcolor": "white",
             "linecolor": "white",
             "minorgridcolor": "white",
             "startlinecolor": "#2a3f5f"
            },
            "type": "carpet"
           }
          ],
          "choropleth": [
           {
            "colorbar": {
             "outlinewidth": 0,
             "ticks": ""
            },
            "type": "choropleth"
           }
          ],
          "contour": [
           {
            "colorbar": {
             "outlinewidth": 0,
             "ticks": ""
            },
            "colorscale": [
             [
              0,
              "#0d0887"
             ],
             [
              0.1111111111111111,
              "#46039f"
             ],
             [
              0.2222222222222222,
              "#7201a8"
             ],
             [
              0.3333333333333333,
              "#9c179e"
             ],
             [
              0.4444444444444444,
              "#bd3786"
             ],
             [
              0.5555555555555556,
              "#d8576b"
             ],
             [
              0.6666666666666666,
              "#ed7953"
             ],
             [
              0.7777777777777778,
              "#fb9f3a"
             ],
             [
              0.8888888888888888,
              "#fdca26"
             ],
             [
              1,
              "#f0f921"
             ]
            ],
            "type": "contour"
           }
          ],
          "contourcarpet": [
           {
            "colorbar": {
             "outlinewidth": 0,
             "ticks": ""
            },
            "type": "contourcarpet"
           }
          ],
          "heatmap": [
           {
            "colorbar": {
             "outlinewidth": 0,
             "ticks": ""
            },
            "colorscale": [
             [
              0,
              "#0d0887"
             ],
             [
              0.1111111111111111,
              "#46039f"
             ],
             [
              0.2222222222222222,
              "#7201a8"
             ],
             [
              0.3333333333333333,
              "#9c179e"
             ],
             [
              0.4444444444444444,
              "#bd3786"
             ],
             [
              0.5555555555555556,
              "#d8576b"
             ],
             [
              0.6666666666666666,
              "#ed7953"
             ],
             [
              0.7777777777777778,
              "#fb9f3a"
             ],
             [
              0.8888888888888888,
              "#fdca26"
             ],
             [
              1,
              "#f0f921"
             ]
            ],
            "type": "heatmap"
           }
          ],
          "heatmapgl": [
           {
            "colorbar": {
             "outlinewidth": 0,
             "ticks": ""
            },
            "colorscale": [
             [
              0,
              "#0d0887"
             ],
             [
              0.1111111111111111,
              "#46039f"
             ],
             [
              0.2222222222222222,
              "#7201a8"
             ],
             [
              0.3333333333333333,
              "#9c179e"
             ],
             [
              0.4444444444444444,
              "#bd3786"
             ],
             [
              0.5555555555555556,
              "#d8576b"
             ],
             [
              0.6666666666666666,
              "#ed7953"
             ],
             [
              0.7777777777777778,
              "#fb9f3a"
             ],
             [
              0.8888888888888888,
              "#fdca26"
             ],
             [
              1,
              "#f0f921"
             ]
            ],
            "type": "heatmapgl"
           }
          ],
          "histogram": [
           {
            "marker": {
             "colorbar": {
              "outlinewidth": 0,
              "ticks": ""
             }
            },
            "type": "histogram"
           }
          ],
          "histogram2d": [
           {
            "colorbar": {
             "outlinewidth": 0,
             "ticks": ""
            },
            "colorscale": [
             [
              0,
              "#0d0887"
             ],
             [
              0.1111111111111111,
              "#46039f"
             ],
             [
              0.2222222222222222,
              "#7201a8"
             ],
             [
              0.3333333333333333,
              "#9c179e"
             ],
             [
              0.4444444444444444,
              "#bd3786"
             ],
             [
              0.5555555555555556,
              "#d8576b"
             ],
             [
              0.6666666666666666,
              "#ed7953"
             ],
             [
              0.7777777777777778,
              "#fb9f3a"
             ],
             [
              0.8888888888888888,
              "#fdca26"
             ],
             [
              1,
              "#f0f921"
             ]
            ],
            "type": "histogram2d"
           }
          ],
          "histogram2dcontour": [
           {
            "colorbar": {
             "outlinewidth": 0,
             "ticks": ""
            },
            "colorscale": [
             [
              0,
              "#0d0887"
             ],
             [
              0.1111111111111111,
              "#46039f"
             ],
             [
              0.2222222222222222,
              "#7201a8"
             ],
             [
              0.3333333333333333,
              "#9c179e"
             ],
             [
              0.4444444444444444,
              "#bd3786"
             ],
             [
              0.5555555555555556,
              "#d8576b"
             ],
             [
              0.6666666666666666,
              "#ed7953"
             ],
             [
              0.7777777777777778,
              "#fb9f3a"
             ],
             [
              0.8888888888888888,
              "#fdca26"
             ],
             [
              1,
              "#f0f921"
             ]
            ],
            "type": "histogram2dcontour"
           }
          ],
          "mesh3d": [
           {
            "colorbar": {
             "outlinewidth": 0,
             "ticks": ""
            },
            "type": "mesh3d"
           }
          ],
          "parcoords": [
           {
            "line": {
             "colorbar": {
              "outlinewidth": 0,
              "ticks": ""
             }
            },
            "type": "parcoords"
           }
          ],
          "pie": [
           {
            "automargin": true,
            "type": "pie"
           }
          ],
          "scatter": [
           {
            "marker": {
             "colorbar": {
              "outlinewidth": 0,
              "ticks": ""
             }
            },
            "type": "scatter"
           }
          ],
          "scatter3d": [
           {
            "line": {
             "colorbar": {
              "outlinewidth": 0,
              "ticks": ""
             }
            },
            "marker": {
             "colorbar": {
              "outlinewidth": 0,
              "ticks": ""
             }
            },
            "type": "scatter3d"
           }
          ],
          "scattercarpet": [
           {
            "marker": {
             "colorbar": {
              "outlinewidth": 0,
              "ticks": ""
             }
            },
            "type": "scattercarpet"
           }
          ],
          "scattergeo": [
           {
            "marker": {
             "colorbar": {
              "outlinewidth": 0,
              "ticks": ""
             }
            },
            "type": "scattergeo"
           }
          ],
          "scattergl": [
           {
            "marker": {
             "colorbar": {
              "outlinewidth": 0,
              "ticks": ""
             }
            },
            "type": "scattergl"
           }
          ],
          "scattermapbox": [
           {
            "marker": {
             "colorbar": {
              "outlinewidth": 0,
              "ticks": ""
             }
            },
            "type": "scattermapbox"
           }
          ],
          "scatterpolar": [
           {
            "marker": {
             "colorbar": {
              "outlinewidth": 0,
              "ticks": ""
             }
            },
            "type": "scatterpolar"
           }
          ],
          "scatterpolargl": [
           {
            "marker": {
             "colorbar": {
              "outlinewidth": 0,
              "ticks": ""
             }
            },
            "type": "scatterpolargl"
           }
          ],
          "scatterternary": [
           {
            "marker": {
             "colorbar": {
              "outlinewidth": 0,
              "ticks": ""
             }
            },
            "type": "scatterternary"
           }
          ],
          "surface": [
           {
            "colorbar": {
             "outlinewidth": 0,
             "ticks": ""
            },
            "colorscale": [
             [
              0,
              "#0d0887"
             ],
             [
              0.1111111111111111,
              "#46039f"
             ],
             [
              0.2222222222222222,
              "#7201a8"
             ],
             [
              0.3333333333333333,
              "#9c179e"
             ],
             [
              0.4444444444444444,
              "#bd3786"
             ],
             [
              0.5555555555555556,
              "#d8576b"
             ],
             [
              0.6666666666666666,
              "#ed7953"
             ],
             [
              0.7777777777777778,
              "#fb9f3a"
             ],
             [
              0.8888888888888888,
              "#fdca26"
             ],
             [
              1,
              "#f0f921"
             ]
            ],
            "type": "surface"
           }
          ],
          "table": [
           {
            "cells": {
             "fill": {
              "color": "#EBF0F8"
             },
             "line": {
              "color": "white"
             }
            },
            "header": {
             "fill": {
              "color": "#C8D4E3"
             },
             "line": {
              "color": "white"
             }
            },
            "type": "table"
           }
          ]
         },
         "layout": {
          "annotationdefaults": {
           "arrowcolor": "#2a3f5f",
           "arrowhead": 0,
           "arrowwidth": 1
          },
          "autotypenumbers": "strict",
          "coloraxis": {
           "colorbar": {
            "outlinewidth": 0,
            "ticks": ""
           }
          },
          "colorscale": {
           "diverging": [
            [
             0,
             "#8e0152"
            ],
            [
             0.1,
             "#c51b7d"
            ],
            [
             0.2,
             "#de77ae"
            ],
            [
             0.3,
             "#f1b6da"
            ],
            [
             0.4,
             "#fde0ef"
            ],
            [
             0.5,
             "#f7f7f7"
            ],
            [
             0.6,
             "#e6f5d0"
            ],
            [
             0.7,
             "#b8e186"
            ],
            [
             0.8,
             "#7fbc41"
            ],
            [
             0.9,
             "#4d9221"
            ],
            [
             1,
             "#276419"
            ]
           ],
           "sequential": [
            [
             0,
             "#0d0887"
            ],
            [
             0.1111111111111111,
             "#46039f"
            ],
            [
             0.2222222222222222,
             "#7201a8"
            ],
            [
             0.3333333333333333,
             "#9c179e"
            ],
            [
             0.4444444444444444,
             "#bd3786"
            ],
            [
             0.5555555555555556,
             "#d8576b"
            ],
            [
             0.6666666666666666,
             "#ed7953"
            ],
            [
             0.7777777777777778,
             "#fb9f3a"
            ],
            [
             0.8888888888888888,
             "#fdca26"
            ],
            [
             1,
             "#f0f921"
            ]
           ],
           "sequentialminus": [
            [
             0,
             "#0d0887"
            ],
            [
             0.1111111111111111,
             "#46039f"
            ],
            [
             0.2222222222222222,
             "#7201a8"
            ],
            [
             0.3333333333333333,
             "#9c179e"
            ],
            [
             0.4444444444444444,
             "#bd3786"
            ],
            [
             0.5555555555555556,
             "#d8576b"
            ],
            [
             0.6666666666666666,
             "#ed7953"
            ],
            [
             0.7777777777777778,
             "#fb9f3a"
            ],
            [
             0.8888888888888888,
             "#fdca26"
            ],
            [
             1,
             "#f0f921"
            ]
           ]
          },
          "colorway": [
           "#636efa",
           "#EF553B",
           "#00cc96",
           "#ab63fa",
           "#FFA15A",
           "#19d3f3",
           "#FF6692",
           "#B6E880",
           "#FF97FF",
           "#FECB52"
          ],
          "font": {
           "color": "#2a3f5f"
          },
          "geo": {
           "bgcolor": "white",
           "lakecolor": "white",
           "landcolor": "#E5ECF6",
           "showlakes": true,
           "showland": true,
           "subunitcolor": "white"
          },
          "hoverlabel": {
           "align": "left"
          },
          "hovermode": "closest",
          "mapbox": {
           "style": "light"
          },
          "paper_bgcolor": "white",
          "plot_bgcolor": "#E5ECF6",
          "polar": {
           "angularaxis": {
            "gridcolor": "white",
            "linecolor": "white",
            "ticks": ""
           },
           "bgcolor": "#E5ECF6",
           "radialaxis": {
            "gridcolor": "white",
            "linecolor": "white",
            "ticks": ""
           }
          },
          "scene": {
           "xaxis": {
            "backgroundcolor": "#E5ECF6",
            "gridcolor": "white",
            "gridwidth": 2,
            "linecolor": "white",
            "showbackground": true,
            "ticks": "",
            "zerolinecolor": "white"
           },
           "yaxis": {
            "backgroundcolor": "#E5ECF6",
            "gridcolor": "white",
            "gridwidth": 2,
            "linecolor": "white",
            "showbackground": true,
            "ticks": "",
            "zerolinecolor": "white"
           },
           "zaxis": {
            "backgroundcolor": "#E5ECF6",
            "gridcolor": "white",
            "gridwidth": 2,
            "linecolor": "white",
            "showbackground": true,
            "ticks": "",
            "zerolinecolor": "white"
           }
          },
          "shapedefaults": {
           "line": {
            "color": "#2a3f5f"
           }
          },
          "ternary": {
           "aaxis": {
            "gridcolor": "white",
            "linecolor": "white",
            "ticks": ""
           },
           "baxis": {
            "gridcolor": "white",
            "linecolor": "white",
            "ticks": ""
           },
           "bgcolor": "#E5ECF6",
           "caxis": {
            "gridcolor": "white",
            "linecolor": "white",
            "ticks": ""
           }
          },
          "title": {
           "x": 0.05
          },
          "xaxis": {
           "automargin": true,
           "gridcolor": "white",
           "linecolor": "white",
           "ticks": "",
           "title": {
            "standoff": 15
           },
           "zerolinecolor": "white",
           "zerolinewidth": 2
          },
          "yaxis": {
           "automargin": true,
           "gridcolor": "white",
           "linecolor": "white",
           "ticks": "",
           "title": {
            "standoff": 15
           },
           "zerolinecolor": "white",
           "zerolinewidth": 2
          }
         }
        },
        "xaxis": {
         "anchor": "y",
         "domain": [
          0,
          1
         ],
         "title": {
          "text": "Logged GDP per capita"
         }
        },
        "yaxis": {
         "anchor": "x",
         "domain": [
          0,
          1
         ],
         "title": {
          "text": "Ladder score"
         }
        }
       }
      },
      "text/html": [
       "<div>                            <div id=\"795efa58-c1ec-42dd-a7f3-3433e91858b2\" class=\"plotly-graph-div\" style=\"height:525px; width:100%;\"></div>            <script type=\"text/javascript\">                require([\"plotly\"], function(Plotly) {                    window.PLOTLYENV=window.PLOTLYENV || {};                                    if (document.getElementById(\"795efa58-c1ec-42dd-a7f3-3433e91858b2\")) {                    Plotly.newPlot(                        \"795efa58-c1ec-42dd-a7f3-3433e91858b2\",                        [{\"customdata\": [[\"Finland\"]], \"hovertemplate\": \"Country name=%{customdata[0]}<br>Logged GDP per capita=%{x}<br>Ladder score=%{y}<extra></extra>\", \"legendgroup\": \"Finland\", \"marker\": {\"color\": \"#636efa\", \"symbol\": \"circle\"}, \"mode\": \"markers\", \"name\": \"Finland\", \"orientation\": \"v\", \"showlegend\": true, \"type\": \"scatter\", \"x\": [10.775], \"xaxis\": \"x\", \"y\": [7.8420000000000005], \"yaxis\": \"y\"}, {\"customdata\": [[\"Denmark\"]], \"hovertemplate\": \"Country name=%{customdata[0]}<br>Logged GDP per capita=%{x}<br>Ladder score=%{y}<extra></extra>\", \"legendgroup\": \"Denmark\", \"marker\": {\"color\": \"#EF553B\", \"symbol\": \"circle\"}, \"mode\": \"markers\", \"name\": \"Denmark\", \"orientation\": \"v\", \"showlegend\": true, \"type\": \"scatter\", \"x\": [10.933], \"xaxis\": \"x\", \"y\": [7.62], \"yaxis\": \"y\"}, {\"customdata\": [[\"Switzerland\"]], \"hovertemplate\": \"Country name=%{customdata[0]}<br>Logged GDP per capita=%{x}<br>Ladder score=%{y}<extra></extra>\", \"legendgroup\": \"Switzerland\", \"marker\": {\"color\": \"#00cc96\", \"symbol\": \"circle\"}, \"mode\": \"markers\", \"name\": \"Switzerland\", \"orientation\": \"v\", \"showlegend\": true, \"type\": \"scatter\", \"x\": [11.117], \"xaxis\": \"x\", \"y\": [7.571000000000001], \"yaxis\": \"y\"}, {\"customdata\": [[\"Iceland\"]], \"hovertemplate\": \"Country name=%{customdata[0]}<br>Logged GDP per capita=%{x}<br>Ladder score=%{y}<extra></extra>\", \"legendgroup\": \"Iceland\", \"marker\": {\"color\": \"#ab63fa\", \"symbol\": \"circle\"}, \"mode\": \"markers\", \"name\": \"Iceland\", \"orientation\": \"v\", \"showlegend\": true, \"type\": \"scatter\", \"x\": [10.878], \"xaxis\": \"x\", \"y\": [7.553999999999999], \"yaxis\": \"y\"}, {\"customdata\": [[\"Netherlands\"]], \"hovertemplate\": \"Country name=%{customdata[0]}<br>Logged GDP per capita=%{x}<br>Ladder score=%{y}<extra></extra>\", \"legendgroup\": \"Netherlands\", \"marker\": {\"color\": \"#FFA15A\", \"symbol\": \"circle\"}, \"mode\": \"markers\", \"name\": \"Netherlands\", \"orientation\": \"v\", \"showlegend\": true, \"type\": \"scatter\", \"x\": [10.932], \"xaxis\": \"x\", \"y\": [7.4639999999999995], \"yaxis\": \"y\"}, {\"customdata\": [[\"Norway\"]], \"hovertemplate\": \"Country name=%{customdata[0]}<br>Logged GDP per capita=%{x}<br>Ladder score=%{y}<extra></extra>\", \"legendgroup\": \"Norway\", \"marker\": {\"color\": \"#19d3f3\", \"symbol\": \"circle\"}, \"mode\": \"markers\", \"name\": \"Norway\", \"orientation\": \"v\", \"showlegend\": true, \"type\": \"scatter\", \"x\": [11.052999999999999], \"xaxis\": \"x\", \"y\": [7.392], \"yaxis\": \"y\"}, {\"customdata\": [[\"Sweden\"]], \"hovertemplate\": \"Country name=%{customdata[0]}<br>Logged GDP per capita=%{x}<br>Ladder score=%{y}<extra></extra>\", \"legendgroup\": \"Sweden\", \"marker\": {\"color\": \"#FF6692\", \"symbol\": \"circle\"}, \"mode\": \"markers\", \"name\": \"Sweden\", \"orientation\": \"v\", \"showlegend\": true, \"type\": \"scatter\", \"x\": [10.867], \"xaxis\": \"x\", \"y\": [7.3629999999999995], \"yaxis\": \"y\"}, {\"customdata\": [[\"Luxembourg\"]], \"hovertemplate\": \"Country name=%{customdata[0]}<br>Logged GDP per capita=%{x}<br>Ladder score=%{y}<extra></extra>\", \"legendgroup\": \"Luxembourg\", \"marker\": {\"color\": \"#B6E880\", \"symbol\": \"circle\"}, \"mode\": \"markers\", \"name\": \"Luxembourg\", \"orientation\": \"v\", \"showlegend\": true, \"type\": \"scatter\", \"x\": [11.647], \"xaxis\": \"x\", \"y\": [7.324], \"yaxis\": \"y\"}, {\"customdata\": [[\"New Zealand\"]], \"hovertemplate\": \"Country name=%{customdata[0]}<br>Logged GDP per capita=%{x}<br>Ladder score=%{y}<extra></extra>\", \"legendgroup\": \"New Zealand\", \"marker\": {\"color\": \"#FF97FF\", \"symbol\": \"circle\"}, \"mode\": \"markers\", \"name\": \"New Zealand\", \"orientation\": \"v\", \"showlegend\": true, \"type\": \"scatter\", \"x\": [10.642999999999999], \"xaxis\": \"x\", \"y\": [7.277], \"yaxis\": \"y\"}, {\"customdata\": [[\"Austria\"]], \"hovertemplate\": \"Country name=%{customdata[0]}<br>Logged GDP per capita=%{x}<br>Ladder score=%{y}<extra></extra>\", \"legendgroup\": \"Austria\", \"marker\": {\"color\": \"#FECB52\", \"symbol\": \"circle\"}, \"mode\": \"markers\", \"name\": \"Austria\", \"orientation\": \"v\", \"showlegend\": true, \"type\": \"scatter\", \"x\": [10.905999999999999], \"xaxis\": \"x\", \"y\": [7.268], \"yaxis\": \"y\"}, {\"customdata\": [[\"Australia\"]], \"hovertemplate\": \"Country name=%{customdata[0]}<br>Logged GDP per capita=%{x}<br>Ladder score=%{y}<extra></extra>\", \"legendgroup\": \"Australia\", \"marker\": {\"color\": \"#636efa\", \"symbol\": \"circle\"}, \"mode\": \"markers\", \"name\": \"Australia\", \"orientation\": \"v\", \"showlegend\": true, \"type\": \"scatter\", \"x\": [10.796], \"xaxis\": \"x\", \"y\": [7.183], \"yaxis\": \"y\"}, {\"customdata\": [[\"Israel\"]], \"hovertemplate\": \"Country name=%{customdata[0]}<br>Logged GDP per capita=%{x}<br>Ladder score=%{y}<extra></extra>\", \"legendgroup\": \"Israel\", \"marker\": {\"color\": \"#EF553B\", \"symbol\": \"circle\"}, \"mode\": \"markers\", \"name\": \"Israel\", \"orientation\": \"v\", \"showlegend\": true, \"type\": \"scatter\", \"x\": [10.575], \"xaxis\": \"x\", \"y\": [7.157], \"yaxis\": \"y\"}, {\"customdata\": [[\"Germany\"]], \"hovertemplate\": \"Country name=%{customdata[0]}<br>Logged GDP per capita=%{x}<br>Ladder score=%{y}<extra></extra>\", \"legendgroup\": \"Germany\", \"marker\": {\"color\": \"#00cc96\", \"symbol\": \"circle\"}, \"mode\": \"markers\", \"name\": \"Germany\", \"orientation\": \"v\", \"showlegend\": true, \"type\": \"scatter\", \"x\": [10.873], \"xaxis\": \"x\", \"y\": [7.155], \"yaxis\": \"y\"}, {\"customdata\": [[\"Canada\"]], \"hovertemplate\": \"Country name=%{customdata[0]}<br>Logged GDP per capita=%{x}<br>Ladder score=%{y}<extra></extra>\", \"legendgroup\": \"Canada\", \"marker\": {\"color\": \"#ab63fa\", \"symbol\": \"circle\"}, \"mode\": \"markers\", \"name\": \"Canada\", \"orientation\": \"v\", \"showlegend\": true, \"type\": \"scatter\", \"x\": [10.776], \"xaxis\": \"x\", \"y\": [7.103], \"yaxis\": \"y\"}, {\"customdata\": [[\"Ireland\"]], \"hovertemplate\": \"Country name=%{customdata[0]}<br>Logged GDP per capita=%{x}<br>Ladder score=%{y}<extra></extra>\", \"legendgroup\": \"Ireland\", \"marker\": {\"color\": \"#FFA15A\", \"symbol\": \"circle\"}, \"mode\": \"markers\", \"name\": \"Ireland\", \"orientation\": \"v\", \"showlegend\": true, \"type\": \"scatter\", \"x\": [11.342], \"xaxis\": \"x\", \"y\": [7.085], \"yaxis\": \"y\"}, {\"customdata\": [[\"Costa Rica\"]], \"hovertemplate\": \"Country name=%{customdata[0]}<br>Logged GDP per capita=%{x}<br>Ladder score=%{y}<extra></extra>\", \"legendgroup\": \"Costa Rica\", \"marker\": {\"color\": \"#19d3f3\", \"symbol\": \"circle\"}, \"mode\": \"markers\", \"name\": \"Costa Rica\", \"orientation\": \"v\", \"showlegend\": true, \"type\": \"scatter\", \"x\": [9.88], \"xaxis\": \"x\", \"y\": [7.069], \"yaxis\": \"y\"}, {\"customdata\": [[\"United Kingdom\"]], \"hovertemplate\": \"Country name=%{customdata[0]}<br>Logged GDP per capita=%{x}<br>Ladder score=%{y}<extra></extra>\", \"legendgroup\": \"United Kingdom\", \"marker\": {\"color\": \"#FF6692\", \"symbol\": \"circle\"}, \"mode\": \"markers\", \"name\": \"United Kingdom\", \"orientation\": \"v\", \"showlegend\": true, \"type\": \"scatter\", \"x\": [10.707], \"xaxis\": \"x\", \"y\": [7.064], \"yaxis\": \"y\"}, {\"customdata\": [[\"Czech Republic\"]], \"hovertemplate\": \"Country name=%{customdata[0]}<br>Logged GDP per capita=%{x}<br>Ladder score=%{y}<extra></extra>\", \"legendgroup\": \"Czech Republic\", \"marker\": {\"color\": \"#B6E880\", \"symbol\": \"circle\"}, \"mode\": \"markers\", \"name\": \"Czech Republic\", \"orientation\": \"v\", \"showlegend\": true, \"type\": \"scatter\", \"x\": [10.556], \"xaxis\": \"x\", \"y\": [6.965], \"yaxis\": \"y\"}, {\"customdata\": [[\"United States\"]], \"hovertemplate\": \"Country name=%{customdata[0]}<br>Logged GDP per capita=%{x}<br>Ladder score=%{y}<extra></extra>\", \"legendgroup\": \"United States\", \"marker\": {\"color\": \"#FF97FF\", \"symbol\": \"circle\"}, \"mode\": \"markers\", \"name\": \"United States\", \"orientation\": \"v\", \"showlegend\": true, \"type\": \"scatter\", \"x\": [11.023], \"xaxis\": \"x\", \"y\": [6.9510000000000005], \"yaxis\": \"y\"}, {\"customdata\": [[\"Belgium\"]], \"hovertemplate\": \"Country name=%{customdata[0]}<br>Logged GDP per capita=%{x}<br>Ladder score=%{y}<extra></extra>\", \"legendgroup\": \"Belgium\", \"marker\": {\"color\": \"#FECB52\", \"symbol\": \"circle\"}, \"mode\": \"markers\", \"name\": \"Belgium\", \"orientation\": \"v\", \"showlegend\": true, \"type\": \"scatter\", \"x\": [10.823], \"xaxis\": \"x\", \"y\": [6.834], \"yaxis\": \"y\"}, {\"customdata\": [[\"France\"]], \"hovertemplate\": \"Country name=%{customdata[0]}<br>Logged GDP per capita=%{x}<br>Ladder score=%{y}<extra></extra>\", \"legendgroup\": \"France\", \"marker\": {\"color\": \"#636efa\", \"symbol\": \"circle\"}, \"mode\": \"markers\", \"name\": \"France\", \"orientation\": \"v\", \"showlegend\": true, \"type\": \"scatter\", \"x\": [10.704], \"xaxis\": \"x\", \"y\": [6.69], \"yaxis\": \"y\"}, {\"customdata\": [[\"Bahrain\"]], \"hovertemplate\": \"Country name=%{customdata[0]}<br>Logged GDP per capita=%{x}<br>Ladder score=%{y}<extra></extra>\", \"legendgroup\": \"Bahrain\", \"marker\": {\"color\": \"#EF553B\", \"symbol\": \"circle\"}, \"mode\": \"markers\", \"name\": \"Bahrain\", \"orientation\": \"v\", \"showlegend\": true, \"type\": \"scatter\", \"x\": [10.669], \"xaxis\": \"x\", \"y\": [6.647], \"yaxis\": \"y\"}, {\"customdata\": [[\"Malta\"]], \"hovertemplate\": \"Country name=%{customdata[0]}<br>Logged GDP per capita=%{x}<br>Ladder score=%{y}<extra></extra>\", \"legendgroup\": \"Malta\", \"marker\": {\"color\": \"#00cc96\", \"symbol\": \"circle\"}, \"mode\": \"markers\", \"name\": \"Malta\", \"orientation\": \"v\", \"showlegend\": true, \"type\": \"scatter\", \"x\": [10.674000000000001], \"xaxis\": \"x\", \"y\": [6.602], \"yaxis\": \"y\"}, {\"customdata\": [[\"Taiwan Province of China\"]], \"hovertemplate\": \"Country name=%{customdata[0]}<br>Logged GDP per capita=%{x}<br>Ladder score=%{y}<extra></extra>\", \"legendgroup\": \"Taiwan Province of China\", \"marker\": {\"color\": \"#ab63fa\", \"symbol\": \"circle\"}, \"mode\": \"markers\", \"name\": \"Taiwan Province of China\", \"orientation\": \"v\", \"showlegend\": true, \"type\": \"scatter\", \"x\": [10.870999999999999], \"xaxis\": \"x\", \"y\": [6.584], \"yaxis\": \"y\"}, {\"customdata\": [[\"United Arab Emirates\"]], \"hovertemplate\": \"Country name=%{customdata[0]}<br>Logged GDP per capita=%{x}<br>Ladder score=%{y}<extra></extra>\", \"legendgroup\": \"United Arab Emirates\", \"marker\": {\"color\": \"#FFA15A\", \"symbol\": \"circle\"}, \"mode\": \"markers\", \"name\": \"United Arab Emirates\", \"orientation\": \"v\", \"showlegend\": true, \"type\": \"scatter\", \"x\": [11.085], \"xaxis\": \"x\", \"y\": [6.561], \"yaxis\": \"y\"}, {\"customdata\": [[\"Saudi Arabia\"]], \"hovertemplate\": \"Country name=%{customdata[0]}<br>Logged GDP per capita=%{x}<br>Ladder score=%{y}<extra></extra>\", \"legendgroup\": \"Saudi Arabia\", \"marker\": {\"color\": \"#19d3f3\", \"symbol\": \"circle\"}, \"mode\": \"markers\", \"name\": \"Saudi Arabia\", \"orientation\": \"v\", \"showlegend\": true, \"type\": \"scatter\", \"x\": [10.743], \"xaxis\": \"x\", \"y\": [6.494], \"yaxis\": \"y\"}, {\"customdata\": [[\"Spain\"]], \"hovertemplate\": \"Country name=%{customdata[0]}<br>Logged GDP per capita=%{x}<br>Ladder score=%{y}<extra></extra>\", \"legendgroup\": \"Spain\", \"marker\": {\"color\": \"#FF6692\", \"symbol\": \"circle\"}, \"mode\": \"markers\", \"name\": \"Spain\", \"orientation\": \"v\", \"showlegend\": true, \"type\": \"scatter\", \"x\": [10.571], \"xaxis\": \"x\", \"y\": [6.4910000000000005], \"yaxis\": \"y\"}, {\"customdata\": [[\"Italy\"]], \"hovertemplate\": \"Country name=%{customdata[0]}<br>Logged GDP per capita=%{x}<br>Ladder score=%{y}<extra></extra>\", \"legendgroup\": \"Italy\", \"marker\": {\"color\": \"#B6E880\", \"symbol\": \"circle\"}, \"mode\": \"markers\", \"name\": \"Italy\", \"orientation\": \"v\", \"showlegend\": true, \"type\": \"scatter\", \"x\": [10.623], \"xaxis\": \"x\", \"y\": [6.483], \"yaxis\": \"y\"}, {\"customdata\": [[\"Slovenia\"]], \"hovertemplate\": \"Country name=%{customdata[0]}<br>Logged GDP per capita=%{x}<br>Ladder score=%{y}<extra></extra>\", \"legendgroup\": \"Slovenia\", \"marker\": {\"color\": \"#FF97FF\", \"symbol\": \"circle\"}, \"mode\": \"markers\", \"name\": \"Slovenia\", \"orientation\": \"v\", \"showlegend\": true, \"type\": \"scatter\", \"x\": [10.529000000000002], \"xaxis\": \"x\", \"y\": [6.461], \"yaxis\": \"y\"}, {\"customdata\": [[\"Guatemala\"]], \"hovertemplate\": \"Country name=%{customdata[0]}<br>Logged GDP per capita=%{x}<br>Ladder score=%{y}<extra></extra>\", \"legendgroup\": \"Guatemala\", \"marker\": {\"color\": \"#FECB52\", \"symbol\": \"circle\"}, \"mode\": \"markers\", \"name\": \"Guatemala\", \"orientation\": \"v\", \"showlegend\": true, \"type\": \"scatter\", \"x\": [9.052999999999999], \"xaxis\": \"x\", \"y\": [6.435], \"yaxis\": \"y\"}, {\"customdata\": [[\"Uruguay\"]], \"hovertemplate\": \"Country name=%{customdata[0]}<br>Logged GDP per capita=%{x}<br>Ladder score=%{y}<extra></extra>\", \"legendgroup\": \"Uruguay\", \"marker\": {\"color\": \"#636efa\", \"symbol\": \"circle\"}, \"mode\": \"markers\", \"name\": \"Uruguay\", \"orientation\": \"v\", \"showlegend\": true, \"type\": \"scatter\", \"x\": [9.966000000000001], \"xaxis\": \"x\", \"y\": [6.431], \"yaxis\": \"y\"}, {\"customdata\": [[\"Singapore\"]], \"hovertemplate\": \"Country name=%{customdata[0]}<br>Logged GDP per capita=%{x}<br>Ladder score=%{y}<extra></extra>\", \"legendgroup\": \"Singapore\", \"marker\": {\"color\": \"#EF553B\", \"symbol\": \"circle\"}, \"mode\": \"markers\", \"name\": \"Singapore\", \"orientation\": \"v\", \"showlegend\": true, \"type\": \"scatter\", \"x\": [11.488], \"xaxis\": \"x\", \"y\": [6.377000000000001], \"yaxis\": \"y\"}, {\"customdata\": [[\"Kosovo\"]], \"hovertemplate\": \"Country name=%{customdata[0]}<br>Logged GDP per capita=%{x}<br>Ladder score=%{y}<extra></extra>\", \"legendgroup\": \"Kosovo\", \"marker\": {\"color\": \"#00cc96\", \"symbol\": \"circle\"}, \"mode\": \"markers\", \"name\": \"Kosovo\", \"orientation\": \"v\", \"showlegend\": true, \"type\": \"scatter\", \"x\": [9.318], \"xaxis\": \"x\", \"y\": [6.372000000000001], \"yaxis\": \"y\"}, {\"customdata\": [[\"Slovakia\"]], \"hovertemplate\": \"Country name=%{customdata[0]}<br>Logged GDP per capita=%{x}<br>Ladder score=%{y}<extra></extra>\", \"legendgroup\": \"Slovakia\", \"marker\": {\"color\": \"#ab63fa\", \"symbol\": \"circle\"}, \"mode\": \"markers\", \"name\": \"Slovakia\", \"orientation\": \"v\", \"showlegend\": true, \"type\": \"scatter\", \"x\": [10.369000000000002], \"xaxis\": \"x\", \"y\": [6.331], \"yaxis\": \"y\"}, {\"customdata\": [[\"Brazil\"]], \"hovertemplate\": \"Country name=%{customdata[0]}<br>Logged GDP per capita=%{x}<br>Ladder score=%{y}<extra></extra>\", \"legendgroup\": \"Brazil\", \"marker\": {\"color\": \"#FFA15A\", \"symbol\": \"circle\"}, \"mode\": \"markers\", \"name\": \"Brazil\", \"orientation\": \"v\", \"showlegend\": true, \"type\": \"scatter\", \"x\": [9.577], \"xaxis\": \"x\", \"y\": [6.33], \"yaxis\": \"y\"}, {\"customdata\": [[\"Mexico\"]], \"hovertemplate\": \"Country name=%{customdata[0]}<br>Logged GDP per capita=%{x}<br>Ladder score=%{y}<extra></extra>\", \"legendgroup\": \"Mexico\", \"marker\": {\"color\": \"#19d3f3\", \"symbol\": \"circle\"}, \"mode\": \"markers\", \"name\": \"Mexico\", \"orientation\": \"v\", \"showlegend\": true, \"type\": \"scatter\", \"x\": [9.859], \"xaxis\": \"x\", \"y\": [6.317], \"yaxis\": \"y\"}, {\"customdata\": [[\"Jamaica\"]], \"hovertemplate\": \"Country name=%{customdata[0]}<br>Logged GDP per capita=%{x}<br>Ladder score=%{y}<extra></extra>\", \"legendgroup\": \"Jamaica\", \"marker\": {\"color\": \"#FF6692\", \"symbol\": \"circle\"}, \"mode\": \"markers\", \"name\": \"Jamaica\", \"orientation\": \"v\", \"showlegend\": true, \"type\": \"scatter\", \"x\": [9.186], \"xaxis\": \"x\", \"y\": [6.309], \"yaxis\": \"y\"}, {\"customdata\": [[\"Lithuania\"]], \"hovertemplate\": \"Country name=%{customdata[0]}<br>Logged GDP per capita=%{x}<br>Ladder score=%{y}<extra></extra>\", \"legendgroup\": \"Lithuania\", \"marker\": {\"color\": \"#B6E880\", \"symbol\": \"circle\"}, \"mode\": \"markers\", \"name\": \"Lithuania\", \"orientation\": \"v\", \"showlegend\": true, \"type\": \"scatter\", \"x\": [10.499], \"xaxis\": \"x\", \"y\": [6.255], \"yaxis\": \"y\"}, {\"customdata\": [[\"Cyprus\"]], \"hovertemplate\": \"Country name=%{customdata[0]}<br>Logged GDP per capita=%{x}<br>Ladder score=%{y}<extra></extra>\", \"legendgroup\": \"Cyprus\", \"marker\": {\"color\": \"#FF97FF\", \"symbol\": \"circle\"}, \"mode\": \"markers\", \"name\": \"Cyprus\", \"orientation\": \"v\", \"showlegend\": true, \"type\": \"scatter\", \"x\": [10.575999999999999], \"xaxis\": \"x\", \"y\": [6.223], \"yaxis\": \"y\"}, {\"customdata\": [[\"Estonia\"]], \"hovertemplate\": \"Country name=%{customdata[0]}<br>Logged GDP per capita=%{x}<br>Ladder score=%{y}<extra></extra>\", \"legendgroup\": \"Estonia\", \"marker\": {\"color\": \"#FECB52\", \"symbol\": \"circle\"}, \"mode\": \"markers\", \"name\": \"Estonia\", \"orientation\": \"v\", \"showlegend\": true, \"type\": \"scatter\", \"x\": [10.481], \"xaxis\": \"x\", \"y\": [6.189], \"yaxis\": \"y\"}, {\"customdata\": [[\"Panama\"]], \"hovertemplate\": \"Country name=%{customdata[0]}<br>Logged GDP per capita=%{x}<br>Ladder score=%{y}<extra></extra>\", \"legendgroup\": \"Panama\", \"marker\": {\"color\": \"#636efa\", \"symbol\": \"circle\"}, \"mode\": \"markers\", \"name\": \"Panama\", \"orientation\": \"v\", \"showlegend\": true, \"type\": \"scatter\", \"x\": [10.35], \"xaxis\": \"x\", \"y\": [6.18], \"yaxis\": \"y\"}, {\"customdata\": [[\"Uzbekistan\"]], \"hovertemplate\": \"Country name=%{customdata[0]}<br>Logged GDP per capita=%{x}<br>Ladder score=%{y}<extra></extra>\", \"legendgroup\": \"Uzbekistan\", \"marker\": {\"color\": \"#EF553B\", \"symbol\": \"circle\"}, \"mode\": \"markers\", \"name\": \"Uzbekistan\", \"orientation\": \"v\", \"showlegend\": true, \"type\": \"scatter\", \"x\": [8.836], \"xaxis\": \"x\", \"y\": [6.178999999999999], \"yaxis\": \"y\"}, {\"customdata\": [[\"Chile\"]], \"hovertemplate\": \"Country name=%{customdata[0]}<br>Logged GDP per capita=%{x}<br>Ladder score=%{y}<extra></extra>\", \"legendgroup\": \"Chile\", \"marker\": {\"color\": \"#00cc96\", \"symbol\": \"circle\"}, \"mode\": \"markers\", \"name\": \"Chile\", \"orientation\": \"v\", \"showlegend\": true, \"type\": \"scatter\", \"x\": [10.071], \"xaxis\": \"x\", \"y\": [6.172000000000001], \"yaxis\": \"y\"}, {\"customdata\": [[\"Poland\"]], \"hovertemplate\": \"Country name=%{customdata[0]}<br>Logged GDP per capita=%{x}<br>Ladder score=%{y}<extra></extra>\", \"legendgroup\": \"Poland\", \"marker\": {\"color\": \"#ab63fa\", \"symbol\": \"circle\"}, \"mode\": \"markers\", \"name\": \"Poland\", \"orientation\": \"v\", \"showlegend\": true, \"type\": \"scatter\", \"x\": [10.382], \"xaxis\": \"x\", \"y\": [6.166], \"yaxis\": \"y\"}, {\"customdata\": [[\"Kazakhstan\"]], \"hovertemplate\": \"Country name=%{customdata[0]}<br>Logged GDP per capita=%{x}<br>Ladder score=%{y}<extra></extra>\", \"legendgroup\": \"Kazakhstan\", \"marker\": {\"color\": \"#FFA15A\", \"symbol\": \"circle\"}, \"mode\": \"markers\", \"name\": \"Kazakhstan\", \"orientation\": \"v\", \"showlegend\": true, \"type\": \"scatter\", \"x\": [10.155], \"xaxis\": \"x\", \"y\": [6.152], \"yaxis\": \"y\"}, {\"customdata\": [[\"Romania\"]], \"hovertemplate\": \"Country name=%{customdata[0]}<br>Logged GDP per capita=%{x}<br>Ladder score=%{y}<extra></extra>\", \"legendgroup\": \"Romania\", \"marker\": {\"color\": \"#19d3f3\", \"symbol\": \"circle\"}, \"mode\": \"markers\", \"name\": \"Romania\", \"orientation\": \"v\", \"showlegend\": true, \"type\": \"scatter\", \"x\": [10.284], \"xaxis\": \"x\", \"y\": [6.14], \"yaxis\": \"y\"}, {\"customdata\": [[\"Kuwait\"]], \"hovertemplate\": \"Country name=%{customdata[0]}<br>Logged GDP per capita=%{x}<br>Ladder score=%{y}<extra></extra>\", \"legendgroup\": \"Kuwait\", \"marker\": {\"color\": \"#FF6692\", \"symbol\": \"circle\"}, \"mode\": \"markers\", \"name\": \"Kuwait\", \"orientation\": \"v\", \"showlegend\": true, \"type\": \"scatter\", \"x\": [10.817], \"xaxis\": \"x\", \"y\": [6.106], \"yaxis\": \"y\"}, {\"customdata\": [[\"Serbia\"]], \"hovertemplate\": \"Country name=%{customdata[0]}<br>Logged GDP per capita=%{x}<br>Ladder score=%{y}<extra></extra>\", \"legendgroup\": \"Serbia\", \"marker\": {\"color\": \"#B6E880\", \"symbol\": \"circle\"}, \"mode\": \"markers\", \"name\": \"Serbia\", \"orientation\": \"v\", \"showlegend\": true, \"type\": \"scatter\", \"x\": [9.787], \"xaxis\": \"x\", \"y\": [6.077999999999999], \"yaxis\": \"y\"}, {\"customdata\": [[\"El Salvador\"]], \"hovertemplate\": \"Country name=%{customdata[0]}<br>Logged GDP per capita=%{x}<br>Ladder score=%{y}<extra></extra>\", \"legendgroup\": \"El Salvador\", \"marker\": {\"color\": \"#FF97FF\", \"symbol\": \"circle\"}, \"mode\": \"markers\", \"name\": \"El Salvador\", \"orientation\": \"v\", \"showlegend\": true, \"type\": \"scatter\", \"x\": [9.054], \"xaxis\": \"x\", \"y\": [6.061], \"yaxis\": \"y\"}, {\"customdata\": [[\"Mauritius\"]], \"hovertemplate\": \"Country name=%{customdata[0]}<br>Logged GDP per capita=%{x}<br>Ladder score=%{y}<extra></extra>\", \"legendgroup\": \"Mauritius\", \"marker\": {\"color\": \"#FECB52\", \"symbol\": \"circle\"}, \"mode\": \"markers\", \"name\": \"Mauritius\", \"orientation\": \"v\", \"showlegend\": true, \"type\": \"scatter\", \"x\": [10.008], \"xaxis\": \"x\", \"y\": [6.0489999999999995], \"yaxis\": \"y\"}, {\"customdata\": [[\"Latvia\"]], \"hovertemplate\": \"Country name=%{customdata[0]}<br>Logged GDP per capita=%{x}<br>Ladder score=%{y}<extra></extra>\", \"legendgroup\": \"Latvia\", \"marker\": {\"color\": \"#636efa\", \"symbol\": \"circle\"}, \"mode\": \"markers\", \"name\": \"Latvia\", \"orientation\": \"v\", \"showlegend\": true, \"type\": \"scatter\", \"x\": [10.315], \"xaxis\": \"x\", \"y\": [6.032], \"yaxis\": \"y\"}, {\"customdata\": [[\"Colombia\"]], \"hovertemplate\": \"Country name=%{customdata[0]}<br>Logged GDP per capita=%{x}<br>Ladder score=%{y}<extra></extra>\", \"legendgroup\": \"Colombia\", \"marker\": {\"color\": \"#EF553B\", \"symbol\": \"circle\"}, \"mode\": \"markers\", \"name\": \"Colombia\", \"orientation\": \"v\", \"showlegend\": true, \"type\": \"scatter\", \"x\": [9.557], \"xaxis\": \"x\", \"y\": [6.0120000000000005], \"yaxis\": \"y\"}, {\"customdata\": [[\"Hungary\"]], \"hovertemplate\": \"Country name=%{customdata[0]}<br>Logged GDP per capita=%{x}<br>Ladder score=%{y}<extra></extra>\", \"legendgroup\": \"Hungary\", \"marker\": {\"color\": \"#00cc96\", \"symbol\": \"circle\"}, \"mode\": \"markers\", \"name\": \"Hungary\", \"orientation\": \"v\", \"showlegend\": true, \"type\": \"scatter\", \"x\": [10.357999999999999], \"xaxis\": \"x\", \"y\": [5.992000000000001], \"yaxis\": \"y\"}, {\"customdata\": [[\"Thailand\"]], \"hovertemplate\": \"Country name=%{customdata[0]}<br>Logged GDP per capita=%{x}<br>Ladder score=%{y}<extra></extra>\", \"legendgroup\": \"Thailand\", \"marker\": {\"color\": \"#ab63fa\", \"symbol\": \"circle\"}, \"mode\": \"markers\", \"name\": \"Thailand\", \"orientation\": \"v\", \"showlegend\": true, \"type\": \"scatter\", \"x\": [9.805], \"xaxis\": \"x\", \"y\": [5.985], \"yaxis\": \"y\"}, {\"customdata\": [[\"Nicaragua\"]], \"hovertemplate\": \"Country name=%{customdata[0]}<br>Logged GDP per capita=%{x}<br>Ladder score=%{y}<extra></extra>\", \"legendgroup\": \"Nicaragua\", \"marker\": {\"color\": \"#FFA15A\", \"symbol\": \"circle\"}, \"mode\": \"markers\", \"name\": \"Nicaragua\", \"orientation\": \"v\", \"showlegend\": true, \"type\": \"scatter\", \"x\": [8.62], \"xaxis\": \"x\", \"y\": [5.972], \"yaxis\": \"y\"}, {\"customdata\": [[\"Japan\"]], \"hovertemplate\": \"Country name=%{customdata[0]}<br>Logged GDP per capita=%{x}<br>Ladder score=%{y}<extra></extra>\", \"legendgroup\": \"Japan\", \"marker\": {\"color\": \"#19d3f3\", \"symbol\": \"circle\"}, \"mode\": \"markers\", \"name\": \"Japan\", \"orientation\": \"v\", \"showlegend\": true, \"type\": \"scatter\", \"x\": [10.610999999999999], \"xaxis\": \"x\", \"y\": [5.94], \"yaxis\": \"y\"}, {\"customdata\": [[\"Argentina\"]], \"hovertemplate\": \"Country name=%{customdata[0]}<br>Logged GDP per capita=%{x}<br>Ladder score=%{y}<extra></extra>\", \"legendgroup\": \"Argentina\", \"marker\": {\"color\": \"#FF6692\", \"symbol\": \"circle\"}, \"mode\": \"markers\", \"name\": \"Argentina\", \"orientation\": \"v\", \"showlegend\": true, \"type\": \"scatter\", \"x\": [9.962], \"xaxis\": \"x\", \"y\": [5.928999999999999], \"yaxis\": \"y\"}, {\"customdata\": [[\"Portugal\"]], \"hovertemplate\": \"Country name=%{customdata[0]}<br>Logged GDP per capita=%{x}<br>Ladder score=%{y}<extra></extra>\", \"legendgroup\": \"Portugal\", \"marker\": {\"color\": \"#B6E880\", \"symbol\": \"circle\"}, \"mode\": \"markers\", \"name\": \"Portugal\", \"orientation\": \"v\", \"showlegend\": true, \"type\": \"scatter\", \"x\": [10.421], \"xaxis\": \"x\", \"y\": [5.928999999999999], \"yaxis\": \"y\"}, {\"customdata\": [[\"Honduras\"]], \"hovertemplate\": \"Country name=%{customdata[0]}<br>Logged GDP per capita=%{x}<br>Ladder score=%{y}<extra></extra>\", \"legendgroup\": \"Honduras\", \"marker\": {\"color\": \"#FF97FF\", \"symbol\": \"circle\"}, \"mode\": \"markers\", \"name\": \"Honduras\", \"orientation\": \"v\", \"showlegend\": true, \"type\": \"scatter\", \"x\": [8.648], \"xaxis\": \"x\", \"y\": [5.919], \"yaxis\": \"y\"}, {\"customdata\": [[\"Croatia\"]], \"hovertemplate\": \"Country name=%{customdata[0]}<br>Logged GDP per capita=%{x}<br>Ladder score=%{y}<extra></extra>\", \"legendgroup\": \"Croatia\", \"marker\": {\"color\": \"#FECB52\", \"symbol\": \"circle\"}, \"mode\": \"markers\", \"name\": \"Croatia\", \"orientation\": \"v\", \"showlegend\": true, \"type\": \"scatter\", \"x\": [10.217], \"xaxis\": \"x\", \"y\": [5.882000000000001], \"yaxis\": \"y\"}, {\"customdata\": [[\"Philippines\"]], \"hovertemplate\": \"Country name=%{customdata[0]}<br>Logged GDP per capita=%{x}<br>Ladder score=%{y}<extra></extra>\", \"legendgroup\": \"Philippines\", \"marker\": {\"color\": \"#636efa\", \"symbol\": \"circle\"}, \"mode\": \"markers\", \"name\": \"Philippines\", \"orientation\": \"v\", \"showlegend\": true, \"type\": \"scatter\", \"x\": [9.076], \"xaxis\": \"x\", \"y\": [5.88], \"yaxis\": \"y\"}, {\"customdata\": [[\"South Korea\"]], \"hovertemplate\": \"Country name=%{customdata[0]}<br>Logged GDP per capita=%{x}<br>Ladder score=%{y}<extra></extra>\", \"legendgroup\": \"South Korea\", \"marker\": {\"color\": \"#EF553B\", \"symbol\": \"circle\"}, \"mode\": \"markers\", \"name\": \"South Korea\", \"orientation\": \"v\", \"showlegend\": true, \"type\": \"scatter\", \"x\": [10.651], \"xaxis\": \"x\", \"y\": [5.845], \"yaxis\": \"y\"}, {\"customdata\": [[\"Peru\"]], \"hovertemplate\": \"Country name=%{customdata[0]}<br>Logged GDP per capita=%{x}<br>Ladder score=%{y}<extra></extra>\", \"legendgroup\": \"Peru\", \"marker\": {\"color\": \"#00cc96\", \"symbol\": \"circle\"}, \"mode\": \"markers\", \"name\": \"Peru\", \"orientation\": \"v\", \"showlegend\": true, \"type\": \"scatter\", \"x\": [9.458], \"xaxis\": \"x\", \"y\": [5.84], \"yaxis\": \"y\"}, {\"customdata\": [[\"Bosnia and Herzegovina\"]], \"hovertemplate\": \"Country name=%{customdata[0]}<br>Logged GDP per capita=%{x}<br>Ladder score=%{y}<extra></extra>\", \"legendgroup\": \"Bosnia and Herzegovina\", \"marker\": {\"color\": \"#ab63fa\", \"symbol\": \"circle\"}, \"mode\": \"markers\", \"name\": \"Bosnia and Herzegovina\", \"orientation\": \"v\", \"showlegend\": true, \"type\": \"scatter\", \"x\": [9.59], \"xaxis\": \"x\", \"y\": [5.813], \"yaxis\": \"y\"}, {\"customdata\": [[\"Moldova\"]], \"hovertemplate\": \"Country name=%{customdata[0]}<br>Logged GDP per capita=%{x}<br>Ladder score=%{y}<extra></extra>\", \"legendgroup\": \"Moldova\", \"marker\": {\"color\": \"#FFA15A\", \"symbol\": \"circle\"}, \"mode\": \"markers\", \"name\": \"Moldova\", \"orientation\": \"v\", \"showlegend\": true, \"type\": \"scatter\", \"x\": [9.454], \"xaxis\": \"x\", \"y\": [5.766], \"yaxis\": \"y\"}, {\"customdata\": [[\"Ecuador\"]], \"hovertemplate\": \"Country name=%{customdata[0]}<br>Logged GDP per capita=%{x}<br>Ladder score=%{y}<extra></extra>\", \"legendgroup\": \"Ecuador\", \"marker\": {\"color\": \"#19d3f3\", \"symbol\": \"circle\"}, \"mode\": \"markers\", \"name\": \"Ecuador\", \"orientation\": \"v\", \"showlegend\": true, \"type\": \"scatter\", \"x\": [9.312999999999999], \"xaxis\": \"x\", \"y\": [5.763999999999999], \"yaxis\": \"y\"}, {\"customdata\": [[\"Kyrgyzstan\"]], \"hovertemplate\": \"Country name=%{customdata[0]}<br>Logged GDP per capita=%{x}<br>Ladder score=%{y}<extra></extra>\", \"legendgroup\": \"Kyrgyzstan\", \"marker\": {\"color\": \"#FF6692\", \"symbol\": \"circle\"}, \"mode\": \"markers\", \"name\": \"Kyrgyzstan\", \"orientation\": \"v\", \"showlegend\": true, \"type\": \"scatter\", \"x\": [8.538], \"xaxis\": \"x\", \"y\": [5.744], \"yaxis\": \"y\"}, {\"customdata\": [[\"Greece\"]], \"hovertemplate\": \"Country name=%{customdata[0]}<br>Logged GDP per capita=%{x}<br>Ladder score=%{y}<extra></extra>\", \"legendgroup\": \"Greece\", \"marker\": {\"color\": \"#B6E880\", \"symbol\": \"circle\"}, \"mode\": \"markers\", \"name\": \"Greece\", \"orientation\": \"v\", \"showlegend\": true, \"type\": \"scatter\", \"x\": [10.279000000000002], \"xaxis\": \"x\", \"y\": [5.723], \"yaxis\": \"y\"}, {\"customdata\": [[\"Bolivia\"]], \"hovertemplate\": \"Country name=%{customdata[0]}<br>Logged GDP per capita=%{x}<br>Ladder score=%{y}<extra></extra>\", \"legendgroup\": \"Bolivia\", \"marker\": {\"color\": \"#FF97FF\", \"symbol\": \"circle\"}, \"mode\": \"markers\", \"name\": \"Bolivia\", \"orientation\": \"v\", \"showlegend\": true, \"type\": \"scatter\", \"x\": [9.046], \"xaxis\": \"x\", \"y\": [5.716], \"yaxis\": \"y\"}, {\"customdata\": [[\"Mongolia\"]], \"hovertemplate\": \"Country name=%{customdata[0]}<br>Logged GDP per capita=%{x}<br>Ladder score=%{y}<extra></extra>\", \"legendgroup\": \"Mongolia\", \"marker\": {\"color\": \"#FECB52\", \"symbol\": \"circle\"}, \"mode\": \"markers\", \"name\": \"Mongolia\", \"orientation\": \"v\", \"showlegend\": true, \"type\": \"scatter\", \"x\": [9.4], \"xaxis\": \"x\", \"y\": [5.6770000000000005], \"yaxis\": \"y\"}, {\"customdata\": [[\"Paraguay\"]], \"hovertemplate\": \"Country name=%{customdata[0]}<br>Logged GDP per capita=%{x}<br>Ladder score=%{y}<extra></extra>\", \"legendgroup\": \"Paraguay\", \"marker\": {\"color\": \"#636efa\", \"symbol\": \"circle\"}, \"mode\": \"markers\", \"name\": \"Paraguay\", \"orientation\": \"v\", \"showlegend\": true, \"type\": \"scatter\", \"x\": [9.448], \"xaxis\": \"x\", \"y\": [5.653], \"yaxis\": \"y\"}, {\"customdata\": [[\"Montenegro\"]], \"hovertemplate\": \"Country name=%{customdata[0]}<br>Logged GDP per capita=%{x}<br>Ladder score=%{y}<extra></extra>\", \"legendgroup\": \"Montenegro\", \"marker\": {\"color\": \"#EF553B\", \"symbol\": \"circle\"}, \"mode\": \"markers\", \"name\": \"Montenegro\", \"orientation\": \"v\", \"showlegend\": true, \"type\": \"scatter\", \"x\": [9.94], \"xaxis\": \"x\", \"y\": [5.581], \"yaxis\": \"y\"}, {\"customdata\": [[\"Dominican Republic\"]], \"hovertemplate\": \"Country name=%{customdata[0]}<br>Logged GDP per capita=%{x}<br>Ladder score=%{y}<extra></extra>\", \"legendgroup\": \"Dominican Republic\", \"marker\": {\"color\": \"#00cc96\", \"symbol\": \"circle\"}, \"mode\": \"markers\", \"name\": \"Dominican Republic\", \"orientation\": \"v\", \"showlegend\": true, \"type\": \"scatter\", \"x\": [9.802], \"xaxis\": \"x\", \"y\": [5.545], \"yaxis\": \"y\"}, {\"customdata\": [[\"North Cyprus\"]], \"hovertemplate\": \"Country name=%{customdata[0]}<br>Logged GDP per capita=%{x}<br>Ladder score=%{y}<extra></extra>\", \"legendgroup\": \"North Cyprus\", \"marker\": {\"color\": \"#ab63fa\", \"symbol\": \"circle\"}, \"mode\": \"markers\", \"name\": \"North Cyprus\", \"orientation\": \"v\", \"showlegend\": true, \"type\": \"scatter\", \"x\": [10.575999999999999], \"xaxis\": \"x\", \"y\": [5.5360000000000005], \"yaxis\": \"y\"}, {\"customdata\": [[\"Belarus\"]], \"hovertemplate\": \"Country name=%{customdata[0]}<br>Logged GDP per capita=%{x}<br>Ladder score=%{y}<extra></extra>\", \"legendgroup\": \"Belarus\", \"marker\": {\"color\": \"#FFA15A\", \"symbol\": \"circle\"}, \"mode\": \"markers\", \"name\": \"Belarus\", \"orientation\": \"v\", \"showlegend\": true, \"type\": \"scatter\", \"x\": [9.853], \"xaxis\": \"x\", \"y\": [5.534], \"yaxis\": \"y\"}, {\"customdata\": [[\"Russia\"]], \"hovertemplate\": \"Country name=%{customdata[0]}<br>Logged GDP per capita=%{x}<br>Ladder score=%{y}<extra></extra>\", \"legendgroup\": \"Russia\", \"marker\": {\"color\": \"#19d3f3\", \"symbol\": \"circle\"}, \"mode\": \"markers\", \"name\": \"Russia\", \"orientation\": \"v\", \"showlegend\": true, \"type\": \"scatter\", \"x\": [10.189], \"xaxis\": \"x\", \"y\": [5.477], \"yaxis\": \"y\"}, {\"customdata\": [[\"Hong Kong S.A.R. of China\"]], \"hovertemplate\": \"Country name=%{customdata[0]}<br>Logged GDP per capita=%{x}<br>Ladder score=%{y}<extra></extra>\", \"legendgroup\": \"Hong Kong S.A.R. of China\", \"marker\": {\"color\": \"#FF6692\", \"symbol\": \"circle\"}, \"mode\": \"markers\", \"name\": \"Hong Kong S.A.R. of China\", \"orientation\": \"v\", \"showlegend\": true, \"type\": \"scatter\", \"x\": [11.0], \"xaxis\": \"x\", \"y\": [5.477], \"yaxis\": \"y\"}, {\"customdata\": [[\"Tajikistan\"]], \"hovertemplate\": \"Country name=%{customdata[0]}<br>Logged GDP per capita=%{x}<br>Ladder score=%{y}<extra></extra>\", \"legendgroup\": \"Tajikistan\", \"marker\": {\"color\": \"#B6E880\", \"symbol\": \"circle\"}, \"mode\": \"markers\", \"name\": \"Tajikistan\", \"orientation\": \"v\", \"showlegend\": true, \"type\": \"scatter\", \"x\": [8.091000000000001], \"xaxis\": \"x\", \"y\": [5.466], \"yaxis\": \"y\"}, {\"customdata\": [[\"Vietnam\"]], \"hovertemplate\": \"Country name=%{customdata[0]}<br>Logged GDP per capita=%{x}<br>Ladder score=%{y}<extra></extra>\", \"legendgroup\": \"Vietnam\", \"marker\": {\"color\": \"#FF97FF\", \"symbol\": \"circle\"}, \"mode\": \"markers\", \"name\": \"Vietnam\", \"orientation\": \"v\", \"showlegend\": true, \"type\": \"scatter\", \"x\": [8.972999999999999], \"xaxis\": \"x\", \"y\": [5.4110000000000005], \"yaxis\": \"y\"}, {\"customdata\": [[\"Libya\"]], \"hovertemplate\": \"Country name=%{customdata[0]}<br>Logged GDP per capita=%{x}<br>Ladder score=%{y}<extra></extra>\", \"legendgroup\": \"Libya\", \"marker\": {\"color\": \"#FECB52\", \"symbol\": \"circle\"}, \"mode\": \"markers\", \"name\": \"Libya\", \"orientation\": \"v\", \"showlegend\": true, \"type\": \"scatter\", \"x\": [9.622], \"xaxis\": \"x\", \"y\": [5.41], \"yaxis\": \"y\"}, {\"customdata\": [[\"Malaysia\"]], \"hovertemplate\": \"Country name=%{customdata[0]}<br>Logged GDP per capita=%{x}<br>Ladder score=%{y}<extra></extra>\", \"legendgroup\": \"Malaysia\", \"marker\": {\"color\": \"#636efa\", \"symbol\": \"circle\"}, \"mode\": \"markers\", \"name\": \"Malaysia\", \"orientation\": \"v\", \"showlegend\": true, \"type\": \"scatter\", \"x\": [10.238], \"xaxis\": \"x\", \"y\": [5.3839999999999995], \"yaxis\": \"y\"}, {\"customdata\": [[\"Indonesia\"]], \"hovertemplate\": \"Country name=%{customdata[0]}<br>Logged GDP per capita=%{x}<br>Ladder score=%{y}<extra></extra>\", \"legendgroup\": \"Indonesia\", \"marker\": {\"color\": \"#EF553B\", \"symbol\": \"circle\"}, \"mode\": \"markers\", \"name\": \"Indonesia\", \"orientation\": \"v\", \"showlegend\": true, \"type\": \"scatter\", \"x\": [9.365], \"xaxis\": \"x\", \"y\": [5.345], \"yaxis\": \"y\"}, {\"customdata\": [[\"Congo (Brazzaville)\"]], \"hovertemplate\": \"Country name=%{customdata[0]}<br>Logged GDP per capita=%{x}<br>Ladder score=%{y}<extra></extra>\", \"legendgroup\": \"Congo (Brazzaville)\", \"marker\": {\"color\": \"#00cc96\", \"symbol\": \"circle\"}, \"mode\": \"markers\", \"name\": \"Congo (Brazzaville)\", \"orientation\": \"v\", \"showlegend\": true, \"type\": \"scatter\", \"x\": [8.117], \"xaxis\": \"x\", \"y\": [5.3420000000000005], \"yaxis\": \"y\"}, {\"customdata\": [[\"China\"]], \"hovertemplate\": \"Country name=%{customdata[0]}<br>Logged GDP per capita=%{x}<br>Ladder score=%{y}<extra></extra>\", \"legendgroup\": \"China\", \"marker\": {\"color\": \"#ab63fa\", \"symbol\": \"circle\"}, \"mode\": \"markers\", \"name\": \"China\", \"orientation\": \"v\", \"showlegend\": true, \"type\": \"scatter\", \"x\": [9.673], \"xaxis\": \"x\", \"y\": [5.3389999999999995], \"yaxis\": \"y\"}, {\"customdata\": [[\"Ivory Coast\"]], \"hovertemplate\": \"Country name=%{customdata[0]}<br>Logged GDP per capita=%{x}<br>Ladder score=%{y}<extra></extra>\", \"legendgroup\": \"Ivory Coast\", \"marker\": {\"color\": \"#FFA15A\", \"symbol\": \"circle\"}, \"mode\": \"markers\", \"name\": \"Ivory Coast\", \"orientation\": \"v\", \"showlegend\": true, \"type\": \"scatter\", \"x\": [8.551], \"xaxis\": \"x\", \"y\": [5.306], \"yaxis\": \"y\"}, {\"customdata\": [[\"Armenia\"]], \"hovertemplate\": \"Country name=%{customdata[0]}<br>Logged GDP per capita=%{x}<br>Ladder score=%{y}<extra></extra>\", \"legendgroup\": \"Armenia\", \"marker\": {\"color\": \"#19d3f3\", \"symbol\": \"circle\"}, \"mode\": \"markers\", \"name\": \"Armenia\", \"orientation\": \"v\", \"showlegend\": true, \"type\": \"scatter\", \"x\": [9.487], \"xaxis\": \"x\", \"y\": [5.2829999999999995], \"yaxis\": \"y\"}, {\"customdata\": [[\"Nepal\"]], \"hovertemplate\": \"Country name=%{customdata[0]}<br>Logged GDP per capita=%{x}<br>Ladder score=%{y}<extra></extra>\", \"legendgroup\": \"Nepal\", \"marker\": {\"color\": \"#FF6692\", \"symbol\": \"circle\"}, \"mode\": \"markers\", \"name\": \"Nepal\", \"orientation\": \"v\", \"showlegend\": true, \"type\": \"scatter\", \"x\": [8.12], \"xaxis\": \"x\", \"y\": [5.269], \"yaxis\": \"y\"}, {\"customdata\": [[\"Bulgaria\"]], \"hovertemplate\": \"Country name=%{customdata[0]}<br>Logged GDP per capita=%{x}<br>Ladder score=%{y}<extra></extra>\", \"legendgroup\": \"Bulgaria\", \"marker\": {\"color\": \"#B6E880\", \"symbol\": \"circle\"}, \"mode\": \"markers\", \"name\": \"Bulgaria\", \"orientation\": \"v\", \"showlegend\": true, \"type\": \"scatter\", \"x\": [10.016], \"xaxis\": \"x\", \"y\": [5.266], \"yaxis\": \"y\"}, {\"customdata\": [[\"Maldives\"]], \"hovertemplate\": \"Country name=%{customdata[0]}<br>Logged GDP per capita=%{x}<br>Ladder score=%{y}<extra></extra>\", \"legendgroup\": \"Maldives\", \"marker\": {\"color\": \"#FF97FF\", \"symbol\": \"circle\"}, \"mode\": \"markers\", \"name\": \"Maldives\", \"orientation\": \"v\", \"showlegend\": true, \"type\": \"scatter\", \"x\": [9.826], \"xaxis\": \"x\", \"y\": [5.1979999999999995], \"yaxis\": \"y\"}, {\"customdata\": [[\"Azerbaijan\"]], \"hovertemplate\": \"Country name=%{customdata[0]}<br>Logged GDP per capita=%{x}<br>Ladder score=%{y}<extra></extra>\", \"legendgroup\": \"Azerbaijan\", \"marker\": {\"color\": \"#FECB52\", \"symbol\": \"circle\"}, \"mode\": \"markers\", \"name\": \"Azerbaijan\", \"orientation\": \"v\", \"showlegend\": true, \"type\": \"scatter\", \"x\": [9.568999999999999], \"xaxis\": \"x\", \"y\": [5.171], \"yaxis\": \"y\"}, {\"customdata\": [[\"Cameroon\"]], \"hovertemplate\": \"Country name=%{customdata[0]}<br>Logged GDP per capita=%{x}<br>Ladder score=%{y}<extra></extra>\", \"legendgroup\": \"Cameroon\", \"marker\": {\"color\": \"#636efa\", \"symbol\": \"circle\"}, \"mode\": \"markers\", \"name\": \"Cameroon\", \"orientation\": \"v\", \"showlegend\": true, \"type\": \"scatter\", \"x\": [8.189], \"xaxis\": \"x\", \"y\": [5.142], \"yaxis\": \"y\"}, {\"customdata\": [[\"Senegal\"]], \"hovertemplate\": \"Country name=%{customdata[0]}<br>Logged GDP per capita=%{x}<br>Ladder score=%{y}<extra></extra>\", \"legendgroup\": \"Senegal\", \"marker\": {\"color\": \"#EF553B\", \"symbol\": \"circle\"}, \"mode\": \"markers\", \"name\": \"Senegal\", \"orientation\": \"v\", \"showlegend\": true, \"type\": \"scatter\", \"x\": [8.118], \"xaxis\": \"x\", \"y\": [5.132000000000001], \"yaxis\": \"y\"}, {\"customdata\": [[\"Albania\"]], \"hovertemplate\": \"Country name=%{customdata[0]}<br>Logged GDP per capita=%{x}<br>Ladder score=%{y}<extra></extra>\", \"legendgroup\": \"Albania\", \"marker\": {\"color\": \"#00cc96\", \"symbol\": \"circle\"}, \"mode\": \"markers\", \"name\": \"Albania\", \"orientation\": \"v\", \"showlegend\": true, \"type\": \"scatter\", \"x\": [9.52], \"xaxis\": \"x\", \"y\": [5.117], \"yaxis\": \"y\"}, {\"customdata\": [[\"North Macedonia\"]], \"hovertemplate\": \"Country name=%{customdata[0]}<br>Logged GDP per capita=%{x}<br>Ladder score=%{y}<extra></extra>\", \"legendgroup\": \"North Macedonia\", \"marker\": {\"color\": \"#ab63fa\", \"symbol\": \"circle\"}, \"mode\": \"markers\", \"name\": \"North Macedonia\", \"orientation\": \"v\", \"showlegend\": true, \"type\": \"scatter\", \"x\": [9.693], \"xaxis\": \"x\", \"y\": [5.101], \"yaxis\": \"y\"}, {\"customdata\": [[\"Ghana\"]], \"hovertemplate\": \"Country name=%{customdata[0]}<br>Logged GDP per capita=%{x}<br>Ladder score=%{y}<extra></extra>\", \"legendgroup\": \"Ghana\", \"marker\": {\"color\": \"#FFA15A\", \"symbol\": \"circle\"}, \"mode\": \"markers\", \"name\": \"Ghana\", \"orientation\": \"v\", \"showlegend\": true, \"type\": \"scatter\", \"x\": [8.58], \"xaxis\": \"x\", \"y\": [5.088], \"yaxis\": \"y\"}, {\"customdata\": [[\"Niger\"]], \"hovertemplate\": \"Country name=%{customdata[0]}<br>Logged GDP per capita=%{x}<br>Ladder score=%{y}<extra></extra>\", \"legendgroup\": \"Niger\", \"marker\": {\"color\": \"#19d3f3\", \"symbol\": \"circle\"}, \"mode\": \"markers\", \"name\": \"Niger\", \"orientation\": \"v\", \"showlegend\": true, \"type\": \"scatter\", \"x\": [7.098], \"xaxis\": \"x\", \"y\": [5.074], \"yaxis\": \"y\"}, {\"customdata\": [[\"Turkmenistan\"]], \"hovertemplate\": \"Country name=%{customdata[0]}<br>Logged GDP per capita=%{x}<br>Ladder score=%{y}<extra></extra>\", \"legendgroup\": \"Turkmenistan\", \"marker\": {\"color\": \"#FF6692\", \"symbol\": \"circle\"}, \"mode\": \"markers\", \"name\": \"Turkmenistan\", \"orientation\": \"v\", \"showlegend\": true, \"type\": \"scatter\", \"x\": [9.629], \"xaxis\": \"x\", \"y\": [5.066], \"yaxis\": \"y\"}, {\"customdata\": [[\"Gambia\"]], \"hovertemplate\": \"Country name=%{customdata[0]}<br>Logged GDP per capita=%{x}<br>Ladder score=%{y}<extra></extra>\", \"legendgroup\": \"Gambia\", \"marker\": {\"color\": \"#B6E880\", \"symbol\": \"circle\"}, \"mode\": \"markers\", \"name\": \"Gambia\", \"orientation\": \"v\", \"showlegend\": true, \"type\": \"scatter\", \"x\": [7.686], \"xaxis\": \"x\", \"y\": [5.051], \"yaxis\": \"y\"}, {\"customdata\": [[\"Benin\"]], \"hovertemplate\": \"Country name=%{customdata[0]}<br>Logged GDP per capita=%{x}<br>Ladder score=%{y}<extra></extra>\", \"legendgroup\": \"Benin\", \"marker\": {\"color\": \"#FF97FF\", \"symbol\": \"circle\"}, \"mode\": \"markers\", \"name\": \"Benin\", \"orientation\": \"v\", \"showlegend\": true, \"type\": \"scatter\", \"x\": [8.087], \"xaxis\": \"x\", \"y\": [5.045], \"yaxis\": \"y\"}, {\"customdata\": [[\"Laos\"]], \"hovertemplate\": \"Country name=%{customdata[0]}<br>Logged GDP per capita=%{x}<br>Ladder score=%{y}<extra></extra>\", \"legendgroup\": \"Laos\", \"marker\": {\"color\": \"#FECB52\", \"symbol\": \"circle\"}, \"mode\": \"markers\", \"name\": \"Laos\", \"orientation\": \"v\", \"showlegend\": true, \"type\": \"scatter\", \"x\": [8.947000000000001], \"xaxis\": \"x\", \"y\": [5.03], \"yaxis\": \"y\"}, {\"customdata\": [[\"Bangladesh\"]], \"hovertemplate\": \"Country name=%{customdata[0]}<br>Logged GDP per capita=%{x}<br>Ladder score=%{y}<extra></extra>\", \"legendgroup\": \"Bangladesh\", \"marker\": {\"color\": \"#636efa\", \"symbol\": \"circle\"}, \"mode\": \"markers\", \"name\": \"Bangladesh\", \"orientation\": \"v\", \"showlegend\": true, \"type\": \"scatter\", \"x\": [8.454], \"xaxis\": \"x\", \"y\": [5.025], \"yaxis\": \"y\"}, {\"customdata\": [[\"Guinea\"]], \"hovertemplate\": \"Country name=%{customdata[0]}<br>Logged GDP per capita=%{x}<br>Ladder score=%{y}<extra></extra>\", \"legendgroup\": \"Guinea\", \"marker\": {\"color\": \"#EF553B\", \"symbol\": \"circle\"}, \"mode\": \"markers\", \"name\": \"Guinea\", \"orientation\": \"v\", \"showlegend\": true, \"type\": \"scatter\", \"x\": [7.837999999999999], \"xaxis\": \"x\", \"y\": [4.984], \"yaxis\": \"y\"}, {\"customdata\": [[\"South Africa\"]], \"hovertemplate\": \"Country name=%{customdata[0]}<br>Logged GDP per capita=%{x}<br>Ladder score=%{y}<extra></extra>\", \"legendgroup\": \"South Africa\", \"marker\": {\"color\": \"#00cc96\", \"symbol\": \"circle\"}, \"mode\": \"markers\", \"name\": \"South Africa\", \"orientation\": \"v\", \"showlegend\": true, \"type\": \"scatter\", \"x\": [9.402999999999999], \"xaxis\": \"x\", \"y\": [4.956], \"yaxis\": \"y\"}, {\"customdata\": [[\"Turkey\"]], \"hovertemplate\": \"Country name=%{customdata[0]}<br>Logged GDP per capita=%{x}<br>Ladder score=%{y}<extra></extra>\", \"legendgroup\": \"Turkey\", \"marker\": {\"color\": \"#ab63fa\", \"symbol\": \"circle\"}, \"mode\": \"markers\", \"name\": \"Turkey\", \"orientation\": \"v\", \"showlegend\": true, \"type\": \"scatter\", \"x\": [10.24], \"xaxis\": \"x\", \"y\": [4.948], \"yaxis\": \"y\"}, {\"customdata\": [[\"Pakistan\"]], \"hovertemplate\": \"Country name=%{customdata[0]}<br>Logged GDP per capita=%{x}<br>Ladder score=%{y}<extra></extra>\", \"legendgroup\": \"Pakistan\", \"marker\": {\"color\": \"#FFA15A\", \"symbol\": \"circle\"}, \"mode\": \"markers\", \"name\": \"Pakistan\", \"orientation\": \"v\", \"showlegend\": true, \"type\": \"scatter\", \"x\": [8.458], \"xaxis\": \"x\", \"y\": [4.934], \"yaxis\": \"y\"}, {\"customdata\": [[\"Morocco\"]], \"hovertemplate\": \"Country name=%{customdata[0]}<br>Logged GDP per capita=%{x}<br>Ladder score=%{y}<extra></extra>\", \"legendgroup\": \"Morocco\", \"marker\": {\"color\": \"#19d3f3\", \"symbol\": \"circle\"}, \"mode\": \"markers\", \"name\": \"Morocco\", \"orientation\": \"v\", \"showlegend\": true, \"type\": \"scatter\", \"x\": [8.902999999999999], \"xaxis\": \"x\", \"y\": [4.918], \"yaxis\": \"y\"}, {\"customdata\": [[\"Venezuela\"]], \"hovertemplate\": \"Country name=%{customdata[0]}<br>Logged GDP per capita=%{x}<br>Ladder score=%{y}<extra></extra>\", \"legendgroup\": \"Venezuela\", \"marker\": {\"color\": \"#FF6692\", \"symbol\": \"circle\"}, \"mode\": \"markers\", \"name\": \"Venezuela\", \"orientation\": \"v\", \"showlegend\": true, \"type\": \"scatter\", \"x\": [9.073], \"xaxis\": \"x\", \"y\": [4.8919999999999995], \"yaxis\": \"y\"}, {\"customdata\": [[\"Georgia\"]], \"hovertemplate\": \"Country name=%{customdata[0]}<br>Logged GDP per capita=%{x}<br>Ladder score=%{y}<extra></extra>\", \"legendgroup\": \"Georgia\", \"marker\": {\"color\": \"#B6E880\", \"symbol\": \"circle\"}, \"mode\": \"markers\", \"name\": \"Georgia\", \"orientation\": \"v\", \"showlegend\": true, \"type\": \"scatter\", \"x\": [9.585], \"xaxis\": \"x\", \"y\": [4.891], \"yaxis\": \"y\"}, {\"customdata\": [[\"Algeria\"]], \"hovertemplate\": \"Country name=%{customdata[0]}<br>Logged GDP per capita=%{x}<br>Ladder score=%{y}<extra></extra>\", \"legendgroup\": \"Algeria\", \"marker\": {\"color\": \"#FF97FF\", \"symbol\": \"circle\"}, \"mode\": \"markers\", \"name\": \"Algeria\", \"orientation\": \"v\", \"showlegend\": true, \"type\": \"scatter\", \"x\": [9.342], \"xaxis\": \"x\", \"y\": [4.887], \"yaxis\": \"y\"}, {\"customdata\": [[\"Ukraine\"]], \"hovertemplate\": \"Country name=%{customdata[0]}<br>Logged GDP per capita=%{x}<br>Ladder score=%{y}<extra></extra>\", \"legendgroup\": \"Ukraine\", \"marker\": {\"color\": \"#FECB52\", \"symbol\": \"circle\"}, \"mode\": \"markers\", \"name\": \"Ukraine\", \"orientation\": \"v\", \"showlegend\": true, \"type\": \"scatter\", \"x\": [9.436], \"xaxis\": \"x\", \"y\": [4.875], \"yaxis\": \"y\"}, {\"customdata\": [[\"Iraq\"]], \"hovertemplate\": \"Country name=%{customdata[0]}<br>Logged GDP per capita=%{x}<br>Ladder score=%{y}<extra></extra>\", \"legendgroup\": \"Iraq\", \"marker\": {\"color\": \"#636efa\", \"symbol\": \"circle\"}, \"mode\": \"markers\", \"name\": \"Iraq\", \"orientation\": \"v\", \"showlegend\": true, \"type\": \"scatter\", \"x\": [9.24], \"xaxis\": \"x\", \"y\": [4.854], \"yaxis\": \"y\"}, {\"customdata\": [[\"Gabon\"]], \"hovertemplate\": \"Country name=%{customdata[0]}<br>Logged GDP per capita=%{x}<br>Ladder score=%{y}<extra></extra>\", \"legendgroup\": \"Gabon\", \"marker\": {\"color\": \"#EF553B\", \"symbol\": \"circle\"}, \"mode\": \"markers\", \"name\": \"Gabon\", \"orientation\": \"v\", \"showlegend\": true, \"type\": \"scatter\", \"x\": [9.603], \"xaxis\": \"x\", \"y\": [4.852], \"yaxis\": \"y\"}, {\"customdata\": [[\"Burkina Faso\"]], \"hovertemplate\": \"Country name=%{customdata[0]}<br>Logged GDP per capita=%{x}<br>Ladder score=%{y}<extra></extra>\", \"legendgroup\": \"Burkina Faso\", \"marker\": {\"color\": \"#00cc96\", \"symbol\": \"circle\"}, \"mode\": \"markers\", \"name\": \"Burkina Faso\", \"orientation\": \"v\", \"showlegend\": true, \"type\": \"scatter\", \"x\": [7.678], \"xaxis\": \"x\", \"y\": [4.834], \"yaxis\": \"y\"}, {\"customdata\": [[\"Cambodia\"]], \"hovertemplate\": \"Country name=%{customdata[0]}<br>Logged GDP per capita=%{x}<br>Ladder score=%{y}<extra></extra>\", \"legendgroup\": \"Cambodia\", \"marker\": {\"color\": \"#ab63fa\", \"symbol\": \"circle\"}, \"mode\": \"markers\", \"name\": \"Cambodia\", \"orientation\": \"v\", \"showlegend\": true, \"type\": \"scatter\", \"x\": [8.36], \"xaxis\": \"x\", \"y\": [4.83], \"yaxis\": \"y\"}, {\"customdata\": [[\"Mozambique\"]], \"hovertemplate\": \"Country name=%{customdata[0]}<br>Logged GDP per capita=%{x}<br>Ladder score=%{y}<extra></extra>\", \"legendgroup\": \"Mozambique\", \"marker\": {\"color\": \"#FFA15A\", \"symbol\": \"circle\"}, \"mode\": \"markers\", \"name\": \"Mozambique\", \"orientation\": \"v\", \"showlegend\": true, \"type\": \"scatter\", \"x\": [7.1579999999999995], \"xaxis\": \"x\", \"y\": [4.794], \"yaxis\": \"y\"}, {\"customdata\": [[\"Nigeria\"]], \"hovertemplate\": \"Country name=%{customdata[0]}<br>Logged GDP per capita=%{x}<br>Ladder score=%{y}<extra></extra>\", \"legendgroup\": \"Nigeria\", \"marker\": {\"color\": \"#19d3f3\", \"symbol\": \"circle\"}, \"mode\": \"markers\", \"name\": \"Nigeria\", \"orientation\": \"v\", \"showlegend\": true, \"type\": \"scatter\", \"x\": [8.533], \"xaxis\": \"x\", \"y\": [4.7589999999999995], \"yaxis\": \"y\"}, {\"customdata\": [[\"Mali\"]], \"hovertemplate\": \"Country name=%{customdata[0]}<br>Logged GDP per capita=%{x}<br>Ladder score=%{y}<extra></extra>\", \"legendgroup\": \"Mali\", \"marker\": {\"color\": \"#FF6692\", \"symbol\": \"circle\"}, \"mode\": \"markers\", \"name\": \"Mali\", \"orientation\": \"v\", \"showlegend\": true, \"type\": \"scatter\", \"x\": [7.744], \"xaxis\": \"x\", \"y\": [4.723], \"yaxis\": \"y\"}, {\"customdata\": [[\"Iran\"]], \"hovertemplate\": \"Country name=%{customdata[0]}<br>Logged GDP per capita=%{x}<br>Ladder score=%{y}<extra></extra>\", \"legendgroup\": \"Iran\", \"marker\": {\"color\": \"#B6E880\", \"symbol\": \"circle\"}, \"mode\": \"markers\", \"name\": \"Iran\", \"orientation\": \"v\", \"showlegend\": true, \"type\": \"scatter\", \"x\": [9.584], \"xaxis\": \"x\", \"y\": [4.721], \"yaxis\": \"y\"}, {\"customdata\": [[\"Uganda\"]], \"hovertemplate\": \"Country name=%{customdata[0]}<br>Logged GDP per capita=%{x}<br>Ladder score=%{y}<extra></extra>\", \"legendgroup\": \"Uganda\", \"marker\": {\"color\": \"#FF97FF\", \"symbol\": \"circle\"}, \"mode\": \"markers\", \"name\": \"Uganda\", \"orientation\": \"v\", \"showlegend\": true, \"type\": \"scatter\", \"x\": [7.6770000000000005], \"xaxis\": \"x\", \"y\": [4.636], \"yaxis\": \"y\"}, {\"customdata\": [[\"Liberia\"]], \"hovertemplate\": \"Country name=%{customdata[0]}<br>Logged GDP per capita=%{x}<br>Ladder score=%{y}<extra></extra>\", \"legendgroup\": \"Liberia\", \"marker\": {\"color\": \"#FECB52\", \"symbol\": \"circle\"}, \"mode\": \"markers\", \"name\": \"Liberia\", \"orientation\": \"v\", \"showlegend\": true, \"type\": \"scatter\", \"x\": [7.287999999999999], \"xaxis\": \"x\", \"y\": [4.625], \"yaxis\": \"y\"}, {\"customdata\": [[\"Kenya\"]], \"hovertemplate\": \"Country name=%{customdata[0]}<br>Logged GDP per capita=%{x}<br>Ladder score=%{y}<extra></extra>\", \"legendgroup\": \"Kenya\", \"marker\": {\"color\": \"#636efa\", \"symbol\": \"circle\"}, \"mode\": \"markers\", \"name\": \"Kenya\", \"orientation\": \"v\", \"showlegend\": true, \"type\": \"scatter\", \"x\": [8.361], \"xaxis\": \"x\", \"y\": [4.607], \"yaxis\": \"y\"}, {\"customdata\": [[\"Tunisia\"]], \"hovertemplate\": \"Country name=%{customdata[0]}<br>Logged GDP per capita=%{x}<br>Ladder score=%{y}<extra></extra>\", \"legendgroup\": \"Tunisia\", \"marker\": {\"color\": \"#EF553B\", \"symbol\": \"circle\"}, \"mode\": \"markers\", \"name\": \"Tunisia\", \"orientation\": \"v\", \"showlegend\": true, \"type\": \"scatter\", \"x\": [9.266], \"xaxis\": \"x\", \"y\": [4.596], \"yaxis\": \"y\"}, {\"customdata\": [[\"Lebanon\"]], \"hovertemplate\": \"Country name=%{customdata[0]}<br>Logged GDP per capita=%{x}<br>Ladder score=%{y}<extra></extra>\", \"legendgroup\": \"Lebanon\", \"marker\": {\"color\": \"#00cc96\", \"symbol\": \"circle\"}, \"mode\": \"markers\", \"name\": \"Lebanon\", \"orientation\": \"v\", \"showlegend\": true, \"type\": \"scatter\", \"x\": [9.626], \"xaxis\": \"x\", \"y\": [4.584], \"yaxis\": \"y\"}, {\"customdata\": [[\"Namibia\"]], \"hovertemplate\": \"Country name=%{customdata[0]}<br>Logged GDP per capita=%{x}<br>Ladder score=%{y}<extra></extra>\", \"legendgroup\": \"Namibia\", \"marker\": {\"color\": \"#ab63fa\", \"symbol\": \"circle\"}, \"mode\": \"markers\", \"name\": \"Namibia\", \"orientation\": \"v\", \"showlegend\": true, \"type\": \"scatter\", \"x\": [9.161], \"xaxis\": \"x\", \"y\": [4.574], \"yaxis\": \"y\"}, {\"customdata\": [[\"Palestinian Territories\"]], \"hovertemplate\": \"Country name=%{customdata[0]}<br>Logged GDP per capita=%{x}<br>Ladder score=%{y}<extra></extra>\", \"legendgroup\": \"Palestinian Territories\", \"marker\": {\"color\": \"#FFA15A\", \"symbol\": \"circle\"}, \"mode\": \"markers\", \"name\": \"Palestinian Territories\", \"orientation\": \"v\", \"showlegend\": true, \"type\": \"scatter\", \"x\": [8.485], \"xaxis\": \"x\", \"y\": [4.5169999999999995], \"yaxis\": \"y\"}, {\"customdata\": [[\"Myanmar\"]], \"hovertemplate\": \"Country name=%{customdata[0]}<br>Logged GDP per capita=%{x}<br>Ladder score=%{y}<extra></extra>\", \"legendgroup\": \"Myanmar\", \"marker\": {\"color\": \"#19d3f3\", \"symbol\": \"circle\"}, \"mode\": \"markers\", \"name\": \"Myanmar\", \"orientation\": \"v\", \"showlegend\": true, \"type\": \"scatter\", \"x\": [8.541], \"xaxis\": \"x\", \"y\": [4.426], \"yaxis\": \"y\"}, {\"customdata\": [[\"Jordan\"]], \"hovertemplate\": \"Country name=%{customdata[0]}<br>Logged GDP per capita=%{x}<br>Ladder score=%{y}<extra></extra>\", \"legendgroup\": \"Jordan\", \"marker\": {\"color\": \"#FF6692\", \"symbol\": \"circle\"}, \"mode\": \"markers\", \"name\": \"Jordan\", \"orientation\": \"v\", \"showlegend\": true, \"type\": \"scatter\", \"x\": [9.182], \"xaxis\": \"x\", \"y\": [4.395], \"yaxis\": \"y\"}, {\"customdata\": [[\"Chad\"]], \"hovertemplate\": \"Country name=%{customdata[0]}<br>Logged GDP per capita=%{x}<br>Ladder score=%{y}<extra></extra>\", \"legendgroup\": \"Chad\", \"marker\": {\"color\": \"#B6E880\", \"symbol\": \"circle\"}, \"mode\": \"markers\", \"name\": \"Chad\", \"orientation\": \"v\", \"showlegend\": true, \"type\": \"scatter\", \"x\": [7.364], \"xaxis\": \"x\", \"y\": [4.355], \"yaxis\": \"y\"}, {\"customdata\": [[\"Sri Lanka\"]], \"hovertemplate\": \"Country name=%{customdata[0]}<br>Logged GDP per capita=%{x}<br>Ladder score=%{y}<extra></extra>\", \"legendgroup\": \"Sri Lanka\", \"marker\": {\"color\": \"#FF97FF\", \"symbol\": \"circle\"}, \"mode\": \"markers\", \"name\": \"Sri Lanka\", \"orientation\": \"v\", \"showlegend\": true, \"type\": \"scatter\", \"x\": [9.47], \"xaxis\": \"x\", \"y\": [4.325], \"yaxis\": \"y\"}, {\"customdata\": [[\"Swaziland\"]], \"hovertemplate\": \"Country name=%{customdata[0]}<br>Logged GDP per capita=%{x}<br>Ladder score=%{y}<extra></extra>\", \"legendgroup\": \"Swaziland\", \"marker\": {\"color\": \"#FECB52\", \"symbol\": \"circle\"}, \"mode\": \"markers\", \"name\": \"Swaziland\", \"orientation\": \"v\", \"showlegend\": true, \"type\": \"scatter\", \"x\": [9.065], \"xaxis\": \"x\", \"y\": [4.308], \"yaxis\": \"y\"}, {\"customdata\": [[\"Comoros\"]], \"hovertemplate\": \"Country name=%{customdata[0]}<br>Logged GDP per capita=%{x}<br>Ladder score=%{y}<extra></extra>\", \"legendgroup\": \"Comoros\", \"marker\": {\"color\": \"#636efa\", \"symbol\": \"circle\"}, \"mode\": \"markers\", \"name\": \"Comoros\", \"orientation\": \"v\", \"showlegend\": true, \"type\": \"scatter\", \"x\": [8.031], \"xaxis\": \"x\", \"y\": [4.289], \"yaxis\": \"y\"}, {\"customdata\": [[\"Egypt\"]], \"hovertemplate\": \"Country name=%{customdata[0]}<br>Logged GDP per capita=%{x}<br>Ladder score=%{y}<extra></extra>\", \"legendgroup\": \"Egypt\", \"marker\": {\"color\": \"#EF553B\", \"symbol\": \"circle\"}, \"mode\": \"markers\", \"name\": \"Egypt\", \"orientation\": \"v\", \"showlegend\": true, \"type\": \"scatter\", \"x\": [9.367], \"xaxis\": \"x\", \"y\": [4.283], \"yaxis\": \"y\"}, {\"customdata\": [[\"Ethiopia\"]], \"hovertemplate\": \"Country name=%{customdata[0]}<br>Logged GDP per capita=%{x}<br>Ladder score=%{y}<extra></extra>\", \"legendgroup\": \"Ethiopia\", \"marker\": {\"color\": \"#00cc96\", \"symbol\": \"circle\"}, \"mode\": \"markers\", \"name\": \"Ethiopia\", \"orientation\": \"v\", \"showlegend\": true, \"type\": \"scatter\", \"x\": [7.694], \"xaxis\": \"x\", \"y\": [4.275], \"yaxis\": \"y\"}, {\"customdata\": [[\"Mauritania\"]], \"hovertemplate\": \"Country name=%{customdata[0]}<br>Logged GDP per capita=%{x}<br>Ladder score=%{y}<extra></extra>\", \"legendgroup\": \"Mauritania\", \"marker\": {\"color\": \"#ab63fa\", \"symbol\": \"circle\"}, \"mode\": \"markers\", \"name\": \"Mauritania\", \"orientation\": \"v\", \"showlegend\": true, \"type\": \"scatter\", \"x\": [8.542], \"xaxis\": \"x\", \"y\": [4.227], \"yaxis\": \"y\"}, {\"customdata\": [[\"Madagascar\"]], \"hovertemplate\": \"Country name=%{customdata[0]}<br>Logged GDP per capita=%{x}<br>Ladder score=%{y}<extra></extra>\", \"legendgroup\": \"Madagascar\", \"marker\": {\"color\": \"#FFA15A\", \"symbol\": \"circle\"}, \"mode\": \"markers\", \"name\": \"Madagascar\", \"orientation\": \"v\", \"showlegend\": true, \"type\": \"scatter\", \"x\": [7.396], \"xaxis\": \"x\", \"y\": [4.208], \"yaxis\": \"y\"}, {\"customdata\": [[\"Togo\"]], \"hovertemplate\": \"Country name=%{customdata[0]}<br>Logged GDP per capita=%{x}<br>Ladder score=%{y}<extra></extra>\", \"legendgroup\": \"Togo\", \"marker\": {\"color\": \"#19d3f3\", \"symbol\": \"circle\"}, \"mode\": \"markers\", \"name\": \"Togo\", \"orientation\": \"v\", \"showlegend\": true, \"type\": \"scatter\", \"x\": [7.362], \"xaxis\": \"x\", \"y\": [4.107], \"yaxis\": \"y\"}, {\"customdata\": [[\"Zambia\"]], \"hovertemplate\": \"Country name=%{customdata[0]}<br>Logged GDP per capita=%{x}<br>Ladder score=%{y}<extra></extra>\", \"legendgroup\": \"Zambia\", \"marker\": {\"color\": \"#FF6692\", \"symbol\": \"circle\"}, \"mode\": \"markers\", \"name\": \"Zambia\", \"orientation\": \"v\", \"showlegend\": true, \"type\": \"scatter\", \"x\": [8.145], \"xaxis\": \"x\", \"y\": [4.073], \"yaxis\": \"y\"}, {\"customdata\": [[\"Sierra Leone\"]], \"hovertemplate\": \"Country name=%{customdata[0]}<br>Logged GDP per capita=%{x}<br>Ladder score=%{y}<extra></extra>\", \"legendgroup\": \"Sierra Leone\", \"marker\": {\"color\": \"#B6E880\", \"symbol\": \"circle\"}, \"mode\": \"markers\", \"name\": \"Sierra Leone\", \"orientation\": \"v\", \"showlegend\": true, \"type\": \"scatter\", \"x\": [7.434], \"xaxis\": \"x\", \"y\": [3.8489999999999998], \"yaxis\": \"y\"}, {\"customdata\": [[\"India\"]], \"hovertemplate\": \"Country name=%{customdata[0]}<br>Logged GDP per capita=%{x}<br>Ladder score=%{y}<extra></extra>\", \"legendgroup\": \"India\", \"marker\": {\"color\": \"#FF97FF\", \"symbol\": \"circle\"}, \"mode\": \"markers\", \"name\": \"India\", \"orientation\": \"v\", \"showlegend\": true, \"type\": \"scatter\", \"x\": [8.755], \"xaxis\": \"x\", \"y\": [3.819], \"yaxis\": \"y\"}, {\"customdata\": [[\"Burundi\"]], \"hovertemplate\": \"Country name=%{customdata[0]}<br>Logged GDP per capita=%{x}<br>Ladder score=%{y}<extra></extra>\", \"legendgroup\": \"Burundi\", \"marker\": {\"color\": \"#FECB52\", \"symbol\": \"circle\"}, \"mode\": \"markers\", \"name\": \"Burundi\", \"orientation\": \"v\", \"showlegend\": true, \"type\": \"scatter\", \"x\": [6.635], \"xaxis\": \"x\", \"y\": [3.775], \"yaxis\": \"y\"}, {\"customdata\": [[\"Yemen\"]], \"hovertemplate\": \"Country name=%{customdata[0]}<br>Logged GDP per capita=%{x}<br>Ladder score=%{y}<extra></extra>\", \"legendgroup\": \"Yemen\", \"marker\": {\"color\": \"#636efa\", \"symbol\": \"circle\"}, \"mode\": \"markers\", \"name\": \"Yemen\", \"orientation\": \"v\", \"showlegend\": true, \"type\": \"scatter\", \"x\": [7.577999999999999], \"xaxis\": \"x\", \"y\": [3.658], \"yaxis\": \"y\"}, {\"customdata\": [[\"Tanzania\"]], \"hovertemplate\": \"Country name=%{customdata[0]}<br>Logged GDP per capita=%{x}<br>Ladder score=%{y}<extra></extra>\", \"legendgroup\": \"Tanzania\", \"marker\": {\"color\": \"#EF553B\", \"symbol\": \"circle\"}, \"mode\": \"markers\", \"name\": \"Tanzania\", \"orientation\": \"v\", \"showlegend\": true, \"type\": \"scatter\", \"x\": [7.876], \"xaxis\": \"x\", \"y\": [3.623], \"yaxis\": \"y\"}, {\"customdata\": [[\"Haiti\"]], \"hovertemplate\": \"Country name=%{customdata[0]}<br>Logged GDP per capita=%{x}<br>Ladder score=%{y}<extra></extra>\", \"legendgroup\": \"Haiti\", \"marker\": {\"color\": \"#00cc96\", \"symbol\": \"circle\"}, \"mode\": \"markers\", \"name\": \"Haiti\", \"orientation\": \"v\", \"showlegend\": true, \"type\": \"scatter\", \"x\": [7.477], \"xaxis\": \"x\", \"y\": [3.615], \"yaxis\": \"y\"}, {\"customdata\": [[\"Malawi\"]], \"hovertemplate\": \"Country name=%{customdata[0]}<br>Logged GDP per capita=%{x}<br>Ladder score=%{y}<extra></extra>\", \"legendgroup\": \"Malawi\", \"marker\": {\"color\": \"#ab63fa\", \"symbol\": \"circle\"}, \"mode\": \"markers\", \"name\": \"Malawi\", \"orientation\": \"v\", \"showlegend\": true, \"type\": \"scatter\", \"x\": [6.957999999999999], \"xaxis\": \"x\", \"y\": [3.6], \"yaxis\": \"y\"}, {\"customdata\": [[\"Lesotho\"]], \"hovertemplate\": \"Country name=%{customdata[0]}<br>Logged GDP per capita=%{x}<br>Ladder score=%{y}<extra></extra>\", \"legendgroup\": \"Lesotho\", \"marker\": {\"color\": \"#FFA15A\", \"symbol\": \"circle\"}, \"mode\": \"markers\", \"name\": \"Lesotho\", \"orientation\": \"v\", \"showlegend\": true, \"type\": \"scatter\", \"x\": [7.926], \"xaxis\": \"x\", \"y\": [3.512], \"yaxis\": \"y\"}, {\"customdata\": [[\"Botswana\"]], \"hovertemplate\": \"Country name=%{customdata[0]}<br>Logged GDP per capita=%{x}<br>Ladder score=%{y}<extra></extra>\", \"legendgroup\": \"Botswana\", \"marker\": {\"color\": \"#19d3f3\", \"symbol\": \"circle\"}, \"mode\": \"markers\", \"name\": \"Botswana\", \"orientation\": \"v\", \"showlegend\": true, \"type\": \"scatter\", \"x\": [9.782], \"xaxis\": \"x\", \"y\": [3.467], \"yaxis\": \"y\"}, {\"customdata\": [[\"Rwanda\"]], \"hovertemplate\": \"Country name=%{customdata[0]}<br>Logged GDP per capita=%{x}<br>Ladder score=%{y}<extra></extra>\", \"legendgroup\": \"Rwanda\", \"marker\": {\"color\": \"#FF6692\", \"symbol\": \"circle\"}, \"mode\": \"markers\", \"name\": \"Rwanda\", \"orientation\": \"v\", \"showlegend\": true, \"type\": \"scatter\", \"x\": [7.676], \"xaxis\": \"x\", \"y\": [3.415], \"yaxis\": \"y\"}, {\"customdata\": [[\"Zimbabwe\"]], \"hovertemplate\": \"Country name=%{customdata[0]}<br>Logged GDP per capita=%{x}<br>Ladder score=%{y}<extra></extra>\", \"legendgroup\": \"Zimbabwe\", \"marker\": {\"color\": \"#B6E880\", \"symbol\": \"circle\"}, \"mode\": \"markers\", \"name\": \"Zimbabwe\", \"orientation\": \"v\", \"showlegend\": true, \"type\": \"scatter\", \"x\": [7.943], \"xaxis\": \"x\", \"y\": [3.145], \"yaxis\": \"y\"}, {\"customdata\": [[\"Afghanistan\"]], \"hovertemplate\": \"Country name=%{customdata[0]}<br>Logged GDP per capita=%{x}<br>Ladder score=%{y}<extra></extra>\", \"legendgroup\": \"Afghanistan\", \"marker\": {\"color\": \"#FF97FF\", \"symbol\": \"circle\"}, \"mode\": \"markers\", \"name\": \"Afghanistan\", \"orientation\": \"v\", \"showlegend\": true, \"type\": \"scatter\", \"x\": [7.695], \"xaxis\": \"x\", \"y\": [2.523], \"yaxis\": \"y\"}],                        {\"legend\": {\"title\": {\"text\": \"Country name\"}, \"tracegroupgap\": 0}, \"margin\": {\"t\": 60}, \"template\": {\"data\": {\"bar\": [{\"error_x\": {\"color\": \"#2a3f5f\"}, \"error_y\": {\"color\": \"#2a3f5f\"}, \"marker\": {\"line\": {\"color\": \"#E5ECF6\", \"width\": 0.5}}, \"type\": \"bar\"}], \"barpolar\": [{\"marker\": {\"line\": {\"color\": \"#E5ECF6\", \"width\": 0.5}}, \"type\": \"barpolar\"}], \"carpet\": [{\"aaxis\": {\"endlinecolor\": \"#2a3f5f\", \"gridcolor\": \"white\", \"linecolor\": \"white\", \"minorgridcolor\": \"white\", \"startlinecolor\": \"#2a3f5f\"}, \"baxis\": {\"endlinecolor\": \"#2a3f5f\", \"gridcolor\": \"white\", \"linecolor\": \"white\", \"minorgridcolor\": \"white\", \"startlinecolor\": \"#2a3f5f\"}, \"type\": \"carpet\"}], \"choropleth\": [{\"colorbar\": {\"outlinewidth\": 0, \"ticks\": \"\"}, \"type\": \"choropleth\"}], \"contour\": [{\"colorbar\": {\"outlinewidth\": 0, \"ticks\": \"\"}, \"colorscale\": [[0.0, \"#0d0887\"], [0.1111111111111111, \"#46039f\"], [0.2222222222222222, \"#7201a8\"], [0.3333333333333333, \"#9c179e\"], [0.4444444444444444, \"#bd3786\"], [0.5555555555555556, \"#d8576b\"], [0.6666666666666666, \"#ed7953\"], [0.7777777777777778, \"#fb9f3a\"], [0.8888888888888888, \"#fdca26\"], [1.0, \"#f0f921\"]], \"type\": \"contour\"}], \"contourcarpet\": [{\"colorbar\": {\"outlinewidth\": 0, \"ticks\": \"\"}, \"type\": \"contourcarpet\"}], \"heatmap\": [{\"colorbar\": {\"outlinewidth\": 0, \"ticks\": \"\"}, \"colorscale\": [[0.0, \"#0d0887\"], [0.1111111111111111, \"#46039f\"], [0.2222222222222222, \"#7201a8\"], [0.3333333333333333, \"#9c179e\"], [0.4444444444444444, \"#bd3786\"], [0.5555555555555556, \"#d8576b\"], [0.6666666666666666, \"#ed7953\"], [0.7777777777777778, \"#fb9f3a\"], [0.8888888888888888, \"#fdca26\"], [1.0, \"#f0f921\"]], \"type\": \"heatmap\"}], \"heatmapgl\": [{\"colorbar\": {\"outlinewidth\": 0, \"ticks\": \"\"}, \"colorscale\": [[0.0, \"#0d0887\"], [0.1111111111111111, \"#46039f\"], [0.2222222222222222, \"#7201a8\"], [0.3333333333333333, \"#9c179e\"], [0.4444444444444444, \"#bd3786\"], [0.5555555555555556, \"#d8576b\"], [0.6666666666666666, \"#ed7953\"], [0.7777777777777778, \"#fb9f3a\"], [0.8888888888888888, \"#fdca26\"], [1.0, \"#f0f921\"]], \"type\": \"heatmapgl\"}], \"histogram\": [{\"marker\": {\"colorbar\": {\"outlinewidth\": 0, \"ticks\": \"\"}}, \"type\": \"histogram\"}], \"histogram2d\": [{\"colorbar\": {\"outlinewidth\": 0, \"ticks\": \"\"}, \"colorscale\": [[0.0, \"#0d0887\"], [0.1111111111111111, \"#46039f\"], [0.2222222222222222, \"#7201a8\"], [0.3333333333333333, \"#9c179e\"], [0.4444444444444444, \"#bd3786\"], [0.5555555555555556, \"#d8576b\"], [0.6666666666666666, \"#ed7953\"], [0.7777777777777778, \"#fb9f3a\"], [0.8888888888888888, \"#fdca26\"], [1.0, \"#f0f921\"]], \"type\": \"histogram2d\"}], \"histogram2dcontour\": [{\"colorbar\": {\"outlinewidth\": 0, \"ticks\": \"\"}, \"colorscale\": [[0.0, \"#0d0887\"], [0.1111111111111111, \"#46039f\"], [0.2222222222222222, \"#7201a8\"], [0.3333333333333333, \"#9c179e\"], [0.4444444444444444, \"#bd3786\"], [0.5555555555555556, \"#d8576b\"], [0.6666666666666666, \"#ed7953\"], [0.7777777777777778, \"#fb9f3a\"], [0.8888888888888888, \"#fdca26\"], [1.0, \"#f0f921\"]], \"type\": \"histogram2dcontour\"}], \"mesh3d\": [{\"colorbar\": {\"outlinewidth\": 0, \"ticks\": \"\"}, \"type\": \"mesh3d\"}], \"parcoords\": [{\"line\": {\"colorbar\": {\"outlinewidth\": 0, \"ticks\": \"\"}}, \"type\": \"parcoords\"}], \"pie\": [{\"automargin\": true, \"type\": \"pie\"}], \"scatter\": [{\"marker\": {\"colorbar\": {\"outlinewidth\": 0, \"ticks\": \"\"}}, \"type\": \"scatter\"}], \"scatter3d\": [{\"line\": {\"colorbar\": {\"outlinewidth\": 0, \"ticks\": \"\"}}, \"marker\": {\"colorbar\": {\"outlinewidth\": 0, \"ticks\": \"\"}}, \"type\": \"scatter3d\"}], \"scattercarpet\": [{\"marker\": {\"colorbar\": {\"outlinewidth\": 0, \"ticks\": \"\"}}, \"type\": \"scattercarpet\"}], \"scattergeo\": [{\"marker\": {\"colorbar\": {\"outlinewidth\": 0, \"ticks\": \"\"}}, \"type\": \"scattergeo\"}], \"scattergl\": [{\"marker\": {\"colorbar\": {\"outlinewidth\": 0, \"ticks\": \"\"}}, \"type\": \"scattergl\"}], \"scattermapbox\": [{\"marker\": {\"colorbar\": {\"outlinewidth\": 0, \"ticks\": \"\"}}, \"type\": \"scattermapbox\"}], \"scatterpolar\": [{\"marker\": {\"colorbar\": {\"outlinewidth\": 0, \"ticks\": \"\"}}, \"type\": \"scatterpolar\"}], \"scatterpolargl\": [{\"marker\": {\"colorbar\": {\"outlinewidth\": 0, \"ticks\": \"\"}}, \"type\": \"scatterpolargl\"}], \"scatterternary\": [{\"marker\": {\"colorbar\": {\"outlinewidth\": 0, \"ticks\": \"\"}}, \"type\": \"scatterternary\"}], \"surface\": [{\"colorbar\": {\"outlinewidth\": 0, \"ticks\": \"\"}, \"colorscale\": [[0.0, \"#0d0887\"], [0.1111111111111111, \"#46039f\"], [0.2222222222222222, \"#7201a8\"], [0.3333333333333333, \"#9c179e\"], [0.4444444444444444, \"#bd3786\"], [0.5555555555555556, \"#d8576b\"], [0.6666666666666666, \"#ed7953\"], [0.7777777777777778, \"#fb9f3a\"], [0.8888888888888888, \"#fdca26\"], [1.0, \"#f0f921\"]], \"type\": \"surface\"}], \"table\": [{\"cells\": {\"fill\": {\"color\": \"#EBF0F8\"}, \"line\": {\"color\": \"white\"}}, \"header\": {\"fill\": {\"color\": \"#C8D4E3\"}, \"line\": {\"color\": \"white\"}}, \"type\": \"table\"}]}, \"layout\": {\"annotationdefaults\": {\"arrowcolor\": \"#2a3f5f\", \"arrowhead\": 0, \"arrowwidth\": 1}, \"autotypenumbers\": \"strict\", \"coloraxis\": {\"colorbar\": {\"outlinewidth\": 0, \"ticks\": \"\"}}, \"colorscale\": {\"diverging\": [[0, \"#8e0152\"], [0.1, \"#c51b7d\"], [0.2, \"#de77ae\"], [0.3, \"#f1b6da\"], [0.4, \"#fde0ef\"], [0.5, \"#f7f7f7\"], [0.6, \"#e6f5d0\"], [0.7, \"#b8e186\"], [0.8, \"#7fbc41\"], [0.9, \"#4d9221\"], [1, \"#276419\"]], \"sequential\": [[0.0, \"#0d0887\"], [0.1111111111111111, \"#46039f\"], [0.2222222222222222, \"#7201a8\"], [0.3333333333333333, \"#9c179e\"], [0.4444444444444444, \"#bd3786\"], [0.5555555555555556, \"#d8576b\"], [0.6666666666666666, \"#ed7953\"], [0.7777777777777778, \"#fb9f3a\"], [0.8888888888888888, \"#fdca26\"], [1.0, \"#f0f921\"]], \"sequentialminus\": [[0.0, \"#0d0887\"], [0.1111111111111111, \"#46039f\"], [0.2222222222222222, \"#7201a8\"], [0.3333333333333333, \"#9c179e\"], [0.4444444444444444, \"#bd3786\"], [0.5555555555555556, \"#d8576b\"], [0.6666666666666666, \"#ed7953\"], [0.7777777777777778, \"#fb9f3a\"], [0.8888888888888888, \"#fdca26\"], [1.0, \"#f0f921\"]]}, \"colorway\": [\"#636efa\", \"#EF553B\", \"#00cc96\", \"#ab63fa\", \"#FFA15A\", \"#19d3f3\", \"#FF6692\", \"#B6E880\", \"#FF97FF\", \"#FECB52\"], \"font\": {\"color\": \"#2a3f5f\"}, \"geo\": {\"bgcolor\": \"white\", \"lakecolor\": \"white\", \"landcolor\": \"#E5ECF6\", \"showlakes\": true, \"showland\": true, \"subunitcolor\": \"white\"}, \"hoverlabel\": {\"align\": \"left\"}, \"hovermode\": \"closest\", \"mapbox\": {\"style\": \"light\"}, \"paper_bgcolor\": \"white\", \"plot_bgcolor\": \"#E5ECF6\", \"polar\": {\"angularaxis\": {\"gridcolor\": \"white\", \"linecolor\": \"white\", \"ticks\": \"\"}, \"bgcolor\": \"#E5ECF6\", \"radialaxis\": {\"gridcolor\": \"white\", \"linecolor\": \"white\", \"ticks\": \"\"}}, \"scene\": {\"xaxis\": {\"backgroundcolor\": \"#E5ECF6\", \"gridcolor\": \"white\", \"gridwidth\": 2, \"linecolor\": \"white\", \"showbackground\": true, \"ticks\": \"\", \"zerolinecolor\": \"white\"}, \"yaxis\": {\"backgroundcolor\": \"#E5ECF6\", \"gridcolor\": \"white\", \"gridwidth\": 2, \"linecolor\": \"white\", \"showbackground\": true, \"ticks\": \"\", \"zerolinecolor\": \"white\"}, \"zaxis\": {\"backgroundcolor\": \"#E5ECF6\", \"gridcolor\": \"white\", \"gridwidth\": 2, \"linecolor\": \"white\", \"showbackground\": true, \"ticks\": \"\", \"zerolinecolor\": \"white\"}}, \"shapedefaults\": {\"line\": {\"color\": \"#2a3f5f\"}}, \"ternary\": {\"aaxis\": {\"gridcolor\": \"white\", \"linecolor\": \"white\", \"ticks\": \"\"}, \"baxis\": {\"gridcolor\": \"white\", \"linecolor\": \"white\", \"ticks\": \"\"}, \"bgcolor\": \"#E5ECF6\", \"caxis\": {\"gridcolor\": \"white\", \"linecolor\": \"white\", \"ticks\": \"\"}}, \"title\": {\"x\": 0.05}, \"xaxis\": {\"automargin\": true, \"gridcolor\": \"white\", \"linecolor\": \"white\", \"ticks\": \"\", \"title\": {\"standoff\": 15}, \"zerolinecolor\": \"white\", \"zerolinewidth\": 2}, \"yaxis\": {\"automargin\": true, \"gridcolor\": \"white\", \"linecolor\": \"white\", \"ticks\": \"\", \"title\": {\"standoff\": 15}, \"zerolinecolor\": \"white\", \"zerolinewidth\": 2}}}, \"xaxis\": {\"anchor\": \"y\", \"domain\": [0.0, 1.0], \"title\": {\"text\": \"Logged GDP per capita\"}}, \"yaxis\": {\"anchor\": \"x\", \"domain\": [0.0, 1.0], \"title\": {\"text\": \"Ladder score\"}}},                        {\"responsive\": true}                    ).then(function(){\n",
       "                            \n",
       "var gd = document.getElementById('795efa58-c1ec-42dd-a7f3-3433e91858b2');\n",
       "var x = new MutationObserver(function (mutations, observer) {{\n",
       "        var display = window.getComputedStyle(gd).display;\n",
       "        if (!display || display === 'none') {{\n",
       "            console.log([gd, 'removed!']);\n",
       "            Plotly.purge(gd);\n",
       "            observer.disconnect();\n",
       "        }}\n",
       "}});\n",
       "\n",
       "// Listen for the removal of the full notebook cells\n",
       "var notebookContainer = gd.closest('#notebook-container');\n",
       "if (notebookContainer) {{\n",
       "    x.observe(notebookContainer, {childList: true});\n",
       "}}\n",
       "\n",
       "// Listen for the clearing of the current output cell\n",
       "var outputEl = gd.closest('.output');\n",
       "if (outputEl) {{\n",
       "    x.observe(outputEl, {childList: true});\n",
       "}}\n",
       "\n",
       "                        })                };                });            </script>        </div>"
      ]
     },
     "metadata": {},
     "output_type": "display_data"
    }
   ],
   "source": [
    "fig = px.scatter(world_data ,x= 'Logged GDP per capita' , y ='Ladder score' , hover_data=['Country name'] , color = 'Country name')\n",
    "fig"
   ]
  },
  {
   "cell_type": "markdown",
   "metadata": {},
   "source": [
    "It is very easy to see a <b>strong positive correlation between the Logged GDP per capita and the score of happiness</b> between countries"
   ]
  },
  {
   "cell_type": "code",
   "execution_count": 113,
   "metadata": {},
   "outputs": [
    {
     "data": {
      "application/vnd.plotly.v1+json": {
       "config": {
        "plotlyServerURL": "https://plot.ly"
       },
       "data": [
        {
         "coloraxis": "coloraxis",
         "hovertemplate": "x: %{x}<br>y: %{y}<br>color: %{z}<extra></extra>",
         "name": "0",
         "type": "heatmap",
         "x": [
          "Ladder score",
          "Standard error of ladder score",
          "upperwhisker",
          "lowerwhisker",
          "Logged GDP per capita",
          "Social support",
          "Healthy life expectancy",
          "Freedom to make life choices",
          "Generosity",
          "Perceptions of corruption",
          "Ladder score in Dystopia",
          "Explained by: Log GDP per capita",
          "Explained by: Social support",
          "Explained by: Healthy life expectancy",
          "Explained by: Freedom to make life choices",
          "Explained by: Generosity",
          "Explained by: Perceptions of corruption",
          "Dystopia + residual"
         ],
         "xaxis": "x",
         "y": [
          "Ladder score",
          "Standard error of ladder score",
          "upperwhisker",
          "lowerwhisker",
          "Logged GDP per capita",
          "Social support",
          "Healthy life expectancy",
          "Freedom to make life choices",
          "Generosity",
          "Perceptions of corruption",
          "Ladder score in Dystopia",
          "Explained by: Log GDP per capita",
          "Explained by: Social support",
          "Explained by: Healthy life expectancy",
          "Explained by: Freedom to make life choices",
          "Explained by: Generosity",
          "Explained by: Perceptions of corruption",
          "Dystopia + residual"
         ],
         "yaxis": "y",
         "z": [
          [
           1,
           -0.47078688156914245,
           0.9993471367601097,
           0.9993962706887936,
           0.7897596965098941,
           0.7568876453635004,
           0.7680994550105207,
           0.6077530656580242,
           -0.017799276922640737,
           -0.42113999673857866,
           -1.9752552539335604e-15,
           0.7897447001367905,
           0.756868687728444,
           0.7681378781936495,
           0.6077929208739886,
           -0.01763103581374605,
           0.4212054291432504,
           0.4920098982316125
          ],
          [
           -0.47078688156914245,
           1,
           -0.43861162710463225,
           -0.5011498534809324,
           -0.6457985323249955,
           -0.5308151022719408,
           -0.5838051786955858,
           -0.2751817899318638,
           0.1383487174092455,
           0.2769973533648349,
           -4.6016331803371184e-17,
           -0.6457764190795106,
           -0.5310096040003078,
           -0.5838057846871456,
           -0.2751707964035855,
           0.13858039417577628,
           -0.2770409578668244,
           0.1368272755366861
          ],
          [
           0.9993471367601097,
           -0.43861162710463225,
           1,
           0.997488779083676,
           0.7779950484868379,
           0.7492145997718213,
           0.7584550685413499,
           0.6077972783826736,
           -0.012615893611164665,
           -0.4175597331276808,
           -8.093238346453361e-16,
           0.7779806711280636,
           0.7491874813239631,
           0.758494084655397,
           0.6078384740724853,
           -0.01243516424639972,
           0.41762419801313366,
           0.5068795108190768
          ],
          [
           0.9993962706887936,
           -0.5011498534809324,
           0.997488779083676,
           1,
           0.800063615563551,
           0.763298728968935,
           0.7763640894746701,
           0.6069443467397427,
           -0.0227940270094048,
           -0.4239760560898137,
           -1.0925468612640153e-17,
           0.8000480436074505,
           0.7632876125450104,
           0.7764018713072424,
           0.6069829485559405,
           -0.022638091637723685,
           0.4240423215744242,
           0.4772043065735558
          ],
          [
           0.7897596965098941,
           -0.6457985323249955,
           0.7779950484868379,
           0.800063615563551,
           1,
           0.7852986839240539,
           0.8594606242792713,
           0.43232348502131446,
           -0.19928639866393452,
           -0.34233741981567894,
           -3.097372288308596e-16,
           0.9999997166864513,
           0.7851744226030507,
           0.8594884050970106,
           0.4323831717806661,
           -0.19953208928815408,
           0.3423323086162716,
           -0.04111918396768844
          ],
          [
           0.7568876453635004,
           -0.5308151022719408,
           0.7492145997718213,
           0.763298728968935,
           0.7852986839240539,
           1,
           0.7232561311738971,
           0.48292976906760715,
           -0.11494585445893797,
           -0.20320698327684922,
           -1.1192732709924402e-15,
           0.7852871872451626,
           0.9999959014478196,
           0.7232837136701754,
           0.4828956499655723,
           -0.11491340142467439,
           0.20336573114427178,
           0.006680510125150514
          ],
          [
           0.7680994550105207,
           -0.5838051786955858,
           0.7584550685413499,
           0.7763640894746701,
           0.8594606242792713,
           0.7232561311738971,
           1,
           0.461493869938255,
           -0.16175028008919035,
           -0.364373527411679,
           -1.2618879849891873e-15,
           0.8594463329965457,
           0.7231547123195773,
           0.9999991916647163,
           0.46148509915015223,
           -0.16176686843759816,
           0.36445190724430243,
           -0.023432896032560838
          ],
          [
           0.6077530656580242,
           -0.2751817899318638,
           0.6077972783826736,
           0.6069443467397427,
           0.43232348502131446,
           0.48292976906760715,
           0.461493869938255,
           1,
           0.1694373744816964,
           -0.40136296834281693,
           -2.4364248157203477e-15,
           0.4323503943695699,
           0.483068618231008,
           0.46145412159533583,
           0.9999941361088782,
           0.16958749250254956,
           0.40137173663555265,
           0.10024227386287202
          ],
          [
           -0.017799276922640737,
           0.1383487174092455,
           -0.012615893611164665,
           -0.0227940270094048,
           -0.19928639866393452,
           -0.11494585445893797,
           -0.16175028008919035,
           0.1694373744816964,
           1,
           -0.16396172884252194,
           -3.804559392499267e-17,
           -0.19922876866798322,
           -0.11490852019420313,
           -0.16186291843785935,
           0.16926108621085967,
           0.9999938231627671,
           0.16392431915381736,
           -0.02721187975343357
          ],
          [
           -0.42113999673857866,
           0.2769973533648349,
           -0.4175597331276808,
           -0.4239760560898137,
           -0.34233741981567894,
           -0.20320698327684922,
           -0.364373527411679,
           -0.40136296834281693,
           -0.16396172884252194,
           1,
           -6.229328183661093e-16,
           -0.34230995275371023,
           -0.20342224630691916,
           -0.3643031094612099,
           -0.4010689061768444,
           -0.16417086381781268,
           -0.9999963619804048,
           0.004478409551224842
          ],
          [
           -1.9752552539335604e-15,
           -4.6016331803371184e-17,
           -8.093238346453361e-16,
           -1.0925468612640153e-17,
           -3.097372288308596e-16,
           -1.1192732709924402e-15,
           -1.2618879849891873e-15,
           -2.4364248157203477e-15,
           -3.804559392499267e-17,
           -6.229328183661093e-16,
           1,
           -4.839622255460941e-16,
           4.235784280243521e-16,
           5.053941248003929e-16,
           -5.49428118746323e-16,
           -3.9117196598411576e-16,
           -1.0241968115884504e-16,
           -8.881058028557193e-16
          ],
          [
           0.7897447001367905,
           -0.6457764190795106,
           0.7779806711280636,
           0.8000480436074505,
           0.9999997166864513,
           0.7852871872451626,
           0.8594463329965457,
           0.4323503943695699,
           -0.19922876866798322,
           -0.34230995275371023,
           -4.839622255460941e-16,
           1,
           0.7851630711230477,
           0.8594741032321321,
           0.43240978915917333,
           -0.1994741939734038,
           0.3423047938973726,
           -0.04114943631326774
          ],
          [
           0.756868687728444,
           -0.5310096040003078,
           0.7491874813239631,
           0.7632876125450104,
           0.7851744226030507,
           0.9999959014478196,
           0.7231547123195773,
           0.483068618231008,
           -0.11490852019420313,
           -0.20342224630691916,
           4.235784280243521e-16,
           0.7851630711230477,
           1,
           0.7231827059941051,
           0.4830346314439632,
           -0.11487681990837627,
           0.20358027329331302,
           0.0066871727436319285
          ],
          [
           0.7681378781936495,
           -0.5838057846871456,
           0.758494084655397,
           0.7764018713072424,
           0.8594884050970106,
           0.7232837136701754,
           0.9999991916647163,
           0.46145412159533583,
           -0.16186291843785935,
           -0.3643031094612099,
           5.053941248003929e-16,
           0.8594741032321321,
           0.7231827059941051,
           1,
           0.4614447657222507,
           -0.16187945714297308,
           0.36438142528306794,
           -0.023344372953082695
          ],
          [
           0.6077929208739886,
           -0.2751707964035855,
           0.6078384740724853,
           0.6069829485559405,
           0.4323831717806661,
           0.4828956499655723,
           0.46148509915015223,
           0.9999941361088782,
           0.16926108621085967,
           -0.4010689061768444,
           -5.49428118746323e-16,
           0.43240978915917333,
           0.4830346314439632,
           0.4614447657222507,
           1,
           0.16940937162117453,
           0.40107759124502296,
           0.10039133338771837
          ],
          [
           -0.01763103581374605,
           0.13858039417577628,
           -0.01243516424639972,
           -0.022638091637723685,
           -0.19953208928815408,
           -0.11491340142467439,
           -0.16176686843759816,
           0.16958749250254956,
           0.9999938231627671,
           -0.16417086381781268,
           -3.9117196598411576e-16,
           -0.1994741939734038,
           -0.11487681990837627,
           -0.16187945714297308,
           0.16940937162117453,
           1,
           0.16413420587136823,
           -0.026782383329758703
          ],
          [
           0.4212054291432504,
           -0.2770409578668244,
           0.41762419801313366,
           0.4240423215744242,
           0.3423323086162716,
           0.20336573114427178,
           0.36445190724430243,
           0.40137173663555265,
           0.16392431915381736,
           -0.9999963619804048,
           -1.0241968115884504e-16,
           0.3423047938973726,
           0.20358027329331302,
           0.36438142528306794,
           0.40107759124502296,
           0.16413420587136823,
           1,
           -0.004446189335725076
          ],
          [
           0.4920098982316125,
           0.1368272755366861,
           0.5068795108190768,
           0.4772043065735558,
           -0.04111918396768844,
           0.006680510125150514,
           -0.023432896032560838,
           0.10024227386287202,
           -0.02721187975343357,
           0.004478409551224842,
           -8.881058028557193e-16,
           -0.04114943631326774,
           0.0066871727436319285,
           -0.023344372953082695,
           0.10039133338771837,
           -0.026782383329758703,
           -0.004446189335725076,
           1
          ]
         ]
        }
       ],
       "layout": {
        "coloraxis": {
         "colorscale": [
          [
           0,
           "#440154"
          ],
          [
           0.1111111111111111,
           "#482878"
          ],
          [
           0.2222222222222222,
           "#3e4989"
          ],
          [
           0.3333333333333333,
           "#31688e"
          ],
          [
           0.4444444444444444,
           "#26828e"
          ],
          [
           0.5555555555555556,
           "#1f9e89"
          ],
          [
           0.6666666666666666,
           "#35b779"
          ],
          [
           0.7777777777777778,
           "#6ece58"
          ],
          [
           0.8888888888888888,
           "#b5de2b"
          ],
          [
           1,
           "#fde725"
          ]
         ]
        },
        "margin": {
         "t": 60
        },
        "template": {
         "data": {
          "bar": [
           {
            "error_x": {
             "color": "#2a3f5f"
            },
            "error_y": {
             "color": "#2a3f5f"
            },
            "marker": {
             "line": {
              "color": "#E5ECF6",
              "width": 0.5
             }
            },
            "type": "bar"
           }
          ],
          "barpolar": [
           {
            "marker": {
             "line": {
              "color": "#E5ECF6",
              "width": 0.5
             }
            },
            "type": "barpolar"
           }
          ],
          "carpet": [
           {
            "aaxis": {
             "endlinecolor": "#2a3f5f",
             "gridcolor": "white",
             "linecolor": "white",
             "minorgridcolor": "white",
             "startlinecolor": "#2a3f5f"
            },
            "baxis": {
             "endlinecolor": "#2a3f5f",
             "gridcolor": "white",
             "linecolor": "white",
             "minorgridcolor": "white",
             "startlinecolor": "#2a3f5f"
            },
            "type": "carpet"
           }
          ],
          "choropleth": [
           {
            "colorbar": {
             "outlinewidth": 0,
             "ticks": ""
            },
            "type": "choropleth"
           }
          ],
          "contour": [
           {
            "colorbar": {
             "outlinewidth": 0,
             "ticks": ""
            },
            "colorscale": [
             [
              0,
              "#0d0887"
             ],
             [
              0.1111111111111111,
              "#46039f"
             ],
             [
              0.2222222222222222,
              "#7201a8"
             ],
             [
              0.3333333333333333,
              "#9c179e"
             ],
             [
              0.4444444444444444,
              "#bd3786"
             ],
             [
              0.5555555555555556,
              "#d8576b"
             ],
             [
              0.6666666666666666,
              "#ed7953"
             ],
             [
              0.7777777777777778,
              "#fb9f3a"
             ],
             [
              0.8888888888888888,
              "#fdca26"
             ],
             [
              1,
              "#f0f921"
             ]
            ],
            "type": "contour"
           }
          ],
          "contourcarpet": [
           {
            "colorbar": {
             "outlinewidth": 0,
             "ticks": ""
            },
            "type": "contourcarpet"
           }
          ],
          "heatmap": [
           {
            "colorbar": {
             "outlinewidth": 0,
             "ticks": ""
            },
            "colorscale": [
             [
              0,
              "#0d0887"
             ],
             [
              0.1111111111111111,
              "#46039f"
             ],
             [
              0.2222222222222222,
              "#7201a8"
             ],
             [
              0.3333333333333333,
              "#9c179e"
             ],
             [
              0.4444444444444444,
              "#bd3786"
             ],
             [
              0.5555555555555556,
              "#d8576b"
             ],
             [
              0.6666666666666666,
              "#ed7953"
             ],
             [
              0.7777777777777778,
              "#fb9f3a"
             ],
             [
              0.8888888888888888,
              "#fdca26"
             ],
             [
              1,
              "#f0f921"
             ]
            ],
            "type": "heatmap"
           }
          ],
          "heatmapgl": [
           {
            "colorbar": {
             "outlinewidth": 0,
             "ticks": ""
            },
            "colorscale": [
             [
              0,
              "#0d0887"
             ],
             [
              0.1111111111111111,
              "#46039f"
             ],
             [
              0.2222222222222222,
              "#7201a8"
             ],
             [
              0.3333333333333333,
              "#9c179e"
             ],
             [
              0.4444444444444444,
              "#bd3786"
             ],
             [
              0.5555555555555556,
              "#d8576b"
             ],
             [
              0.6666666666666666,
              "#ed7953"
             ],
             [
              0.7777777777777778,
              "#fb9f3a"
             ],
             [
              0.8888888888888888,
              "#fdca26"
             ],
             [
              1,
              "#f0f921"
             ]
            ],
            "type": "heatmapgl"
           }
          ],
          "histogram": [
           {
            "marker": {
             "colorbar": {
              "outlinewidth": 0,
              "ticks": ""
             }
            },
            "type": "histogram"
           }
          ],
          "histogram2d": [
           {
            "colorbar": {
             "outlinewidth": 0,
             "ticks": ""
            },
            "colorscale": [
             [
              0,
              "#0d0887"
             ],
             [
              0.1111111111111111,
              "#46039f"
             ],
             [
              0.2222222222222222,
              "#7201a8"
             ],
             [
              0.3333333333333333,
              "#9c179e"
             ],
             [
              0.4444444444444444,
              "#bd3786"
             ],
             [
              0.5555555555555556,
              "#d8576b"
             ],
             [
              0.6666666666666666,
              "#ed7953"
             ],
             [
              0.7777777777777778,
              "#fb9f3a"
             ],
             [
              0.8888888888888888,
              "#fdca26"
             ],
             [
              1,
              "#f0f921"
             ]
            ],
            "type": "histogram2d"
           }
          ],
          "histogram2dcontour": [
           {
            "colorbar": {
             "outlinewidth": 0,
             "ticks": ""
            },
            "colorscale": [
             [
              0,
              "#0d0887"
             ],
             [
              0.1111111111111111,
              "#46039f"
             ],
             [
              0.2222222222222222,
              "#7201a8"
             ],
             [
              0.3333333333333333,
              "#9c179e"
             ],
             [
              0.4444444444444444,
              "#bd3786"
             ],
             [
              0.5555555555555556,
              "#d8576b"
             ],
             [
              0.6666666666666666,
              "#ed7953"
             ],
             [
              0.7777777777777778,
              "#fb9f3a"
             ],
             [
              0.8888888888888888,
              "#fdca26"
             ],
             [
              1,
              "#f0f921"
             ]
            ],
            "type": "histogram2dcontour"
           }
          ],
          "mesh3d": [
           {
            "colorbar": {
             "outlinewidth": 0,
             "ticks": ""
            },
            "type": "mesh3d"
           }
          ],
          "parcoords": [
           {
            "line": {
             "colorbar": {
              "outlinewidth": 0,
              "ticks": ""
             }
            },
            "type": "parcoords"
           }
          ],
          "pie": [
           {
            "automargin": true,
            "type": "pie"
           }
          ],
          "scatter": [
           {
            "marker": {
             "colorbar": {
              "outlinewidth": 0,
              "ticks": ""
             }
            },
            "type": "scatter"
           }
          ],
          "scatter3d": [
           {
            "line": {
             "colorbar": {
              "outlinewidth": 0,
              "ticks": ""
             }
            },
            "marker": {
             "colorbar": {
              "outlinewidth": 0,
              "ticks": ""
             }
            },
            "type": "scatter3d"
           }
          ],
          "scattercarpet": [
           {
            "marker": {
             "colorbar": {
              "outlinewidth": 0,
              "ticks": ""
             }
            },
            "type": "scattercarpet"
           }
          ],
          "scattergeo": [
           {
            "marker": {
             "colorbar": {
              "outlinewidth": 0,
              "ticks": ""
             }
            },
            "type": "scattergeo"
           }
          ],
          "scattergl": [
           {
            "marker": {
             "colorbar": {
              "outlinewidth": 0,
              "ticks": ""
             }
            },
            "type": "scattergl"
           }
          ],
          "scattermapbox": [
           {
            "marker": {
             "colorbar": {
              "outlinewidth": 0,
              "ticks": ""
             }
            },
            "type": "scattermapbox"
           }
          ],
          "scatterpolar": [
           {
            "marker": {
             "colorbar": {
              "outlinewidth": 0,
              "ticks": ""
             }
            },
            "type": "scatterpolar"
           }
          ],
          "scatterpolargl": [
           {
            "marker": {
             "colorbar": {
              "outlinewidth": 0,
              "ticks": ""
             }
            },
            "type": "scatterpolargl"
           }
          ],
          "scatterternary": [
           {
            "marker": {
             "colorbar": {
              "outlinewidth": 0,
              "ticks": ""
             }
            },
            "type": "scatterternary"
           }
          ],
          "surface": [
           {
            "colorbar": {
             "outlinewidth": 0,
             "ticks": ""
            },
            "colorscale": [
             [
              0,
              "#0d0887"
             ],
             [
              0.1111111111111111,
              "#46039f"
             ],
             [
              0.2222222222222222,
              "#7201a8"
             ],
             [
              0.3333333333333333,
              "#9c179e"
             ],
             [
              0.4444444444444444,
              "#bd3786"
             ],
             [
              0.5555555555555556,
              "#d8576b"
             ],
             [
              0.6666666666666666,
              "#ed7953"
             ],
             [
              0.7777777777777778,
              "#fb9f3a"
             ],
             [
              0.8888888888888888,
              "#fdca26"
             ],
             [
              1,
              "#f0f921"
             ]
            ],
            "type": "surface"
           }
          ],
          "table": [
           {
            "cells": {
             "fill": {
              "color": "#EBF0F8"
             },
             "line": {
              "color": "white"
             }
            },
            "header": {
             "fill": {
              "color": "#C8D4E3"
             },
             "line": {
              "color": "white"
             }
            },
            "type": "table"
           }
          ]
         },
         "layout": {
          "annotationdefaults": {
           "arrowcolor": "#2a3f5f",
           "arrowhead": 0,
           "arrowwidth": 1
          },
          "autotypenumbers": "strict",
          "coloraxis": {
           "colorbar": {
            "outlinewidth": 0,
            "ticks": ""
           }
          },
          "colorscale": {
           "diverging": [
            [
             0,
             "#8e0152"
            ],
            [
             0.1,
             "#c51b7d"
            ],
            [
             0.2,
             "#de77ae"
            ],
            [
             0.3,
             "#f1b6da"
            ],
            [
             0.4,
             "#fde0ef"
            ],
            [
             0.5,
             "#f7f7f7"
            ],
            [
             0.6,
             "#e6f5d0"
            ],
            [
             0.7,
             "#b8e186"
            ],
            [
             0.8,
             "#7fbc41"
            ],
            [
             0.9,
             "#4d9221"
            ],
            [
             1,
             "#276419"
            ]
           ],
           "sequential": [
            [
             0,
             "#0d0887"
            ],
            [
             0.1111111111111111,
             "#46039f"
            ],
            [
             0.2222222222222222,
             "#7201a8"
            ],
            [
             0.3333333333333333,
             "#9c179e"
            ],
            [
             0.4444444444444444,
             "#bd3786"
            ],
            [
             0.5555555555555556,
             "#d8576b"
            ],
            [
             0.6666666666666666,
             "#ed7953"
            ],
            [
             0.7777777777777778,
             "#fb9f3a"
            ],
            [
             0.8888888888888888,
             "#fdca26"
            ],
            [
             1,
             "#f0f921"
            ]
           ],
           "sequentialminus": [
            [
             0,
             "#0d0887"
            ],
            [
             0.1111111111111111,
             "#46039f"
            ],
            [
             0.2222222222222222,
             "#7201a8"
            ],
            [
             0.3333333333333333,
             "#9c179e"
            ],
            [
             0.4444444444444444,
             "#bd3786"
            ],
            [
             0.5555555555555556,
             "#d8576b"
            ],
            [
             0.6666666666666666,
             "#ed7953"
            ],
            [
             0.7777777777777778,
             "#fb9f3a"
            ],
            [
             0.8888888888888888,
             "#fdca26"
            ],
            [
             1,
             "#f0f921"
            ]
           ]
          },
          "colorway": [
           "#636efa",
           "#EF553B",
           "#00cc96",
           "#ab63fa",
           "#FFA15A",
           "#19d3f3",
           "#FF6692",
           "#B6E880",
           "#FF97FF",
           "#FECB52"
          ],
          "font": {
           "color": "#2a3f5f"
          },
          "geo": {
           "bgcolor": "white",
           "lakecolor": "white",
           "landcolor": "#E5ECF6",
           "showlakes": true,
           "showland": true,
           "subunitcolor": "white"
          },
          "hoverlabel": {
           "align": "left"
          },
          "hovermode": "closest",
          "mapbox": {
           "style": "light"
          },
          "paper_bgcolor": "white",
          "plot_bgcolor": "#E5ECF6",
          "polar": {
           "angularaxis": {
            "gridcolor": "white",
            "linecolor": "white",
            "ticks": ""
           },
           "bgcolor": "#E5ECF6",
           "radialaxis": {
            "gridcolor": "white",
            "linecolor": "white",
            "ticks": ""
           }
          },
          "scene": {
           "xaxis": {
            "backgroundcolor": "#E5ECF6",
            "gridcolor": "white",
            "gridwidth": 2,
            "linecolor": "white",
            "showbackground": true,
            "ticks": "",
            "zerolinecolor": "white"
           },
           "yaxis": {
            "backgroundcolor": "#E5ECF6",
            "gridcolor": "white",
            "gridwidth": 2,
            "linecolor": "white",
            "showbackground": true,
            "ticks": "",
            "zerolinecolor": "white"
           },
           "zaxis": {
            "backgroundcolor": "#E5ECF6",
            "gridcolor": "white",
            "gridwidth": 2,
            "linecolor": "white",
            "showbackground": true,
            "ticks": "",
            "zerolinecolor": "white"
           }
          },
          "shapedefaults": {
           "line": {
            "color": "#2a3f5f"
           }
          },
          "ternary": {
           "aaxis": {
            "gridcolor": "white",
            "linecolor": "white",
            "ticks": ""
           },
           "baxis": {
            "gridcolor": "white",
            "linecolor": "white",
            "ticks": ""
           },
           "bgcolor": "#E5ECF6",
           "caxis": {
            "gridcolor": "white",
            "linecolor": "white",
            "ticks": ""
           }
          },
          "title": {
           "x": 0.05
          },
          "xaxis": {
           "automargin": true,
           "gridcolor": "white",
           "linecolor": "white",
           "ticks": "",
           "title": {
            "standoff": 15
           },
           "zerolinecolor": "white",
           "zerolinewidth": 2
          },
          "yaxis": {
           "automargin": true,
           "gridcolor": "white",
           "linecolor": "white",
           "ticks": "",
           "title": {
            "standoff": 15
           },
           "zerolinecolor": "white",
           "zerolinewidth": 2
          }
         }
        },
        "xaxis": {
         "anchor": "y",
         "constrain": "domain",
         "domain": [
          0,
          1
         ],
         "scaleanchor": "y"
        },
        "yaxis": {
         "anchor": "x",
         "autorange": "reversed",
         "constrain": "domain",
         "domain": [
          0,
          1
         ]
        }
       }
      },
      "text/html": [
       "<div>                            <div id=\"042ef24b-8cb3-4074-a96e-7af258b44e1f\" class=\"plotly-graph-div\" style=\"height:525px; width:100%;\"></div>            <script type=\"text/javascript\">                require([\"plotly\"], function(Plotly) {                    window.PLOTLYENV=window.PLOTLYENV || {};                                    if (document.getElementById(\"042ef24b-8cb3-4074-a96e-7af258b44e1f\")) {                    Plotly.newPlot(                        \"042ef24b-8cb3-4074-a96e-7af258b44e1f\",                        [{\"coloraxis\": \"coloraxis\", \"hovertemplate\": \"x: %{x}<br>y: %{y}<br>color: %{z}<extra></extra>\", \"name\": \"0\", \"type\": \"heatmap\", \"x\": [\"Ladder score\", \"Standard error of ladder score\", \"upperwhisker\", \"lowerwhisker\", \"Logged GDP per capita\", \"Social support\", \"Healthy life expectancy\", \"Freedom to make life choices\", \"Generosity\", \"Perceptions of corruption\", \"Ladder score in Dystopia\", \"Explained by: Log GDP per capita\", \"Explained by: Social support\", \"Explained by: Healthy life expectancy\", \"Explained by: Freedom to make life choices\", \"Explained by: Generosity\", \"Explained by: Perceptions of corruption\", \"Dystopia + residual\"], \"xaxis\": \"x\", \"y\": [\"Ladder score\", \"Standard error of ladder score\", \"upperwhisker\", \"lowerwhisker\", \"Logged GDP per capita\", \"Social support\", \"Healthy life expectancy\", \"Freedom to make life choices\", \"Generosity\", \"Perceptions of corruption\", \"Ladder score in Dystopia\", \"Explained by: Log GDP per capita\", \"Explained by: Social support\", \"Explained by: Healthy life expectancy\", \"Explained by: Freedom to make life choices\", \"Explained by: Generosity\", \"Explained by: Perceptions of corruption\", \"Dystopia + residual\"], \"yaxis\": \"y\", \"z\": [[1.0, -0.47078688156914245, 0.9993471367601097, 0.9993962706887936, 0.7897596965098941, 0.7568876453635004, 0.7680994550105207, 0.6077530656580242, -0.017799276922640737, -0.42113999673857866, -1.9752552539335604e-15, 0.7897447001367905, 0.756868687728444, 0.7681378781936495, 0.6077929208739886, -0.01763103581374605, 0.4212054291432504, 0.4920098982316125], [-0.47078688156914245, 1.0, -0.43861162710463225, -0.5011498534809324, -0.6457985323249955, -0.5308151022719408, -0.5838051786955858, -0.2751817899318638, 0.1383487174092455, 0.2769973533648349, -4.6016331803371184e-17, -0.6457764190795106, -0.5310096040003078, -0.5838057846871456, -0.2751707964035855, 0.13858039417577628, -0.2770409578668244, 0.1368272755366861], [0.9993471367601097, -0.43861162710463225, 1.0, 0.997488779083676, 0.7779950484868379, 0.7492145997718213, 0.7584550685413499, 0.6077972783826736, -0.012615893611164665, -0.4175597331276808, -8.093238346453361e-16, 0.7779806711280636, 0.7491874813239631, 0.758494084655397, 0.6078384740724853, -0.01243516424639972, 0.41762419801313366, 0.5068795108190768], [0.9993962706887936, -0.5011498534809324, 0.997488779083676, 1.0, 0.800063615563551, 0.763298728968935, 0.7763640894746701, 0.6069443467397427, -0.0227940270094048, -0.4239760560898137, -1.0925468612640153e-17, 0.8000480436074505, 0.7632876125450104, 0.7764018713072424, 0.6069829485559405, -0.022638091637723685, 0.4240423215744242, 0.4772043065735558], [0.7897596965098941, -0.6457985323249955, 0.7779950484868379, 0.800063615563551, 1.0, 0.7852986839240539, 0.8594606242792713, 0.43232348502131446, -0.19928639866393452, -0.34233741981567894, -3.097372288308596e-16, 0.9999997166864513, 0.7851744226030507, 0.8594884050970106, 0.4323831717806661, -0.19953208928815408, 0.3423323086162716, -0.04111918396768844], [0.7568876453635004, -0.5308151022719408, 0.7492145997718213, 0.763298728968935, 0.7852986839240539, 1.0, 0.7232561311738971, 0.48292976906760715, -0.11494585445893797, -0.20320698327684922, -1.1192732709924402e-15, 0.7852871872451626, 0.9999959014478196, 0.7232837136701754, 0.4828956499655723, -0.11491340142467439, 0.20336573114427178, 0.006680510125150514], [0.7680994550105207, -0.5838051786955858, 0.7584550685413499, 0.7763640894746701, 0.8594606242792713, 0.7232561311738971, 1.0, 0.461493869938255, -0.16175028008919035, -0.364373527411679, -1.2618879849891873e-15, 0.8594463329965457, 0.7231547123195773, 0.9999991916647163, 0.46148509915015223, -0.16176686843759816, 0.36445190724430243, -0.023432896032560838], [0.6077530656580242, -0.2751817899318638, 0.6077972783826736, 0.6069443467397427, 0.43232348502131446, 0.48292976906760715, 0.461493869938255, 1.0, 0.1694373744816964, -0.40136296834281693, -2.4364248157203477e-15, 0.4323503943695699, 0.483068618231008, 0.46145412159533583, 0.9999941361088782, 0.16958749250254956, 0.40137173663555265, 0.10024227386287202], [-0.017799276922640737, 0.1383487174092455, -0.012615893611164665, -0.0227940270094048, -0.19928639866393452, -0.11494585445893797, -0.16175028008919035, 0.1694373744816964, 1.0, -0.16396172884252194, -3.804559392499267e-17, -0.19922876866798322, -0.11490852019420313, -0.16186291843785935, 0.16926108621085967, 0.9999938231627671, 0.16392431915381736, -0.02721187975343357], [-0.42113999673857866, 0.2769973533648349, -0.4175597331276808, -0.4239760560898137, -0.34233741981567894, -0.20320698327684922, -0.364373527411679, -0.40136296834281693, -0.16396172884252194, 1.0, -6.229328183661093e-16, -0.34230995275371023, -0.20342224630691916, -0.3643031094612099, -0.4010689061768444, -0.16417086381781268, -0.9999963619804048, 0.004478409551224842], [-1.9752552539335604e-15, -4.6016331803371184e-17, -8.093238346453361e-16, -1.0925468612640153e-17, -3.097372288308596e-16, -1.1192732709924402e-15, -1.2618879849891873e-15, -2.4364248157203477e-15, -3.804559392499267e-17, -6.229328183661093e-16, 1.0, -4.839622255460941e-16, 4.235784280243521e-16, 5.053941248003929e-16, -5.49428118746323e-16, -3.9117196598411576e-16, -1.0241968115884504e-16, -8.881058028557193e-16], [0.7897447001367905, -0.6457764190795106, 0.7779806711280636, 0.8000480436074505, 0.9999997166864513, 0.7852871872451626, 0.8594463329965457, 0.4323503943695699, -0.19922876866798322, -0.34230995275371023, -4.839622255460941e-16, 1.0, 0.7851630711230477, 0.8594741032321321, 0.43240978915917333, -0.1994741939734038, 0.3423047938973726, -0.04114943631326774], [0.756868687728444, -0.5310096040003078, 0.7491874813239631, 0.7632876125450104, 0.7851744226030507, 0.9999959014478196, 0.7231547123195773, 0.483068618231008, -0.11490852019420313, -0.20342224630691916, 4.235784280243521e-16, 0.7851630711230477, 1.0, 0.7231827059941051, 0.4830346314439632, -0.11487681990837627, 0.20358027329331302, 0.0066871727436319285], [0.7681378781936495, -0.5838057846871456, 0.758494084655397, 0.7764018713072424, 0.8594884050970106, 0.7232837136701754, 0.9999991916647163, 0.46145412159533583, -0.16186291843785935, -0.3643031094612099, 5.053941248003929e-16, 0.8594741032321321, 0.7231827059941051, 1.0, 0.4614447657222507, -0.16187945714297308, 0.36438142528306794, -0.023344372953082695], [0.6077929208739886, -0.2751707964035855, 0.6078384740724853, 0.6069829485559405, 0.4323831717806661, 0.4828956499655723, 0.46148509915015223, 0.9999941361088782, 0.16926108621085967, -0.4010689061768444, -5.49428118746323e-16, 0.43240978915917333, 0.4830346314439632, 0.4614447657222507, 1.0, 0.16940937162117453, 0.40107759124502296, 0.10039133338771837], [-0.01763103581374605, 0.13858039417577628, -0.01243516424639972, -0.022638091637723685, -0.19953208928815408, -0.11491340142467439, -0.16176686843759816, 0.16958749250254956, 0.9999938231627671, -0.16417086381781268, -3.9117196598411576e-16, -0.1994741939734038, -0.11487681990837627, -0.16187945714297308, 0.16940937162117453, 1.0, 0.16413420587136823, -0.026782383329758703], [0.4212054291432504, -0.2770409578668244, 0.41762419801313366, 0.4240423215744242, 0.3423323086162716, 0.20336573114427178, 0.36445190724430243, 0.40137173663555265, 0.16392431915381736, -0.9999963619804048, -1.0241968115884504e-16, 0.3423047938973726, 0.20358027329331302, 0.36438142528306794, 0.40107759124502296, 0.16413420587136823, 1.0, -0.004446189335725076], [0.4920098982316125, 0.1368272755366861, 0.5068795108190768, 0.4772043065735558, -0.04111918396768844, 0.006680510125150514, -0.023432896032560838, 0.10024227386287202, -0.02721187975343357, 0.004478409551224842, -8.881058028557193e-16, -0.04114943631326774, 0.0066871727436319285, -0.023344372953082695, 0.10039133338771837, -0.026782383329758703, -0.004446189335725076, 1.0]]}],                        {\"coloraxis\": {\"colorscale\": [[0.0, \"#440154\"], [0.1111111111111111, \"#482878\"], [0.2222222222222222, \"#3e4989\"], [0.3333333333333333, \"#31688e\"], [0.4444444444444444, \"#26828e\"], [0.5555555555555556, \"#1f9e89\"], [0.6666666666666666, \"#35b779\"], [0.7777777777777778, \"#6ece58\"], [0.8888888888888888, \"#b5de2b\"], [1.0, \"#fde725\"]]}, \"margin\": {\"t\": 60}, \"template\": {\"data\": {\"bar\": [{\"error_x\": {\"color\": \"#2a3f5f\"}, \"error_y\": {\"color\": \"#2a3f5f\"}, \"marker\": {\"line\": {\"color\": \"#E5ECF6\", \"width\": 0.5}}, \"type\": \"bar\"}], \"barpolar\": [{\"marker\": {\"line\": {\"color\": \"#E5ECF6\", \"width\": 0.5}}, \"type\": \"barpolar\"}], \"carpet\": [{\"aaxis\": {\"endlinecolor\": \"#2a3f5f\", \"gridcolor\": \"white\", \"linecolor\": \"white\", \"minorgridcolor\": \"white\", \"startlinecolor\": \"#2a3f5f\"}, \"baxis\": {\"endlinecolor\": \"#2a3f5f\", \"gridcolor\": \"white\", \"linecolor\": \"white\", \"minorgridcolor\": \"white\", \"startlinecolor\": \"#2a3f5f\"}, \"type\": \"carpet\"}], \"choropleth\": [{\"colorbar\": {\"outlinewidth\": 0, \"ticks\": \"\"}, \"type\": \"choropleth\"}], \"contour\": [{\"colorbar\": {\"outlinewidth\": 0, \"ticks\": \"\"}, \"colorscale\": [[0.0, \"#0d0887\"], [0.1111111111111111, \"#46039f\"], [0.2222222222222222, \"#7201a8\"], [0.3333333333333333, \"#9c179e\"], [0.4444444444444444, \"#bd3786\"], [0.5555555555555556, \"#d8576b\"], [0.6666666666666666, \"#ed7953\"], [0.7777777777777778, \"#fb9f3a\"], [0.8888888888888888, \"#fdca26\"], [1.0, \"#f0f921\"]], \"type\": \"contour\"}], \"contourcarpet\": [{\"colorbar\": {\"outlinewidth\": 0, \"ticks\": \"\"}, \"type\": \"contourcarpet\"}], \"heatmap\": [{\"colorbar\": {\"outlinewidth\": 0, \"ticks\": \"\"}, \"colorscale\": [[0.0, \"#0d0887\"], [0.1111111111111111, \"#46039f\"], [0.2222222222222222, \"#7201a8\"], [0.3333333333333333, \"#9c179e\"], [0.4444444444444444, \"#bd3786\"], [0.5555555555555556, \"#d8576b\"], [0.6666666666666666, \"#ed7953\"], [0.7777777777777778, \"#fb9f3a\"], [0.8888888888888888, \"#fdca26\"], [1.0, \"#f0f921\"]], \"type\": \"heatmap\"}], \"heatmapgl\": [{\"colorbar\": {\"outlinewidth\": 0, \"ticks\": \"\"}, \"colorscale\": [[0.0, \"#0d0887\"], [0.1111111111111111, \"#46039f\"], [0.2222222222222222, \"#7201a8\"], [0.3333333333333333, \"#9c179e\"], [0.4444444444444444, \"#bd3786\"], [0.5555555555555556, \"#d8576b\"], [0.6666666666666666, \"#ed7953\"], [0.7777777777777778, \"#fb9f3a\"], [0.8888888888888888, \"#fdca26\"], [1.0, \"#f0f921\"]], \"type\": \"heatmapgl\"}], \"histogram\": [{\"marker\": {\"colorbar\": {\"outlinewidth\": 0, \"ticks\": \"\"}}, \"type\": \"histogram\"}], \"histogram2d\": [{\"colorbar\": {\"outlinewidth\": 0, \"ticks\": \"\"}, \"colorscale\": [[0.0, \"#0d0887\"], [0.1111111111111111, \"#46039f\"], [0.2222222222222222, \"#7201a8\"], [0.3333333333333333, \"#9c179e\"], [0.4444444444444444, \"#bd3786\"], [0.5555555555555556, \"#d8576b\"], [0.6666666666666666, \"#ed7953\"], [0.7777777777777778, \"#fb9f3a\"], [0.8888888888888888, \"#fdca26\"], [1.0, \"#f0f921\"]], \"type\": \"histogram2d\"}], \"histogram2dcontour\": [{\"colorbar\": {\"outlinewidth\": 0, \"ticks\": \"\"}, \"colorscale\": [[0.0, \"#0d0887\"], [0.1111111111111111, \"#46039f\"], [0.2222222222222222, \"#7201a8\"], [0.3333333333333333, \"#9c179e\"], [0.4444444444444444, \"#bd3786\"], [0.5555555555555556, \"#d8576b\"], [0.6666666666666666, \"#ed7953\"], [0.7777777777777778, \"#fb9f3a\"], [0.8888888888888888, \"#fdca26\"], [1.0, \"#f0f921\"]], \"type\": \"histogram2dcontour\"}], \"mesh3d\": [{\"colorbar\": {\"outlinewidth\": 0, \"ticks\": \"\"}, \"type\": \"mesh3d\"}], \"parcoords\": [{\"line\": {\"colorbar\": {\"outlinewidth\": 0, \"ticks\": \"\"}}, \"type\": \"parcoords\"}], \"pie\": [{\"automargin\": true, \"type\": \"pie\"}], \"scatter\": [{\"marker\": {\"colorbar\": {\"outlinewidth\": 0, \"ticks\": \"\"}}, \"type\": \"scatter\"}], \"scatter3d\": [{\"line\": {\"colorbar\": {\"outlinewidth\": 0, \"ticks\": \"\"}}, \"marker\": {\"colorbar\": {\"outlinewidth\": 0, \"ticks\": \"\"}}, \"type\": \"scatter3d\"}], \"scattercarpet\": [{\"marker\": {\"colorbar\": {\"outlinewidth\": 0, \"ticks\": \"\"}}, \"type\": \"scattercarpet\"}], \"scattergeo\": [{\"marker\": {\"colorbar\": {\"outlinewidth\": 0, \"ticks\": \"\"}}, \"type\": \"scattergeo\"}], \"scattergl\": [{\"marker\": {\"colorbar\": {\"outlinewidth\": 0, \"ticks\": \"\"}}, \"type\": \"scattergl\"}], \"scattermapbox\": [{\"marker\": {\"colorbar\": {\"outlinewidth\": 0, \"ticks\": \"\"}}, \"type\": \"scattermapbox\"}], \"scatterpolar\": [{\"marker\": {\"colorbar\": {\"outlinewidth\": 0, \"ticks\": \"\"}}, \"type\": \"scatterpolar\"}], \"scatterpolargl\": [{\"marker\": {\"colorbar\": {\"outlinewidth\": 0, \"ticks\": \"\"}}, \"type\": \"scatterpolargl\"}], \"scatterternary\": [{\"marker\": {\"colorbar\": {\"outlinewidth\": 0, \"ticks\": \"\"}}, \"type\": \"scatterternary\"}], \"surface\": [{\"colorbar\": {\"outlinewidth\": 0, \"ticks\": \"\"}, \"colorscale\": [[0.0, \"#0d0887\"], [0.1111111111111111, \"#46039f\"], [0.2222222222222222, \"#7201a8\"], [0.3333333333333333, \"#9c179e\"], [0.4444444444444444, \"#bd3786\"], [0.5555555555555556, \"#d8576b\"], [0.6666666666666666, \"#ed7953\"], [0.7777777777777778, \"#fb9f3a\"], [0.8888888888888888, \"#fdca26\"], [1.0, \"#f0f921\"]], \"type\": \"surface\"}], \"table\": [{\"cells\": {\"fill\": {\"color\": \"#EBF0F8\"}, \"line\": {\"color\": \"white\"}}, \"header\": {\"fill\": {\"color\": \"#C8D4E3\"}, \"line\": {\"color\": \"white\"}}, \"type\": \"table\"}]}, \"layout\": {\"annotationdefaults\": {\"arrowcolor\": \"#2a3f5f\", \"arrowhead\": 0, \"arrowwidth\": 1}, \"autotypenumbers\": \"strict\", \"coloraxis\": {\"colorbar\": {\"outlinewidth\": 0, \"ticks\": \"\"}}, \"colorscale\": {\"diverging\": [[0, \"#8e0152\"], [0.1, \"#c51b7d\"], [0.2, \"#de77ae\"], [0.3, \"#f1b6da\"], [0.4, \"#fde0ef\"], [0.5, \"#f7f7f7\"], [0.6, \"#e6f5d0\"], [0.7, \"#b8e186\"], [0.8, \"#7fbc41\"], [0.9, \"#4d9221\"], [1, \"#276419\"]], \"sequential\": [[0.0, \"#0d0887\"], [0.1111111111111111, \"#46039f\"], [0.2222222222222222, \"#7201a8\"], [0.3333333333333333, \"#9c179e\"], [0.4444444444444444, \"#bd3786\"], [0.5555555555555556, \"#d8576b\"], [0.6666666666666666, \"#ed7953\"], [0.7777777777777778, \"#fb9f3a\"], [0.8888888888888888, \"#fdca26\"], [1.0, \"#f0f921\"]], \"sequentialminus\": [[0.0, \"#0d0887\"], [0.1111111111111111, \"#46039f\"], [0.2222222222222222, \"#7201a8\"], [0.3333333333333333, \"#9c179e\"], [0.4444444444444444, \"#bd3786\"], [0.5555555555555556, \"#d8576b\"], [0.6666666666666666, \"#ed7953\"], [0.7777777777777778, \"#fb9f3a\"], [0.8888888888888888, \"#fdca26\"], [1.0, \"#f0f921\"]]}, \"colorway\": [\"#636efa\", \"#EF553B\", \"#00cc96\", \"#ab63fa\", \"#FFA15A\", \"#19d3f3\", \"#FF6692\", \"#B6E880\", \"#FF97FF\", \"#FECB52\"], \"font\": {\"color\": \"#2a3f5f\"}, \"geo\": {\"bgcolor\": \"white\", \"lakecolor\": \"white\", \"landcolor\": \"#E5ECF6\", \"showlakes\": true, \"showland\": true, \"subunitcolor\": \"white\"}, \"hoverlabel\": {\"align\": \"left\"}, \"hovermode\": \"closest\", \"mapbox\": {\"style\": \"light\"}, \"paper_bgcolor\": \"white\", \"plot_bgcolor\": \"#E5ECF6\", \"polar\": {\"angularaxis\": {\"gridcolor\": \"white\", \"linecolor\": \"white\", \"ticks\": \"\"}, \"bgcolor\": \"#E5ECF6\", \"radialaxis\": {\"gridcolor\": \"white\", \"linecolor\": \"white\", \"ticks\": \"\"}}, \"scene\": {\"xaxis\": {\"backgroundcolor\": \"#E5ECF6\", \"gridcolor\": \"white\", \"gridwidth\": 2, \"linecolor\": \"white\", \"showbackground\": true, \"ticks\": \"\", \"zerolinecolor\": \"white\"}, \"yaxis\": {\"backgroundcolor\": \"#E5ECF6\", \"gridcolor\": \"white\", \"gridwidth\": 2, \"linecolor\": \"white\", \"showbackground\": true, \"ticks\": \"\", \"zerolinecolor\": \"white\"}, \"zaxis\": {\"backgroundcolor\": \"#E5ECF6\", \"gridcolor\": \"white\", \"gridwidth\": 2, \"linecolor\": \"white\", \"showbackground\": true, \"ticks\": \"\", \"zerolinecolor\": \"white\"}}, \"shapedefaults\": {\"line\": {\"color\": \"#2a3f5f\"}}, \"ternary\": {\"aaxis\": {\"gridcolor\": \"white\", \"linecolor\": \"white\", \"ticks\": \"\"}, \"baxis\": {\"gridcolor\": \"white\", \"linecolor\": \"white\", \"ticks\": \"\"}, \"bgcolor\": \"#E5ECF6\", \"caxis\": {\"gridcolor\": \"white\", \"linecolor\": \"white\", \"ticks\": \"\"}}, \"title\": {\"x\": 0.05}, \"xaxis\": {\"automargin\": true, \"gridcolor\": \"white\", \"linecolor\": \"white\", \"ticks\": \"\", \"title\": {\"standoff\": 15}, \"zerolinecolor\": \"white\", \"zerolinewidth\": 2}, \"yaxis\": {\"automargin\": true, \"gridcolor\": \"white\", \"linecolor\": \"white\", \"ticks\": \"\", \"title\": {\"standoff\": 15}, \"zerolinecolor\": \"white\", \"zerolinewidth\": 2}}}, \"xaxis\": {\"anchor\": \"y\", \"constrain\": \"domain\", \"domain\": [0.0, 1.0], \"scaleanchor\": \"y\"}, \"yaxis\": {\"anchor\": \"x\", \"autorange\": \"reversed\", \"constrain\": \"domain\", \"domain\": [0.0, 1.0]}},                        {\"responsive\": true}                    ).then(function(){\n",
       "                            \n",
       "var gd = document.getElementById('042ef24b-8cb3-4074-a96e-7af258b44e1f');\n",
       "var x = new MutationObserver(function (mutations, observer) {{\n",
       "        var display = window.getComputedStyle(gd).display;\n",
       "        if (!display || display === 'none') {{\n",
       "            console.log([gd, 'removed!']);\n",
       "            Plotly.purge(gd);\n",
       "            observer.disconnect();\n",
       "        }}\n",
       "}});\n",
       "\n",
       "// Listen for the removal of the full notebook cells\n",
       "var notebookContainer = gd.closest('#notebook-container');\n",
       "if (notebookContainer) {{\n",
       "    x.observe(notebookContainer, {childList: true});\n",
       "}}\n",
       "\n",
       "// Listen for the clearing of the current output cell\n",
       "var outputEl = gd.closest('.output');\n",
       "if (outputEl) {{\n",
       "    x.observe(outputEl, {childList: true});\n",
       "}}\n",
       "\n",
       "                        })                };                });            </script>        </div>"
      ]
     },
     "metadata": {},
     "output_type": "display_data"
    }
   ],
   "source": [
    "fig = px.imshow(world_data.corr(), color_continuous_scale='viridis')\n",
    "fig"
   ]
  },
  {
   "cell_type": "markdown",
   "metadata": {},
   "source": [
    "<b>GDP variable</b> has the <b>strongest correlation</b> with the <b> life expectancy (0.8)</b>, after that comes <b>happiness variable (0.79)</b> and <b>social support (0.76)</b>."
   ]
  },
  {
   "cell_type": "markdown",
   "metadata": {},
   "source": [
    "<h5>Logged GPA and Happiness Level vs Regional Indicators</h5>"
   ]
  },
  {
   "cell_type": "markdown",
   "metadata": {},
   "source": [
    "<b>Western Europe is mainly clustered around the top right</b> for <b>highest happiness and GDP</b>."
   ]
  },
  {
   "cell_type": "code",
   "execution_count": 200,
   "metadata": {},
   "outputs": [
    {
     "data": {
      "application/vnd.plotly.v1+json": {
       "config": {
        "plotlyServerURL": "https://plot.ly"
       },
       "data": [
        {
         "hovertemplate": "Regional indicator=Western Europe<br>Logged GDP per capita=%{x}<br>Ladder score=%{y}<extra></extra>",
         "legendgroup": "Western Europe",
         "marker": {
          "color": "#636efa",
          "symbol": "circle"
         },
         "mode": "markers",
         "name": "Western Europe",
         "orientation": "v",
         "showlegend": true,
         "type": "scatter",
         "x": [
          10.775,
          10.933,
          11.117,
          10.878,
          10.932,
          11.052999999999999,
          10.867,
          11.647,
          10.905999999999999,
          10.873,
          11.342,
          10.707,
          10.823,
          10.704,
          10.674000000000001,
          10.571,
          10.623,
          10.575999999999999,
          10.421,
          10.279000000000002,
          10.575999999999999
         ],
         "xaxis": "x",
         "y": [
          7.8420000000000005,
          7.62,
          7.571000000000001,
          7.553999999999999,
          7.4639999999999995,
          7.392,
          7.3629999999999995,
          7.324,
          7.268,
          7.155,
          7.085,
          7.064,
          6.834,
          6.69,
          6.602,
          6.4910000000000005,
          6.483,
          6.223,
          5.928999999999999,
          5.723,
          5.5360000000000005
         ],
         "yaxis": "y"
        },
        {
         "hovertemplate": "Regional indicator=North America and ANZ<br>Logged GDP per capita=%{x}<br>Ladder score=%{y}<extra></extra>",
         "legendgroup": "North America and ANZ",
         "marker": {
          "color": "#EF553B",
          "symbol": "circle"
         },
         "mode": "markers",
         "name": "North America and ANZ",
         "orientation": "v",
         "showlegend": true,
         "type": "scatter",
         "x": [
          10.642999999999999,
          10.796,
          10.776,
          11.023
         ],
         "xaxis": "x",
         "y": [
          7.277,
          7.183,
          7.103,
          6.9510000000000005
         ],
         "yaxis": "y"
        },
        {
         "hovertemplate": "Regional indicator=Middle East and North Africa<br>Logged GDP per capita=%{x}<br>Ladder score=%{y}<extra></extra>",
         "legendgroup": "Middle East and North Africa",
         "marker": {
          "color": "#00cc96",
          "symbol": "circle"
         },
         "mode": "markers",
         "name": "Middle East and North Africa",
         "orientation": "v",
         "showlegend": true,
         "type": "scatter",
         "x": [
          10.575,
          10.669,
          11.085,
          10.743,
          10.817,
          9.622,
          10.24,
          8.902999999999999,
          9.342,
          9.24,
          9.584,
          9.266,
          9.626,
          8.485,
          9.182,
          9.367,
          7.577999999999999
         ],
         "xaxis": "x",
         "y": [
          7.157,
          6.647,
          6.561,
          6.494,
          6.106,
          5.41,
          4.948,
          4.918,
          4.887,
          4.854,
          4.721,
          4.596,
          4.584,
          4.5169999999999995,
          4.395,
          4.283,
          3.658
         ],
         "yaxis": "y"
        },
        {
         "hovertemplate": "Regional indicator=Latin America and Caribbean<br>Logged GDP per capita=%{x}<br>Ladder score=%{y}<extra></extra>",
         "legendgroup": "Latin America and Caribbean",
         "marker": {
          "color": "#ab63fa",
          "symbol": "circle"
         },
         "mode": "markers",
         "name": "Latin America and Caribbean",
         "orientation": "v",
         "showlegend": true,
         "type": "scatter",
         "x": [
          9.88,
          9.052999999999999,
          9.966000000000001,
          9.577,
          9.859,
          9.186,
          10.35,
          10.071,
          9.054,
          9.557,
          8.62,
          9.962,
          8.648,
          9.458,
          9.312999999999999,
          9.046,
          9.448,
          9.802,
          9.073,
          7.477
         ],
         "xaxis": "x",
         "y": [
          7.069,
          6.435,
          6.431,
          6.33,
          6.317,
          6.309,
          6.18,
          6.172000000000001,
          6.061,
          6.0120000000000005,
          5.972,
          5.928999999999999,
          5.919,
          5.84,
          5.763999999999999,
          5.716,
          5.653,
          5.545,
          4.8919999999999995,
          3.615
         ],
         "yaxis": "y"
        },
        {
         "hovertemplate": "Regional indicator=Central and Eastern Europe<br>Logged GDP per capita=%{x}<br>Ladder score=%{y}<extra></extra>",
         "legendgroup": "Central and Eastern Europe",
         "marker": {
          "color": "#FFA15A",
          "symbol": "circle"
         },
         "mode": "markers",
         "name": "Central and Eastern Europe",
         "orientation": "v",
         "showlegend": true,
         "type": "scatter",
         "x": [
          10.556,
          10.529000000000002,
          9.318,
          10.369000000000002,
          10.499,
          10.481,
          10.382,
          10.284,
          9.787,
          10.315,
          10.357999999999999,
          10.217,
          9.59,
          9.94,
          10.016,
          9.52,
          9.693
         ],
         "xaxis": "x",
         "y": [
          6.965,
          6.461,
          6.372000000000001,
          6.331,
          6.255,
          6.189,
          6.166,
          6.14,
          6.077999999999999,
          6.032,
          5.992000000000001,
          5.882000000000001,
          5.813,
          5.581,
          5.266,
          5.117,
          5.101
         ],
         "yaxis": "y"
        },
        {
         "hovertemplate": "Regional indicator=East Asia<br>Logged GDP per capita=%{x}<br>Ladder score=%{y}<extra></extra>",
         "legendgroup": "East Asia",
         "marker": {
          "color": "#19d3f3",
          "symbol": "circle"
         },
         "mode": "markers",
         "name": "East Asia",
         "orientation": "v",
         "showlegend": true,
         "type": "scatter",
         "x": [
          10.870999999999999,
          10.610999999999999,
          10.651,
          9.4,
          11,
          9.673
         ],
         "xaxis": "x",
         "y": [
          6.584,
          5.94,
          5.845,
          5.6770000000000005,
          5.477,
          5.3389999999999995
         ],
         "yaxis": "y"
        },
        {
         "hovertemplate": "Regional indicator=Southeast Asia<br>Logged GDP per capita=%{x}<br>Ladder score=%{y}<extra></extra>",
         "legendgroup": "Southeast Asia",
         "marker": {
          "color": "#FF6692",
          "symbol": "circle"
         },
         "mode": "markers",
         "name": "Southeast Asia",
         "orientation": "v",
         "showlegend": true,
         "type": "scatter",
         "x": [
          11.488,
          9.805,
          9.076,
          8.972999999999999,
          10.238,
          9.365,
          8.947000000000001,
          8.36,
          8.541
         ],
         "xaxis": "x",
         "y": [
          6.377000000000001,
          5.985,
          5.88,
          5.4110000000000005,
          5.3839999999999995,
          5.345,
          5.03,
          4.83,
          4.426
         ],
         "yaxis": "y"
        },
        {
         "hovertemplate": "Regional indicator=Commonwealth of Independent States<br>Logged GDP per capita=%{x}<br>Ladder score=%{y}<extra></extra>",
         "legendgroup": "Commonwealth of Independent States",
         "marker": {
          "color": "#B6E880",
          "symbol": "circle"
         },
         "mode": "markers",
         "name": "Commonwealth of Independent States",
         "orientation": "v",
         "showlegend": true,
         "type": "scatter",
         "x": [
          8.836,
          10.155,
          9.454,
          8.538,
          9.853,
          10.189,
          8.091000000000001,
          9.487,
          9.568999999999999,
          9.629,
          9.585,
          9.436
         ],
         "xaxis": "x",
         "y": [
          6.178999999999999,
          6.152,
          5.766,
          5.744,
          5.534,
          5.477,
          5.466,
          5.2829999999999995,
          5.171,
          5.066,
          4.891,
          4.875
         ],
         "yaxis": "y"
        },
        {
         "hovertemplate": "Regional indicator=Sub-Saharan Africa<br>Logged GDP per capita=%{x}<br>Ladder score=%{y}<extra></extra>",
         "legendgroup": "Sub-Saharan Africa",
         "marker": {
          "color": "#FF97FF",
          "symbol": "circle"
         },
         "mode": "markers",
         "name": "Sub-Saharan Africa",
         "orientation": "v",
         "showlegend": true,
         "type": "scatter",
         "x": [
          10.008,
          8.117,
          8.551,
          8.189,
          8.118,
          8.58,
          7.098,
          7.686,
          8.087,
          7.837999999999999,
          9.402999999999999,
          9.603,
          7.678,
          7.1579999999999995,
          8.533,
          7.744,
          7.6770000000000005,
          7.287999999999999,
          8.361,
          9.161,
          7.364,
          9.065,
          8.031,
          7.694,
          8.542,
          7.396,
          7.362,
          8.145,
          7.434,
          6.635,
          7.876,
          6.957999999999999,
          7.926,
          9.782,
          7.676,
          7.943
         ],
         "xaxis": "x",
         "y": [
          6.0489999999999995,
          5.3420000000000005,
          5.306,
          5.142,
          5.132000000000001,
          5.088,
          5.074,
          5.051,
          5.045,
          4.984,
          4.956,
          4.852,
          4.834,
          4.794,
          4.7589999999999995,
          4.723,
          4.636,
          4.625,
          4.607,
          4.574,
          4.355,
          4.308,
          4.289,
          4.275,
          4.227,
          4.208,
          4.107,
          4.073,
          3.8489999999999998,
          3.775,
          3.623,
          3.6,
          3.512,
          3.467,
          3.415,
          3.145
         ],
         "yaxis": "y"
        },
        {
         "hovertemplate": "Regional indicator=South Asia<br>Logged GDP per capita=%{x}<br>Ladder score=%{y}<extra></extra>",
         "legendgroup": "South Asia",
         "marker": {
          "color": "#FECB52",
          "symbol": "circle"
         },
         "mode": "markers",
         "name": "South Asia",
         "orientation": "v",
         "showlegend": true,
         "type": "scatter",
         "x": [
          8.12,
          9.826,
          8.454,
          8.458,
          9.47,
          8.755,
          7.695
         ],
         "xaxis": "x",
         "y": [
          5.269,
          5.1979999999999995,
          5.025,
          4.934,
          4.325,
          3.819,
          2.523
         ],
         "yaxis": "y"
        },
        {
         "name": "Regression Fit",
         "type": "scatter",
         "x": [
          6.635,
          6.685626262626262,
          6.736252525252525,
          6.786878787878788,
          6.83750505050505,
          6.888131313131313,
          6.938757575757576,
          6.989383838383838,
          7.0400101010101,
          7.090636363636364,
          7.141262626262626,
          7.191888888888888,
          7.242515151515152,
          7.293141414141414,
          7.343767676767676,
          7.3943939393939395,
          7.445020202020202,
          7.495646464646464,
          7.5462727272727275,
          7.59689898989899,
          7.647525252525252,
          7.698151515151515,
          7.748777777777778,
          7.79940404040404,
          7.850030303030303,
          7.900656565656566,
          7.951282828282828,
          8.001909090909091,
          8.052535353535353,
          8.103161616161616,
          8.15378787878788,
          8.20441414141414,
          8.255040404040404,
          8.305666666666667,
          8.356292929292929,
          8.406919191919192,
          8.457545454545455,
          8.508171717171717,
          8.55879797979798,
          8.609424242424243,
          8.660050505050505,
          8.710676767676768,
          8.76130303030303,
          8.811929292929293,
          8.862555555555556,
          8.913181818181819,
          8.96380808080808,
          9.014434343434344,
          9.065060606060605,
          9.115686868686868,
          9.166313131313132,
          9.216939393939395,
          9.267565656565656,
          9.31819191919192,
          9.368818181818181,
          9.419444444444444,
          9.470070707070708,
          9.52069696969697,
          9.571323232323232,
          9.621949494949495,
          9.672575757575757,
          9.72320202020202,
          9.773828282828283,
          9.824454545454545,
          9.875080808080808,
          9.925707070707071,
          9.976333333333333,
          10.026959595959596,
          10.07758585858586,
          10.12821212121212,
          10.178838383838384,
          10.229464646464645,
          10.280090909090909,
          10.330717171717172,
          10.381343434343435,
          10.431969696969697,
          10.48259595959596,
          10.533222222222221,
          10.583848484848485,
          10.634474747474748,
          10.685101010101011,
          10.735727272727273,
          10.786353535353536,
          10.836979797979797,
          10.88760606060606,
          10.938232323232324,
          10.988858585858587,
          11.039484848484848,
          11.090111111111112,
          11.140737373737373,
          11.191363636363636,
          11.2419898989899,
          11.292616161616163,
          11.343242424242424,
          11.393868686868686,
          11.444494949494949,
          11.495121212121212,
          11.545747474747476,
          11.596373737373739,
          11.647
         ],
         "y": [
          3.4851732880121418,
          3.522233691235127,
          3.559294094458113,
          3.596354497681098,
          3.633414900904083,
          3.670475304127069,
          3.707535707350054,
          3.744596110573039,
          3.781656513796025,
          3.8187169170190103,
          3.8557773202419963,
          3.8928377234649814,
          3.9298981266879673,
          3.9669585299109524,
          4.0040189331339375,
          4.0410793363569235,
          4.078139739579909,
          4.115200142802894,
          4.15226054602588,
          4.189320949248866,
          4.226381352471851,
          4.263441755694837,
          4.300502158917822,
          4.337562562140807,
          4.374622965363793,
          4.411683368586778,
          4.448743771809763,
          4.485804175032749,
          4.522864578255734,
          4.55992498147872,
          4.596985384701706,
          4.63404578792469,
          4.671106191147676,
          4.708166594370662,
          4.7452269975936465,
          4.7822874008166325,
          4.8193478040396185,
          4.856408207262604,
          4.89346861048559,
          4.9305290137085755,
          4.96758941693156,
          5.004649820154546,
          5.04171022337753,
          5.078770626600516,
          5.115831029823502,
          5.152891433046488,
          5.189951836269473,
          5.227012239492459,
          5.264072642715443,
          5.301133045938429,
          5.338193449161415,
          5.375253852384401,
          5.412314255607385,
          5.449374658830371,
          5.486435062053356,
          5.523495465276342,
          5.560555868499328,
          5.597616271722314,
          5.634676674945299,
          5.6717370781682845,
          5.708797481391269,
          5.745857884614255,
          5.782918287837241,
          5.819978691060226,
          5.857039094283212,
          5.894099497506198,
          5.931159900729182,
          5.968220303952168,
          6.005280707175154,
          6.042341110398138,
          6.079401513621124,
          6.116461916844109,
          6.153522320067095,
          6.190582723290081,
          6.227643126513066,
          6.264703529736051,
          6.301763932959037,
          6.338824336182022,
          6.3758847394050076,
          6.4129451426279935,
          6.4500055458509795,
          6.487065949073965,
          6.524126352296951,
          6.561186755519935,
          6.598247158742921,
          6.635307561965907,
          6.672367965188893,
          6.709428368411877,
          6.746488771634863,
          6.783549174857847,
          6.820609578080833,
          6.857669981303819,
          6.894730384526805,
          6.931790787749789,
          6.968851190972775,
          7.005911594195761,
          7.042971997418747,
          7.080032400641733,
          7.117092803864719,
          7.154153207087703
         ]
        }
       ],
       "layout": {
        "legend": {
         "title": {
          "text": "Regional indicator"
         },
         "tracegroupgap": 0
        },
        "margin": {
         "t": 60
        },
        "template": {
         "data": {
          "bar": [
           {
            "error_x": {
             "color": "#2a3f5f"
            },
            "error_y": {
             "color": "#2a3f5f"
            },
            "marker": {
             "line": {
              "color": "#E5ECF6",
              "width": 0.5
             }
            },
            "type": "bar"
           }
          ],
          "barpolar": [
           {
            "marker": {
             "line": {
              "color": "#E5ECF6",
              "width": 0.5
             }
            },
            "type": "barpolar"
           }
          ],
          "carpet": [
           {
            "aaxis": {
             "endlinecolor": "#2a3f5f",
             "gridcolor": "white",
             "linecolor": "white",
             "minorgridcolor": "white",
             "startlinecolor": "#2a3f5f"
            },
            "baxis": {
             "endlinecolor": "#2a3f5f",
             "gridcolor": "white",
             "linecolor": "white",
             "minorgridcolor": "white",
             "startlinecolor": "#2a3f5f"
            },
            "type": "carpet"
           }
          ],
          "choropleth": [
           {
            "colorbar": {
             "outlinewidth": 0,
             "ticks": ""
            },
            "type": "choropleth"
           }
          ],
          "contour": [
           {
            "colorbar": {
             "outlinewidth": 0,
             "ticks": ""
            },
            "colorscale": [
             [
              0,
              "#0d0887"
             ],
             [
              0.1111111111111111,
              "#46039f"
             ],
             [
              0.2222222222222222,
              "#7201a8"
             ],
             [
              0.3333333333333333,
              "#9c179e"
             ],
             [
              0.4444444444444444,
              "#bd3786"
             ],
             [
              0.5555555555555556,
              "#d8576b"
             ],
             [
              0.6666666666666666,
              "#ed7953"
             ],
             [
              0.7777777777777778,
              "#fb9f3a"
             ],
             [
              0.8888888888888888,
              "#fdca26"
             ],
             [
              1,
              "#f0f921"
             ]
            ],
            "type": "contour"
           }
          ],
          "contourcarpet": [
           {
            "colorbar": {
             "outlinewidth": 0,
             "ticks": ""
            },
            "type": "contourcarpet"
           }
          ],
          "heatmap": [
           {
            "colorbar": {
             "outlinewidth": 0,
             "ticks": ""
            },
            "colorscale": [
             [
              0,
              "#0d0887"
             ],
             [
              0.1111111111111111,
              "#46039f"
             ],
             [
              0.2222222222222222,
              "#7201a8"
             ],
             [
              0.3333333333333333,
              "#9c179e"
             ],
             [
              0.4444444444444444,
              "#bd3786"
             ],
             [
              0.5555555555555556,
              "#d8576b"
             ],
             [
              0.6666666666666666,
              "#ed7953"
             ],
             [
              0.7777777777777778,
              "#fb9f3a"
             ],
             [
              0.8888888888888888,
              "#fdca26"
             ],
             [
              1,
              "#f0f921"
             ]
            ],
            "type": "heatmap"
           }
          ],
          "heatmapgl": [
           {
            "colorbar": {
             "outlinewidth": 0,
             "ticks": ""
            },
            "colorscale": [
             [
              0,
              "#0d0887"
             ],
             [
              0.1111111111111111,
              "#46039f"
             ],
             [
              0.2222222222222222,
              "#7201a8"
             ],
             [
              0.3333333333333333,
              "#9c179e"
             ],
             [
              0.4444444444444444,
              "#bd3786"
             ],
             [
              0.5555555555555556,
              "#d8576b"
             ],
             [
              0.6666666666666666,
              "#ed7953"
             ],
             [
              0.7777777777777778,
              "#fb9f3a"
             ],
             [
              0.8888888888888888,
              "#fdca26"
             ],
             [
              1,
              "#f0f921"
             ]
            ],
            "type": "heatmapgl"
           }
          ],
          "histogram": [
           {
            "marker": {
             "colorbar": {
              "outlinewidth": 0,
              "ticks": ""
             }
            },
            "type": "histogram"
           }
          ],
          "histogram2d": [
           {
            "colorbar": {
             "outlinewidth": 0,
             "ticks": ""
            },
            "colorscale": [
             [
              0,
              "#0d0887"
             ],
             [
              0.1111111111111111,
              "#46039f"
             ],
             [
              0.2222222222222222,
              "#7201a8"
             ],
             [
              0.3333333333333333,
              "#9c179e"
             ],
             [
              0.4444444444444444,
              "#bd3786"
             ],
             [
              0.5555555555555556,
              "#d8576b"
             ],
             [
              0.6666666666666666,
              "#ed7953"
             ],
             [
              0.7777777777777778,
              "#fb9f3a"
             ],
             [
              0.8888888888888888,
              "#fdca26"
             ],
             [
              1,
              "#f0f921"
             ]
            ],
            "type": "histogram2d"
           }
          ],
          "histogram2dcontour": [
           {
            "colorbar": {
             "outlinewidth": 0,
             "ticks": ""
            },
            "colorscale": [
             [
              0,
              "#0d0887"
             ],
             [
              0.1111111111111111,
              "#46039f"
             ],
             [
              0.2222222222222222,
              "#7201a8"
             ],
             [
              0.3333333333333333,
              "#9c179e"
             ],
             [
              0.4444444444444444,
              "#bd3786"
             ],
             [
              0.5555555555555556,
              "#d8576b"
             ],
             [
              0.6666666666666666,
              "#ed7953"
             ],
             [
              0.7777777777777778,
              "#fb9f3a"
             ],
             [
              0.8888888888888888,
              "#fdca26"
             ],
             [
              1,
              "#f0f921"
             ]
            ],
            "type": "histogram2dcontour"
           }
          ],
          "mesh3d": [
           {
            "colorbar": {
             "outlinewidth": 0,
             "ticks": ""
            },
            "type": "mesh3d"
           }
          ],
          "parcoords": [
           {
            "line": {
             "colorbar": {
              "outlinewidth": 0,
              "ticks": ""
             }
            },
            "type": "parcoords"
           }
          ],
          "pie": [
           {
            "automargin": true,
            "type": "pie"
           }
          ],
          "scatter": [
           {
            "marker": {
             "colorbar": {
              "outlinewidth": 0,
              "ticks": ""
             }
            },
            "type": "scatter"
           }
          ],
          "scatter3d": [
           {
            "line": {
             "colorbar": {
              "outlinewidth": 0,
              "ticks": ""
             }
            },
            "marker": {
             "colorbar": {
              "outlinewidth": 0,
              "ticks": ""
             }
            },
            "type": "scatter3d"
           }
          ],
          "scattercarpet": [
           {
            "marker": {
             "colorbar": {
              "outlinewidth": 0,
              "ticks": ""
             }
            },
            "type": "scattercarpet"
           }
          ],
          "scattergeo": [
           {
            "marker": {
             "colorbar": {
              "outlinewidth": 0,
              "ticks": ""
             }
            },
            "type": "scattergeo"
           }
          ],
          "scattergl": [
           {
            "marker": {
             "colorbar": {
              "outlinewidth": 0,
              "ticks": ""
             }
            },
            "type": "scattergl"
           }
          ],
          "scattermapbox": [
           {
            "marker": {
             "colorbar": {
              "outlinewidth": 0,
              "ticks": ""
             }
            },
            "type": "scattermapbox"
           }
          ],
          "scatterpolar": [
           {
            "marker": {
             "colorbar": {
              "outlinewidth": 0,
              "ticks": ""
             }
            },
            "type": "scatterpolar"
           }
          ],
          "scatterpolargl": [
           {
            "marker": {
             "colorbar": {
              "outlinewidth": 0,
              "ticks": ""
             }
            },
            "type": "scatterpolargl"
           }
          ],
          "scatterternary": [
           {
            "marker": {
             "colorbar": {
              "outlinewidth": 0,
              "ticks": ""
             }
            },
            "type": "scatterternary"
           }
          ],
          "surface": [
           {
            "colorbar": {
             "outlinewidth": 0,
             "ticks": ""
            },
            "colorscale": [
             [
              0,
              "#0d0887"
             ],
             [
              0.1111111111111111,
              "#46039f"
             ],
             [
              0.2222222222222222,
              "#7201a8"
             ],
             [
              0.3333333333333333,
              "#9c179e"
             ],
             [
              0.4444444444444444,
              "#bd3786"
             ],
             [
              0.5555555555555556,
              "#d8576b"
             ],
             [
              0.6666666666666666,
              "#ed7953"
             ],
             [
              0.7777777777777778,
              "#fb9f3a"
             ],
             [
              0.8888888888888888,
              "#fdca26"
             ],
             [
              1,
              "#f0f921"
             ]
            ],
            "type": "surface"
           }
          ],
          "table": [
           {
            "cells": {
             "fill": {
              "color": "#EBF0F8"
             },
             "line": {
              "color": "white"
             }
            },
            "header": {
             "fill": {
              "color": "#C8D4E3"
             },
             "line": {
              "color": "white"
             }
            },
            "type": "table"
           }
          ]
         },
         "layout": {
          "annotationdefaults": {
           "arrowcolor": "#2a3f5f",
           "arrowhead": 0,
           "arrowwidth": 1
          },
          "autotypenumbers": "strict",
          "coloraxis": {
           "colorbar": {
            "outlinewidth": 0,
            "ticks": ""
           }
          },
          "colorscale": {
           "diverging": [
            [
             0,
             "#8e0152"
            ],
            [
             0.1,
             "#c51b7d"
            ],
            [
             0.2,
             "#de77ae"
            ],
            [
             0.3,
             "#f1b6da"
            ],
            [
             0.4,
             "#fde0ef"
            ],
            [
             0.5,
             "#f7f7f7"
            ],
            [
             0.6,
             "#e6f5d0"
            ],
            [
             0.7,
             "#b8e186"
            ],
            [
             0.8,
             "#7fbc41"
            ],
            [
             0.9,
             "#4d9221"
            ],
            [
             1,
             "#276419"
            ]
           ],
           "sequential": [
            [
             0,
             "#0d0887"
            ],
            [
             0.1111111111111111,
             "#46039f"
            ],
            [
             0.2222222222222222,
             "#7201a8"
            ],
            [
             0.3333333333333333,
             "#9c179e"
            ],
            [
             0.4444444444444444,
             "#bd3786"
            ],
            [
             0.5555555555555556,
             "#d8576b"
            ],
            [
             0.6666666666666666,
             "#ed7953"
            ],
            [
             0.7777777777777778,
             "#fb9f3a"
            ],
            [
             0.8888888888888888,
             "#fdca26"
            ],
            [
             1,
             "#f0f921"
            ]
           ],
           "sequentialminus": [
            [
             0,
             "#0d0887"
            ],
            [
             0.1111111111111111,
             "#46039f"
            ],
            [
             0.2222222222222222,
             "#7201a8"
            ],
            [
             0.3333333333333333,
             "#9c179e"
            ],
            [
             0.4444444444444444,
             "#bd3786"
            ],
            [
             0.5555555555555556,
             "#d8576b"
            ],
            [
             0.6666666666666666,
             "#ed7953"
            ],
            [
             0.7777777777777778,
             "#fb9f3a"
            ],
            [
             0.8888888888888888,
             "#fdca26"
            ],
            [
             1,
             "#f0f921"
            ]
           ]
          },
          "colorway": [
           "#636efa",
           "#EF553B",
           "#00cc96",
           "#ab63fa",
           "#FFA15A",
           "#19d3f3",
           "#FF6692",
           "#B6E880",
           "#FF97FF",
           "#FECB52"
          ],
          "font": {
           "color": "#2a3f5f"
          },
          "geo": {
           "bgcolor": "white",
           "lakecolor": "white",
           "landcolor": "#E5ECF6",
           "showlakes": true,
           "showland": true,
           "subunitcolor": "white"
          },
          "hoverlabel": {
           "align": "left"
          },
          "hovermode": "closest",
          "mapbox": {
           "style": "light"
          },
          "paper_bgcolor": "white",
          "plot_bgcolor": "#E5ECF6",
          "polar": {
           "angularaxis": {
            "gridcolor": "white",
            "linecolor": "white",
            "ticks": ""
           },
           "bgcolor": "#E5ECF6",
           "radialaxis": {
            "gridcolor": "white",
            "linecolor": "white",
            "ticks": ""
           }
          },
          "scene": {
           "xaxis": {
            "backgroundcolor": "#E5ECF6",
            "gridcolor": "white",
            "gridwidth": 2,
            "linecolor": "white",
            "showbackground": true,
            "ticks": "",
            "zerolinecolor": "white"
           },
           "yaxis": {
            "backgroundcolor": "#E5ECF6",
            "gridcolor": "white",
            "gridwidth": 2,
            "linecolor": "white",
            "showbackground": true,
            "ticks": "",
            "zerolinecolor": "white"
           },
           "zaxis": {
            "backgroundcolor": "#E5ECF6",
            "gridcolor": "white",
            "gridwidth": 2,
            "linecolor": "white",
            "showbackground": true,
            "ticks": "",
            "zerolinecolor": "white"
           }
          },
          "shapedefaults": {
           "line": {
            "color": "#2a3f5f"
           }
          },
          "ternary": {
           "aaxis": {
            "gridcolor": "white",
            "linecolor": "white",
            "ticks": ""
           },
           "baxis": {
            "gridcolor": "white",
            "linecolor": "white",
            "ticks": ""
           },
           "bgcolor": "#E5ECF6",
           "caxis": {
            "gridcolor": "white",
            "linecolor": "white",
            "ticks": ""
           }
          },
          "title": {
           "x": 0.05
          },
          "xaxis": {
           "automargin": true,
           "gridcolor": "white",
           "linecolor": "white",
           "ticks": "",
           "title": {
            "standoff": 15
           },
           "zerolinecolor": "white",
           "zerolinewidth": 2
          },
          "yaxis": {
           "automargin": true,
           "gridcolor": "white",
           "linecolor": "white",
           "ticks": "",
           "title": {
            "standoff": 15
           },
           "zerolinecolor": "white",
           "zerolinewidth": 2
          }
         }
        },
        "xaxis": {
         "anchor": "y",
         "domain": [
          0,
          1
         ],
         "title": {
          "text": "Logged GDP per capita"
         }
        },
        "yaxis": {
         "anchor": "x",
         "domain": [
          0,
          1
         ],
         "title": {
          "text": "Ladder score"
         }
        }
       }
      },
      "text/html": [
       "<div>                            <div id=\"d7483510-c499-4188-b1dd-270afe87bf81\" class=\"plotly-graph-div\" style=\"height:525px; width:100%;\"></div>            <script type=\"text/javascript\">                require([\"plotly\"], function(Plotly) {                    window.PLOTLYENV=window.PLOTLYENV || {};                                    if (document.getElementById(\"d7483510-c499-4188-b1dd-270afe87bf81\")) {                    Plotly.newPlot(                        \"d7483510-c499-4188-b1dd-270afe87bf81\",                        [{\"hovertemplate\": \"Regional indicator=Western Europe<br>Logged GDP per capita=%{x}<br>Ladder score=%{y}<extra></extra>\", \"legendgroup\": \"Western Europe\", \"marker\": {\"color\": \"#636efa\", \"symbol\": \"circle\"}, \"mode\": \"markers\", \"name\": \"Western Europe\", \"orientation\": \"v\", \"showlegend\": true, \"type\": \"scatter\", \"x\": [10.775, 10.933, 11.117, 10.878, 10.932, 11.052999999999999, 10.867, 11.647, 10.905999999999999, 10.873, 11.342, 10.707, 10.823, 10.704, 10.674000000000001, 10.571, 10.623, 10.575999999999999, 10.421, 10.279000000000002, 10.575999999999999], \"xaxis\": \"x\", \"y\": [7.8420000000000005, 7.62, 7.571000000000001, 7.553999999999999, 7.4639999999999995, 7.392, 7.3629999999999995, 7.324, 7.268, 7.155, 7.085, 7.064, 6.834, 6.69, 6.602, 6.4910000000000005, 6.483, 6.223, 5.928999999999999, 5.723, 5.5360000000000005], \"yaxis\": \"y\"}, {\"hovertemplate\": \"Regional indicator=North America and ANZ<br>Logged GDP per capita=%{x}<br>Ladder score=%{y}<extra></extra>\", \"legendgroup\": \"North America and ANZ\", \"marker\": {\"color\": \"#EF553B\", \"symbol\": \"circle\"}, \"mode\": \"markers\", \"name\": \"North America and ANZ\", \"orientation\": \"v\", \"showlegend\": true, \"type\": \"scatter\", \"x\": [10.642999999999999, 10.796, 10.776, 11.023], \"xaxis\": \"x\", \"y\": [7.277, 7.183, 7.103, 6.9510000000000005], \"yaxis\": \"y\"}, {\"hovertemplate\": \"Regional indicator=Middle East and North Africa<br>Logged GDP per capita=%{x}<br>Ladder score=%{y}<extra></extra>\", \"legendgroup\": \"Middle East and North Africa\", \"marker\": {\"color\": \"#00cc96\", \"symbol\": \"circle\"}, \"mode\": \"markers\", \"name\": \"Middle East and North Africa\", \"orientation\": \"v\", \"showlegend\": true, \"type\": \"scatter\", \"x\": [10.575, 10.669, 11.085, 10.743, 10.817, 9.622, 10.24, 8.902999999999999, 9.342, 9.24, 9.584, 9.266, 9.626, 8.485, 9.182, 9.367, 7.577999999999999], \"xaxis\": \"x\", \"y\": [7.157, 6.647, 6.561, 6.494, 6.106, 5.41, 4.948, 4.918, 4.887, 4.854, 4.721, 4.596, 4.584, 4.5169999999999995, 4.395, 4.283, 3.658], \"yaxis\": \"y\"}, {\"hovertemplate\": \"Regional indicator=Latin America and Caribbean<br>Logged GDP per capita=%{x}<br>Ladder score=%{y}<extra></extra>\", \"legendgroup\": \"Latin America and Caribbean\", \"marker\": {\"color\": \"#ab63fa\", \"symbol\": \"circle\"}, \"mode\": \"markers\", \"name\": \"Latin America and Caribbean\", \"orientation\": \"v\", \"showlegend\": true, \"type\": \"scatter\", \"x\": [9.88, 9.052999999999999, 9.966000000000001, 9.577, 9.859, 9.186, 10.35, 10.071, 9.054, 9.557, 8.62, 9.962, 8.648, 9.458, 9.312999999999999, 9.046, 9.448, 9.802, 9.073, 7.477], \"xaxis\": \"x\", \"y\": [7.069, 6.435, 6.431, 6.33, 6.317, 6.309, 6.18, 6.172000000000001, 6.061, 6.0120000000000005, 5.972, 5.928999999999999, 5.919, 5.84, 5.763999999999999, 5.716, 5.653, 5.545, 4.8919999999999995, 3.615], \"yaxis\": \"y\"}, {\"hovertemplate\": \"Regional indicator=Central and Eastern Europe<br>Logged GDP per capita=%{x}<br>Ladder score=%{y}<extra></extra>\", \"legendgroup\": \"Central and Eastern Europe\", \"marker\": {\"color\": \"#FFA15A\", \"symbol\": \"circle\"}, \"mode\": \"markers\", \"name\": \"Central and Eastern Europe\", \"orientation\": \"v\", \"showlegend\": true, \"type\": \"scatter\", \"x\": [10.556, 10.529000000000002, 9.318, 10.369000000000002, 10.499, 10.481, 10.382, 10.284, 9.787, 10.315, 10.357999999999999, 10.217, 9.59, 9.94, 10.016, 9.52, 9.693], \"xaxis\": \"x\", \"y\": [6.965, 6.461, 6.372000000000001, 6.331, 6.255, 6.189, 6.166, 6.14, 6.077999999999999, 6.032, 5.992000000000001, 5.882000000000001, 5.813, 5.581, 5.266, 5.117, 5.101], \"yaxis\": \"y\"}, {\"hovertemplate\": \"Regional indicator=East Asia<br>Logged GDP per capita=%{x}<br>Ladder score=%{y}<extra></extra>\", \"legendgroup\": \"East Asia\", \"marker\": {\"color\": \"#19d3f3\", \"symbol\": \"circle\"}, \"mode\": \"markers\", \"name\": \"East Asia\", \"orientation\": \"v\", \"showlegend\": true, \"type\": \"scatter\", \"x\": [10.870999999999999, 10.610999999999999, 10.651, 9.4, 11.0, 9.673], \"xaxis\": \"x\", \"y\": [6.584, 5.94, 5.845, 5.6770000000000005, 5.477, 5.3389999999999995], \"yaxis\": \"y\"}, {\"hovertemplate\": \"Regional indicator=Southeast Asia<br>Logged GDP per capita=%{x}<br>Ladder score=%{y}<extra></extra>\", \"legendgroup\": \"Southeast Asia\", \"marker\": {\"color\": \"#FF6692\", \"symbol\": \"circle\"}, \"mode\": \"markers\", \"name\": \"Southeast Asia\", \"orientation\": \"v\", \"showlegend\": true, \"type\": \"scatter\", \"x\": [11.488, 9.805, 9.076, 8.972999999999999, 10.238, 9.365, 8.947000000000001, 8.36, 8.541], \"xaxis\": \"x\", \"y\": [6.377000000000001, 5.985, 5.88, 5.4110000000000005, 5.3839999999999995, 5.345, 5.03, 4.83, 4.426], \"yaxis\": \"y\"}, {\"hovertemplate\": \"Regional indicator=Commonwealth of Independent States<br>Logged GDP per capita=%{x}<br>Ladder score=%{y}<extra></extra>\", \"legendgroup\": \"Commonwealth of Independent States\", \"marker\": {\"color\": \"#B6E880\", \"symbol\": \"circle\"}, \"mode\": \"markers\", \"name\": \"Commonwealth of Independent States\", \"orientation\": \"v\", \"showlegend\": true, \"type\": \"scatter\", \"x\": [8.836, 10.155, 9.454, 8.538, 9.853, 10.189, 8.091000000000001, 9.487, 9.568999999999999, 9.629, 9.585, 9.436], \"xaxis\": \"x\", \"y\": [6.178999999999999, 6.152, 5.766, 5.744, 5.534, 5.477, 5.466, 5.2829999999999995, 5.171, 5.066, 4.891, 4.875], \"yaxis\": \"y\"}, {\"hovertemplate\": \"Regional indicator=Sub-Saharan Africa<br>Logged GDP per capita=%{x}<br>Ladder score=%{y}<extra></extra>\", \"legendgroup\": \"Sub-Saharan Africa\", \"marker\": {\"color\": \"#FF97FF\", \"symbol\": \"circle\"}, \"mode\": \"markers\", \"name\": \"Sub-Saharan Africa\", \"orientation\": \"v\", \"showlegend\": true, \"type\": \"scatter\", \"x\": [10.008, 8.117, 8.551, 8.189, 8.118, 8.58, 7.098, 7.686, 8.087, 7.837999999999999, 9.402999999999999, 9.603, 7.678, 7.1579999999999995, 8.533, 7.744, 7.6770000000000005, 7.287999999999999, 8.361, 9.161, 7.364, 9.065, 8.031, 7.694, 8.542, 7.396, 7.362, 8.145, 7.434, 6.635, 7.876, 6.957999999999999, 7.926, 9.782, 7.676, 7.943], \"xaxis\": \"x\", \"y\": [6.0489999999999995, 5.3420000000000005, 5.306, 5.142, 5.132000000000001, 5.088, 5.074, 5.051, 5.045, 4.984, 4.956, 4.852, 4.834, 4.794, 4.7589999999999995, 4.723, 4.636, 4.625, 4.607, 4.574, 4.355, 4.308, 4.289, 4.275, 4.227, 4.208, 4.107, 4.073, 3.8489999999999998, 3.775, 3.623, 3.6, 3.512, 3.467, 3.415, 3.145], \"yaxis\": \"y\"}, {\"hovertemplate\": \"Regional indicator=South Asia<br>Logged GDP per capita=%{x}<br>Ladder score=%{y}<extra></extra>\", \"legendgroup\": \"South Asia\", \"marker\": {\"color\": \"#FECB52\", \"symbol\": \"circle\"}, \"mode\": \"markers\", \"name\": \"South Asia\", \"orientation\": \"v\", \"showlegend\": true, \"type\": \"scatter\", \"x\": [8.12, 9.826, 8.454, 8.458, 9.47, 8.755, 7.695], \"xaxis\": \"x\", \"y\": [5.269, 5.1979999999999995, 5.025, 4.934, 4.325, 3.819, 2.523], \"yaxis\": \"y\"}, {\"name\": \"Regression Fit\", \"type\": \"scatter\", \"x\": [6.635, 6.685626262626262, 6.736252525252525, 6.786878787878788, 6.83750505050505, 6.888131313131313, 6.938757575757576, 6.989383838383838, 7.0400101010101, 7.090636363636364, 7.141262626262626, 7.191888888888888, 7.242515151515152, 7.293141414141414, 7.343767676767676, 7.3943939393939395, 7.445020202020202, 7.495646464646464, 7.5462727272727275, 7.59689898989899, 7.647525252525252, 7.698151515151515, 7.748777777777778, 7.79940404040404, 7.850030303030303, 7.900656565656566, 7.951282828282828, 8.001909090909091, 8.052535353535353, 8.103161616161616, 8.15378787878788, 8.20441414141414, 8.255040404040404, 8.305666666666667, 8.356292929292929, 8.406919191919192, 8.457545454545455, 8.508171717171717, 8.55879797979798, 8.609424242424243, 8.660050505050505, 8.710676767676768, 8.76130303030303, 8.811929292929293, 8.862555555555556, 8.913181818181819, 8.96380808080808, 9.014434343434344, 9.065060606060605, 9.115686868686868, 9.166313131313132, 9.216939393939395, 9.267565656565656, 9.31819191919192, 9.368818181818181, 9.419444444444444, 9.470070707070708, 9.52069696969697, 9.571323232323232, 9.621949494949495, 9.672575757575757, 9.72320202020202, 9.773828282828283, 9.824454545454545, 9.875080808080808, 9.925707070707071, 9.976333333333333, 10.026959595959596, 10.07758585858586, 10.12821212121212, 10.178838383838384, 10.229464646464645, 10.280090909090909, 10.330717171717172, 10.381343434343435, 10.431969696969697, 10.48259595959596, 10.533222222222221, 10.583848484848485, 10.634474747474748, 10.685101010101011, 10.735727272727273, 10.786353535353536, 10.836979797979797, 10.88760606060606, 10.938232323232324, 10.988858585858587, 11.039484848484848, 11.090111111111112, 11.140737373737373, 11.191363636363636, 11.2419898989899, 11.292616161616163, 11.343242424242424, 11.393868686868686, 11.444494949494949, 11.495121212121212, 11.545747474747476, 11.596373737373739, 11.647], \"y\": [3.4851732880121418, 3.522233691235127, 3.559294094458113, 3.596354497681098, 3.633414900904083, 3.670475304127069, 3.707535707350054, 3.744596110573039, 3.781656513796025, 3.8187169170190103, 3.8557773202419963, 3.8928377234649814, 3.9298981266879673, 3.9669585299109524, 4.0040189331339375, 4.0410793363569235, 4.078139739579909, 4.115200142802894, 4.15226054602588, 4.189320949248866, 4.226381352471851, 4.263441755694837, 4.300502158917822, 4.337562562140807, 4.374622965363793, 4.411683368586778, 4.448743771809763, 4.485804175032749, 4.522864578255734, 4.55992498147872, 4.596985384701706, 4.63404578792469, 4.671106191147676, 4.708166594370662, 4.7452269975936465, 4.7822874008166325, 4.8193478040396185, 4.856408207262604, 4.89346861048559, 4.9305290137085755, 4.96758941693156, 5.004649820154546, 5.04171022337753, 5.078770626600516, 5.115831029823502, 5.152891433046488, 5.189951836269473, 5.227012239492459, 5.264072642715443, 5.301133045938429, 5.338193449161415, 5.375253852384401, 5.412314255607385, 5.449374658830371, 5.486435062053356, 5.523495465276342, 5.560555868499328, 5.597616271722314, 5.634676674945299, 5.6717370781682845, 5.708797481391269, 5.745857884614255, 5.782918287837241, 5.819978691060226, 5.857039094283212, 5.894099497506198, 5.931159900729182, 5.968220303952168, 6.005280707175154, 6.042341110398138, 6.079401513621124, 6.116461916844109, 6.153522320067095, 6.190582723290081, 6.227643126513066, 6.264703529736051, 6.301763932959037, 6.338824336182022, 6.3758847394050076, 6.4129451426279935, 6.4500055458509795, 6.487065949073965, 6.524126352296951, 6.561186755519935, 6.598247158742921, 6.635307561965907, 6.672367965188893, 6.709428368411877, 6.746488771634863, 6.783549174857847, 6.820609578080833, 6.857669981303819, 6.894730384526805, 6.931790787749789, 6.968851190972775, 7.005911594195761, 7.042971997418747, 7.080032400641733, 7.117092803864719, 7.154153207087703]}],                        {\"legend\": {\"title\": {\"text\": \"Regional indicator\"}, \"tracegroupgap\": 0}, \"margin\": {\"t\": 60}, \"template\": {\"data\": {\"bar\": [{\"error_x\": {\"color\": \"#2a3f5f\"}, \"error_y\": {\"color\": \"#2a3f5f\"}, \"marker\": {\"line\": {\"color\": \"#E5ECF6\", \"width\": 0.5}}, \"type\": \"bar\"}], \"barpolar\": [{\"marker\": {\"line\": {\"color\": \"#E5ECF6\", \"width\": 0.5}}, \"type\": \"barpolar\"}], \"carpet\": [{\"aaxis\": {\"endlinecolor\": \"#2a3f5f\", \"gridcolor\": \"white\", \"linecolor\": \"white\", \"minorgridcolor\": \"white\", \"startlinecolor\": \"#2a3f5f\"}, \"baxis\": {\"endlinecolor\": \"#2a3f5f\", \"gridcolor\": \"white\", \"linecolor\": \"white\", \"minorgridcolor\": \"white\", \"startlinecolor\": \"#2a3f5f\"}, \"type\": \"carpet\"}], \"choropleth\": [{\"colorbar\": {\"outlinewidth\": 0, \"ticks\": \"\"}, \"type\": \"choropleth\"}], \"contour\": [{\"colorbar\": {\"outlinewidth\": 0, \"ticks\": \"\"}, \"colorscale\": [[0.0, \"#0d0887\"], [0.1111111111111111, \"#46039f\"], [0.2222222222222222, \"#7201a8\"], [0.3333333333333333, \"#9c179e\"], [0.4444444444444444, \"#bd3786\"], [0.5555555555555556, \"#d8576b\"], [0.6666666666666666, \"#ed7953\"], [0.7777777777777778, \"#fb9f3a\"], [0.8888888888888888, \"#fdca26\"], [1.0, \"#f0f921\"]], \"type\": \"contour\"}], \"contourcarpet\": [{\"colorbar\": {\"outlinewidth\": 0, \"ticks\": \"\"}, \"type\": \"contourcarpet\"}], \"heatmap\": [{\"colorbar\": {\"outlinewidth\": 0, \"ticks\": \"\"}, \"colorscale\": [[0.0, \"#0d0887\"], [0.1111111111111111, \"#46039f\"], [0.2222222222222222, \"#7201a8\"], [0.3333333333333333, \"#9c179e\"], [0.4444444444444444, \"#bd3786\"], [0.5555555555555556, \"#d8576b\"], [0.6666666666666666, \"#ed7953\"], [0.7777777777777778, \"#fb9f3a\"], [0.8888888888888888, \"#fdca26\"], [1.0, \"#f0f921\"]], \"type\": \"heatmap\"}], \"heatmapgl\": [{\"colorbar\": {\"outlinewidth\": 0, \"ticks\": \"\"}, \"colorscale\": [[0.0, \"#0d0887\"], [0.1111111111111111, \"#46039f\"], [0.2222222222222222, \"#7201a8\"], [0.3333333333333333, \"#9c179e\"], [0.4444444444444444, \"#bd3786\"], [0.5555555555555556, \"#d8576b\"], [0.6666666666666666, \"#ed7953\"], [0.7777777777777778, \"#fb9f3a\"], [0.8888888888888888, \"#fdca26\"], [1.0, \"#f0f921\"]], \"type\": \"heatmapgl\"}], \"histogram\": [{\"marker\": {\"colorbar\": {\"outlinewidth\": 0, \"ticks\": \"\"}}, \"type\": \"histogram\"}], \"histogram2d\": [{\"colorbar\": {\"outlinewidth\": 0, \"ticks\": \"\"}, \"colorscale\": [[0.0, \"#0d0887\"], [0.1111111111111111, \"#46039f\"], [0.2222222222222222, \"#7201a8\"], [0.3333333333333333, \"#9c179e\"], [0.4444444444444444, \"#bd3786\"], [0.5555555555555556, \"#d8576b\"], [0.6666666666666666, \"#ed7953\"], [0.7777777777777778, \"#fb9f3a\"], [0.8888888888888888, \"#fdca26\"], [1.0, \"#f0f921\"]], \"type\": \"histogram2d\"}], \"histogram2dcontour\": [{\"colorbar\": {\"outlinewidth\": 0, \"ticks\": \"\"}, \"colorscale\": [[0.0, \"#0d0887\"], [0.1111111111111111, \"#46039f\"], [0.2222222222222222, \"#7201a8\"], [0.3333333333333333, \"#9c179e\"], [0.4444444444444444, \"#bd3786\"], [0.5555555555555556, \"#d8576b\"], [0.6666666666666666, \"#ed7953\"], [0.7777777777777778, \"#fb9f3a\"], [0.8888888888888888, \"#fdca26\"], [1.0, \"#f0f921\"]], \"type\": \"histogram2dcontour\"}], \"mesh3d\": [{\"colorbar\": {\"outlinewidth\": 0, \"ticks\": \"\"}, \"type\": \"mesh3d\"}], \"parcoords\": [{\"line\": {\"colorbar\": {\"outlinewidth\": 0, \"ticks\": \"\"}}, \"type\": \"parcoords\"}], \"pie\": [{\"automargin\": true, \"type\": \"pie\"}], \"scatter\": [{\"marker\": {\"colorbar\": {\"outlinewidth\": 0, \"ticks\": \"\"}}, \"type\": \"scatter\"}], \"scatter3d\": [{\"line\": {\"colorbar\": {\"outlinewidth\": 0, \"ticks\": \"\"}}, \"marker\": {\"colorbar\": {\"outlinewidth\": 0, \"ticks\": \"\"}}, \"type\": \"scatter3d\"}], \"scattercarpet\": [{\"marker\": {\"colorbar\": {\"outlinewidth\": 0, \"ticks\": \"\"}}, \"type\": \"scattercarpet\"}], \"scattergeo\": [{\"marker\": {\"colorbar\": {\"outlinewidth\": 0, \"ticks\": \"\"}}, \"type\": \"scattergeo\"}], \"scattergl\": [{\"marker\": {\"colorbar\": {\"outlinewidth\": 0, \"ticks\": \"\"}}, \"type\": \"scattergl\"}], \"scattermapbox\": [{\"marker\": {\"colorbar\": {\"outlinewidth\": 0, \"ticks\": \"\"}}, \"type\": \"scattermapbox\"}], \"scatterpolar\": [{\"marker\": {\"colorbar\": {\"outlinewidth\": 0, \"ticks\": \"\"}}, \"type\": \"scatterpolar\"}], \"scatterpolargl\": [{\"marker\": {\"colorbar\": {\"outlinewidth\": 0, \"ticks\": \"\"}}, \"type\": \"scatterpolargl\"}], \"scatterternary\": [{\"marker\": {\"colorbar\": {\"outlinewidth\": 0, \"ticks\": \"\"}}, \"type\": \"scatterternary\"}], \"surface\": [{\"colorbar\": {\"outlinewidth\": 0, \"ticks\": \"\"}, \"colorscale\": [[0.0, \"#0d0887\"], [0.1111111111111111, \"#46039f\"], [0.2222222222222222, \"#7201a8\"], [0.3333333333333333, \"#9c179e\"], [0.4444444444444444, \"#bd3786\"], [0.5555555555555556, \"#d8576b\"], [0.6666666666666666, \"#ed7953\"], [0.7777777777777778, \"#fb9f3a\"], [0.8888888888888888, \"#fdca26\"], [1.0, \"#f0f921\"]], \"type\": \"surface\"}], \"table\": [{\"cells\": {\"fill\": {\"color\": \"#EBF0F8\"}, \"line\": {\"color\": \"white\"}}, \"header\": {\"fill\": {\"color\": \"#C8D4E3\"}, \"line\": {\"color\": \"white\"}}, \"type\": \"table\"}]}, \"layout\": {\"annotationdefaults\": {\"arrowcolor\": \"#2a3f5f\", \"arrowhead\": 0, \"arrowwidth\": 1}, \"autotypenumbers\": \"strict\", \"coloraxis\": {\"colorbar\": {\"outlinewidth\": 0, \"ticks\": \"\"}}, \"colorscale\": {\"diverging\": [[0, \"#8e0152\"], [0.1, \"#c51b7d\"], [0.2, \"#de77ae\"], [0.3, \"#f1b6da\"], [0.4, \"#fde0ef\"], [0.5, \"#f7f7f7\"], [0.6, \"#e6f5d0\"], [0.7, \"#b8e186\"], [0.8, \"#7fbc41\"], [0.9, \"#4d9221\"], [1, \"#276419\"]], \"sequential\": [[0.0, \"#0d0887\"], [0.1111111111111111, \"#46039f\"], [0.2222222222222222, \"#7201a8\"], [0.3333333333333333, \"#9c179e\"], [0.4444444444444444, \"#bd3786\"], [0.5555555555555556, \"#d8576b\"], [0.6666666666666666, \"#ed7953\"], [0.7777777777777778, \"#fb9f3a\"], [0.8888888888888888, \"#fdca26\"], [1.0, \"#f0f921\"]], \"sequentialminus\": [[0.0, \"#0d0887\"], [0.1111111111111111, \"#46039f\"], [0.2222222222222222, \"#7201a8\"], [0.3333333333333333, \"#9c179e\"], [0.4444444444444444, \"#bd3786\"], [0.5555555555555556, \"#d8576b\"], [0.6666666666666666, \"#ed7953\"], [0.7777777777777778, \"#fb9f3a\"], [0.8888888888888888, \"#fdca26\"], [1.0, \"#f0f921\"]]}, \"colorway\": [\"#636efa\", \"#EF553B\", \"#00cc96\", \"#ab63fa\", \"#FFA15A\", \"#19d3f3\", \"#FF6692\", \"#B6E880\", \"#FF97FF\", \"#FECB52\"], \"font\": {\"color\": \"#2a3f5f\"}, \"geo\": {\"bgcolor\": \"white\", \"lakecolor\": \"white\", \"landcolor\": \"#E5ECF6\", \"showlakes\": true, \"showland\": true, \"subunitcolor\": \"white\"}, \"hoverlabel\": {\"align\": \"left\"}, \"hovermode\": \"closest\", \"mapbox\": {\"style\": \"light\"}, \"paper_bgcolor\": \"white\", \"plot_bgcolor\": \"#E5ECF6\", \"polar\": {\"angularaxis\": {\"gridcolor\": \"white\", \"linecolor\": \"white\", \"ticks\": \"\"}, \"bgcolor\": \"#E5ECF6\", \"radialaxis\": {\"gridcolor\": \"white\", \"linecolor\": \"white\", \"ticks\": \"\"}}, \"scene\": {\"xaxis\": {\"backgroundcolor\": \"#E5ECF6\", \"gridcolor\": \"white\", \"gridwidth\": 2, \"linecolor\": \"white\", \"showbackground\": true, \"ticks\": \"\", \"zerolinecolor\": \"white\"}, \"yaxis\": {\"backgroundcolor\": \"#E5ECF6\", \"gridcolor\": \"white\", \"gridwidth\": 2, \"linecolor\": \"white\", \"showbackground\": true, \"ticks\": \"\", \"zerolinecolor\": \"white\"}, \"zaxis\": {\"backgroundcolor\": \"#E5ECF6\", \"gridcolor\": \"white\", \"gridwidth\": 2, \"linecolor\": \"white\", \"showbackground\": true, \"ticks\": \"\", \"zerolinecolor\": \"white\"}}, \"shapedefaults\": {\"line\": {\"color\": \"#2a3f5f\"}}, \"ternary\": {\"aaxis\": {\"gridcolor\": \"white\", \"linecolor\": \"white\", \"ticks\": \"\"}, \"baxis\": {\"gridcolor\": \"white\", \"linecolor\": \"white\", \"ticks\": \"\"}, \"bgcolor\": \"#E5ECF6\", \"caxis\": {\"gridcolor\": \"white\", \"linecolor\": \"white\", \"ticks\": \"\"}}, \"title\": {\"x\": 0.05}, \"xaxis\": {\"automargin\": true, \"gridcolor\": \"white\", \"linecolor\": \"white\", \"ticks\": \"\", \"title\": {\"standoff\": 15}, \"zerolinecolor\": \"white\", \"zerolinewidth\": 2}, \"yaxis\": {\"automargin\": true, \"gridcolor\": \"white\", \"linecolor\": \"white\", \"ticks\": \"\", \"title\": {\"standoff\": 15}, \"zerolinecolor\": \"white\", \"zerolinewidth\": 2}}}, \"xaxis\": {\"anchor\": \"y\", \"domain\": [0.0, 1.0], \"title\": {\"text\": \"Logged GDP per capita\"}}, \"yaxis\": {\"anchor\": \"x\", \"domain\": [0.0, 1.0], \"title\": {\"text\": \"Ladder score\"}}},                        {\"responsive\": true}                    ).then(function(){\n",
       "                            \n",
       "var gd = document.getElementById('d7483510-c499-4188-b1dd-270afe87bf81');\n",
       "var x = new MutationObserver(function (mutations, observer) {{\n",
       "        var display = window.getComputedStyle(gd).display;\n",
       "        if (!display || display === 'none') {{\n",
       "            console.log([gd, 'removed!']);\n",
       "            Plotly.purge(gd);\n",
       "            observer.disconnect();\n",
       "        }}\n",
       "}});\n",
       "\n",
       "// Listen for the removal of the full notebook cells\n",
       "var notebookContainer = gd.closest('#notebook-container');\n",
       "if (notebookContainer) {{\n",
       "    x.observe(notebookContainer, {childList: true});\n",
       "}}\n",
       "\n",
       "// Listen for the clearing of the current output cell\n",
       "var outputEl = gd.closest('.output');\n",
       "if (outputEl) {{\n",
       "    x.observe(outputEl, {childList: true});\n",
       "}}\n",
       "\n",
       "                        })                };                });            </script>        </div>"
      ]
     },
     "metadata": {},
     "output_type": "display_data"
    }
   ],
   "source": [
    "import plotly.graph_objects as go\n",
    "from sklearn.linear_model import LinearRegression\n",
    "df = world_data\n",
    "\n",
    "X = df['Logged GDP per capita'].values.reshape(-1 , 1)\n",
    "\n",
    "model = LinearRegression()\n",
    "model.fit(X, df['Ladder score'])\n",
    "\n",
    "x_range = np.linspace(X.min(), X.max(), 100)\n",
    "y_range = model.predict(x_range.reshape(-1, 1))\n",
    "\n",
    "fig = px.scatter(df, x='Logged GDP per capita', y='Ladder score',color = 'Regional indicator' )\n",
    "fig.add_traces(go.Scatter(x=x_range, y=y_range, name='Regression Fit'))\n",
    "fig.show()"
   ]
  },
  {
   "cell_type": "markdown",
   "metadata": {},
   "source": [
    "To find out which countries were the <b>biggest deviators from their region’s mean happiness<b>\n",
    "    <h5>Biggest outliers from each region</h5>"
   ]
  },
  {
   "cell_type": "code",
   "execution_count": 151,
   "metadata": {},
   "outputs": [],
   "source": [
    "#Table 1 : Regional Avg GDP and Mean Happiness (mean)\n",
    "regional_avg_gdp = world_data.groupby('Regional indicator')[['Ladder score','Logged GDP per capita']].mean().reset_index()\n",
    "#Table 2 : Copy Of Regional Avg GDP Table\n",
    "regional_score_avg = regional_avg_gdp.copy()\n",
    "#Table 2 : Rename Columns to \"AvgLadderscore and Avg_GDP\"\n",
    "regional_score_avg.columns = ['Regional indicator','Avg_Ladder_score','Avg_GDP']"
   ]
  },
  {
   "cell_type": "code",
   "execution_count": 153,
   "metadata": {},
   "outputs": [
    {
     "data": {
      "text/html": [
       "<div>\n",
       "<style scoped>\n",
       "    .dataframe tbody tr th:only-of-type {\n",
       "        vertical-align: middle;\n",
       "    }\n",
       "\n",
       "    .dataframe tbody tr th {\n",
       "        vertical-align: top;\n",
       "    }\n",
       "\n",
       "    .dataframe thead th {\n",
       "        text-align: right;\n",
       "    }\n",
       "</style>\n",
       "<table border=\"1\" class=\"dataframe\">\n",
       "  <thead>\n",
       "    <tr style=\"text-align: right;\">\n",
       "      <th></th>\n",
       "      <th>Country name</th>\n",
       "      <th>Regional indicator</th>\n",
       "      <th>Ladder score</th>\n",
       "      <th>Standard error of ladder score</th>\n",
       "      <th>upperwhisker</th>\n",
       "      <th>lowerwhisker</th>\n",
       "      <th>Logged GDP per capita</th>\n",
       "      <th>Social support</th>\n",
       "      <th>Healthy life expectancy</th>\n",
       "      <th>Freedom to make life choices</th>\n",
       "      <th>...</th>\n",
       "      <th>Ladder score in Dystopia</th>\n",
       "      <th>Explained by: Log GDP per capita</th>\n",
       "      <th>Explained by: Social support</th>\n",
       "      <th>Explained by: Healthy life expectancy</th>\n",
       "      <th>Explained by: Freedom to make life choices</th>\n",
       "      <th>Explained by: Generosity</th>\n",
       "      <th>Explained by: Perceptions of corruption</th>\n",
       "      <th>Dystopia + residual</th>\n",
       "      <th>Avg_Ladder_score</th>\n",
       "      <th>Avg_GDP</th>\n",
       "    </tr>\n",
       "  </thead>\n",
       "  <tbody>\n",
       "    <tr>\n",
       "      <th>0</th>\n",
       "      <td>Finland</td>\n",
       "      <td>Western Europe</td>\n",
       "      <td>7.842</td>\n",
       "      <td>0.032</td>\n",
       "      <td>7.904</td>\n",
       "      <td>7.780</td>\n",
       "      <td>10.775</td>\n",
       "      <td>0.954</td>\n",
       "      <td>72.000</td>\n",
       "      <td>0.949</td>\n",
       "      <td>...</td>\n",
       "      <td>2.43</td>\n",
       "      <td>1.446</td>\n",
       "      <td>1.106</td>\n",
       "      <td>0.741</td>\n",
       "      <td>0.691</td>\n",
       "      <td>0.124</td>\n",
       "      <td>0.481</td>\n",
       "      <td>3.253</td>\n",
       "      <td>6.914905</td>\n",
       "      <td>10.822714</td>\n",
       "    </tr>\n",
       "    <tr>\n",
       "      <th>1</th>\n",
       "      <td>Denmark</td>\n",
       "      <td>Western Europe</td>\n",
       "      <td>7.620</td>\n",
       "      <td>0.035</td>\n",
       "      <td>7.687</td>\n",
       "      <td>7.552</td>\n",
       "      <td>10.933</td>\n",
       "      <td>0.954</td>\n",
       "      <td>72.700</td>\n",
       "      <td>0.946</td>\n",
       "      <td>...</td>\n",
       "      <td>2.43</td>\n",
       "      <td>1.502</td>\n",
       "      <td>1.108</td>\n",
       "      <td>0.763</td>\n",
       "      <td>0.686</td>\n",
       "      <td>0.208</td>\n",
       "      <td>0.485</td>\n",
       "      <td>2.868</td>\n",
       "      <td>6.914905</td>\n",
       "      <td>10.822714</td>\n",
       "    </tr>\n",
       "    <tr>\n",
       "      <th>2</th>\n",
       "      <td>Switzerland</td>\n",
       "      <td>Western Europe</td>\n",
       "      <td>7.571</td>\n",
       "      <td>0.036</td>\n",
       "      <td>7.643</td>\n",
       "      <td>7.500</td>\n",
       "      <td>11.117</td>\n",
       "      <td>0.942</td>\n",
       "      <td>74.400</td>\n",
       "      <td>0.919</td>\n",
       "      <td>...</td>\n",
       "      <td>2.43</td>\n",
       "      <td>1.566</td>\n",
       "      <td>1.079</td>\n",
       "      <td>0.816</td>\n",
       "      <td>0.653</td>\n",
       "      <td>0.204</td>\n",
       "      <td>0.413</td>\n",
       "      <td>2.839</td>\n",
       "      <td>6.914905</td>\n",
       "      <td>10.822714</td>\n",
       "    </tr>\n",
       "    <tr>\n",
       "      <th>3</th>\n",
       "      <td>Iceland</td>\n",
       "      <td>Western Europe</td>\n",
       "      <td>7.554</td>\n",
       "      <td>0.059</td>\n",
       "      <td>7.670</td>\n",
       "      <td>7.438</td>\n",
       "      <td>10.878</td>\n",
       "      <td>0.983</td>\n",
       "      <td>73.000</td>\n",
       "      <td>0.955</td>\n",
       "      <td>...</td>\n",
       "      <td>2.43</td>\n",
       "      <td>1.482</td>\n",
       "      <td>1.172</td>\n",
       "      <td>0.772</td>\n",
       "      <td>0.698</td>\n",
       "      <td>0.293</td>\n",
       "      <td>0.170</td>\n",
       "      <td>2.967</td>\n",
       "      <td>6.914905</td>\n",
       "      <td>10.822714</td>\n",
       "    </tr>\n",
       "    <tr>\n",
       "      <th>4</th>\n",
       "      <td>Netherlands</td>\n",
       "      <td>Western Europe</td>\n",
       "      <td>7.464</td>\n",
       "      <td>0.027</td>\n",
       "      <td>7.518</td>\n",
       "      <td>7.410</td>\n",
       "      <td>10.932</td>\n",
       "      <td>0.942</td>\n",
       "      <td>72.400</td>\n",
       "      <td>0.913</td>\n",
       "      <td>...</td>\n",
       "      <td>2.43</td>\n",
       "      <td>1.501</td>\n",
       "      <td>1.079</td>\n",
       "      <td>0.753</td>\n",
       "      <td>0.647</td>\n",
       "      <td>0.302</td>\n",
       "      <td>0.384</td>\n",
       "      <td>2.798</td>\n",
       "      <td>6.914905</td>\n",
       "      <td>10.822714</td>\n",
       "    </tr>\n",
       "    <tr>\n",
       "      <th>...</th>\n",
       "      <td>...</td>\n",
       "      <td>...</td>\n",
       "      <td>...</td>\n",
       "      <td>...</td>\n",
       "      <td>...</td>\n",
       "      <td>...</td>\n",
       "      <td>...</td>\n",
       "      <td>...</td>\n",
       "      <td>...</td>\n",
       "      <td>...</td>\n",
       "      <td>...</td>\n",
       "      <td>...</td>\n",
       "      <td>...</td>\n",
       "      <td>...</td>\n",
       "      <td>...</td>\n",
       "      <td>...</td>\n",
       "      <td>...</td>\n",
       "      <td>...</td>\n",
       "      <td>...</td>\n",
       "      <td>...</td>\n",
       "      <td>...</td>\n",
       "    </tr>\n",
       "    <tr>\n",
       "      <th>144</th>\n",
       "      <td>Bangladesh</td>\n",
       "      <td>South Asia</td>\n",
       "      <td>5.025</td>\n",
       "      <td>0.046</td>\n",
       "      <td>5.115</td>\n",
       "      <td>4.934</td>\n",
       "      <td>8.454</td>\n",
       "      <td>0.693</td>\n",
       "      <td>64.800</td>\n",
       "      <td>0.877</td>\n",
       "      <td>...</td>\n",
       "      <td>2.43</td>\n",
       "      <td>0.635</td>\n",
       "      <td>0.520</td>\n",
       "      <td>0.514</td>\n",
       "      <td>0.603</td>\n",
       "      <td>0.161</td>\n",
       "      <td>0.164</td>\n",
       "      <td>2.427</td>\n",
       "      <td>4.441857</td>\n",
       "      <td>8.682571</td>\n",
       "    </tr>\n",
       "    <tr>\n",
       "      <th>145</th>\n",
       "      <td>Pakistan</td>\n",
       "      <td>South Asia</td>\n",
       "      <td>4.934</td>\n",
       "      <td>0.068</td>\n",
       "      <td>5.066</td>\n",
       "      <td>4.802</td>\n",
       "      <td>8.458</td>\n",
       "      <td>0.651</td>\n",
       "      <td>58.709</td>\n",
       "      <td>0.726</td>\n",
       "      <td>...</td>\n",
       "      <td>2.43</td>\n",
       "      <td>0.637</td>\n",
       "      <td>0.423</td>\n",
       "      <td>0.322</td>\n",
       "      <td>0.418</td>\n",
       "      <td>0.252</td>\n",
       "      <td>0.097</td>\n",
       "      <td>2.784</td>\n",
       "      <td>4.441857</td>\n",
       "      <td>8.682571</td>\n",
       "    </tr>\n",
       "    <tr>\n",
       "      <th>146</th>\n",
       "      <td>Sri Lanka</td>\n",
       "      <td>South Asia</td>\n",
       "      <td>4.325</td>\n",
       "      <td>0.066</td>\n",
       "      <td>4.454</td>\n",
       "      <td>4.196</td>\n",
       "      <td>9.470</td>\n",
       "      <td>0.827</td>\n",
       "      <td>67.299</td>\n",
       "      <td>0.841</td>\n",
       "      <td>...</td>\n",
       "      <td>2.43</td>\n",
       "      <td>0.990</td>\n",
       "      <td>0.820</td>\n",
       "      <td>0.593</td>\n",
       "      <td>0.559</td>\n",
       "      <td>0.239</td>\n",
       "      <td>0.049</td>\n",
       "      <td>1.075</td>\n",
       "      <td>4.441857</td>\n",
       "      <td>8.682571</td>\n",
       "    </tr>\n",
       "    <tr>\n",
       "      <th>147</th>\n",
       "      <td>India</td>\n",
       "      <td>South Asia</td>\n",
       "      <td>3.819</td>\n",
       "      <td>0.026</td>\n",
       "      <td>3.869</td>\n",
       "      <td>3.769</td>\n",
       "      <td>8.755</td>\n",
       "      <td>0.603</td>\n",
       "      <td>60.633</td>\n",
       "      <td>0.893</td>\n",
       "      <td>...</td>\n",
       "      <td>2.43</td>\n",
       "      <td>0.741</td>\n",
       "      <td>0.316</td>\n",
       "      <td>0.383</td>\n",
       "      <td>0.622</td>\n",
       "      <td>0.246</td>\n",
       "      <td>0.106</td>\n",
       "      <td>1.405</td>\n",
       "      <td>4.441857</td>\n",
       "      <td>8.682571</td>\n",
       "    </tr>\n",
       "    <tr>\n",
       "      <th>148</th>\n",
       "      <td>Afghanistan</td>\n",
       "      <td>South Asia</td>\n",
       "      <td>2.523</td>\n",
       "      <td>0.038</td>\n",
       "      <td>2.596</td>\n",
       "      <td>2.449</td>\n",
       "      <td>7.695</td>\n",
       "      <td>0.463</td>\n",
       "      <td>52.493</td>\n",
       "      <td>0.382</td>\n",
       "      <td>...</td>\n",
       "      <td>2.43</td>\n",
       "      <td>0.370</td>\n",
       "      <td>0.000</td>\n",
       "      <td>0.126</td>\n",
       "      <td>0.000</td>\n",
       "      <td>0.122</td>\n",
       "      <td>0.010</td>\n",
       "      <td>1.895</td>\n",
       "      <td>4.441857</td>\n",
       "      <td>8.682571</td>\n",
       "    </tr>\n",
       "  </tbody>\n",
       "</table>\n",
       "<p>149 rows × 22 columns</p>\n",
       "</div>"
      ],
      "text/plain": [
       "    Country name Regional indicator  Ladder score  \\\n",
       "0        Finland     Western Europe         7.842   \n",
       "1        Denmark     Western Europe         7.620   \n",
       "2    Switzerland     Western Europe         7.571   \n",
       "3        Iceland     Western Europe         7.554   \n",
       "4    Netherlands     Western Europe         7.464   \n",
       "..           ...                ...           ...   \n",
       "144   Bangladesh         South Asia         5.025   \n",
       "145     Pakistan         South Asia         4.934   \n",
       "146    Sri Lanka         South Asia         4.325   \n",
       "147        India         South Asia         3.819   \n",
       "148  Afghanistan         South Asia         2.523   \n",
       "\n",
       "     Standard error of ladder score  upperwhisker  lowerwhisker  \\\n",
       "0                             0.032         7.904         7.780   \n",
       "1                             0.035         7.687         7.552   \n",
       "2                             0.036         7.643         7.500   \n",
       "3                             0.059         7.670         7.438   \n",
       "4                             0.027         7.518         7.410   \n",
       "..                              ...           ...           ...   \n",
       "144                           0.046         5.115         4.934   \n",
       "145                           0.068         5.066         4.802   \n",
       "146                           0.066         4.454         4.196   \n",
       "147                           0.026         3.869         3.769   \n",
       "148                           0.038         2.596         2.449   \n",
       "\n",
       "     Logged GDP per capita  Social support  Healthy life expectancy  \\\n",
       "0                   10.775           0.954                   72.000   \n",
       "1                   10.933           0.954                   72.700   \n",
       "2                   11.117           0.942                   74.400   \n",
       "3                   10.878           0.983                   73.000   \n",
       "4                   10.932           0.942                   72.400   \n",
       "..                     ...             ...                      ...   \n",
       "144                  8.454           0.693                   64.800   \n",
       "145                  8.458           0.651                   58.709   \n",
       "146                  9.470           0.827                   67.299   \n",
       "147                  8.755           0.603                   60.633   \n",
       "148                  7.695           0.463                   52.493   \n",
       "\n",
       "     Freedom to make life choices  ...  Ladder score in Dystopia  \\\n",
       "0                           0.949  ...                      2.43   \n",
       "1                           0.946  ...                      2.43   \n",
       "2                           0.919  ...                      2.43   \n",
       "3                           0.955  ...                      2.43   \n",
       "4                           0.913  ...                      2.43   \n",
       "..                            ...  ...                       ...   \n",
       "144                         0.877  ...                      2.43   \n",
       "145                         0.726  ...                      2.43   \n",
       "146                         0.841  ...                      2.43   \n",
       "147                         0.893  ...                      2.43   \n",
       "148                         0.382  ...                      2.43   \n",
       "\n",
       "     Explained by: Log GDP per capita  Explained by: Social support  \\\n",
       "0                               1.446                         1.106   \n",
       "1                               1.502                         1.108   \n",
       "2                               1.566                         1.079   \n",
       "3                               1.482                         1.172   \n",
       "4                               1.501                         1.079   \n",
       "..                                ...                           ...   \n",
       "144                             0.635                         0.520   \n",
       "145                             0.637                         0.423   \n",
       "146                             0.990                         0.820   \n",
       "147                             0.741                         0.316   \n",
       "148                             0.370                         0.000   \n",
       "\n",
       "     Explained by: Healthy life expectancy  \\\n",
       "0                                    0.741   \n",
       "1                                    0.763   \n",
       "2                                    0.816   \n",
       "3                                    0.772   \n",
       "4                                    0.753   \n",
       "..                                     ...   \n",
       "144                                  0.514   \n",
       "145                                  0.322   \n",
       "146                                  0.593   \n",
       "147                                  0.383   \n",
       "148                                  0.126   \n",
       "\n",
       "     Explained by: Freedom to make life choices  Explained by: Generosity  \\\n",
       "0                                         0.691                     0.124   \n",
       "1                                         0.686                     0.208   \n",
       "2                                         0.653                     0.204   \n",
       "3                                         0.698                     0.293   \n",
       "4                                         0.647                     0.302   \n",
       "..                                          ...                       ...   \n",
       "144                                       0.603                     0.161   \n",
       "145                                       0.418                     0.252   \n",
       "146                                       0.559                     0.239   \n",
       "147                                       0.622                     0.246   \n",
       "148                                       0.000                     0.122   \n",
       "\n",
       "     Explained by: Perceptions of corruption  Dystopia + residual  \\\n",
       "0                                      0.481                3.253   \n",
       "1                                      0.485                2.868   \n",
       "2                                      0.413                2.839   \n",
       "3                                      0.170                2.967   \n",
       "4                                      0.384                2.798   \n",
       "..                                       ...                  ...   \n",
       "144                                    0.164                2.427   \n",
       "145                                    0.097                2.784   \n",
       "146                                    0.049                1.075   \n",
       "147                                    0.106                1.405   \n",
       "148                                    0.010                1.895   \n",
       "\n",
       "     Avg_Ladder_score    Avg_GDP  \n",
       "0            6.914905  10.822714  \n",
       "1            6.914905  10.822714  \n",
       "2            6.914905  10.822714  \n",
       "3            6.914905  10.822714  \n",
       "4            6.914905  10.822714  \n",
       "..                ...        ...  \n",
       "144          4.441857   8.682571  \n",
       "145          4.441857   8.682571  \n",
       "146          4.441857   8.682571  \n",
       "147          4.441857   8.682571  \n",
       "148          4.441857   8.682571  \n",
       "\n",
       "[149 rows x 22 columns]"
      ]
     },
     "execution_count": 153,
     "metadata": {},
     "output_type": "execute_result"
    }
   ],
   "source": [
    "world_data2 = world_data.merge(regional_score_avg, left_on='Regional indicator', right_on='Regional indicator')\n",
    "world_data2"
   ]
  },
  {
   "cell_type": "code",
   "execution_count": 156,
   "metadata": {},
   "outputs": [],
   "source": [
    "world_data2['avg_diff'] = world_data2['Ladder score']-world_data2['Avg_Ladder_score']\n",
    "world_data2['avg_diff_abs'] = abs(world_data2['Ladder score']-world_data2['Avg_Ladder_score'])"
   ]
  },
  {
   "cell_type": "code",
   "execution_count": 160,
   "metadata": {},
   "outputs": [
    {
     "data": {
      "text/html": [
       "<div>\n",
       "<style scoped>\n",
       "    .dataframe tbody tr th:only-of-type {\n",
       "        vertical-align: middle;\n",
       "    }\n",
       "\n",
       "    .dataframe tbody tr th {\n",
       "        vertical-align: top;\n",
       "    }\n",
       "\n",
       "    .dataframe thead th {\n",
       "        text-align: right;\n",
       "    }\n",
       "</style>\n",
       "<table border=\"1\" class=\"dataframe\">\n",
       "  <thead>\n",
       "    <tr style=\"text-align: right;\">\n",
       "      <th></th>\n",
       "      <th>Country name</th>\n",
       "      <th>Ladder score</th>\n",
       "      <th>Avg_Ladder_score</th>\n",
       "      <th>avg_diff</th>\n",
       "    </tr>\n",
       "  </thead>\n",
       "  <tbody>\n",
       "    <tr>\n",
       "      <th>61</th>\n",
       "      <td>Haiti</td>\n",
       "      <td>3.615</td>\n",
       "      <td>5.908050</td>\n",
       "      <td>-2.293050</td>\n",
       "    </tr>\n",
       "    <tr>\n",
       "      <th>25</th>\n",
       "      <td>Israel</td>\n",
       "      <td>7.157</td>\n",
       "      <td>5.219765</td>\n",
       "      <td>1.937235</td>\n",
       "    </tr>\n",
       "    <tr>\n",
       "      <th>148</th>\n",
       "      <td>Afghanistan</td>\n",
       "      <td>2.523</td>\n",
       "      <td>4.441857</td>\n",
       "      <td>-1.918857</td>\n",
       "    </tr>\n",
       "    <tr>\n",
       "      <th>41</th>\n",
       "      <td>Yemen</td>\n",
       "      <td>3.658</td>\n",
       "      <td>5.219765</td>\n",
       "      <td>-1.561765</td>\n",
       "    </tr>\n",
       "    <tr>\n",
       "      <th>106</th>\n",
       "      <td>Mauritius</td>\n",
       "      <td>6.049</td>\n",
       "      <td>4.494472</td>\n",
       "      <td>1.554528</td>\n",
       "    </tr>\n",
       "    <tr>\n",
       "      <th>26</th>\n",
       "      <td>Bahrain</td>\n",
       "      <td>6.647</td>\n",
       "      <td>5.219765</td>\n",
       "      <td>1.427235</td>\n",
       "    </tr>\n",
       "    <tr>\n",
       "      <th>20</th>\n",
       "      <td>North Cyprus</td>\n",
       "      <td>5.536</td>\n",
       "      <td>6.914905</td>\n",
       "      <td>-1.378905</td>\n",
       "    </tr>\n",
       "    <tr>\n",
       "      <th>141</th>\n",
       "      <td>Zimbabwe</td>\n",
       "      <td>3.145</td>\n",
       "      <td>4.494472</td>\n",
       "      <td>-1.349472</td>\n",
       "    </tr>\n",
       "    <tr>\n",
       "      <th>27</th>\n",
       "      <td>United Arab Emirates</td>\n",
       "      <td>6.561</td>\n",
       "      <td>5.219765</td>\n",
       "      <td>1.341235</td>\n",
       "    </tr>\n",
       "    <tr>\n",
       "      <th>28</th>\n",
       "      <td>Saudi Arabia</td>\n",
       "      <td>6.494</td>\n",
       "      <td>5.219765</td>\n",
       "      <td>1.274235</td>\n",
       "    </tr>\n",
       "  </tbody>\n",
       "</table>\n",
       "</div>"
      ],
      "text/plain": [
       "             Country name  Ladder score  Avg_Ladder_score  avg_diff\n",
       "61                  Haiti         3.615          5.908050 -2.293050\n",
       "25                 Israel         7.157          5.219765  1.937235\n",
       "148           Afghanistan         2.523          4.441857 -1.918857\n",
       "41                  Yemen         3.658          5.219765 -1.561765\n",
       "106             Mauritius         6.049          4.494472  1.554528\n",
       "26                Bahrain         6.647          5.219765  1.427235\n",
       "20           North Cyprus         5.536          6.914905 -1.378905\n",
       "141              Zimbabwe         3.145          4.494472 -1.349472\n",
       "27   United Arab Emirates         6.561          5.219765  1.341235\n",
       "28           Saudi Arabia         6.494          5.219765  1.274235"
      ]
     },
     "execution_count": 160,
     "metadata": {},
     "output_type": "execute_result"
    }
   ],
   "source": [
    "#Top 10 Differences\n",
    "world_data2.sort_values(['avg_diff_abs'] , ascending = False)[['Country name','Ladder score','Avg_Ladder_score','avg_diff']].head(10)"
   ]
  },
  {
   "cell_type": "code",
   "execution_count": 162,
   "metadata": {},
   "outputs": [
    {
     "data": {
      "text/html": [
       "<div>\n",
       "<style scoped>\n",
       "    .dataframe tbody tr th:only-of-type {\n",
       "        vertical-align: middle;\n",
       "    }\n",
       "\n",
       "    .dataframe tbody tr th {\n",
       "        vertical-align: top;\n",
       "    }\n",
       "\n",
       "    .dataframe thead th {\n",
       "        text-align: right;\n",
       "    }\n",
       "</style>\n",
       "<table border=\"1\" class=\"dataframe\">\n",
       "  <thead>\n",
       "    <tr style=\"text-align: right;\">\n",
       "      <th></th>\n",
       "      <th>Country name</th>\n",
       "      <th>Ladder score</th>\n",
       "      <th>Avg_Ladder_score</th>\n",
       "      <th>avg_diff</th>\n",
       "    </tr>\n",
       "  </thead>\n",
       "  <tbody>\n",
       "    <tr>\n",
       "      <th>25</th>\n",
       "      <td>Israel</td>\n",
       "      <td>7.157</td>\n",
       "      <td>5.219765</td>\n",
       "      <td>1.937235</td>\n",
       "    </tr>\n",
       "    <tr>\n",
       "      <th>106</th>\n",
       "      <td>Mauritius</td>\n",
       "      <td>6.049</td>\n",
       "      <td>4.494472</td>\n",
       "      <td>1.554528</td>\n",
       "    </tr>\n",
       "    <tr>\n",
       "      <th>26</th>\n",
       "      <td>Bahrain</td>\n",
       "      <td>6.647</td>\n",
       "      <td>5.219765</td>\n",
       "      <td>1.427235</td>\n",
       "    </tr>\n",
       "    <tr>\n",
       "      <th>27</th>\n",
       "      <td>United Arab Emirates</td>\n",
       "      <td>6.561</td>\n",
       "      <td>5.219765</td>\n",
       "      <td>1.341235</td>\n",
       "    </tr>\n",
       "    <tr>\n",
       "      <th>28</th>\n",
       "      <td>Saudi Arabia</td>\n",
       "      <td>6.494</td>\n",
       "      <td>5.219765</td>\n",
       "      <td>1.274235</td>\n",
       "    </tr>\n",
       "    <tr>\n",
       "      <th>42</th>\n",
       "      <td>Costa Rica</td>\n",
       "      <td>7.069</td>\n",
       "      <td>5.908050</td>\n",
       "      <td>1.160950</td>\n",
       "    </tr>\n",
       "    <tr>\n",
       "      <th>62</th>\n",
       "      <td>Czech Republic</td>\n",
       "      <td>6.965</td>\n",
       "      <td>5.984765</td>\n",
       "      <td>0.980235</td>\n",
       "    </tr>\n",
       "    <tr>\n",
       "      <th>85</th>\n",
       "      <td>Singapore</td>\n",
       "      <td>6.377</td>\n",
       "      <td>5.407556</td>\n",
       "      <td>0.969444</td>\n",
       "    </tr>\n",
       "    <tr>\n",
       "      <th>0</th>\n",
       "      <td>Finland</td>\n",
       "      <td>7.842</td>\n",
       "      <td>6.914905</td>\n",
       "      <td>0.927095</td>\n",
       "    </tr>\n",
       "    <tr>\n",
       "      <th>29</th>\n",
       "      <td>Kuwait</td>\n",
       "      <td>6.106</td>\n",
       "      <td>5.219765</td>\n",
       "      <td>0.886235</td>\n",
       "    </tr>\n",
       "  </tbody>\n",
       "</table>\n",
       "</div>"
      ],
      "text/plain": [
       "             Country name  Ladder score  Avg_Ladder_score  avg_diff\n",
       "25                 Israel         7.157          5.219765  1.937235\n",
       "106             Mauritius         6.049          4.494472  1.554528\n",
       "26                Bahrain         6.647          5.219765  1.427235\n",
       "27   United Arab Emirates         6.561          5.219765  1.341235\n",
       "28           Saudi Arabia         6.494          5.219765  1.274235\n",
       "42             Costa Rica         7.069          5.908050  1.160950\n",
       "62         Czech Republic         6.965          5.984765  0.980235\n",
       "85              Singapore         6.377          5.407556  0.969444\n",
       "0                 Finland         7.842          6.914905  0.927095\n",
       "29                 Kuwait         6.106          5.219765  0.886235"
      ]
     },
     "execution_count": 162,
     "metadata": {},
     "output_type": "execute_result"
    }
   ],
   "source": [
    "# Top 10 best performers (Higher than the Average)\n",
    "world_data2.sort_values(['avg_diff'], ascending=False)[['Country name','Ladder score','Avg_Ladder_score','avg_diff']].head(10)"
   ]
  },
  {
   "cell_type": "code",
   "execution_count": 167,
   "metadata": {},
   "outputs": [
    {
     "data": {
      "text/html": [
       "<div>\n",
       "<style scoped>\n",
       "    .dataframe tbody tr th:only-of-type {\n",
       "        vertical-align: middle;\n",
       "    }\n",
       "\n",
       "    .dataframe tbody tr th {\n",
       "        vertical-align: top;\n",
       "    }\n",
       "\n",
       "    .dataframe thead th {\n",
       "        text-align: right;\n",
       "    }\n",
       "</style>\n",
       "<table border=\"1\" class=\"dataframe\">\n",
       "  <thead>\n",
       "    <tr style=\"text-align: right;\">\n",
       "      <th></th>\n",
       "      <th>Country name</th>\n",
       "      <th>Ladder score</th>\n",
       "      <th>Avg_Ladder_score</th>\n",
       "      <th>avg_diff</th>\n",
       "    </tr>\n",
       "  </thead>\n",
       "  <tbody>\n",
       "    <tr>\n",
       "      <th>61</th>\n",
       "      <td>Haiti</td>\n",
       "      <td>3.615</td>\n",
       "      <td>5.908050</td>\n",
       "      <td>-2.293050</td>\n",
       "    </tr>\n",
       "    <tr>\n",
       "      <th>148</th>\n",
       "      <td>Afghanistan</td>\n",
       "      <td>2.523</td>\n",
       "      <td>4.441857</td>\n",
       "      <td>-1.918857</td>\n",
       "    </tr>\n",
       "    <tr>\n",
       "      <th>41</th>\n",
       "      <td>Yemen</td>\n",
       "      <td>3.658</td>\n",
       "      <td>5.219765</td>\n",
       "      <td>-1.561765</td>\n",
       "    </tr>\n",
       "    <tr>\n",
       "      <th>20</th>\n",
       "      <td>North Cyprus</td>\n",
       "      <td>5.536</td>\n",
       "      <td>6.914905</td>\n",
       "      <td>-1.378905</td>\n",
       "    </tr>\n",
       "    <tr>\n",
       "      <th>141</th>\n",
       "      <td>Zimbabwe</td>\n",
       "      <td>3.145</td>\n",
       "      <td>4.494472</td>\n",
       "      <td>-1.349472</td>\n",
       "    </tr>\n",
       "    <tr>\n",
       "      <th>19</th>\n",
       "      <td>Greece</td>\n",
       "      <td>5.723</td>\n",
       "      <td>6.914905</td>\n",
       "      <td>-1.191905</td>\n",
       "    </tr>\n",
       "    <tr>\n",
       "      <th>140</th>\n",
       "      <td>Rwanda</td>\n",
       "      <td>3.415</td>\n",
       "      <td>4.494472</td>\n",
       "      <td>-1.079472</td>\n",
       "    </tr>\n",
       "    <tr>\n",
       "      <th>139</th>\n",
       "      <td>Botswana</td>\n",
       "      <td>3.467</td>\n",
       "      <td>4.494472</td>\n",
       "      <td>-1.027472</td>\n",
       "    </tr>\n",
       "    <tr>\n",
       "      <th>60</th>\n",
       "      <td>Venezuela</td>\n",
       "      <td>4.892</td>\n",
       "      <td>5.908050</td>\n",
       "      <td>-1.016050</td>\n",
       "    </tr>\n",
       "    <tr>\n",
       "      <th>18</th>\n",
       "      <td>Portugal</td>\n",
       "      <td>5.929</td>\n",
       "      <td>6.914905</td>\n",
       "      <td>-0.985905</td>\n",
       "    </tr>\n",
       "  </tbody>\n",
       "</table>\n",
       "</div>"
      ],
      "text/plain": [
       "     Country name  Ladder score  Avg_Ladder_score  avg_diff\n",
       "61          Haiti         3.615          5.908050 -2.293050\n",
       "148   Afghanistan         2.523          4.441857 -1.918857\n",
       "41          Yemen         3.658          5.219765 -1.561765\n",
       "20   North Cyprus         5.536          6.914905 -1.378905\n",
       "141      Zimbabwe         3.145          4.494472 -1.349472\n",
       "19         Greece         5.723          6.914905 -1.191905\n",
       "140        Rwanda         3.415          4.494472 -1.079472\n",
       "139      Botswana         3.467          4.494472 -1.027472\n",
       "60      Venezuela         4.892          5.908050 -1.016050\n",
       "18       Portugal         5.929          6.914905 -0.985905"
      ]
     },
     "execution_count": 167,
     "metadata": {},
     "output_type": "execute_result"
    }
   ],
   "source": [
    "#Top 10 worst performers\n",
    "world_data2.sort_values(['avg_diff'], ascending=True)[['Country name','Ladder score','Avg_Ladder_score','avg_diff']].head(10)"
   ]
  },
  {
   "cell_type": "code",
   "execution_count": 174,
   "metadata": {},
   "outputs": [
    {
     "data": {
      "text/plain": [
       "<matplotlib.axes._subplots.AxesSubplot at 0x181ae788550>"
      ]
     },
     "execution_count": 174,
     "metadata": {},
     "output_type": "execute_result"
    },
    {
     "data": {
      "image/png": "[encoded data removed]",
      "text/plain": [
       "<Figure size 432x288 with 1 Axes>"
      ]
     },
     "metadata": {
      "needs_background": "light"
     },
     "output_type": "display_data"
    }
   ],
   "source": [
    "# biggest differences df\n",
    "diff_df = pd.concat([world_data2.sort_values(['avg_diff'], ascending=False)[['Country name','Ladder score','Avg_Ladder_score','avg_diff']][0:10],\n",
    "                     world_data2.sort_values(['avg_diff'], ascending=True)[['Country name', 'Ladder score', 'Avg_Ladder_score', 'avg_diff']][0:10]],\n",
    "                    join='inner').sort_values('avg_diff')\n",
    "\n",
    "diff_df.groupby('Country name')['avg_diff'].sum().sort_values().plot(kind='barh')"
   ]
  },
  {
   "cell_type": "markdown",
   "metadata": {},
   "source": [
    "<b>Haiti and Israel</b> are the two extremes with the <b>former having a lower happiness score than the average of its region </b>and the <b>latter performing much better than its respective region</b>."
   ]
  },
  {
   "cell_type": "code",
   "execution_count": 187,
   "metadata": {},
   "outputs": [
    {
     "data": {
      "text/plain": [
       "<matplotlib.axes._subplots.AxesSubplot at 0x181aeac3340>"
      ]
     },
     "execution_count": 187,
     "metadata": {},
     "output_type": "execute_result"
    },
    {
     "data": {
      "image/png": "[encoded data removed]",
      "text/plain": [
       "<Figure size 432x288 with 1 Axes>"
      ]
     },
     "metadata": {
      "needs_background": "light"
     },
     "output_type": "display_data"
    }
   ],
   "source": [
    "world_data2.groupby('Regional indicator')['avg_diff_abs'].sum().plot(kind = 'barh')"
   ]
  },
  {
   "cell_type": "markdown",
   "metadata": {},
   "source": [
    "The Middle East and North African region has the greatest disparity between the happiness of its countries whilst North America and ANZ have the smallest disparity."
   ]
  },
  {
   "cell_type": "markdown",
   "metadata": {},
   "source": [
    "It is possible to use the Linear Regression machine learning algorithm to try and predict the happiness of our countries using the region and 6 factors. We first need to isolate the columns of our interest and apply one hot dummy coding to the region column."
   ]
  },
  {
   "cell_type": "code",
   "execution_count": 223,
   "metadata": {},
   "outputs": [
    {
     "name": "stdout",
     "output_type": "stream",
     "text": [
      "lr.coef_: [ 0.35308903  1.72403779  0.02081703  2.39430214  0.52949672 -0.62699958\n",
      " -0.15889739 -0.43062597 -0.65025494 -0.02691171 -0.44460441  0.01245884\n",
      " -0.55088029 -0.54764052 -0.20067462]\n",
      "lr.intercept_: -1.7242567894147998\n",
      "Training set score: 0.85\n",
      "Test set score: 0.59\n"
     ]
    }
   ],
   "source": [
    "#Import LinearRegression from sklearn.linear_model\n",
    "from sklearn.linear_model import LinearRegression\n",
    "#Use model_selection.train_test_split from sklearn to split the data into training and testing sets. \n",
    "from sklearn.model_selection import train_test_split\n",
    "data = world_data.iloc[:,[1,2,6,7,8,9,10,11]]\n",
    "data = pd.get_dummies(data)\n",
    "\n",
    "#Set a variable X equal to the numerical features of the customers and a variable y equal to the Ladder Score column.\n",
    "X, y = data.iloc[:,1:16], data.iloc[:,0]\n",
    "#Set test_size=0.3 and random_state=101\n",
    "X_train, X_test, y_train, y_test = train_test_split(X, y, random_state=101 , test_size = 0.3)\n",
    "#Create an instance of a LinearRegression() model named lr , Train/fit lr on the training data..\n",
    "lr = LinearRegression().fit(X_train, y_train)\n",
    "#Print out the coefficients of the model\n",
    "print(\"lr.coef_: {}\".format(lr.coef_))\n",
    "print(\"lr.intercept_: {}\".format(lr.intercept_))\n",
    "print(\"Training set score: {:.2f}\".format(lr.score(X_train, y_train)))\n",
    "print(\"Test set score: {:.2f}\".format(lr.score(X_test, y_test)))"
   ]
  },
  {
   "cell_type": "markdown",
   "metadata": {},
   "source": [
    "<h5>Predicting Test Data</h5>\n",
    "<h6>Now that we have fit our model, let's evaluate its performance by predicting off the test values!</h6>"
   ]
  },
  {
   "cell_type": "code",
   "execution_count": 224,
   "metadata": {},
   "outputs": [
    {
     "data": {
      "text/plain": [
       "Text(0, 0.5, 'Predicted Y')"
      ]
     },
     "execution_count": 224,
     "metadata": {},
     "output_type": "execute_result"
    },
    {
     "data": {
      "image/png": "[encoded data removed]",
      "text/plain": [
       "<Figure size 432x288 with 1 Axes>"
      ]
     },
     "metadata": {
      "needs_background": "light"
     },
     "output_type": "display_data"
    }
   ],
   "source": [
    "#Use lm.predict() to predict off the X_test set of the data.\n",
    "predictions = lr.predict(X_test)\n",
    "#Create a scatterplot of the real test values versus the predicted values.\n",
    "plt.scatter(y_test,predictions)\n",
    "plt.xlabel('Y Test')\n",
    "plt.ylabel('Predicted Y')"
   ]
  },
  {
   "cell_type": "code",
   "execution_count": 225,
   "metadata": {},
   "outputs": [
    {
     "name": "stdout",
     "output_type": "stream",
     "text": [
      "MAE: 0.422790613011965\n",
      "MSE: 0.3376356344172756\n",
      "RMSE: 0.5810642257248984\n"
     ]
    }
   ],
   "source": [
    "# calculate these metrics by hand!\n",
    "from sklearn import metrics\n",
    "\n",
    "print('MAE:', metrics.mean_absolute_error(y_test, predictions))\n",
    "print('MSE:', metrics.mean_squared_error(y_test, predictions))\n",
    "print('RMSE:', np.sqrt(metrics.mean_squared_error(y_test, predictions)))"
   ]
  },
  {
   "cell_type": "code",
   "execution_count": 226,
   "metadata": {},
   "outputs": [
    {
     "data": {
      "image/png": "[encoded data removed]",
      "text/plain": [
       "<Figure size 432x288 with 1 Axes>"
      ]
     },
     "metadata": {
      "needs_background": "light"
     },
     "output_type": "display_data"
    }
   ],
   "source": [
    "sns.distplot((y_test-predictions),bins=50);"
   ]
  },
  {
   "cell_type": "code",
   "execution_count": 227,
   "metadata": {},
   "outputs": [
    {
     "data": {
      "text/html": [
       "<div>\n",
       "<style scoped>\n",
       "    .dataframe tbody tr th:only-of-type {\n",
       "        vertical-align: middle;\n",
       "    }\n",
       "\n",
       "    .dataframe tbody tr th {\n",
       "        vertical-align: top;\n",
       "    }\n",
       "\n",
       "    .dataframe thead th {\n",
       "        text-align: right;\n",
       "    }\n",
       "</style>\n",
       "<table border=\"1\" class=\"dataframe\">\n",
       "  <thead>\n",
       "    <tr style=\"text-align: right;\">\n",
       "      <th></th>\n",
       "      <th>Coeffecient</th>\n",
       "    </tr>\n",
       "  </thead>\n",
       "  <tbody>\n",
       "    <tr>\n",
       "      <th>Logged GDP per capita</th>\n",
       "      <td>0.353089</td>\n",
       "    </tr>\n",
       "    <tr>\n",
       "      <th>Social support</th>\n",
       "      <td>1.724038</td>\n",
       "    </tr>\n",
       "    <tr>\n",
       "      <th>Healthy life expectancy</th>\n",
       "      <td>0.020817</td>\n",
       "    </tr>\n",
       "    <tr>\n",
       "      <th>Freedom to make life choices</th>\n",
       "      <td>2.394302</td>\n",
       "    </tr>\n",
       "    <tr>\n",
       "      <th>Generosity</th>\n",
       "      <td>0.529497</td>\n",
       "    </tr>\n",
       "    <tr>\n",
       "      <th>Perceptions of corruption</th>\n",
       "      <td>-0.627000</td>\n",
       "    </tr>\n",
       "    <tr>\n",
       "      <th>Regional indicator_Central and Eastern Europe</th>\n",
       "      <td>-0.158897</td>\n",
       "    </tr>\n",
       "    <tr>\n",
       "      <th>Regional indicator_Commonwealth of Independent States</th>\n",
       "      <td>-0.430626</td>\n",
       "    </tr>\n",
       "    <tr>\n",
       "      <th>Regional indicator_East Asia</th>\n",
       "      <td>-0.650255</td>\n",
       "    </tr>\n",
       "    <tr>\n",
       "      <th>Regional indicator_Latin America and Caribbean</th>\n",
       "      <td>-0.026912</td>\n",
       "    </tr>\n",
       "    <tr>\n",
       "      <th>Regional indicator_Middle East and North Africa</th>\n",
       "      <td>-0.444604</td>\n",
       "    </tr>\n",
       "    <tr>\n",
       "      <th>Regional indicator_North America and ANZ</th>\n",
       "      <td>0.012459</td>\n",
       "    </tr>\n",
       "    <tr>\n",
       "      <th>Regional indicator_South Asia</th>\n",
       "      <td>-0.550880</td>\n",
       "    </tr>\n",
       "    <tr>\n",
       "      <th>Regional indicator_Southeast Asia</th>\n",
       "      <td>-0.547641</td>\n",
       "    </tr>\n",
       "    <tr>\n",
       "      <th>Regional indicator_Sub-Saharan Africa</th>\n",
       "      <td>-0.200675</td>\n",
       "    </tr>\n",
       "  </tbody>\n",
       "</table>\n",
       "</div>"
      ],
      "text/plain": [
       "                                                    Coeffecient\n",
       "Logged GDP per capita                                  0.353089\n",
       "Social support                                         1.724038\n",
       "Healthy life expectancy                                0.020817\n",
       "Freedom to make life choices                           2.394302\n",
       "Generosity                                             0.529497\n",
       "Perceptions of corruption                             -0.627000\n",
       "Regional indicator_Central and Eastern Europe         -0.158897\n",
       "Regional indicator_Commonwealth of Independent ...    -0.430626\n",
       "Regional indicator_East Asia                          -0.650255\n",
       "Regional indicator_Latin America and Caribbean        -0.026912\n",
       "Regional indicator_Middle East and North Africa       -0.444604\n",
       "Regional indicator_North America and ANZ               0.012459\n",
       "Regional indicator_South Asia                         -0.550880\n",
       "Regional indicator_Southeast Asia                     -0.547641\n",
       "Regional indicator_Sub-Saharan Africa                 -0.200675"
      ]
     },
     "execution_count": 227,
     "metadata": {},
     "output_type": "execute_result"
    }
   ],
   "source": [
    "coeffecients = pd.DataFrame(lr.coef_,X.columns)\n",
    "coeffecients.columns = ['Coeffecient']\n",
    "coeffecients"
   ]
  },
  {
   "cell_type": "markdown",
   "metadata": {},
   "source": [
    "The model is underfitted.\n",
    "As there are only 149 rows it is difficult to improve our score. We would need to use the 2008–2019 version of this dataset, but we will put that on the list for another time."
   ]
  },
  {
   "cell_type": "markdown",
   "metadata": {},
   "source": [
    "<b>Training set score:</b> 0.83<br>\n",
    "<b>Test set score:</b> 0.72"
   ]
  }
 ],
 "metadata": {
  "kernelspec": {
   "display_name": "Python 3",
   "language": "python",
   "name": "python3"
  },
  "language_info": {
   "codemirror_mode": {
    "name": "ipython",
    "version": 3
   },
   "file_extension": ".py",
   "mimetype": "text/x-python",
   "name": "python",
   "nbconvert_exporter": "python",
   "pygments_lexer": "ipython3",
   "version": "3.8.3"
  }
 },
 "nbformat": 4,
 "nbformat_minor": 4
}
